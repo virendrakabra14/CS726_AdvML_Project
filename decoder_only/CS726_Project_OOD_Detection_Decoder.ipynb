{
  "nbformat": 4,
  "nbformat_minor": 0,
  "metadata": {
    "colab": {
      "provenance": [],
      "gpuType": "T4"
    },
    "kernelspec": {
      "name": "python3",
      "display_name": "Python 3"
    },
    "language_info": {
      "name": "python"
    },
    "gpuClass": "standard",
    "accelerator": "GPU",
    "widgets": {
      "application/vnd.jupyter.widget-state+json": {
        "0b4f6020dfe4445ead28f65fb1c0b131": {
          "model_module": "@jupyter-widgets/controls",
          "model_name": "HBoxModel",
          "model_module_version": "1.5.0",
          "state": {
            "_dom_classes": [],
            "_model_module": "@jupyter-widgets/controls",
            "_model_module_version": "1.5.0",
            "_model_name": "HBoxModel",
            "_view_count": null,
            "_view_module": "@jupyter-widgets/controls",
            "_view_module_version": "1.5.0",
            "_view_name": "HBoxView",
            "box_style": "",
            "children": [
              "IPY_MODEL_022504f387754949a415bfdcb76f6b20",
              "IPY_MODEL_de7f4887b83d42cc8ea1baf04a7deccc",
              "IPY_MODEL_fb5217e0c24c4c4ba583887353a490b9"
            ],
            "layout": "IPY_MODEL_1c3083dec4da4b06ae4c9353bb8cf676"
          }
        },
        "022504f387754949a415bfdcb76f6b20": {
          "model_module": "@jupyter-widgets/controls",
          "model_name": "HTMLModel",
          "model_module_version": "1.5.0",
          "state": {
            "_dom_classes": [],
            "_model_module": "@jupyter-widgets/controls",
            "_model_module_version": "1.5.0",
            "_model_name": "HTMLModel",
            "_view_count": null,
            "_view_module": "@jupyter-widgets/controls",
            "_view_module_version": "1.5.0",
            "_view_name": "HTMLView",
            "description": "",
            "description_tooltip": null,
            "layout": "IPY_MODEL_49912059a09c4c018220cd256c082322",
            "placeholder": "​",
            "style": "IPY_MODEL_c3e221fe84e7468ab4fa50be8696e098",
            "value": "100%"
          }
        },
        "de7f4887b83d42cc8ea1baf04a7deccc": {
          "model_module": "@jupyter-widgets/controls",
          "model_name": "FloatProgressModel",
          "model_module_version": "1.5.0",
          "state": {
            "_dom_classes": [],
            "_model_module": "@jupyter-widgets/controls",
            "_model_module_version": "1.5.0",
            "_model_name": "FloatProgressModel",
            "_view_count": null,
            "_view_module": "@jupyter-widgets/controls",
            "_view_module_version": "1.5.0",
            "_view_name": "ProgressView",
            "bar_style": "success",
            "description": "",
            "description_tooltip": null,
            "layout": "IPY_MODEL_efcd53067e5440858ff0d3db179dc46a",
            "max": 1,
            "min": 0,
            "orientation": "horizontal",
            "style": "IPY_MODEL_a233d51f63d84aaea543b8a088f63c46",
            "value": 1
          }
        },
        "fb5217e0c24c4c4ba583887353a490b9": {
          "model_module": "@jupyter-widgets/controls",
          "model_name": "HTMLModel",
          "model_module_version": "1.5.0",
          "state": {
            "_dom_classes": [],
            "_model_module": "@jupyter-widgets/controls",
            "_model_module_version": "1.5.0",
            "_model_name": "HTMLModel",
            "_view_count": null,
            "_view_module": "@jupyter-widgets/controls",
            "_view_module_version": "1.5.0",
            "_view_name": "HTMLView",
            "description": "",
            "description_tooltip": null,
            "layout": "IPY_MODEL_53b0aaecdb17486788409a9b7fdfa51a",
            "placeholder": "​",
            "style": "IPY_MODEL_bc0920cca527415cb4cbd1786a5a1e3b",
            "value": " 1/1 [00:00&lt;00:00, 34.95it/s]"
          }
        },
        "1c3083dec4da4b06ae4c9353bb8cf676": {
          "model_module": "@jupyter-widgets/base",
          "model_name": "LayoutModel",
          "model_module_version": "1.2.0",
          "state": {
            "_model_module": "@jupyter-widgets/base",
            "_model_module_version": "1.2.0",
            "_model_name": "LayoutModel",
            "_view_count": null,
            "_view_module": "@jupyter-widgets/base",
            "_view_module_version": "1.2.0",
            "_view_name": "LayoutView",
            "align_content": null,
            "align_items": null,
            "align_self": null,
            "border": null,
            "bottom": null,
            "display": null,
            "flex": null,
            "flex_flow": null,
            "grid_area": null,
            "grid_auto_columns": null,
            "grid_auto_flow": null,
            "grid_auto_rows": null,
            "grid_column": null,
            "grid_gap": null,
            "grid_row": null,
            "grid_template_areas": null,
            "grid_template_columns": null,
            "grid_template_rows": null,
            "height": null,
            "justify_content": null,
            "justify_items": null,
            "left": null,
            "margin": null,
            "max_height": null,
            "max_width": null,
            "min_height": null,
            "min_width": null,
            "object_fit": null,
            "object_position": null,
            "order": null,
            "overflow": null,
            "overflow_x": null,
            "overflow_y": null,
            "padding": null,
            "right": null,
            "top": null,
            "visibility": null,
            "width": null
          }
        },
        "49912059a09c4c018220cd256c082322": {
          "model_module": "@jupyter-widgets/base",
          "model_name": "LayoutModel",
          "model_module_version": "1.2.0",
          "state": {
            "_model_module": "@jupyter-widgets/base",
            "_model_module_version": "1.2.0",
            "_model_name": "LayoutModel",
            "_view_count": null,
            "_view_module": "@jupyter-widgets/base",
            "_view_module_version": "1.2.0",
            "_view_name": "LayoutView",
            "align_content": null,
            "align_items": null,
            "align_self": null,
            "border": null,
            "bottom": null,
            "display": null,
            "flex": null,
            "flex_flow": null,
            "grid_area": null,
            "grid_auto_columns": null,
            "grid_auto_flow": null,
            "grid_auto_rows": null,
            "grid_column": null,
            "grid_gap": null,
            "grid_row": null,
            "grid_template_areas": null,
            "grid_template_columns": null,
            "grid_template_rows": null,
            "height": null,
            "justify_content": null,
            "justify_items": null,
            "left": null,
            "margin": null,
            "max_height": null,
            "max_width": null,
            "min_height": null,
            "min_width": null,
            "object_fit": null,
            "object_position": null,
            "order": null,
            "overflow": null,
            "overflow_x": null,
            "overflow_y": null,
            "padding": null,
            "right": null,
            "top": null,
            "visibility": null,
            "width": null
          }
        },
        "c3e221fe84e7468ab4fa50be8696e098": {
          "model_module": "@jupyter-widgets/controls",
          "model_name": "DescriptionStyleModel",
          "model_module_version": "1.5.0",
          "state": {
            "_model_module": "@jupyter-widgets/controls",
            "_model_module_version": "1.5.0",
            "_model_name": "DescriptionStyleModel",
            "_view_count": null,
            "_view_module": "@jupyter-widgets/base",
            "_view_module_version": "1.2.0",
            "_view_name": "StyleView",
            "description_width": ""
          }
        },
        "efcd53067e5440858ff0d3db179dc46a": {
          "model_module": "@jupyter-widgets/base",
          "model_name": "LayoutModel",
          "model_module_version": "1.2.0",
          "state": {
            "_model_module": "@jupyter-widgets/base",
            "_model_module_version": "1.2.0",
            "_model_name": "LayoutModel",
            "_view_count": null,
            "_view_module": "@jupyter-widgets/base",
            "_view_module_version": "1.2.0",
            "_view_name": "LayoutView",
            "align_content": null,
            "align_items": null,
            "align_self": null,
            "border": null,
            "bottom": null,
            "display": null,
            "flex": null,
            "flex_flow": null,
            "grid_area": null,
            "grid_auto_columns": null,
            "grid_auto_flow": null,
            "grid_auto_rows": null,
            "grid_column": null,
            "grid_gap": null,
            "grid_row": null,
            "grid_template_areas": null,
            "grid_template_columns": null,
            "grid_template_rows": null,
            "height": null,
            "justify_content": null,
            "justify_items": null,
            "left": null,
            "margin": null,
            "max_height": null,
            "max_width": null,
            "min_height": null,
            "min_width": null,
            "object_fit": null,
            "object_position": null,
            "order": null,
            "overflow": null,
            "overflow_x": null,
            "overflow_y": null,
            "padding": null,
            "right": null,
            "top": null,
            "visibility": null,
            "width": null
          }
        },
        "a233d51f63d84aaea543b8a088f63c46": {
          "model_module": "@jupyter-widgets/controls",
          "model_name": "ProgressStyleModel",
          "model_module_version": "1.5.0",
          "state": {
            "_model_module": "@jupyter-widgets/controls",
            "_model_module_version": "1.5.0",
            "_model_name": "ProgressStyleModel",
            "_view_count": null,
            "_view_module": "@jupyter-widgets/base",
            "_view_module_version": "1.2.0",
            "_view_name": "StyleView",
            "bar_color": null,
            "description_width": ""
          }
        },
        "53b0aaecdb17486788409a9b7fdfa51a": {
          "model_module": "@jupyter-widgets/base",
          "model_name": "LayoutModel",
          "model_module_version": "1.2.0",
          "state": {
            "_model_module": "@jupyter-widgets/base",
            "_model_module_version": "1.2.0",
            "_model_name": "LayoutModel",
            "_view_count": null,
            "_view_module": "@jupyter-widgets/base",
            "_view_module_version": "1.2.0",
            "_view_name": "LayoutView",
            "align_content": null,
            "align_items": null,
            "align_self": null,
            "border": null,
            "bottom": null,
            "display": null,
            "flex": null,
            "flex_flow": null,
            "grid_area": null,
            "grid_auto_columns": null,
            "grid_auto_flow": null,
            "grid_auto_rows": null,
            "grid_column": null,
            "grid_gap": null,
            "grid_row": null,
            "grid_template_areas": null,
            "grid_template_columns": null,
            "grid_template_rows": null,
            "height": null,
            "justify_content": null,
            "justify_items": null,
            "left": null,
            "margin": null,
            "max_height": null,
            "max_width": null,
            "min_height": null,
            "min_width": null,
            "object_fit": null,
            "object_position": null,
            "order": null,
            "overflow": null,
            "overflow_x": null,
            "overflow_y": null,
            "padding": null,
            "right": null,
            "top": null,
            "visibility": null,
            "width": null
          }
        },
        "bc0920cca527415cb4cbd1786a5a1e3b": {
          "model_module": "@jupyter-widgets/controls",
          "model_name": "DescriptionStyleModel",
          "model_module_version": "1.5.0",
          "state": {
            "_model_module": "@jupyter-widgets/controls",
            "_model_module_version": "1.5.0",
            "_model_name": "DescriptionStyleModel",
            "_view_count": null,
            "_view_module": "@jupyter-widgets/base",
            "_view_module_version": "1.2.0",
            "_view_name": "StyleView",
            "description_width": ""
          }
        },
        "0f5dedc6a40b4d93a9e81366b6ad4ea3": {
          "model_module": "@jupyter-widgets/controls",
          "model_name": "HBoxModel",
          "model_module_version": "1.5.0",
          "state": {
            "_dom_classes": [],
            "_model_module": "@jupyter-widgets/controls",
            "_model_module_version": "1.5.0",
            "_model_name": "HBoxModel",
            "_view_count": null,
            "_view_module": "@jupyter-widgets/controls",
            "_view_module_version": "1.5.0",
            "_view_name": "HBoxView",
            "box_style": "",
            "children": [
              "IPY_MODEL_f8aefae11d784586bca4b7bc64b62f8d",
              "IPY_MODEL_3ad9d7a447304dd889a510eee6fa6566",
              "IPY_MODEL_c1a592df365b4fd4a94ed3347d938ab4"
            ],
            "layout": "IPY_MODEL_1dd836eb486d43d19bed4b32eb6fdced"
          }
        },
        "f8aefae11d784586bca4b7bc64b62f8d": {
          "model_module": "@jupyter-widgets/controls",
          "model_name": "HTMLModel",
          "model_module_version": "1.5.0",
          "state": {
            "_dom_classes": [],
            "_model_module": "@jupyter-widgets/controls",
            "_model_module_version": "1.5.0",
            "_model_name": "HTMLModel",
            "_view_count": null,
            "_view_module": "@jupyter-widgets/controls",
            "_view_module_version": "1.5.0",
            "_view_name": "HTMLView",
            "description": "",
            "description_tooltip": null,
            "layout": "IPY_MODEL_c75574be7545427f9f3628e44a702b2e",
            "placeholder": "​",
            "style": "IPY_MODEL_1c03c02fb80d4cc0802c5389e34ee6db",
            "value": "100%"
          }
        },
        "3ad9d7a447304dd889a510eee6fa6566": {
          "model_module": "@jupyter-widgets/controls",
          "model_name": "FloatProgressModel",
          "model_module_version": "1.5.0",
          "state": {
            "_dom_classes": [],
            "_model_module": "@jupyter-widgets/controls",
            "_model_module_version": "1.5.0",
            "_model_name": "FloatProgressModel",
            "_view_count": null,
            "_view_module": "@jupyter-widgets/controls",
            "_view_module_version": "1.5.0",
            "_view_name": "ProgressView",
            "bar_style": "success",
            "description": "",
            "description_tooltip": null,
            "layout": "IPY_MODEL_769eaedce57b4694b17c3116bc102c12",
            "max": 3,
            "min": 0,
            "orientation": "horizontal",
            "style": "IPY_MODEL_eecc0d53c92345f58345cf17d8df190b",
            "value": 3
          }
        },
        "c1a592df365b4fd4a94ed3347d938ab4": {
          "model_module": "@jupyter-widgets/controls",
          "model_name": "HTMLModel",
          "model_module_version": "1.5.0",
          "state": {
            "_dom_classes": [],
            "_model_module": "@jupyter-widgets/controls",
            "_model_module_version": "1.5.0",
            "_model_name": "HTMLModel",
            "_view_count": null,
            "_view_module": "@jupyter-widgets/controls",
            "_view_module_version": "1.5.0",
            "_view_name": "HTMLView",
            "description": "",
            "description_tooltip": null,
            "layout": "IPY_MODEL_b319c81c5b7f4eb9ad8489d7a3756f8e",
            "placeholder": "​",
            "style": "IPY_MODEL_ff7b9e3bdbb2457a954f9c0ae78e0dbf",
            "value": " 3/3 [00:00&lt;00:00, 55.07it/s]"
          }
        },
        "1dd836eb486d43d19bed4b32eb6fdced": {
          "model_module": "@jupyter-widgets/base",
          "model_name": "LayoutModel",
          "model_module_version": "1.2.0",
          "state": {
            "_model_module": "@jupyter-widgets/base",
            "_model_module_version": "1.2.0",
            "_model_name": "LayoutModel",
            "_view_count": null,
            "_view_module": "@jupyter-widgets/base",
            "_view_module_version": "1.2.0",
            "_view_name": "LayoutView",
            "align_content": null,
            "align_items": null,
            "align_self": null,
            "border": null,
            "bottom": null,
            "display": null,
            "flex": null,
            "flex_flow": null,
            "grid_area": null,
            "grid_auto_columns": null,
            "grid_auto_flow": null,
            "grid_auto_rows": null,
            "grid_column": null,
            "grid_gap": null,
            "grid_row": null,
            "grid_template_areas": null,
            "grid_template_columns": null,
            "grid_template_rows": null,
            "height": null,
            "justify_content": null,
            "justify_items": null,
            "left": null,
            "margin": null,
            "max_height": null,
            "max_width": null,
            "min_height": null,
            "min_width": null,
            "object_fit": null,
            "object_position": null,
            "order": null,
            "overflow": null,
            "overflow_x": null,
            "overflow_y": null,
            "padding": null,
            "right": null,
            "top": null,
            "visibility": null,
            "width": null
          }
        },
        "c75574be7545427f9f3628e44a702b2e": {
          "model_module": "@jupyter-widgets/base",
          "model_name": "LayoutModel",
          "model_module_version": "1.2.0",
          "state": {
            "_model_module": "@jupyter-widgets/base",
            "_model_module_version": "1.2.0",
            "_model_name": "LayoutModel",
            "_view_count": null,
            "_view_module": "@jupyter-widgets/base",
            "_view_module_version": "1.2.0",
            "_view_name": "LayoutView",
            "align_content": null,
            "align_items": null,
            "align_self": null,
            "border": null,
            "bottom": null,
            "display": null,
            "flex": null,
            "flex_flow": null,
            "grid_area": null,
            "grid_auto_columns": null,
            "grid_auto_flow": null,
            "grid_auto_rows": null,
            "grid_column": null,
            "grid_gap": null,
            "grid_row": null,
            "grid_template_areas": null,
            "grid_template_columns": null,
            "grid_template_rows": null,
            "height": null,
            "justify_content": null,
            "justify_items": null,
            "left": null,
            "margin": null,
            "max_height": null,
            "max_width": null,
            "min_height": null,
            "min_width": null,
            "object_fit": null,
            "object_position": null,
            "order": null,
            "overflow": null,
            "overflow_x": null,
            "overflow_y": null,
            "padding": null,
            "right": null,
            "top": null,
            "visibility": null,
            "width": null
          }
        },
        "1c03c02fb80d4cc0802c5389e34ee6db": {
          "model_module": "@jupyter-widgets/controls",
          "model_name": "DescriptionStyleModel",
          "model_module_version": "1.5.0",
          "state": {
            "_model_module": "@jupyter-widgets/controls",
            "_model_module_version": "1.5.0",
            "_model_name": "DescriptionStyleModel",
            "_view_count": null,
            "_view_module": "@jupyter-widgets/base",
            "_view_module_version": "1.2.0",
            "_view_name": "StyleView",
            "description_width": ""
          }
        },
        "769eaedce57b4694b17c3116bc102c12": {
          "model_module": "@jupyter-widgets/base",
          "model_name": "LayoutModel",
          "model_module_version": "1.2.0",
          "state": {
            "_model_module": "@jupyter-widgets/base",
            "_model_module_version": "1.2.0",
            "_model_name": "LayoutModel",
            "_view_count": null,
            "_view_module": "@jupyter-widgets/base",
            "_view_module_version": "1.2.0",
            "_view_name": "LayoutView",
            "align_content": null,
            "align_items": null,
            "align_self": null,
            "border": null,
            "bottom": null,
            "display": null,
            "flex": null,
            "flex_flow": null,
            "grid_area": null,
            "grid_auto_columns": null,
            "grid_auto_flow": null,
            "grid_auto_rows": null,
            "grid_column": null,
            "grid_gap": null,
            "grid_row": null,
            "grid_template_areas": null,
            "grid_template_columns": null,
            "grid_template_rows": null,
            "height": null,
            "justify_content": null,
            "justify_items": null,
            "left": null,
            "margin": null,
            "max_height": null,
            "max_width": null,
            "min_height": null,
            "min_width": null,
            "object_fit": null,
            "object_position": null,
            "order": null,
            "overflow": null,
            "overflow_x": null,
            "overflow_y": null,
            "padding": null,
            "right": null,
            "top": null,
            "visibility": null,
            "width": null
          }
        },
        "eecc0d53c92345f58345cf17d8df190b": {
          "model_module": "@jupyter-widgets/controls",
          "model_name": "ProgressStyleModel",
          "model_module_version": "1.5.0",
          "state": {
            "_model_module": "@jupyter-widgets/controls",
            "_model_module_version": "1.5.0",
            "_model_name": "ProgressStyleModel",
            "_view_count": null,
            "_view_module": "@jupyter-widgets/base",
            "_view_module_version": "1.2.0",
            "_view_name": "StyleView",
            "bar_color": null,
            "description_width": ""
          }
        },
        "b319c81c5b7f4eb9ad8489d7a3756f8e": {
          "model_module": "@jupyter-widgets/base",
          "model_name": "LayoutModel",
          "model_module_version": "1.2.0",
          "state": {
            "_model_module": "@jupyter-widgets/base",
            "_model_module_version": "1.2.0",
            "_model_name": "LayoutModel",
            "_view_count": null,
            "_view_module": "@jupyter-widgets/base",
            "_view_module_version": "1.2.0",
            "_view_name": "LayoutView",
            "align_content": null,
            "align_items": null,
            "align_self": null,
            "border": null,
            "bottom": null,
            "display": null,
            "flex": null,
            "flex_flow": null,
            "grid_area": null,
            "grid_auto_columns": null,
            "grid_auto_flow": null,
            "grid_auto_rows": null,
            "grid_column": null,
            "grid_gap": null,
            "grid_row": null,
            "grid_template_areas": null,
            "grid_template_columns": null,
            "grid_template_rows": null,
            "height": null,
            "justify_content": null,
            "justify_items": null,
            "left": null,
            "margin": null,
            "max_height": null,
            "max_width": null,
            "min_height": null,
            "min_width": null,
            "object_fit": null,
            "object_position": null,
            "order": null,
            "overflow": null,
            "overflow_x": null,
            "overflow_y": null,
            "padding": null,
            "right": null,
            "top": null,
            "visibility": null,
            "width": null
          }
        },
        "ff7b9e3bdbb2457a954f9c0ae78e0dbf": {
          "model_module": "@jupyter-widgets/controls",
          "model_name": "DescriptionStyleModel",
          "model_module_version": "1.5.0",
          "state": {
            "_model_module": "@jupyter-widgets/controls",
            "_model_module_version": "1.5.0",
            "_model_name": "DescriptionStyleModel",
            "_view_count": null,
            "_view_module": "@jupyter-widgets/base",
            "_view_module_version": "1.2.0",
            "_view_name": "StyleView",
            "description_width": ""
          }
        },
        "8f9172bf0380435099668e68a3db46bb": {
          "model_module": "@jupyter-widgets/controls",
          "model_name": "HBoxModel",
          "model_module_version": "1.5.0",
          "state": {
            "_dom_classes": [],
            "_model_module": "@jupyter-widgets/controls",
            "_model_module_version": "1.5.0",
            "_model_name": "HBoxModel",
            "_view_count": null,
            "_view_module": "@jupyter-widgets/controls",
            "_view_module_version": "1.5.0",
            "_view_name": "HBoxView",
            "box_style": "",
            "children": [
              "IPY_MODEL_fe46218119cb4c98bfeccf5434d0018f",
              "IPY_MODEL_57d0f248679d408cbe34ae9a18be0e5a",
              "IPY_MODEL_db7d0065a0194724a9a9737490749404"
            ],
            "layout": "IPY_MODEL_61e0402d7ca347d3af287f5a54498c1e"
          }
        },
        "fe46218119cb4c98bfeccf5434d0018f": {
          "model_module": "@jupyter-widgets/controls",
          "model_name": "HTMLModel",
          "model_module_version": "1.5.0",
          "state": {
            "_dom_classes": [],
            "_model_module": "@jupyter-widgets/controls",
            "_model_module_version": "1.5.0",
            "_model_name": "HTMLModel",
            "_view_count": null,
            "_view_module": "@jupyter-widgets/controls",
            "_view_module_version": "1.5.0",
            "_view_name": "HTMLView",
            "description": "",
            "description_tooltip": null,
            "layout": "IPY_MODEL_b7d2387322784ec4a40cfd852388d9a4",
            "placeholder": "​",
            "style": "IPY_MODEL_fa00fc22dbb04f5e9db3143462c023eb",
            "value": "Downloading builder script: 100%"
          }
        },
        "57d0f248679d408cbe34ae9a18be0e5a": {
          "model_module": "@jupyter-widgets/controls",
          "model_name": "FloatProgressModel",
          "model_module_version": "1.5.0",
          "state": {
            "_dom_classes": [],
            "_model_module": "@jupyter-widgets/controls",
            "_model_module_version": "1.5.0",
            "_model_name": "FloatProgressModel",
            "_view_count": null,
            "_view_module": "@jupyter-widgets/controls",
            "_view_module_version": "1.5.0",
            "_view_name": "ProgressView",
            "bar_style": "success",
            "description": "",
            "description_tooltip": null,
            "layout": "IPY_MODEL_7e1104a28fc8404c83ef5bfee6780638",
            "max": 8326,
            "min": 0,
            "orientation": "horizontal",
            "style": "IPY_MODEL_b9ab2c948b07467eb6764c823689fb3f",
            "value": 8326
          }
        },
        "db7d0065a0194724a9a9737490749404": {
          "model_module": "@jupyter-widgets/controls",
          "model_name": "HTMLModel",
          "model_module_version": "1.5.0",
          "state": {
            "_dom_classes": [],
            "_model_module": "@jupyter-widgets/controls",
            "_model_module_version": "1.5.0",
            "_model_name": "HTMLModel",
            "_view_count": null,
            "_view_module": "@jupyter-widgets/controls",
            "_view_module_version": "1.5.0",
            "_view_name": "HTMLView",
            "description": "",
            "description_tooltip": null,
            "layout": "IPY_MODEL_79eec9d316ad451299f38a2b772d8454",
            "placeholder": "​",
            "style": "IPY_MODEL_a4183a43511e46d4a7f66a6bbb94eca3",
            "value": " 8.33k/8.33k [00:00&lt;00:00, 499kB/s]"
          }
        },
        "61e0402d7ca347d3af287f5a54498c1e": {
          "model_module": "@jupyter-widgets/base",
          "model_name": "LayoutModel",
          "model_module_version": "1.2.0",
          "state": {
            "_model_module": "@jupyter-widgets/base",
            "_model_module_version": "1.2.0",
            "_model_name": "LayoutModel",
            "_view_count": null,
            "_view_module": "@jupyter-widgets/base",
            "_view_module_version": "1.2.0",
            "_view_name": "LayoutView",
            "align_content": null,
            "align_items": null,
            "align_self": null,
            "border": null,
            "bottom": null,
            "display": null,
            "flex": null,
            "flex_flow": null,
            "grid_area": null,
            "grid_auto_columns": null,
            "grid_auto_flow": null,
            "grid_auto_rows": null,
            "grid_column": null,
            "grid_gap": null,
            "grid_row": null,
            "grid_template_areas": null,
            "grid_template_columns": null,
            "grid_template_rows": null,
            "height": null,
            "justify_content": null,
            "justify_items": null,
            "left": null,
            "margin": null,
            "max_height": null,
            "max_width": null,
            "min_height": null,
            "min_width": null,
            "object_fit": null,
            "object_position": null,
            "order": null,
            "overflow": null,
            "overflow_x": null,
            "overflow_y": null,
            "padding": null,
            "right": null,
            "top": null,
            "visibility": null,
            "width": null
          }
        },
        "b7d2387322784ec4a40cfd852388d9a4": {
          "model_module": "@jupyter-widgets/base",
          "model_name": "LayoutModel",
          "model_module_version": "1.2.0",
          "state": {
            "_model_module": "@jupyter-widgets/base",
            "_model_module_version": "1.2.0",
            "_model_name": "LayoutModel",
            "_view_count": null,
            "_view_module": "@jupyter-widgets/base",
            "_view_module_version": "1.2.0",
            "_view_name": "LayoutView",
            "align_content": null,
            "align_items": null,
            "align_self": null,
            "border": null,
            "bottom": null,
            "display": null,
            "flex": null,
            "flex_flow": null,
            "grid_area": null,
            "grid_auto_columns": null,
            "grid_auto_flow": null,
            "grid_auto_rows": null,
            "grid_column": null,
            "grid_gap": null,
            "grid_row": null,
            "grid_template_areas": null,
            "grid_template_columns": null,
            "grid_template_rows": null,
            "height": null,
            "justify_content": null,
            "justify_items": null,
            "left": null,
            "margin": null,
            "max_height": null,
            "max_width": null,
            "min_height": null,
            "min_width": null,
            "object_fit": null,
            "object_position": null,
            "order": null,
            "overflow": null,
            "overflow_x": null,
            "overflow_y": null,
            "padding": null,
            "right": null,
            "top": null,
            "visibility": null,
            "width": null
          }
        },
        "fa00fc22dbb04f5e9db3143462c023eb": {
          "model_module": "@jupyter-widgets/controls",
          "model_name": "DescriptionStyleModel",
          "model_module_version": "1.5.0",
          "state": {
            "_model_module": "@jupyter-widgets/controls",
            "_model_module_version": "1.5.0",
            "_model_name": "DescriptionStyleModel",
            "_view_count": null,
            "_view_module": "@jupyter-widgets/base",
            "_view_module_version": "1.2.0",
            "_view_name": "StyleView",
            "description_width": ""
          }
        },
        "7e1104a28fc8404c83ef5bfee6780638": {
          "model_module": "@jupyter-widgets/base",
          "model_name": "LayoutModel",
          "model_module_version": "1.2.0",
          "state": {
            "_model_module": "@jupyter-widgets/base",
            "_model_module_version": "1.2.0",
            "_model_name": "LayoutModel",
            "_view_count": null,
            "_view_module": "@jupyter-widgets/base",
            "_view_module_version": "1.2.0",
            "_view_name": "LayoutView",
            "align_content": null,
            "align_items": null,
            "align_self": null,
            "border": null,
            "bottom": null,
            "display": null,
            "flex": null,
            "flex_flow": null,
            "grid_area": null,
            "grid_auto_columns": null,
            "grid_auto_flow": null,
            "grid_auto_rows": null,
            "grid_column": null,
            "grid_gap": null,
            "grid_row": null,
            "grid_template_areas": null,
            "grid_template_columns": null,
            "grid_template_rows": null,
            "height": null,
            "justify_content": null,
            "justify_items": null,
            "left": null,
            "margin": null,
            "max_height": null,
            "max_width": null,
            "min_height": null,
            "min_width": null,
            "object_fit": null,
            "object_position": null,
            "order": null,
            "overflow": null,
            "overflow_x": null,
            "overflow_y": null,
            "padding": null,
            "right": null,
            "top": null,
            "visibility": null,
            "width": null
          }
        },
        "b9ab2c948b07467eb6764c823689fb3f": {
          "model_module": "@jupyter-widgets/controls",
          "model_name": "ProgressStyleModel",
          "model_module_version": "1.5.0",
          "state": {
            "_model_module": "@jupyter-widgets/controls",
            "_model_module_version": "1.5.0",
            "_model_name": "ProgressStyleModel",
            "_view_count": null,
            "_view_module": "@jupyter-widgets/base",
            "_view_module_version": "1.2.0",
            "_view_name": "StyleView",
            "bar_color": null,
            "description_width": ""
          }
        },
        "79eec9d316ad451299f38a2b772d8454": {
          "model_module": "@jupyter-widgets/base",
          "model_name": "LayoutModel",
          "model_module_version": "1.2.0",
          "state": {
            "_model_module": "@jupyter-widgets/base",
            "_model_module_version": "1.2.0",
            "_model_name": "LayoutModel",
            "_view_count": null,
            "_view_module": "@jupyter-widgets/base",
            "_view_module_version": "1.2.0",
            "_view_name": "LayoutView",
            "align_content": null,
            "align_items": null,
            "align_self": null,
            "border": null,
            "bottom": null,
            "display": null,
            "flex": null,
            "flex_flow": null,
            "grid_area": null,
            "grid_auto_columns": null,
            "grid_auto_flow": null,
            "grid_auto_rows": null,
            "grid_column": null,
            "grid_gap": null,
            "grid_row": null,
            "grid_template_areas": null,
            "grid_template_columns": null,
            "grid_template_rows": null,
            "height": null,
            "justify_content": null,
            "justify_items": null,
            "left": null,
            "margin": null,
            "max_height": null,
            "max_width": null,
            "min_height": null,
            "min_width": null,
            "object_fit": null,
            "object_position": null,
            "order": null,
            "overflow": null,
            "overflow_x": null,
            "overflow_y": null,
            "padding": null,
            "right": null,
            "top": null,
            "visibility": null,
            "width": null
          }
        },
        "a4183a43511e46d4a7f66a6bbb94eca3": {
          "model_module": "@jupyter-widgets/controls",
          "model_name": "DescriptionStyleModel",
          "model_module_version": "1.5.0",
          "state": {
            "_model_module": "@jupyter-widgets/controls",
            "_model_module_version": "1.5.0",
            "_model_name": "DescriptionStyleModel",
            "_view_count": null,
            "_view_module": "@jupyter-widgets/base",
            "_view_module_version": "1.2.0",
            "_view_name": "StyleView",
            "description_width": ""
          }
        },
        "4565f7c0a15e4a7c843234c928350184": {
          "model_module": "@jupyter-widgets/controls",
          "model_name": "HBoxModel",
          "model_module_version": "1.5.0",
          "state": {
            "_dom_classes": [],
            "_model_module": "@jupyter-widgets/controls",
            "_model_module_version": "1.5.0",
            "_model_name": "HBoxModel",
            "_view_count": null,
            "_view_module": "@jupyter-widgets/controls",
            "_view_module_version": "1.5.0",
            "_view_name": "HBoxView",
            "box_style": "",
            "children": [
              "IPY_MODEL_a283a00ab6054b2db9278971d11325d0",
              "IPY_MODEL_025f142c84cf46f4856d111d76b7a154",
              "IPY_MODEL_88ef852ce73a4aaeaa8e4b5ed2b0dfbc"
            ],
            "layout": "IPY_MODEL_020a5aa7f0f2465ebc482b4f8750fd8e"
          }
        },
        "a283a00ab6054b2db9278971d11325d0": {
          "model_module": "@jupyter-widgets/controls",
          "model_name": "HTMLModel",
          "model_module_version": "1.5.0",
          "state": {
            "_dom_classes": [],
            "_model_module": "@jupyter-widgets/controls",
            "_model_module_version": "1.5.0",
            "_model_name": "HTMLModel",
            "_view_count": null,
            "_view_module": "@jupyter-widgets/controls",
            "_view_module_version": "1.5.0",
            "_view_name": "HTMLView",
            "description": "",
            "description_tooltip": null,
            "layout": "IPY_MODEL_4fec085938254033a9260ab6698a8382",
            "placeholder": "​",
            "style": "IPY_MODEL_c8066c11d2ea4f399a0d2800e64aa18d",
            "value": "Downloading metadata: 100%"
          }
        },
        "025f142c84cf46f4856d111d76b7a154": {
          "model_module": "@jupyter-widgets/controls",
          "model_name": "FloatProgressModel",
          "model_module_version": "1.5.0",
          "state": {
            "_dom_classes": [],
            "_model_module": "@jupyter-widgets/controls",
            "_model_module_version": "1.5.0",
            "_model_name": "FloatProgressModel",
            "_view_count": null,
            "_view_module": "@jupyter-widgets/controls",
            "_view_module_version": "1.5.0",
            "_view_name": "ProgressView",
            "bar_style": "success",
            "description": "",
            "description_tooltip": null,
            "layout": "IPY_MODEL_fffd13d341e74e35b4dd4c8e82c9c2dc",
            "max": 9881,
            "min": 0,
            "orientation": "horizontal",
            "style": "IPY_MODEL_f029e56c78d94f8695268d9e6172adbb",
            "value": 9881
          }
        },
        "88ef852ce73a4aaeaa8e4b5ed2b0dfbc": {
          "model_module": "@jupyter-widgets/controls",
          "model_name": "HTMLModel",
          "model_module_version": "1.5.0",
          "state": {
            "_dom_classes": [],
            "_model_module": "@jupyter-widgets/controls",
            "_model_module_version": "1.5.0",
            "_model_name": "HTMLModel",
            "_view_count": null,
            "_view_module": "@jupyter-widgets/controls",
            "_view_module_version": "1.5.0",
            "_view_name": "HTMLView",
            "description": "",
            "description_tooltip": null,
            "layout": "IPY_MODEL_24233f6537ca4cf78a966ed906bbd87a",
            "placeholder": "​",
            "style": "IPY_MODEL_195296c0f8a84ce5b2330d59f701f596",
            "value": " 9.88k/9.88k [00:00&lt;00:00, 553kB/s]"
          }
        },
        "020a5aa7f0f2465ebc482b4f8750fd8e": {
          "model_module": "@jupyter-widgets/base",
          "model_name": "LayoutModel",
          "model_module_version": "1.2.0",
          "state": {
            "_model_module": "@jupyter-widgets/base",
            "_model_module_version": "1.2.0",
            "_model_name": "LayoutModel",
            "_view_count": null,
            "_view_module": "@jupyter-widgets/base",
            "_view_module_version": "1.2.0",
            "_view_name": "LayoutView",
            "align_content": null,
            "align_items": null,
            "align_self": null,
            "border": null,
            "bottom": null,
            "display": null,
            "flex": null,
            "flex_flow": null,
            "grid_area": null,
            "grid_auto_columns": null,
            "grid_auto_flow": null,
            "grid_auto_rows": null,
            "grid_column": null,
            "grid_gap": null,
            "grid_row": null,
            "grid_template_areas": null,
            "grid_template_columns": null,
            "grid_template_rows": null,
            "height": null,
            "justify_content": null,
            "justify_items": null,
            "left": null,
            "margin": null,
            "max_height": null,
            "max_width": null,
            "min_height": null,
            "min_width": null,
            "object_fit": null,
            "object_position": null,
            "order": null,
            "overflow": null,
            "overflow_x": null,
            "overflow_y": null,
            "padding": null,
            "right": null,
            "top": null,
            "visibility": null,
            "width": null
          }
        },
        "4fec085938254033a9260ab6698a8382": {
          "model_module": "@jupyter-widgets/base",
          "model_name": "LayoutModel",
          "model_module_version": "1.2.0",
          "state": {
            "_model_module": "@jupyter-widgets/base",
            "_model_module_version": "1.2.0",
            "_model_name": "LayoutModel",
            "_view_count": null,
            "_view_module": "@jupyter-widgets/base",
            "_view_module_version": "1.2.0",
            "_view_name": "LayoutView",
            "align_content": null,
            "align_items": null,
            "align_self": null,
            "border": null,
            "bottom": null,
            "display": null,
            "flex": null,
            "flex_flow": null,
            "grid_area": null,
            "grid_auto_columns": null,
            "grid_auto_flow": null,
            "grid_auto_rows": null,
            "grid_column": null,
            "grid_gap": null,
            "grid_row": null,
            "grid_template_areas": null,
            "grid_template_columns": null,
            "grid_template_rows": null,
            "height": null,
            "justify_content": null,
            "justify_items": null,
            "left": null,
            "margin": null,
            "max_height": null,
            "max_width": null,
            "min_height": null,
            "min_width": null,
            "object_fit": null,
            "object_position": null,
            "order": null,
            "overflow": null,
            "overflow_x": null,
            "overflow_y": null,
            "padding": null,
            "right": null,
            "top": null,
            "visibility": null,
            "width": null
          }
        },
        "c8066c11d2ea4f399a0d2800e64aa18d": {
          "model_module": "@jupyter-widgets/controls",
          "model_name": "DescriptionStyleModel",
          "model_module_version": "1.5.0",
          "state": {
            "_model_module": "@jupyter-widgets/controls",
            "_model_module_version": "1.5.0",
            "_model_name": "DescriptionStyleModel",
            "_view_count": null,
            "_view_module": "@jupyter-widgets/base",
            "_view_module_version": "1.2.0",
            "_view_name": "StyleView",
            "description_width": ""
          }
        },
        "fffd13d341e74e35b4dd4c8e82c9c2dc": {
          "model_module": "@jupyter-widgets/base",
          "model_name": "LayoutModel",
          "model_module_version": "1.2.0",
          "state": {
            "_model_module": "@jupyter-widgets/base",
            "_model_module_version": "1.2.0",
            "_model_name": "LayoutModel",
            "_view_count": null,
            "_view_module": "@jupyter-widgets/base",
            "_view_module_version": "1.2.0",
            "_view_name": "LayoutView",
            "align_content": null,
            "align_items": null,
            "align_self": null,
            "border": null,
            "bottom": null,
            "display": null,
            "flex": null,
            "flex_flow": null,
            "grid_area": null,
            "grid_auto_columns": null,
            "grid_auto_flow": null,
            "grid_auto_rows": null,
            "grid_column": null,
            "grid_gap": null,
            "grid_row": null,
            "grid_template_areas": null,
            "grid_template_columns": null,
            "grid_template_rows": null,
            "height": null,
            "justify_content": null,
            "justify_items": null,
            "left": null,
            "margin": null,
            "max_height": null,
            "max_width": null,
            "min_height": null,
            "min_width": null,
            "object_fit": null,
            "object_position": null,
            "order": null,
            "overflow": null,
            "overflow_x": null,
            "overflow_y": null,
            "padding": null,
            "right": null,
            "top": null,
            "visibility": null,
            "width": null
          }
        },
        "f029e56c78d94f8695268d9e6172adbb": {
          "model_module": "@jupyter-widgets/controls",
          "model_name": "ProgressStyleModel",
          "model_module_version": "1.5.0",
          "state": {
            "_model_module": "@jupyter-widgets/controls",
            "_model_module_version": "1.5.0",
            "_model_name": "ProgressStyleModel",
            "_view_count": null,
            "_view_module": "@jupyter-widgets/base",
            "_view_module_version": "1.2.0",
            "_view_name": "StyleView",
            "bar_color": null,
            "description_width": ""
          }
        },
        "24233f6537ca4cf78a966ed906bbd87a": {
          "model_module": "@jupyter-widgets/base",
          "model_name": "LayoutModel",
          "model_module_version": "1.2.0",
          "state": {
            "_model_module": "@jupyter-widgets/base",
            "_model_module_version": "1.2.0",
            "_model_name": "LayoutModel",
            "_view_count": null,
            "_view_module": "@jupyter-widgets/base",
            "_view_module_version": "1.2.0",
            "_view_name": "LayoutView",
            "align_content": null,
            "align_items": null,
            "align_self": null,
            "border": null,
            "bottom": null,
            "display": null,
            "flex": null,
            "flex_flow": null,
            "grid_area": null,
            "grid_auto_columns": null,
            "grid_auto_flow": null,
            "grid_auto_rows": null,
            "grid_column": null,
            "grid_gap": null,
            "grid_row": null,
            "grid_template_areas": null,
            "grid_template_columns": null,
            "grid_template_rows": null,
            "height": null,
            "justify_content": null,
            "justify_items": null,
            "left": null,
            "margin": null,
            "max_height": null,
            "max_width": null,
            "min_height": null,
            "min_width": null,
            "object_fit": null,
            "object_position": null,
            "order": null,
            "overflow": null,
            "overflow_x": null,
            "overflow_y": null,
            "padding": null,
            "right": null,
            "top": null,
            "visibility": null,
            "width": null
          }
        },
        "195296c0f8a84ce5b2330d59f701f596": {
          "model_module": "@jupyter-widgets/controls",
          "model_name": "DescriptionStyleModel",
          "model_module_version": "1.5.0",
          "state": {
            "_model_module": "@jupyter-widgets/controls",
            "_model_module_version": "1.5.0",
            "_model_name": "DescriptionStyleModel",
            "_view_count": null,
            "_view_module": "@jupyter-widgets/base",
            "_view_module_version": "1.2.0",
            "_view_name": "StyleView",
            "description_width": ""
          }
        },
        "02ec5507fd3b440ca350947bf0dd13bf": {
          "model_module": "@jupyter-widgets/controls",
          "model_name": "HBoxModel",
          "model_module_version": "1.5.0",
          "state": {
            "_dom_classes": [],
            "_model_module": "@jupyter-widgets/controls",
            "_model_module_version": "1.5.0",
            "_model_name": "HBoxModel",
            "_view_count": null,
            "_view_module": "@jupyter-widgets/controls",
            "_view_module_version": "1.5.0",
            "_view_name": "HBoxView",
            "box_style": "",
            "children": [
              "IPY_MODEL_d839f5b690444227a142097f5f43985f",
              "IPY_MODEL_50d9aad94bd74f8f9ba0c841e9bc2538",
              "IPY_MODEL_69ff512a172d44848ccf238ce8c777d6"
            ],
            "layout": "IPY_MODEL_d63668d6d480425f89494548f0e5784d"
          }
        },
        "d839f5b690444227a142097f5f43985f": {
          "model_module": "@jupyter-widgets/controls",
          "model_name": "HTMLModel",
          "model_module_version": "1.5.0",
          "state": {
            "_dom_classes": [],
            "_model_module": "@jupyter-widgets/controls",
            "_model_module_version": "1.5.0",
            "_model_name": "HTMLModel",
            "_view_count": null,
            "_view_module": "@jupyter-widgets/controls",
            "_view_module_version": "1.5.0",
            "_view_name": "HTMLView",
            "description": "",
            "description_tooltip": null,
            "layout": "IPY_MODEL_dfc20b0758334be3bed00214a44491d2",
            "placeholder": "​",
            "style": "IPY_MODEL_05f1dd5b311047878d16aace34f65d7f",
            "value": "Downloading readme: 100%"
          }
        },
        "50d9aad94bd74f8f9ba0c841e9bc2538": {
          "model_module": "@jupyter-widgets/controls",
          "model_name": "FloatProgressModel",
          "model_module_version": "1.5.0",
          "state": {
            "_dom_classes": [],
            "_model_module": "@jupyter-widgets/controls",
            "_model_module_version": "1.5.0",
            "_model_name": "FloatProgressModel",
            "_view_count": null,
            "_view_module": "@jupyter-widgets/controls",
            "_view_module_version": "1.5.0",
            "_view_name": "ProgressView",
            "bar_style": "success",
            "description": "",
            "description_tooltip": null,
            "layout": "IPY_MODEL_f51eb797c1ce4d9294ec1ff641a7558d",
            "max": 15079,
            "min": 0,
            "orientation": "horizontal",
            "style": "IPY_MODEL_b8672c1bd01f4b76befa42f3d1fce2f5",
            "value": 15079
          }
        },
        "69ff512a172d44848ccf238ce8c777d6": {
          "model_module": "@jupyter-widgets/controls",
          "model_name": "HTMLModel",
          "model_module_version": "1.5.0",
          "state": {
            "_dom_classes": [],
            "_model_module": "@jupyter-widgets/controls",
            "_model_module_version": "1.5.0",
            "_model_name": "HTMLModel",
            "_view_count": null,
            "_view_module": "@jupyter-widgets/controls",
            "_view_module_version": "1.5.0",
            "_view_name": "HTMLView",
            "description": "",
            "description_tooltip": null,
            "layout": "IPY_MODEL_a82239d45a744e87891a139bc5f3f61e",
            "placeholder": "​",
            "style": "IPY_MODEL_cdb3596f4eb447c6a0a34564cfed0b22",
            "value": " 15.1k/15.1k [00:00&lt;00:00, 991kB/s]"
          }
        },
        "d63668d6d480425f89494548f0e5784d": {
          "model_module": "@jupyter-widgets/base",
          "model_name": "LayoutModel",
          "model_module_version": "1.2.0",
          "state": {
            "_model_module": "@jupyter-widgets/base",
            "_model_module_version": "1.2.0",
            "_model_name": "LayoutModel",
            "_view_count": null,
            "_view_module": "@jupyter-widgets/base",
            "_view_module_version": "1.2.0",
            "_view_name": "LayoutView",
            "align_content": null,
            "align_items": null,
            "align_self": null,
            "border": null,
            "bottom": null,
            "display": null,
            "flex": null,
            "flex_flow": null,
            "grid_area": null,
            "grid_auto_columns": null,
            "grid_auto_flow": null,
            "grid_auto_rows": null,
            "grid_column": null,
            "grid_gap": null,
            "grid_row": null,
            "grid_template_areas": null,
            "grid_template_columns": null,
            "grid_template_rows": null,
            "height": null,
            "justify_content": null,
            "justify_items": null,
            "left": null,
            "margin": null,
            "max_height": null,
            "max_width": null,
            "min_height": null,
            "min_width": null,
            "object_fit": null,
            "object_position": null,
            "order": null,
            "overflow": null,
            "overflow_x": null,
            "overflow_y": null,
            "padding": null,
            "right": null,
            "top": null,
            "visibility": null,
            "width": null
          }
        },
        "dfc20b0758334be3bed00214a44491d2": {
          "model_module": "@jupyter-widgets/base",
          "model_name": "LayoutModel",
          "model_module_version": "1.2.0",
          "state": {
            "_model_module": "@jupyter-widgets/base",
            "_model_module_version": "1.2.0",
            "_model_name": "LayoutModel",
            "_view_count": null,
            "_view_module": "@jupyter-widgets/base",
            "_view_module_version": "1.2.0",
            "_view_name": "LayoutView",
            "align_content": null,
            "align_items": null,
            "align_self": null,
            "border": null,
            "bottom": null,
            "display": null,
            "flex": null,
            "flex_flow": null,
            "grid_area": null,
            "grid_auto_columns": null,
            "grid_auto_flow": null,
            "grid_auto_rows": null,
            "grid_column": null,
            "grid_gap": null,
            "grid_row": null,
            "grid_template_areas": null,
            "grid_template_columns": null,
            "grid_template_rows": null,
            "height": null,
            "justify_content": null,
            "justify_items": null,
            "left": null,
            "margin": null,
            "max_height": null,
            "max_width": null,
            "min_height": null,
            "min_width": null,
            "object_fit": null,
            "object_position": null,
            "order": null,
            "overflow": null,
            "overflow_x": null,
            "overflow_y": null,
            "padding": null,
            "right": null,
            "top": null,
            "visibility": null,
            "width": null
          }
        },
        "05f1dd5b311047878d16aace34f65d7f": {
          "model_module": "@jupyter-widgets/controls",
          "model_name": "DescriptionStyleModel",
          "model_module_version": "1.5.0",
          "state": {
            "_model_module": "@jupyter-widgets/controls",
            "_model_module_version": "1.5.0",
            "_model_name": "DescriptionStyleModel",
            "_view_count": null,
            "_view_module": "@jupyter-widgets/base",
            "_view_module_version": "1.2.0",
            "_view_name": "StyleView",
            "description_width": ""
          }
        },
        "f51eb797c1ce4d9294ec1ff641a7558d": {
          "model_module": "@jupyter-widgets/base",
          "model_name": "LayoutModel",
          "model_module_version": "1.2.0",
          "state": {
            "_model_module": "@jupyter-widgets/base",
            "_model_module_version": "1.2.0",
            "_model_name": "LayoutModel",
            "_view_count": null,
            "_view_module": "@jupyter-widgets/base",
            "_view_module_version": "1.2.0",
            "_view_name": "LayoutView",
            "align_content": null,
            "align_items": null,
            "align_self": null,
            "border": null,
            "bottom": null,
            "display": null,
            "flex": null,
            "flex_flow": null,
            "grid_area": null,
            "grid_auto_columns": null,
            "grid_auto_flow": null,
            "grid_auto_rows": null,
            "grid_column": null,
            "grid_gap": null,
            "grid_row": null,
            "grid_template_areas": null,
            "grid_template_columns": null,
            "grid_template_rows": null,
            "height": null,
            "justify_content": null,
            "justify_items": null,
            "left": null,
            "margin": null,
            "max_height": null,
            "max_width": null,
            "min_height": null,
            "min_width": null,
            "object_fit": null,
            "object_position": null,
            "order": null,
            "overflow": null,
            "overflow_x": null,
            "overflow_y": null,
            "padding": null,
            "right": null,
            "top": null,
            "visibility": null,
            "width": null
          }
        },
        "b8672c1bd01f4b76befa42f3d1fce2f5": {
          "model_module": "@jupyter-widgets/controls",
          "model_name": "ProgressStyleModel",
          "model_module_version": "1.5.0",
          "state": {
            "_model_module": "@jupyter-widgets/controls",
            "_model_module_version": "1.5.0",
            "_model_name": "ProgressStyleModel",
            "_view_count": null,
            "_view_module": "@jupyter-widgets/base",
            "_view_module_version": "1.2.0",
            "_view_name": "StyleView",
            "bar_color": null,
            "description_width": ""
          }
        },
        "a82239d45a744e87891a139bc5f3f61e": {
          "model_module": "@jupyter-widgets/base",
          "model_name": "LayoutModel",
          "model_module_version": "1.2.0",
          "state": {
            "_model_module": "@jupyter-widgets/base",
            "_model_module_version": "1.2.0",
            "_model_name": "LayoutModel",
            "_view_count": null,
            "_view_module": "@jupyter-widgets/base",
            "_view_module_version": "1.2.0",
            "_view_name": "LayoutView",
            "align_content": null,
            "align_items": null,
            "align_self": null,
            "border": null,
            "bottom": null,
            "display": null,
            "flex": null,
            "flex_flow": null,
            "grid_area": null,
            "grid_auto_columns": null,
            "grid_auto_flow": null,
            "grid_auto_rows": null,
            "grid_column": null,
            "grid_gap": null,
            "grid_row": null,
            "grid_template_areas": null,
            "grid_template_columns": null,
            "grid_template_rows": null,
            "height": null,
            "justify_content": null,
            "justify_items": null,
            "left": null,
            "margin": null,
            "max_height": null,
            "max_width": null,
            "min_height": null,
            "min_width": null,
            "object_fit": null,
            "object_position": null,
            "order": null,
            "overflow": null,
            "overflow_x": null,
            "overflow_y": null,
            "padding": null,
            "right": null,
            "top": null,
            "visibility": null,
            "width": null
          }
        },
        "cdb3596f4eb447c6a0a34564cfed0b22": {
          "model_module": "@jupyter-widgets/controls",
          "model_name": "DescriptionStyleModel",
          "model_module_version": "1.5.0",
          "state": {
            "_model_module": "@jupyter-widgets/controls",
            "_model_module_version": "1.5.0",
            "_model_name": "DescriptionStyleModel",
            "_view_count": null,
            "_view_module": "@jupyter-widgets/base",
            "_view_module_version": "1.2.0",
            "_view_name": "StyleView",
            "description_width": ""
          }
        },
        "d6284baf549c4f51864416a113bd0b58": {
          "model_module": "@jupyter-widgets/controls",
          "model_name": "HBoxModel",
          "model_module_version": "1.5.0",
          "state": {
            "_dom_classes": [],
            "_model_module": "@jupyter-widgets/controls",
            "_model_module_version": "1.5.0",
            "_model_name": "HBoxModel",
            "_view_count": null,
            "_view_module": "@jupyter-widgets/controls",
            "_view_module_version": "1.5.0",
            "_view_name": "HBoxView",
            "box_style": "",
            "children": [
              "IPY_MODEL_ac9e575c27b34357923bfac959eb7c0c",
              "IPY_MODEL_45e8d63e0eb4418fb66cb6dfa51df785",
              "IPY_MODEL_2ba8b99509924320967d789bb4e1a19b"
            ],
            "layout": "IPY_MODEL_b08128ce065f4ff3bab163a70f1e53b6"
          }
        },
        "ac9e575c27b34357923bfac959eb7c0c": {
          "model_module": "@jupyter-widgets/controls",
          "model_name": "HTMLModel",
          "model_module_version": "1.5.0",
          "state": {
            "_dom_classes": [],
            "_model_module": "@jupyter-widgets/controls",
            "_model_module_version": "1.5.0",
            "_model_name": "HTMLModel",
            "_view_count": null,
            "_view_module": "@jupyter-widgets/controls",
            "_view_module_version": "1.5.0",
            "_view_name": "HTMLView",
            "description": "",
            "description_tooltip": null,
            "layout": "IPY_MODEL_8ef45486f5034b8185862727c98cfd66",
            "placeholder": "​",
            "style": "IPY_MODEL_3f5b5ea66c054673bf835e3f9ad36b86",
            "value": "Downloading data files: 100%"
          }
        },
        "45e8d63e0eb4418fb66cb6dfa51df785": {
          "model_module": "@jupyter-widgets/controls",
          "model_name": "FloatProgressModel",
          "model_module_version": "1.5.0",
          "state": {
            "_dom_classes": [],
            "_model_module": "@jupyter-widgets/controls",
            "_model_module_version": "1.5.0",
            "_model_name": "FloatProgressModel",
            "_view_count": null,
            "_view_module": "@jupyter-widgets/controls",
            "_view_module_version": "1.5.0",
            "_view_name": "ProgressView",
            "bar_style": "success",
            "description": "",
            "description_tooltip": null,
            "layout": "IPY_MODEL_21d8cdbcea7b477d992142f9ac0594db",
            "max": 5,
            "min": 0,
            "orientation": "horizontal",
            "style": "IPY_MODEL_eebe50e85747419a82b9cf63c1ef3d9e",
            "value": 5
          }
        },
        "2ba8b99509924320967d789bb4e1a19b": {
          "model_module": "@jupyter-widgets/controls",
          "model_name": "HTMLModel",
          "model_module_version": "1.5.0",
          "state": {
            "_dom_classes": [],
            "_model_module": "@jupyter-widgets/controls",
            "_model_module_version": "1.5.0",
            "_model_name": "HTMLModel",
            "_view_count": null,
            "_view_module": "@jupyter-widgets/controls",
            "_view_module_version": "1.5.0",
            "_view_name": "HTMLView",
            "description": "",
            "description_tooltip": null,
            "layout": "IPY_MODEL_5a9d33821b4a4c5ca6ff4fe54a02bc69",
            "placeholder": "​",
            "style": "IPY_MODEL_c470cbf3ea2c4441bcca307a2b3f43de",
            "value": " 5/5 [00:13&lt;00:00,  1.81s/it]"
          }
        },
        "b08128ce065f4ff3bab163a70f1e53b6": {
          "model_module": "@jupyter-widgets/base",
          "model_name": "LayoutModel",
          "model_module_version": "1.2.0",
          "state": {
            "_model_module": "@jupyter-widgets/base",
            "_model_module_version": "1.2.0",
            "_model_name": "LayoutModel",
            "_view_count": null,
            "_view_module": "@jupyter-widgets/base",
            "_view_module_version": "1.2.0",
            "_view_name": "LayoutView",
            "align_content": null,
            "align_items": null,
            "align_self": null,
            "border": null,
            "bottom": null,
            "display": null,
            "flex": null,
            "flex_flow": null,
            "grid_area": null,
            "grid_auto_columns": null,
            "grid_auto_flow": null,
            "grid_auto_rows": null,
            "grid_column": null,
            "grid_gap": null,
            "grid_row": null,
            "grid_template_areas": null,
            "grid_template_columns": null,
            "grid_template_rows": null,
            "height": null,
            "justify_content": null,
            "justify_items": null,
            "left": null,
            "margin": null,
            "max_height": null,
            "max_width": null,
            "min_height": null,
            "min_width": null,
            "object_fit": null,
            "object_position": null,
            "order": null,
            "overflow": null,
            "overflow_x": null,
            "overflow_y": null,
            "padding": null,
            "right": null,
            "top": null,
            "visibility": null,
            "width": null
          }
        },
        "8ef45486f5034b8185862727c98cfd66": {
          "model_module": "@jupyter-widgets/base",
          "model_name": "LayoutModel",
          "model_module_version": "1.2.0",
          "state": {
            "_model_module": "@jupyter-widgets/base",
            "_model_module_version": "1.2.0",
            "_model_name": "LayoutModel",
            "_view_count": null,
            "_view_module": "@jupyter-widgets/base",
            "_view_module_version": "1.2.0",
            "_view_name": "LayoutView",
            "align_content": null,
            "align_items": null,
            "align_self": null,
            "border": null,
            "bottom": null,
            "display": null,
            "flex": null,
            "flex_flow": null,
            "grid_area": null,
            "grid_auto_columns": null,
            "grid_auto_flow": null,
            "grid_auto_rows": null,
            "grid_column": null,
            "grid_gap": null,
            "grid_row": null,
            "grid_template_areas": null,
            "grid_template_columns": null,
            "grid_template_rows": null,
            "height": null,
            "justify_content": null,
            "justify_items": null,
            "left": null,
            "margin": null,
            "max_height": null,
            "max_width": null,
            "min_height": null,
            "min_width": null,
            "object_fit": null,
            "object_position": null,
            "order": null,
            "overflow": null,
            "overflow_x": null,
            "overflow_y": null,
            "padding": null,
            "right": null,
            "top": null,
            "visibility": null,
            "width": null
          }
        },
        "3f5b5ea66c054673bf835e3f9ad36b86": {
          "model_module": "@jupyter-widgets/controls",
          "model_name": "DescriptionStyleModel",
          "model_module_version": "1.5.0",
          "state": {
            "_model_module": "@jupyter-widgets/controls",
            "_model_module_version": "1.5.0",
            "_model_name": "DescriptionStyleModel",
            "_view_count": null,
            "_view_module": "@jupyter-widgets/base",
            "_view_module_version": "1.2.0",
            "_view_name": "StyleView",
            "description_width": ""
          }
        },
        "21d8cdbcea7b477d992142f9ac0594db": {
          "model_module": "@jupyter-widgets/base",
          "model_name": "LayoutModel",
          "model_module_version": "1.2.0",
          "state": {
            "_model_module": "@jupyter-widgets/base",
            "_model_module_version": "1.2.0",
            "_model_name": "LayoutModel",
            "_view_count": null,
            "_view_module": "@jupyter-widgets/base",
            "_view_module_version": "1.2.0",
            "_view_name": "LayoutView",
            "align_content": null,
            "align_items": null,
            "align_self": null,
            "border": null,
            "bottom": null,
            "display": null,
            "flex": null,
            "flex_flow": null,
            "grid_area": null,
            "grid_auto_columns": null,
            "grid_auto_flow": null,
            "grid_auto_rows": null,
            "grid_column": null,
            "grid_gap": null,
            "grid_row": null,
            "grid_template_areas": null,
            "grid_template_columns": null,
            "grid_template_rows": null,
            "height": null,
            "justify_content": null,
            "justify_items": null,
            "left": null,
            "margin": null,
            "max_height": null,
            "max_width": null,
            "min_height": null,
            "min_width": null,
            "object_fit": null,
            "object_position": null,
            "order": null,
            "overflow": null,
            "overflow_x": null,
            "overflow_y": null,
            "padding": null,
            "right": null,
            "top": null,
            "visibility": null,
            "width": null
          }
        },
        "eebe50e85747419a82b9cf63c1ef3d9e": {
          "model_module": "@jupyter-widgets/controls",
          "model_name": "ProgressStyleModel",
          "model_module_version": "1.5.0",
          "state": {
            "_model_module": "@jupyter-widgets/controls",
            "_model_module_version": "1.5.0",
            "_model_name": "ProgressStyleModel",
            "_view_count": null,
            "_view_module": "@jupyter-widgets/base",
            "_view_module_version": "1.2.0",
            "_view_name": "StyleView",
            "bar_color": null,
            "description_width": ""
          }
        },
        "5a9d33821b4a4c5ca6ff4fe54a02bc69": {
          "model_module": "@jupyter-widgets/base",
          "model_name": "LayoutModel",
          "model_module_version": "1.2.0",
          "state": {
            "_model_module": "@jupyter-widgets/base",
            "_model_module_version": "1.2.0",
            "_model_name": "LayoutModel",
            "_view_count": null,
            "_view_module": "@jupyter-widgets/base",
            "_view_module_version": "1.2.0",
            "_view_name": "LayoutView",
            "align_content": null,
            "align_items": null,
            "align_self": null,
            "border": null,
            "bottom": null,
            "display": null,
            "flex": null,
            "flex_flow": null,
            "grid_area": null,
            "grid_auto_columns": null,
            "grid_auto_flow": null,
            "grid_auto_rows": null,
            "grid_column": null,
            "grid_gap": null,
            "grid_row": null,
            "grid_template_areas": null,
            "grid_template_columns": null,
            "grid_template_rows": null,
            "height": null,
            "justify_content": null,
            "justify_items": null,
            "left": null,
            "margin": null,
            "max_height": null,
            "max_width": null,
            "min_height": null,
            "min_width": null,
            "object_fit": null,
            "object_position": null,
            "order": null,
            "overflow": null,
            "overflow_x": null,
            "overflow_y": null,
            "padding": null,
            "right": null,
            "top": null,
            "visibility": null,
            "width": null
          }
        },
        "c470cbf3ea2c4441bcca307a2b3f43de": {
          "model_module": "@jupyter-widgets/controls",
          "model_name": "DescriptionStyleModel",
          "model_module_version": "1.5.0",
          "state": {
            "_model_module": "@jupyter-widgets/controls",
            "_model_module_version": "1.5.0",
            "_model_name": "DescriptionStyleModel",
            "_view_count": null,
            "_view_module": "@jupyter-widgets/base",
            "_view_module_version": "1.2.0",
            "_view_name": "StyleView",
            "description_width": ""
          }
        },
        "2407e2e147f949f8aa1ce78f66b924b2": {
          "model_module": "@jupyter-widgets/controls",
          "model_name": "HBoxModel",
          "model_module_version": "1.5.0",
          "state": {
            "_dom_classes": [],
            "_model_module": "@jupyter-widgets/controls",
            "_model_module_version": "1.5.0",
            "_model_name": "HBoxModel",
            "_view_count": null,
            "_view_module": "@jupyter-widgets/controls",
            "_view_module_version": "1.5.0",
            "_view_name": "HBoxView",
            "box_style": "",
            "children": [
              "IPY_MODEL_b20d837f0c3341dc9a8f16c754aa4846",
              "IPY_MODEL_08d82a86656a47d086760f6283d80cef",
              "IPY_MODEL_75c4ee0b4abc42e889e98f9db0f75731"
            ],
            "layout": "IPY_MODEL_6be360975d274159a27dbdab09cb5756"
          }
        },
        "b20d837f0c3341dc9a8f16c754aa4846": {
          "model_module": "@jupyter-widgets/controls",
          "model_name": "HTMLModel",
          "model_module_version": "1.5.0",
          "state": {
            "_dom_classes": [],
            "_model_module": "@jupyter-widgets/controls",
            "_model_module_version": "1.5.0",
            "_model_name": "HTMLModel",
            "_view_count": null,
            "_view_module": "@jupyter-widgets/controls",
            "_view_module_version": "1.5.0",
            "_view_name": "HTMLView",
            "description": "",
            "description_tooltip": null,
            "layout": "IPY_MODEL_70c96b39598c4f17be16828fa39727a6",
            "placeholder": "​",
            "style": "IPY_MODEL_2b808d8833e041df811b5c0fa6923f89",
            "value": "Downloading data: 100%"
          }
        },
        "08d82a86656a47d086760f6283d80cef": {
          "model_module": "@jupyter-widgets/controls",
          "model_name": "FloatProgressModel",
          "model_module_version": "1.5.0",
          "state": {
            "_dom_classes": [],
            "_model_module": "@jupyter-widgets/controls",
            "_model_module_version": "1.5.0",
            "_model_name": "FloatProgressModel",
            "_view_count": null,
            "_view_module": "@jupyter-widgets/controls",
            "_view_module_version": "1.5.0",
            "_view_name": "ProgressView",
            "bar_style": "success",
            "description": "",
            "description_tooltip": null,
            "layout": "IPY_MODEL_7ee8d46182c047f98304c2c7210c16b5",
            "max": 158577824,
            "min": 0,
            "orientation": "horizontal",
            "style": "IPY_MODEL_43e748134a914a65a52555f99f586247",
            "value": 158577824
          }
        },
        "75c4ee0b4abc42e889e98f9db0f75731": {
          "model_module": "@jupyter-widgets/controls",
          "model_name": "HTMLModel",
          "model_module_version": "1.5.0",
          "state": {
            "_dom_classes": [],
            "_model_module": "@jupyter-widgets/controls",
            "_model_module_version": "1.5.0",
            "_model_name": "HTMLModel",
            "_view_count": null,
            "_view_module": "@jupyter-widgets/controls",
            "_view_module_version": "1.5.0",
            "_view_name": "HTMLView",
            "description": "",
            "description_tooltip": null,
            "layout": "IPY_MODEL_5c790fd5f1314a6ca0b6fa1ae5566e0b",
            "placeholder": "​",
            "style": "IPY_MODEL_faee2da3c1e342f5aecb863fb07a3cf8",
            "value": " 159M/159M [00:01&lt;00:00, 89.6MB/s]"
          }
        },
        "6be360975d274159a27dbdab09cb5756": {
          "model_module": "@jupyter-widgets/base",
          "model_name": "LayoutModel",
          "model_module_version": "1.2.0",
          "state": {
            "_model_module": "@jupyter-widgets/base",
            "_model_module_version": "1.2.0",
            "_model_name": "LayoutModel",
            "_view_count": null,
            "_view_module": "@jupyter-widgets/base",
            "_view_module_version": "1.2.0",
            "_view_name": "LayoutView",
            "align_content": null,
            "align_items": null,
            "align_self": null,
            "border": null,
            "bottom": null,
            "display": null,
            "flex": null,
            "flex_flow": null,
            "grid_area": null,
            "grid_auto_columns": null,
            "grid_auto_flow": null,
            "grid_auto_rows": null,
            "grid_column": null,
            "grid_gap": null,
            "grid_row": null,
            "grid_template_areas": null,
            "grid_template_columns": null,
            "grid_template_rows": null,
            "height": null,
            "justify_content": null,
            "justify_items": null,
            "left": null,
            "margin": null,
            "max_height": null,
            "max_width": null,
            "min_height": null,
            "min_width": null,
            "object_fit": null,
            "object_position": null,
            "order": null,
            "overflow": null,
            "overflow_x": null,
            "overflow_y": null,
            "padding": null,
            "right": null,
            "top": null,
            "visibility": null,
            "width": null
          }
        },
        "70c96b39598c4f17be16828fa39727a6": {
          "model_module": "@jupyter-widgets/base",
          "model_name": "LayoutModel",
          "model_module_version": "1.2.0",
          "state": {
            "_model_module": "@jupyter-widgets/base",
            "_model_module_version": "1.2.0",
            "_model_name": "LayoutModel",
            "_view_count": null,
            "_view_module": "@jupyter-widgets/base",
            "_view_module_version": "1.2.0",
            "_view_name": "LayoutView",
            "align_content": null,
            "align_items": null,
            "align_self": null,
            "border": null,
            "bottom": null,
            "display": null,
            "flex": null,
            "flex_flow": null,
            "grid_area": null,
            "grid_auto_columns": null,
            "grid_auto_flow": null,
            "grid_auto_rows": null,
            "grid_column": null,
            "grid_gap": null,
            "grid_row": null,
            "grid_template_areas": null,
            "grid_template_columns": null,
            "grid_template_rows": null,
            "height": null,
            "justify_content": null,
            "justify_items": null,
            "left": null,
            "margin": null,
            "max_height": null,
            "max_width": null,
            "min_height": null,
            "min_width": null,
            "object_fit": null,
            "object_position": null,
            "order": null,
            "overflow": null,
            "overflow_x": null,
            "overflow_y": null,
            "padding": null,
            "right": null,
            "top": null,
            "visibility": null,
            "width": null
          }
        },
        "2b808d8833e041df811b5c0fa6923f89": {
          "model_module": "@jupyter-widgets/controls",
          "model_name": "DescriptionStyleModel",
          "model_module_version": "1.5.0",
          "state": {
            "_model_module": "@jupyter-widgets/controls",
            "_model_module_version": "1.5.0",
            "_model_name": "DescriptionStyleModel",
            "_view_count": null,
            "_view_module": "@jupyter-widgets/base",
            "_view_module_version": "1.2.0",
            "_view_name": "StyleView",
            "description_width": ""
          }
        },
        "7ee8d46182c047f98304c2c7210c16b5": {
          "model_module": "@jupyter-widgets/base",
          "model_name": "LayoutModel",
          "model_module_version": "1.2.0",
          "state": {
            "_model_module": "@jupyter-widgets/base",
            "_model_module_version": "1.2.0",
            "_model_name": "LayoutModel",
            "_view_count": null,
            "_view_module": "@jupyter-widgets/base",
            "_view_module_version": "1.2.0",
            "_view_name": "LayoutView",
            "align_content": null,
            "align_items": null,
            "align_self": null,
            "border": null,
            "bottom": null,
            "display": null,
            "flex": null,
            "flex_flow": null,
            "grid_area": null,
            "grid_auto_columns": null,
            "grid_auto_flow": null,
            "grid_auto_rows": null,
            "grid_column": null,
            "grid_gap": null,
            "grid_row": null,
            "grid_template_areas": null,
            "grid_template_columns": null,
            "grid_template_rows": null,
            "height": null,
            "justify_content": null,
            "justify_items": null,
            "left": null,
            "margin": null,
            "max_height": null,
            "max_width": null,
            "min_height": null,
            "min_width": null,
            "object_fit": null,
            "object_position": null,
            "order": null,
            "overflow": null,
            "overflow_x": null,
            "overflow_y": null,
            "padding": null,
            "right": null,
            "top": null,
            "visibility": null,
            "width": null
          }
        },
        "43e748134a914a65a52555f99f586247": {
          "model_module": "@jupyter-widgets/controls",
          "model_name": "ProgressStyleModel",
          "model_module_version": "1.5.0",
          "state": {
            "_model_module": "@jupyter-widgets/controls",
            "_model_module_version": "1.5.0",
            "_model_name": "ProgressStyleModel",
            "_view_count": null,
            "_view_module": "@jupyter-widgets/base",
            "_view_module_version": "1.2.0",
            "_view_name": "StyleView",
            "bar_color": null,
            "description_width": ""
          }
        },
        "5c790fd5f1314a6ca0b6fa1ae5566e0b": {
          "model_module": "@jupyter-widgets/base",
          "model_name": "LayoutModel",
          "model_module_version": "1.2.0",
          "state": {
            "_model_module": "@jupyter-widgets/base",
            "_model_module_version": "1.2.0",
            "_model_name": "LayoutModel",
            "_view_count": null,
            "_view_module": "@jupyter-widgets/base",
            "_view_module_version": "1.2.0",
            "_view_name": "LayoutView",
            "align_content": null,
            "align_items": null,
            "align_self": null,
            "border": null,
            "bottom": null,
            "display": null,
            "flex": null,
            "flex_flow": null,
            "grid_area": null,
            "grid_auto_columns": null,
            "grid_auto_flow": null,
            "grid_auto_rows": null,
            "grid_column": null,
            "grid_gap": null,
            "grid_row": null,
            "grid_template_areas": null,
            "grid_template_columns": null,
            "grid_template_rows": null,
            "height": null,
            "justify_content": null,
            "justify_items": null,
            "left": null,
            "margin": null,
            "max_height": null,
            "max_width": null,
            "min_height": null,
            "min_width": null,
            "object_fit": null,
            "object_position": null,
            "order": null,
            "overflow": null,
            "overflow_x": null,
            "overflow_y": null,
            "padding": null,
            "right": null,
            "top": null,
            "visibility": null,
            "width": null
          }
        },
        "faee2da3c1e342f5aecb863fb07a3cf8": {
          "model_module": "@jupyter-widgets/controls",
          "model_name": "DescriptionStyleModel",
          "model_module_version": "1.5.0",
          "state": {
            "_model_module": "@jupyter-widgets/controls",
            "_model_module_version": "1.5.0",
            "_model_name": "DescriptionStyleModel",
            "_view_count": null,
            "_view_module": "@jupyter-widgets/base",
            "_view_module_version": "1.2.0",
            "_view_name": "StyleView",
            "description_width": ""
          }
        },
        "ffbd6c5de79340fc9a327753a000c8d5": {
          "model_module": "@jupyter-widgets/controls",
          "model_name": "HBoxModel",
          "model_module_version": "1.5.0",
          "state": {
            "_dom_classes": [],
            "_model_module": "@jupyter-widgets/controls",
            "_model_module_version": "1.5.0",
            "_model_name": "HBoxModel",
            "_view_count": null,
            "_view_module": "@jupyter-widgets/controls",
            "_view_module_version": "1.5.0",
            "_view_name": "HBoxView",
            "box_style": "",
            "children": [
              "IPY_MODEL_1523d4f9988145398ca3a2dcc4d27d07",
              "IPY_MODEL_0026cf5943644a838efa251de65cfb26",
              "IPY_MODEL_677596d3abe94570b7b757114c377a87"
            ],
            "layout": "IPY_MODEL_0c0d8dba29d146638d7c0d0caefbc570"
          }
        },
        "1523d4f9988145398ca3a2dcc4d27d07": {
          "model_module": "@jupyter-widgets/controls",
          "model_name": "HTMLModel",
          "model_module_version": "1.5.0",
          "state": {
            "_dom_classes": [],
            "_model_module": "@jupyter-widgets/controls",
            "_model_module_version": "1.5.0",
            "_model_name": "HTMLModel",
            "_view_count": null,
            "_view_module": "@jupyter-widgets/controls",
            "_view_module_version": "1.5.0",
            "_view_name": "HTMLView",
            "description": "",
            "description_tooltip": null,
            "layout": "IPY_MODEL_462d7e53af544426835bcf1e003150c7",
            "placeholder": "​",
            "style": "IPY_MODEL_3f226b96ac624cbca332b935f4838b27",
            "value": "Downloading data: 100%"
          }
        },
        "0026cf5943644a838efa251de65cfb26": {
          "model_module": "@jupyter-widgets/controls",
          "model_name": "FloatProgressModel",
          "model_module_version": "1.5.0",
          "state": {
            "_dom_classes": [],
            "_model_module": "@jupyter-widgets/controls",
            "_model_module_version": "1.5.0",
            "_model_name": "FloatProgressModel",
            "_view_count": null,
            "_view_module": "@jupyter-widgets/controls",
            "_view_module_version": "1.5.0",
            "_view_name": "ProgressView",
            "bar_style": "success",
            "description": "",
            "description_tooltip": null,
            "layout": "IPY_MODEL_90c6035cc47d44048e46deb15589c8af",
            "max": 375893739,
            "min": 0,
            "orientation": "horizontal",
            "style": "IPY_MODEL_4fd2e7eda1994ad7a12bc11a1942675b",
            "value": 375893739
          }
        },
        "677596d3abe94570b7b757114c377a87": {
          "model_module": "@jupyter-widgets/controls",
          "model_name": "HTMLModel",
          "model_module_version": "1.5.0",
          "state": {
            "_dom_classes": [],
            "_model_module": "@jupyter-widgets/controls",
            "_model_module_version": "1.5.0",
            "_model_name": "HTMLModel",
            "_view_count": null,
            "_view_module": "@jupyter-widgets/controls",
            "_view_module_version": "1.5.0",
            "_view_name": "HTMLView",
            "description": "",
            "description_tooltip": null,
            "layout": "IPY_MODEL_54de3e298c074a7a846fda58c393f9b0",
            "placeholder": "​",
            "style": "IPY_MODEL_0ac9905c189d448b946fc51f6be27ce8",
            "value": " 376M/376M [00:06&lt;00:00, 90.5MB/s]"
          }
        },
        "0c0d8dba29d146638d7c0d0caefbc570": {
          "model_module": "@jupyter-widgets/base",
          "model_name": "LayoutModel",
          "model_module_version": "1.2.0",
          "state": {
            "_model_module": "@jupyter-widgets/base",
            "_model_module_version": "1.2.0",
            "_model_name": "LayoutModel",
            "_view_count": null,
            "_view_module": "@jupyter-widgets/base",
            "_view_module_version": "1.2.0",
            "_view_name": "LayoutView",
            "align_content": null,
            "align_items": null,
            "align_self": null,
            "border": null,
            "bottom": null,
            "display": null,
            "flex": null,
            "flex_flow": null,
            "grid_area": null,
            "grid_auto_columns": null,
            "grid_auto_flow": null,
            "grid_auto_rows": null,
            "grid_column": null,
            "grid_gap": null,
            "grid_row": null,
            "grid_template_areas": null,
            "grid_template_columns": null,
            "grid_template_rows": null,
            "height": null,
            "justify_content": null,
            "justify_items": null,
            "left": null,
            "margin": null,
            "max_height": null,
            "max_width": null,
            "min_height": null,
            "min_width": null,
            "object_fit": null,
            "object_position": null,
            "order": null,
            "overflow": null,
            "overflow_x": null,
            "overflow_y": null,
            "padding": null,
            "right": null,
            "top": null,
            "visibility": null,
            "width": null
          }
        },
        "462d7e53af544426835bcf1e003150c7": {
          "model_module": "@jupyter-widgets/base",
          "model_name": "LayoutModel",
          "model_module_version": "1.2.0",
          "state": {
            "_model_module": "@jupyter-widgets/base",
            "_model_module_version": "1.2.0",
            "_model_name": "LayoutModel",
            "_view_count": null,
            "_view_module": "@jupyter-widgets/base",
            "_view_module_version": "1.2.0",
            "_view_name": "LayoutView",
            "align_content": null,
            "align_items": null,
            "align_self": null,
            "border": null,
            "bottom": null,
            "display": null,
            "flex": null,
            "flex_flow": null,
            "grid_area": null,
            "grid_auto_columns": null,
            "grid_auto_flow": null,
            "grid_auto_rows": null,
            "grid_column": null,
            "grid_gap": null,
            "grid_row": null,
            "grid_template_areas": null,
            "grid_template_columns": null,
            "grid_template_rows": null,
            "height": null,
            "justify_content": null,
            "justify_items": null,
            "left": null,
            "margin": null,
            "max_height": null,
            "max_width": null,
            "min_height": null,
            "min_width": null,
            "object_fit": null,
            "object_position": null,
            "order": null,
            "overflow": null,
            "overflow_x": null,
            "overflow_y": null,
            "padding": null,
            "right": null,
            "top": null,
            "visibility": null,
            "width": null
          }
        },
        "3f226b96ac624cbca332b935f4838b27": {
          "model_module": "@jupyter-widgets/controls",
          "model_name": "DescriptionStyleModel",
          "model_module_version": "1.5.0",
          "state": {
            "_model_module": "@jupyter-widgets/controls",
            "_model_module_version": "1.5.0",
            "_model_name": "DescriptionStyleModel",
            "_view_count": null,
            "_view_module": "@jupyter-widgets/base",
            "_view_module_version": "1.2.0",
            "_view_name": "StyleView",
            "description_width": ""
          }
        },
        "90c6035cc47d44048e46deb15589c8af": {
          "model_module": "@jupyter-widgets/base",
          "model_name": "LayoutModel",
          "model_module_version": "1.2.0",
          "state": {
            "_model_module": "@jupyter-widgets/base",
            "_model_module_version": "1.2.0",
            "_model_name": "LayoutModel",
            "_view_count": null,
            "_view_module": "@jupyter-widgets/base",
            "_view_module_version": "1.2.0",
            "_view_name": "LayoutView",
            "align_content": null,
            "align_items": null,
            "align_self": null,
            "border": null,
            "bottom": null,
            "display": null,
            "flex": null,
            "flex_flow": null,
            "grid_area": null,
            "grid_auto_columns": null,
            "grid_auto_flow": null,
            "grid_auto_rows": null,
            "grid_column": null,
            "grid_gap": null,
            "grid_row": null,
            "grid_template_areas": null,
            "grid_template_columns": null,
            "grid_template_rows": null,
            "height": null,
            "justify_content": null,
            "justify_items": null,
            "left": null,
            "margin": null,
            "max_height": null,
            "max_width": null,
            "min_height": null,
            "min_width": null,
            "object_fit": null,
            "object_position": null,
            "order": null,
            "overflow": null,
            "overflow_x": null,
            "overflow_y": null,
            "padding": null,
            "right": null,
            "top": null,
            "visibility": null,
            "width": null
          }
        },
        "4fd2e7eda1994ad7a12bc11a1942675b": {
          "model_module": "@jupyter-widgets/controls",
          "model_name": "ProgressStyleModel",
          "model_module_version": "1.5.0",
          "state": {
            "_model_module": "@jupyter-widgets/controls",
            "_model_module_version": "1.5.0",
            "_model_name": "ProgressStyleModel",
            "_view_count": null,
            "_view_module": "@jupyter-widgets/base",
            "_view_module_version": "1.2.0",
            "_view_name": "StyleView",
            "bar_color": null,
            "description_width": ""
          }
        },
        "54de3e298c074a7a846fda58c393f9b0": {
          "model_module": "@jupyter-widgets/base",
          "model_name": "LayoutModel",
          "model_module_version": "1.2.0",
          "state": {
            "_model_module": "@jupyter-widgets/base",
            "_model_module_version": "1.2.0",
            "_model_name": "LayoutModel",
            "_view_count": null,
            "_view_module": "@jupyter-widgets/base",
            "_view_module_version": "1.2.0",
            "_view_name": "LayoutView",
            "align_content": null,
            "align_items": null,
            "align_self": null,
            "border": null,
            "bottom": null,
            "display": null,
            "flex": null,
            "flex_flow": null,
            "grid_area": null,
            "grid_auto_columns": null,
            "grid_auto_flow": null,
            "grid_auto_rows": null,
            "grid_column": null,
            "grid_gap": null,
            "grid_row": null,
            "grid_template_areas": null,
            "grid_template_columns": null,
            "grid_template_rows": null,
            "height": null,
            "justify_content": null,
            "justify_items": null,
            "left": null,
            "margin": null,
            "max_height": null,
            "max_width": null,
            "min_height": null,
            "min_width": null,
            "object_fit": null,
            "object_position": null,
            "order": null,
            "overflow": null,
            "overflow_x": null,
            "overflow_y": null,
            "padding": null,
            "right": null,
            "top": null,
            "visibility": null,
            "width": null
          }
        },
        "0ac9905c189d448b946fc51f6be27ce8": {
          "model_module": "@jupyter-widgets/controls",
          "model_name": "DescriptionStyleModel",
          "model_module_version": "1.5.0",
          "state": {
            "_model_module": "@jupyter-widgets/controls",
            "_model_module_version": "1.5.0",
            "_model_name": "DescriptionStyleModel",
            "_view_count": null,
            "_view_module": "@jupyter-widgets/base",
            "_view_module_version": "1.2.0",
            "_view_name": "StyleView",
            "description_width": ""
          }
        },
        "a1e1e5088cb24678af30dcd02b662f40": {
          "model_module": "@jupyter-widgets/controls",
          "model_name": "HBoxModel",
          "model_module_version": "1.5.0",
          "state": {
            "_dom_classes": [],
            "_model_module": "@jupyter-widgets/controls",
            "_model_module_version": "1.5.0",
            "_model_name": "HBoxModel",
            "_view_count": null,
            "_view_module": "@jupyter-widgets/controls",
            "_view_module_version": "1.5.0",
            "_view_name": "HBoxView",
            "box_style": "",
            "children": [
              "IPY_MODEL_cabdb7bdfc3c4b39931943097517e7f2",
              "IPY_MODEL_f8c537954d66424a9e49abcd6a3c045a",
              "IPY_MODEL_a2e38e247f9a4c84b89cac3b09d1650d"
            ],
            "layout": "IPY_MODEL_dbc8f7718bbb4ccf8f8645025aafce82"
          }
        },
        "cabdb7bdfc3c4b39931943097517e7f2": {
          "model_module": "@jupyter-widgets/controls",
          "model_name": "HTMLModel",
          "model_module_version": "1.5.0",
          "state": {
            "_dom_classes": [],
            "_model_module": "@jupyter-widgets/controls",
            "_model_module_version": "1.5.0",
            "_model_name": "HTMLModel",
            "_view_count": null,
            "_view_module": "@jupyter-widgets/controls",
            "_view_module_version": "1.5.0",
            "_view_name": "HTMLView",
            "description": "",
            "description_tooltip": null,
            "layout": "IPY_MODEL_e4e4b09e091f473084bf2abfe0058ca5",
            "placeholder": "​",
            "style": "IPY_MODEL_fe7f46bbe8ae4bbe8efd63aaa8c71030",
            "value": "Downloading data: "
          }
        },
        "f8c537954d66424a9e49abcd6a3c045a": {
          "model_module": "@jupyter-widgets/controls",
          "model_name": "FloatProgressModel",
          "model_module_version": "1.5.0",
          "state": {
            "_dom_classes": [],
            "_model_module": "@jupyter-widgets/controls",
            "_model_module_version": "1.5.0",
            "_model_name": "FloatProgressModel",
            "_view_count": null,
            "_view_module": "@jupyter-widgets/controls",
            "_view_module_version": "1.5.0",
            "_view_name": "ProgressView",
            "bar_style": "success",
            "description": "",
            "description_tooltip": null,
            "layout": "IPY_MODEL_b3ea7efdc06a4313bfdc202d2e87e022",
            "max": 12259516,
            "min": 0,
            "orientation": "horizontal",
            "style": "IPY_MODEL_0e0d49c1062e4042a6bdb11d5eb93f50",
            "value": 12259516
          }
        },
        "a2e38e247f9a4c84b89cac3b09d1650d": {
          "model_module": "@jupyter-widgets/controls",
          "model_name": "HTMLModel",
          "model_module_version": "1.5.0",
          "state": {
            "_dom_classes": [],
            "_model_module": "@jupyter-widgets/controls",
            "_model_module_version": "1.5.0",
            "_model_name": "HTMLModel",
            "_view_count": null,
            "_view_module": "@jupyter-widgets/controls",
            "_view_module_version": "1.5.0",
            "_view_name": "HTMLView",
            "description": "",
            "description_tooltip": null,
            "layout": "IPY_MODEL_ae5137d8060648068caab0eab8cd1e63",
            "placeholder": "​",
            "style": "IPY_MODEL_e4c9823214124feda1e0598fe0f46765",
            "value": " 46.4M/? [00:01&lt;00:00, 19.9MB/s]"
          }
        },
        "dbc8f7718bbb4ccf8f8645025aafce82": {
          "model_module": "@jupyter-widgets/base",
          "model_name": "LayoutModel",
          "model_module_version": "1.2.0",
          "state": {
            "_model_module": "@jupyter-widgets/base",
            "_model_module_version": "1.2.0",
            "_model_name": "LayoutModel",
            "_view_count": null,
            "_view_module": "@jupyter-widgets/base",
            "_view_module_version": "1.2.0",
            "_view_name": "LayoutView",
            "align_content": null,
            "align_items": null,
            "align_self": null,
            "border": null,
            "bottom": null,
            "display": null,
            "flex": null,
            "flex_flow": null,
            "grid_area": null,
            "grid_auto_columns": null,
            "grid_auto_flow": null,
            "grid_auto_rows": null,
            "grid_column": null,
            "grid_gap": null,
            "grid_row": null,
            "grid_template_areas": null,
            "grid_template_columns": null,
            "grid_template_rows": null,
            "height": null,
            "justify_content": null,
            "justify_items": null,
            "left": null,
            "margin": null,
            "max_height": null,
            "max_width": null,
            "min_height": null,
            "min_width": null,
            "object_fit": null,
            "object_position": null,
            "order": null,
            "overflow": null,
            "overflow_x": null,
            "overflow_y": null,
            "padding": null,
            "right": null,
            "top": null,
            "visibility": null,
            "width": null
          }
        },
        "e4e4b09e091f473084bf2abfe0058ca5": {
          "model_module": "@jupyter-widgets/base",
          "model_name": "LayoutModel",
          "model_module_version": "1.2.0",
          "state": {
            "_model_module": "@jupyter-widgets/base",
            "_model_module_version": "1.2.0",
            "_model_name": "LayoutModel",
            "_view_count": null,
            "_view_module": "@jupyter-widgets/base",
            "_view_module_version": "1.2.0",
            "_view_name": "LayoutView",
            "align_content": null,
            "align_items": null,
            "align_self": null,
            "border": null,
            "bottom": null,
            "display": null,
            "flex": null,
            "flex_flow": null,
            "grid_area": null,
            "grid_auto_columns": null,
            "grid_auto_flow": null,
            "grid_auto_rows": null,
            "grid_column": null,
            "grid_gap": null,
            "grid_row": null,
            "grid_template_areas": null,
            "grid_template_columns": null,
            "grid_template_rows": null,
            "height": null,
            "justify_content": null,
            "justify_items": null,
            "left": null,
            "margin": null,
            "max_height": null,
            "max_width": null,
            "min_height": null,
            "min_width": null,
            "object_fit": null,
            "object_position": null,
            "order": null,
            "overflow": null,
            "overflow_x": null,
            "overflow_y": null,
            "padding": null,
            "right": null,
            "top": null,
            "visibility": null,
            "width": null
          }
        },
        "fe7f46bbe8ae4bbe8efd63aaa8c71030": {
          "model_module": "@jupyter-widgets/controls",
          "model_name": "DescriptionStyleModel",
          "model_module_version": "1.5.0",
          "state": {
            "_model_module": "@jupyter-widgets/controls",
            "_model_module_version": "1.5.0",
            "_model_name": "DescriptionStyleModel",
            "_view_count": null,
            "_view_module": "@jupyter-widgets/base",
            "_view_module_version": "1.2.0",
            "_view_name": "StyleView",
            "description_width": ""
          }
        },
        "b3ea7efdc06a4313bfdc202d2e87e022": {
          "model_module": "@jupyter-widgets/base",
          "model_name": "LayoutModel",
          "model_module_version": "1.2.0",
          "state": {
            "_model_module": "@jupyter-widgets/base",
            "_model_module_version": "1.2.0",
            "_model_name": "LayoutModel",
            "_view_count": null,
            "_view_module": "@jupyter-widgets/base",
            "_view_module_version": "1.2.0",
            "_view_name": "LayoutView",
            "align_content": null,
            "align_items": null,
            "align_self": null,
            "border": null,
            "bottom": null,
            "display": null,
            "flex": null,
            "flex_flow": null,
            "grid_area": null,
            "grid_auto_columns": null,
            "grid_auto_flow": null,
            "grid_auto_rows": null,
            "grid_column": null,
            "grid_gap": null,
            "grid_row": null,
            "grid_template_areas": null,
            "grid_template_columns": null,
            "grid_template_rows": null,
            "height": null,
            "justify_content": null,
            "justify_items": null,
            "left": null,
            "margin": null,
            "max_height": null,
            "max_width": null,
            "min_height": null,
            "min_width": null,
            "object_fit": null,
            "object_position": null,
            "order": null,
            "overflow": null,
            "overflow_x": null,
            "overflow_y": null,
            "padding": null,
            "right": null,
            "top": null,
            "visibility": null,
            "width": null
          }
        },
        "0e0d49c1062e4042a6bdb11d5eb93f50": {
          "model_module": "@jupyter-widgets/controls",
          "model_name": "ProgressStyleModel",
          "model_module_version": "1.5.0",
          "state": {
            "_model_module": "@jupyter-widgets/controls",
            "_model_module_version": "1.5.0",
            "_model_name": "ProgressStyleModel",
            "_view_count": null,
            "_view_module": "@jupyter-widgets/base",
            "_view_module_version": "1.2.0",
            "_view_name": "StyleView",
            "bar_color": null,
            "description_width": ""
          }
        },
        "ae5137d8060648068caab0eab8cd1e63": {
          "model_module": "@jupyter-widgets/base",
          "model_name": "LayoutModel",
          "model_module_version": "1.2.0",
          "state": {
            "_model_module": "@jupyter-widgets/base",
            "_model_module_version": "1.2.0",
            "_model_name": "LayoutModel",
            "_view_count": null,
            "_view_module": "@jupyter-widgets/base",
            "_view_module_version": "1.2.0",
            "_view_name": "LayoutView",
            "align_content": null,
            "align_items": null,
            "align_self": null,
            "border": null,
            "bottom": null,
            "display": null,
            "flex": null,
            "flex_flow": null,
            "grid_area": null,
            "grid_auto_columns": null,
            "grid_auto_flow": null,
            "grid_auto_rows": null,
            "grid_column": null,
            "grid_gap": null,
            "grid_row": null,
            "grid_template_areas": null,
            "grid_template_columns": null,
            "grid_template_rows": null,
            "height": null,
            "justify_content": null,
            "justify_items": null,
            "left": null,
            "margin": null,
            "max_height": null,
            "max_width": null,
            "min_height": null,
            "min_width": null,
            "object_fit": null,
            "object_position": null,
            "order": null,
            "overflow": null,
            "overflow_x": null,
            "overflow_y": null,
            "padding": null,
            "right": null,
            "top": null,
            "visibility": null,
            "width": null
          }
        },
        "e4c9823214124feda1e0598fe0f46765": {
          "model_module": "@jupyter-widgets/controls",
          "model_name": "DescriptionStyleModel",
          "model_module_version": "1.5.0",
          "state": {
            "_model_module": "@jupyter-widgets/controls",
            "_model_module_version": "1.5.0",
            "_model_name": "DescriptionStyleModel",
            "_view_count": null,
            "_view_module": "@jupyter-widgets/base",
            "_view_module_version": "1.2.0",
            "_view_name": "StyleView",
            "description_width": ""
          }
        },
        "3bf1f59aceba43a190900f712b039f9e": {
          "model_module": "@jupyter-widgets/controls",
          "model_name": "HBoxModel",
          "model_module_version": "1.5.0",
          "state": {
            "_dom_classes": [],
            "_model_module": "@jupyter-widgets/controls",
            "_model_module_version": "1.5.0",
            "_model_name": "HBoxModel",
            "_view_count": null,
            "_view_module": "@jupyter-widgets/controls",
            "_view_module_version": "1.5.0",
            "_view_name": "HBoxView",
            "box_style": "",
            "children": [
              "IPY_MODEL_8bc28b0d432a42529636f4ecb58f62f6",
              "IPY_MODEL_be1e089da37140438f038a477f9c42c3",
              "IPY_MODEL_905d950f8be64999bb796ed351df271d"
            ],
            "layout": "IPY_MODEL_6ed65be852e046178cc9093273d048c9"
          }
        },
        "8bc28b0d432a42529636f4ecb58f62f6": {
          "model_module": "@jupyter-widgets/controls",
          "model_name": "HTMLModel",
          "model_module_version": "1.5.0",
          "state": {
            "_dom_classes": [],
            "_model_module": "@jupyter-widgets/controls",
            "_model_module_version": "1.5.0",
            "_model_name": "HTMLModel",
            "_view_count": null,
            "_view_module": "@jupyter-widgets/controls",
            "_view_module_version": "1.5.0",
            "_view_name": "HTMLView",
            "description": "",
            "description_tooltip": null,
            "layout": "IPY_MODEL_398895a659d7482385198ee9afc7e57d",
            "placeholder": "​",
            "style": "IPY_MODEL_e2230493e0794e4b975ed72c7d6284ee",
            "value": "Downloading data: "
          }
        },
        "be1e089da37140438f038a477f9c42c3": {
          "model_module": "@jupyter-widgets/controls",
          "model_name": "FloatProgressModel",
          "model_module_version": "1.5.0",
          "state": {
            "_dom_classes": [],
            "_model_module": "@jupyter-widgets/controls",
            "_model_module_version": "1.5.0",
            "_model_name": "FloatProgressModel",
            "_view_count": null,
            "_view_module": "@jupyter-widgets/controls",
            "_view_module_version": "1.5.0",
            "_view_name": "ProgressView",
            "bar_style": "success",
            "description": "",
            "description_tooltip": null,
            "layout": "IPY_MODEL_9904174f07084ab7a4445ea06fdcae1b",
            "max": 660943,
            "min": 0,
            "orientation": "horizontal",
            "style": "IPY_MODEL_0ef87ad887064b7bb890d2d2a85026d9",
            "value": 660943
          }
        },
        "905d950f8be64999bb796ed351df271d": {
          "model_module": "@jupyter-widgets/controls",
          "model_name": "HTMLModel",
          "model_module_version": "1.5.0",
          "state": {
            "_dom_classes": [],
            "_model_module": "@jupyter-widgets/controls",
            "_model_module_version": "1.5.0",
            "_model_name": "HTMLModel",
            "_view_count": null,
            "_view_module": "@jupyter-widgets/controls",
            "_view_module_version": "1.5.0",
            "_view_name": "HTMLView",
            "description": "",
            "description_tooltip": null,
            "layout": "IPY_MODEL_cc5eb99c8fe348a292d25e2ee5733b57",
            "placeholder": "​",
            "style": "IPY_MODEL_a0f47f3ec28a4f0591d62c9facbdaa33",
            "value": " 2.43M/? [00:00&lt;00:00, 16.1MB/s]"
          }
        },
        "6ed65be852e046178cc9093273d048c9": {
          "model_module": "@jupyter-widgets/base",
          "model_name": "LayoutModel",
          "model_module_version": "1.2.0",
          "state": {
            "_model_module": "@jupyter-widgets/base",
            "_model_module_version": "1.2.0",
            "_model_name": "LayoutModel",
            "_view_count": null,
            "_view_module": "@jupyter-widgets/base",
            "_view_module_version": "1.2.0",
            "_view_name": "LayoutView",
            "align_content": null,
            "align_items": null,
            "align_self": null,
            "border": null,
            "bottom": null,
            "display": null,
            "flex": null,
            "flex_flow": null,
            "grid_area": null,
            "grid_auto_columns": null,
            "grid_auto_flow": null,
            "grid_auto_rows": null,
            "grid_column": null,
            "grid_gap": null,
            "grid_row": null,
            "grid_template_areas": null,
            "grid_template_columns": null,
            "grid_template_rows": null,
            "height": null,
            "justify_content": null,
            "justify_items": null,
            "left": null,
            "margin": null,
            "max_height": null,
            "max_width": null,
            "min_height": null,
            "min_width": null,
            "object_fit": null,
            "object_position": null,
            "order": null,
            "overflow": null,
            "overflow_x": null,
            "overflow_y": null,
            "padding": null,
            "right": null,
            "top": null,
            "visibility": null,
            "width": null
          }
        },
        "398895a659d7482385198ee9afc7e57d": {
          "model_module": "@jupyter-widgets/base",
          "model_name": "LayoutModel",
          "model_module_version": "1.2.0",
          "state": {
            "_model_module": "@jupyter-widgets/base",
            "_model_module_version": "1.2.0",
            "_model_name": "LayoutModel",
            "_view_count": null,
            "_view_module": "@jupyter-widgets/base",
            "_view_module_version": "1.2.0",
            "_view_name": "LayoutView",
            "align_content": null,
            "align_items": null,
            "align_self": null,
            "border": null,
            "bottom": null,
            "display": null,
            "flex": null,
            "flex_flow": null,
            "grid_area": null,
            "grid_auto_columns": null,
            "grid_auto_flow": null,
            "grid_auto_rows": null,
            "grid_column": null,
            "grid_gap": null,
            "grid_row": null,
            "grid_template_areas": null,
            "grid_template_columns": null,
            "grid_template_rows": null,
            "height": null,
            "justify_content": null,
            "justify_items": null,
            "left": null,
            "margin": null,
            "max_height": null,
            "max_width": null,
            "min_height": null,
            "min_width": null,
            "object_fit": null,
            "object_position": null,
            "order": null,
            "overflow": null,
            "overflow_x": null,
            "overflow_y": null,
            "padding": null,
            "right": null,
            "top": null,
            "visibility": null,
            "width": null
          }
        },
        "e2230493e0794e4b975ed72c7d6284ee": {
          "model_module": "@jupyter-widgets/controls",
          "model_name": "DescriptionStyleModel",
          "model_module_version": "1.5.0",
          "state": {
            "_model_module": "@jupyter-widgets/controls",
            "_model_module_version": "1.5.0",
            "_model_name": "DescriptionStyleModel",
            "_view_count": null,
            "_view_module": "@jupyter-widgets/base",
            "_view_module_version": "1.2.0",
            "_view_name": "StyleView",
            "description_width": ""
          }
        },
        "9904174f07084ab7a4445ea06fdcae1b": {
          "model_module": "@jupyter-widgets/base",
          "model_name": "LayoutModel",
          "model_module_version": "1.2.0",
          "state": {
            "_model_module": "@jupyter-widgets/base",
            "_model_module_version": "1.2.0",
            "_model_name": "LayoutModel",
            "_view_count": null,
            "_view_module": "@jupyter-widgets/base",
            "_view_module_version": "1.2.0",
            "_view_name": "LayoutView",
            "align_content": null,
            "align_items": null,
            "align_self": null,
            "border": null,
            "bottom": null,
            "display": null,
            "flex": null,
            "flex_flow": null,
            "grid_area": null,
            "grid_auto_columns": null,
            "grid_auto_flow": null,
            "grid_auto_rows": null,
            "grid_column": null,
            "grid_gap": null,
            "grid_row": null,
            "grid_template_areas": null,
            "grid_template_columns": null,
            "grid_template_rows": null,
            "height": null,
            "justify_content": null,
            "justify_items": null,
            "left": null,
            "margin": null,
            "max_height": null,
            "max_width": null,
            "min_height": null,
            "min_width": null,
            "object_fit": null,
            "object_position": null,
            "order": null,
            "overflow": null,
            "overflow_x": null,
            "overflow_y": null,
            "padding": null,
            "right": null,
            "top": null,
            "visibility": null,
            "width": null
          }
        },
        "0ef87ad887064b7bb890d2d2a85026d9": {
          "model_module": "@jupyter-widgets/controls",
          "model_name": "ProgressStyleModel",
          "model_module_version": "1.5.0",
          "state": {
            "_model_module": "@jupyter-widgets/controls",
            "_model_module_version": "1.5.0",
            "_model_name": "ProgressStyleModel",
            "_view_count": null,
            "_view_module": "@jupyter-widgets/base",
            "_view_module_version": "1.2.0",
            "_view_name": "StyleView",
            "bar_color": null,
            "description_width": ""
          }
        },
        "cc5eb99c8fe348a292d25e2ee5733b57": {
          "model_module": "@jupyter-widgets/base",
          "model_name": "LayoutModel",
          "model_module_version": "1.2.0",
          "state": {
            "_model_module": "@jupyter-widgets/base",
            "_model_module_version": "1.2.0",
            "_model_name": "LayoutModel",
            "_view_count": null,
            "_view_module": "@jupyter-widgets/base",
            "_view_module_version": "1.2.0",
            "_view_name": "LayoutView",
            "align_content": null,
            "align_items": null,
            "align_self": null,
            "border": null,
            "bottom": null,
            "display": null,
            "flex": null,
            "flex_flow": null,
            "grid_area": null,
            "grid_auto_columns": null,
            "grid_auto_flow": null,
            "grid_auto_rows": null,
            "grid_column": null,
            "grid_gap": null,
            "grid_row": null,
            "grid_template_areas": null,
            "grid_template_columns": null,
            "grid_template_rows": null,
            "height": null,
            "justify_content": null,
            "justify_items": null,
            "left": null,
            "margin": null,
            "max_height": null,
            "max_width": null,
            "min_height": null,
            "min_width": null,
            "object_fit": null,
            "object_position": null,
            "order": null,
            "overflow": null,
            "overflow_x": null,
            "overflow_y": null,
            "padding": null,
            "right": null,
            "top": null,
            "visibility": null,
            "width": null
          }
        },
        "a0f47f3ec28a4f0591d62c9facbdaa33": {
          "model_module": "@jupyter-widgets/controls",
          "model_name": "DescriptionStyleModel",
          "model_module_version": "1.5.0",
          "state": {
            "_model_module": "@jupyter-widgets/controls",
            "_model_module_version": "1.5.0",
            "_model_name": "DescriptionStyleModel",
            "_view_count": null,
            "_view_module": "@jupyter-widgets/base",
            "_view_module_version": "1.2.0",
            "_view_name": "StyleView",
            "description_width": ""
          }
        },
        "d9a832976f324b96bf172c66aaddfd0b": {
          "model_module": "@jupyter-widgets/controls",
          "model_name": "HBoxModel",
          "model_module_version": "1.5.0",
          "state": {
            "_dom_classes": [],
            "_model_module": "@jupyter-widgets/controls",
            "_model_module_version": "1.5.0",
            "_model_name": "HBoxModel",
            "_view_count": null,
            "_view_module": "@jupyter-widgets/controls",
            "_view_module_version": "1.5.0",
            "_view_name": "HBoxView",
            "box_style": "",
            "children": [
              "IPY_MODEL_f214ccdad9ea480daf017c290c3d1327",
              "IPY_MODEL_10874cb2577c4b45b40aec98f30c8b56",
              "IPY_MODEL_231570d0b89440f98f8cfece2117b660"
            ],
            "layout": "IPY_MODEL_f8e2bb74981a4a1b89d205e83399efe5"
          }
        },
        "f214ccdad9ea480daf017c290c3d1327": {
          "model_module": "@jupyter-widgets/controls",
          "model_name": "HTMLModel",
          "model_module_version": "1.5.0",
          "state": {
            "_dom_classes": [],
            "_model_module": "@jupyter-widgets/controls",
            "_model_module_version": "1.5.0",
            "_model_name": "HTMLModel",
            "_view_count": null,
            "_view_module": "@jupyter-widgets/controls",
            "_view_module_version": "1.5.0",
            "_view_name": "HTMLView",
            "description": "",
            "description_tooltip": null,
            "layout": "IPY_MODEL_4d438915242645099ca232800956b1cc",
            "placeholder": "​",
            "style": "IPY_MODEL_48c8dd11d6814a628fc39e3f7035264f",
            "value": "Downloading data: "
          }
        },
        "10874cb2577c4b45b40aec98f30c8b56": {
          "model_module": "@jupyter-widgets/controls",
          "model_name": "FloatProgressModel",
          "model_module_version": "1.5.0",
          "state": {
            "_dom_classes": [],
            "_model_module": "@jupyter-widgets/controls",
            "_model_module_version": "1.5.0",
            "_model_name": "FloatProgressModel",
            "_view_count": null,
            "_view_module": "@jupyter-widgets/controls",
            "_view_module_version": "1.5.0",
            "_view_name": "ProgressView",
            "bar_style": "success",
            "description": "",
            "description_tooltip": null,
            "layout": "IPY_MODEL_e0dc792141c341309f22796e01347e48",
            "max": 572061,
            "min": 0,
            "orientation": "horizontal",
            "style": "IPY_MODEL_1b6d732d08d542959b101e8bf4327585",
            "value": 572061
          }
        },
        "231570d0b89440f98f8cfece2117b660": {
          "model_module": "@jupyter-widgets/controls",
          "model_name": "HTMLModel",
          "model_module_version": "1.5.0",
          "state": {
            "_dom_classes": [],
            "_model_module": "@jupyter-widgets/controls",
            "_model_module_version": "1.5.0",
            "_model_name": "HTMLModel",
            "_view_count": null,
            "_view_module": "@jupyter-widgets/controls",
            "_view_module_version": "1.5.0",
            "_view_name": "HTMLView",
            "description": "",
            "description_tooltip": null,
            "layout": "IPY_MODEL_edeb065f933e49f6b35a75c385b73d10",
            "placeholder": "​",
            "style": "IPY_MODEL_0811609e5f41497ea798ba3bba2aeb08",
            "value": " 2.11M/? [00:00&lt;00:00, 25.7MB/s]"
          }
        },
        "f8e2bb74981a4a1b89d205e83399efe5": {
          "model_module": "@jupyter-widgets/base",
          "model_name": "LayoutModel",
          "model_module_version": "1.2.0",
          "state": {
            "_model_module": "@jupyter-widgets/base",
            "_model_module_version": "1.2.0",
            "_model_name": "LayoutModel",
            "_view_count": null,
            "_view_module": "@jupyter-widgets/base",
            "_view_module_version": "1.2.0",
            "_view_name": "LayoutView",
            "align_content": null,
            "align_items": null,
            "align_self": null,
            "border": null,
            "bottom": null,
            "display": null,
            "flex": null,
            "flex_flow": null,
            "grid_area": null,
            "grid_auto_columns": null,
            "grid_auto_flow": null,
            "grid_auto_rows": null,
            "grid_column": null,
            "grid_gap": null,
            "grid_row": null,
            "grid_template_areas": null,
            "grid_template_columns": null,
            "grid_template_rows": null,
            "height": null,
            "justify_content": null,
            "justify_items": null,
            "left": null,
            "margin": null,
            "max_height": null,
            "max_width": null,
            "min_height": null,
            "min_width": null,
            "object_fit": null,
            "object_position": null,
            "order": null,
            "overflow": null,
            "overflow_x": null,
            "overflow_y": null,
            "padding": null,
            "right": null,
            "top": null,
            "visibility": null,
            "width": null
          }
        },
        "4d438915242645099ca232800956b1cc": {
          "model_module": "@jupyter-widgets/base",
          "model_name": "LayoutModel",
          "model_module_version": "1.2.0",
          "state": {
            "_model_module": "@jupyter-widgets/base",
            "_model_module_version": "1.2.0",
            "_model_name": "LayoutModel",
            "_view_count": null,
            "_view_module": "@jupyter-widgets/base",
            "_view_module_version": "1.2.0",
            "_view_name": "LayoutView",
            "align_content": null,
            "align_items": null,
            "align_self": null,
            "border": null,
            "bottom": null,
            "display": null,
            "flex": null,
            "flex_flow": null,
            "grid_area": null,
            "grid_auto_columns": null,
            "grid_auto_flow": null,
            "grid_auto_rows": null,
            "grid_column": null,
            "grid_gap": null,
            "grid_row": null,
            "grid_template_areas": null,
            "grid_template_columns": null,
            "grid_template_rows": null,
            "height": null,
            "justify_content": null,
            "justify_items": null,
            "left": null,
            "margin": null,
            "max_height": null,
            "max_width": null,
            "min_height": null,
            "min_width": null,
            "object_fit": null,
            "object_position": null,
            "order": null,
            "overflow": null,
            "overflow_x": null,
            "overflow_y": null,
            "padding": null,
            "right": null,
            "top": null,
            "visibility": null,
            "width": null
          }
        },
        "48c8dd11d6814a628fc39e3f7035264f": {
          "model_module": "@jupyter-widgets/controls",
          "model_name": "DescriptionStyleModel",
          "model_module_version": "1.5.0",
          "state": {
            "_model_module": "@jupyter-widgets/controls",
            "_model_module_version": "1.5.0",
            "_model_name": "DescriptionStyleModel",
            "_view_count": null,
            "_view_module": "@jupyter-widgets/base",
            "_view_module_version": "1.2.0",
            "_view_name": "StyleView",
            "description_width": ""
          }
        },
        "e0dc792141c341309f22796e01347e48": {
          "model_module": "@jupyter-widgets/base",
          "model_name": "LayoutModel",
          "model_module_version": "1.2.0",
          "state": {
            "_model_module": "@jupyter-widgets/base",
            "_model_module_version": "1.2.0",
            "_model_name": "LayoutModel",
            "_view_count": null,
            "_view_module": "@jupyter-widgets/base",
            "_view_module_version": "1.2.0",
            "_view_name": "LayoutView",
            "align_content": null,
            "align_items": null,
            "align_self": null,
            "border": null,
            "bottom": null,
            "display": null,
            "flex": null,
            "flex_flow": null,
            "grid_area": null,
            "grid_auto_columns": null,
            "grid_auto_flow": null,
            "grid_auto_rows": null,
            "grid_column": null,
            "grid_gap": null,
            "grid_row": null,
            "grid_template_areas": null,
            "grid_template_columns": null,
            "grid_template_rows": null,
            "height": null,
            "justify_content": null,
            "justify_items": null,
            "left": null,
            "margin": null,
            "max_height": null,
            "max_width": null,
            "min_height": null,
            "min_width": null,
            "object_fit": null,
            "object_position": null,
            "order": null,
            "overflow": null,
            "overflow_x": null,
            "overflow_y": null,
            "padding": null,
            "right": null,
            "top": null,
            "visibility": null,
            "width": null
          }
        },
        "1b6d732d08d542959b101e8bf4327585": {
          "model_module": "@jupyter-widgets/controls",
          "model_name": "ProgressStyleModel",
          "model_module_version": "1.5.0",
          "state": {
            "_model_module": "@jupyter-widgets/controls",
            "_model_module_version": "1.5.0",
            "_model_name": "ProgressStyleModel",
            "_view_count": null,
            "_view_module": "@jupyter-widgets/base",
            "_view_module_version": "1.2.0",
            "_view_name": "StyleView",
            "bar_color": null,
            "description_width": ""
          }
        },
        "edeb065f933e49f6b35a75c385b73d10": {
          "model_module": "@jupyter-widgets/base",
          "model_name": "LayoutModel",
          "model_module_version": "1.2.0",
          "state": {
            "_model_module": "@jupyter-widgets/base",
            "_model_module_version": "1.2.0",
            "_model_name": "LayoutModel",
            "_view_count": null,
            "_view_module": "@jupyter-widgets/base",
            "_view_module_version": "1.2.0",
            "_view_name": "LayoutView",
            "align_content": null,
            "align_items": null,
            "align_self": null,
            "border": null,
            "bottom": null,
            "display": null,
            "flex": null,
            "flex_flow": null,
            "grid_area": null,
            "grid_auto_columns": null,
            "grid_auto_flow": null,
            "grid_auto_rows": null,
            "grid_column": null,
            "grid_gap": null,
            "grid_row": null,
            "grid_template_areas": null,
            "grid_template_columns": null,
            "grid_template_rows": null,
            "height": null,
            "justify_content": null,
            "justify_items": null,
            "left": null,
            "margin": null,
            "max_height": null,
            "max_width": null,
            "min_height": null,
            "min_width": null,
            "object_fit": null,
            "object_position": null,
            "order": null,
            "overflow": null,
            "overflow_x": null,
            "overflow_y": null,
            "padding": null,
            "right": null,
            "top": null,
            "visibility": null,
            "width": null
          }
        },
        "0811609e5f41497ea798ba3bba2aeb08": {
          "model_module": "@jupyter-widgets/controls",
          "model_name": "DescriptionStyleModel",
          "model_module_version": "1.5.0",
          "state": {
            "_model_module": "@jupyter-widgets/controls",
            "_model_module_version": "1.5.0",
            "_model_name": "DescriptionStyleModel",
            "_view_count": null,
            "_view_module": "@jupyter-widgets/base",
            "_view_module_version": "1.2.0",
            "_view_name": "StyleView",
            "description_width": ""
          }
        },
        "2b00feaea9b946978d37bfc188e720bc": {
          "model_module": "@jupyter-widgets/controls",
          "model_name": "HBoxModel",
          "model_module_version": "1.5.0",
          "state": {
            "_dom_classes": [],
            "_model_module": "@jupyter-widgets/controls",
            "_model_module_version": "1.5.0",
            "_model_name": "HBoxModel",
            "_view_count": null,
            "_view_module": "@jupyter-widgets/controls",
            "_view_module_version": "1.5.0",
            "_view_name": "HBoxView",
            "box_style": "",
            "children": [
              "IPY_MODEL_c666bb1e4535473dab16192c275361a6",
              "IPY_MODEL_cdc3956e547248e48d04e90df12e3337",
              "IPY_MODEL_90802129c80a4c2caa897278a3c700cc"
            ],
            "layout": "IPY_MODEL_245a0970960b499b92c7fda3dcd63d8f"
          }
        },
        "c666bb1e4535473dab16192c275361a6": {
          "model_module": "@jupyter-widgets/controls",
          "model_name": "HTMLModel",
          "model_module_version": "1.5.0",
          "state": {
            "_dom_classes": [],
            "_model_module": "@jupyter-widgets/controls",
            "_model_module_version": "1.5.0",
            "_model_name": "HTMLModel",
            "_view_count": null,
            "_view_module": "@jupyter-widgets/controls",
            "_view_module_version": "1.5.0",
            "_view_name": "HTMLView",
            "description": "",
            "description_tooltip": null,
            "layout": "IPY_MODEL_2368de527df248a69d95225c4fd820f7",
            "placeholder": "​",
            "style": "IPY_MODEL_83f0c067a7134bbbabe60c68fc1c70c0",
            "value": "Generating train split: 100%"
          }
        },
        "cdc3956e547248e48d04e90df12e3337": {
          "model_module": "@jupyter-widgets/controls",
          "model_name": "FloatProgressModel",
          "model_module_version": "1.5.0",
          "state": {
            "_dom_classes": [],
            "_model_module": "@jupyter-widgets/controls",
            "_model_module_version": "1.5.0",
            "_model_name": "FloatProgressModel",
            "_view_count": null,
            "_view_module": "@jupyter-widgets/controls",
            "_view_module_version": "1.5.0",
            "_view_name": "ProgressView",
            "bar_style": "",
            "description": "",
            "description_tooltip": null,
            "layout": "IPY_MODEL_779730c5f2ff4e7b9caebc28d1f5753c",
            "max": 287113,
            "min": 0,
            "orientation": "horizontal",
            "style": "IPY_MODEL_07f9335b19d54108bfc290673e64671b",
            "value": 287113
          }
        },
        "90802129c80a4c2caa897278a3c700cc": {
          "model_module": "@jupyter-widgets/controls",
          "model_name": "HTMLModel",
          "model_module_version": "1.5.0",
          "state": {
            "_dom_classes": [],
            "_model_module": "@jupyter-widgets/controls",
            "_model_module_version": "1.5.0",
            "_model_name": "HTMLModel",
            "_view_count": null,
            "_view_module": "@jupyter-widgets/controls",
            "_view_module_version": "1.5.0",
            "_view_name": "HTMLView",
            "description": "",
            "description_tooltip": null,
            "layout": "IPY_MODEL_fba777f1c70d4ec78c7eb6a043e23550",
            "placeholder": "​",
            "style": "IPY_MODEL_fa7907272c7d4d8eaa27a7a3bbb0c9a0",
            "value": " 286814/287113 [01:27&lt;00:00, 3785.13 examples/s]"
          }
        },
        "245a0970960b499b92c7fda3dcd63d8f": {
          "model_module": "@jupyter-widgets/base",
          "model_name": "LayoutModel",
          "model_module_version": "1.2.0",
          "state": {
            "_model_module": "@jupyter-widgets/base",
            "_model_module_version": "1.2.0",
            "_model_name": "LayoutModel",
            "_view_count": null,
            "_view_module": "@jupyter-widgets/base",
            "_view_module_version": "1.2.0",
            "_view_name": "LayoutView",
            "align_content": null,
            "align_items": null,
            "align_self": null,
            "border": null,
            "bottom": null,
            "display": null,
            "flex": null,
            "flex_flow": null,
            "grid_area": null,
            "grid_auto_columns": null,
            "grid_auto_flow": null,
            "grid_auto_rows": null,
            "grid_column": null,
            "grid_gap": null,
            "grid_row": null,
            "grid_template_areas": null,
            "grid_template_columns": null,
            "grid_template_rows": null,
            "height": null,
            "justify_content": null,
            "justify_items": null,
            "left": null,
            "margin": null,
            "max_height": null,
            "max_width": null,
            "min_height": null,
            "min_width": null,
            "object_fit": null,
            "object_position": null,
            "order": null,
            "overflow": null,
            "overflow_x": null,
            "overflow_y": null,
            "padding": null,
            "right": null,
            "top": null,
            "visibility": "hidden",
            "width": null
          }
        },
        "2368de527df248a69d95225c4fd820f7": {
          "model_module": "@jupyter-widgets/base",
          "model_name": "LayoutModel",
          "model_module_version": "1.2.0",
          "state": {
            "_model_module": "@jupyter-widgets/base",
            "_model_module_version": "1.2.0",
            "_model_name": "LayoutModel",
            "_view_count": null,
            "_view_module": "@jupyter-widgets/base",
            "_view_module_version": "1.2.0",
            "_view_name": "LayoutView",
            "align_content": null,
            "align_items": null,
            "align_self": null,
            "border": null,
            "bottom": null,
            "display": null,
            "flex": null,
            "flex_flow": null,
            "grid_area": null,
            "grid_auto_columns": null,
            "grid_auto_flow": null,
            "grid_auto_rows": null,
            "grid_column": null,
            "grid_gap": null,
            "grid_row": null,
            "grid_template_areas": null,
            "grid_template_columns": null,
            "grid_template_rows": null,
            "height": null,
            "justify_content": null,
            "justify_items": null,
            "left": null,
            "margin": null,
            "max_height": null,
            "max_width": null,
            "min_height": null,
            "min_width": null,
            "object_fit": null,
            "object_position": null,
            "order": null,
            "overflow": null,
            "overflow_x": null,
            "overflow_y": null,
            "padding": null,
            "right": null,
            "top": null,
            "visibility": null,
            "width": null
          }
        },
        "83f0c067a7134bbbabe60c68fc1c70c0": {
          "model_module": "@jupyter-widgets/controls",
          "model_name": "DescriptionStyleModel",
          "model_module_version": "1.5.0",
          "state": {
            "_model_module": "@jupyter-widgets/controls",
            "_model_module_version": "1.5.0",
            "_model_name": "DescriptionStyleModel",
            "_view_count": null,
            "_view_module": "@jupyter-widgets/base",
            "_view_module_version": "1.2.0",
            "_view_name": "StyleView",
            "description_width": ""
          }
        },
        "779730c5f2ff4e7b9caebc28d1f5753c": {
          "model_module": "@jupyter-widgets/base",
          "model_name": "LayoutModel",
          "model_module_version": "1.2.0",
          "state": {
            "_model_module": "@jupyter-widgets/base",
            "_model_module_version": "1.2.0",
            "_model_name": "LayoutModel",
            "_view_count": null,
            "_view_module": "@jupyter-widgets/base",
            "_view_module_version": "1.2.0",
            "_view_name": "LayoutView",
            "align_content": null,
            "align_items": null,
            "align_self": null,
            "border": null,
            "bottom": null,
            "display": null,
            "flex": null,
            "flex_flow": null,
            "grid_area": null,
            "grid_auto_columns": null,
            "grid_auto_flow": null,
            "grid_auto_rows": null,
            "grid_column": null,
            "grid_gap": null,
            "grid_row": null,
            "grid_template_areas": null,
            "grid_template_columns": null,
            "grid_template_rows": null,
            "height": null,
            "justify_content": null,
            "justify_items": null,
            "left": null,
            "margin": null,
            "max_height": null,
            "max_width": null,
            "min_height": null,
            "min_width": null,
            "object_fit": null,
            "object_position": null,
            "order": null,
            "overflow": null,
            "overflow_x": null,
            "overflow_y": null,
            "padding": null,
            "right": null,
            "top": null,
            "visibility": null,
            "width": null
          }
        },
        "07f9335b19d54108bfc290673e64671b": {
          "model_module": "@jupyter-widgets/controls",
          "model_name": "ProgressStyleModel",
          "model_module_version": "1.5.0",
          "state": {
            "_model_module": "@jupyter-widgets/controls",
            "_model_module_version": "1.5.0",
            "_model_name": "ProgressStyleModel",
            "_view_count": null,
            "_view_module": "@jupyter-widgets/base",
            "_view_module_version": "1.2.0",
            "_view_name": "StyleView",
            "bar_color": null,
            "description_width": ""
          }
        },
        "fba777f1c70d4ec78c7eb6a043e23550": {
          "model_module": "@jupyter-widgets/base",
          "model_name": "LayoutModel",
          "model_module_version": "1.2.0",
          "state": {
            "_model_module": "@jupyter-widgets/base",
            "_model_module_version": "1.2.0",
            "_model_name": "LayoutModel",
            "_view_count": null,
            "_view_module": "@jupyter-widgets/base",
            "_view_module_version": "1.2.0",
            "_view_name": "LayoutView",
            "align_content": null,
            "align_items": null,
            "align_self": null,
            "border": null,
            "bottom": null,
            "display": null,
            "flex": null,
            "flex_flow": null,
            "grid_area": null,
            "grid_auto_columns": null,
            "grid_auto_flow": null,
            "grid_auto_rows": null,
            "grid_column": null,
            "grid_gap": null,
            "grid_row": null,
            "grid_template_areas": null,
            "grid_template_columns": null,
            "grid_template_rows": null,
            "height": null,
            "justify_content": null,
            "justify_items": null,
            "left": null,
            "margin": null,
            "max_height": null,
            "max_width": null,
            "min_height": null,
            "min_width": null,
            "object_fit": null,
            "object_position": null,
            "order": null,
            "overflow": null,
            "overflow_x": null,
            "overflow_y": null,
            "padding": null,
            "right": null,
            "top": null,
            "visibility": null,
            "width": null
          }
        },
        "fa7907272c7d4d8eaa27a7a3bbb0c9a0": {
          "model_module": "@jupyter-widgets/controls",
          "model_name": "DescriptionStyleModel",
          "model_module_version": "1.5.0",
          "state": {
            "_model_module": "@jupyter-widgets/controls",
            "_model_module_version": "1.5.0",
            "_model_name": "DescriptionStyleModel",
            "_view_count": null,
            "_view_module": "@jupyter-widgets/base",
            "_view_module_version": "1.2.0",
            "_view_name": "StyleView",
            "description_width": ""
          }
        },
        "e7b6e1782432445681b23e165c2d7698": {
          "model_module": "@jupyter-widgets/controls",
          "model_name": "HBoxModel",
          "model_module_version": "1.5.0",
          "state": {
            "_dom_classes": [],
            "_model_module": "@jupyter-widgets/controls",
            "_model_module_version": "1.5.0",
            "_model_name": "HBoxModel",
            "_view_count": null,
            "_view_module": "@jupyter-widgets/controls",
            "_view_module_version": "1.5.0",
            "_view_name": "HBoxView",
            "box_style": "",
            "children": [
              "IPY_MODEL_6496ec34a9354546a762d6567f7ed4fc",
              "IPY_MODEL_9f75258ced1849128741088d0fb88dd9",
              "IPY_MODEL_521b97f3b101416491634ebba487a84e"
            ],
            "layout": "IPY_MODEL_1758210008004f1093e3b3b61eed630c"
          }
        },
        "6496ec34a9354546a762d6567f7ed4fc": {
          "model_module": "@jupyter-widgets/controls",
          "model_name": "HTMLModel",
          "model_module_version": "1.5.0",
          "state": {
            "_dom_classes": [],
            "_model_module": "@jupyter-widgets/controls",
            "_model_module_version": "1.5.0",
            "_model_name": "HTMLModel",
            "_view_count": null,
            "_view_module": "@jupyter-widgets/controls",
            "_view_module_version": "1.5.0",
            "_view_name": "HTMLView",
            "description": "",
            "description_tooltip": null,
            "layout": "IPY_MODEL_de1b49930a294b9ab18f502851c5e0f3",
            "placeholder": "​",
            "style": "IPY_MODEL_be2b4cd72a2047849573f8df1c215931",
            "value": "Generating validation split: 100%"
          }
        },
        "9f75258ced1849128741088d0fb88dd9": {
          "model_module": "@jupyter-widgets/controls",
          "model_name": "FloatProgressModel",
          "model_module_version": "1.5.0",
          "state": {
            "_dom_classes": [],
            "_model_module": "@jupyter-widgets/controls",
            "_model_module_version": "1.5.0",
            "_model_name": "FloatProgressModel",
            "_view_count": null,
            "_view_module": "@jupyter-widgets/controls",
            "_view_module_version": "1.5.0",
            "_view_name": "ProgressView",
            "bar_style": "",
            "description": "",
            "description_tooltip": null,
            "layout": "IPY_MODEL_eca96aad20614d56bfc9f2546ceefb7e",
            "max": 13368,
            "min": 0,
            "orientation": "horizontal",
            "style": "IPY_MODEL_a21b31549611415080cf737b974d370b",
            "value": 13368
          }
        },
        "521b97f3b101416491634ebba487a84e": {
          "model_module": "@jupyter-widgets/controls",
          "model_name": "HTMLModel",
          "model_module_version": "1.5.0",
          "state": {
            "_dom_classes": [],
            "_model_module": "@jupyter-widgets/controls",
            "_model_module_version": "1.5.0",
            "_model_name": "HTMLModel",
            "_view_count": null,
            "_view_module": "@jupyter-widgets/controls",
            "_view_module_version": "1.5.0",
            "_view_name": "HTMLView",
            "description": "",
            "description_tooltip": null,
            "layout": "IPY_MODEL_30c299b4e72c46d580a4f3721c70160c",
            "placeholder": "​",
            "style": "IPY_MODEL_4ab198a2e41244da90774280ebafdb29",
            "value": " 13368/13368 [00:37&lt;00:00, 1095.16 examples/s]"
          }
        },
        "1758210008004f1093e3b3b61eed630c": {
          "model_module": "@jupyter-widgets/base",
          "model_name": "LayoutModel",
          "model_module_version": "1.2.0",
          "state": {
            "_model_module": "@jupyter-widgets/base",
            "_model_module_version": "1.2.0",
            "_model_name": "LayoutModel",
            "_view_count": null,
            "_view_module": "@jupyter-widgets/base",
            "_view_module_version": "1.2.0",
            "_view_name": "LayoutView",
            "align_content": null,
            "align_items": null,
            "align_self": null,
            "border": null,
            "bottom": null,
            "display": null,
            "flex": null,
            "flex_flow": null,
            "grid_area": null,
            "grid_auto_columns": null,
            "grid_auto_flow": null,
            "grid_auto_rows": null,
            "grid_column": null,
            "grid_gap": null,
            "grid_row": null,
            "grid_template_areas": null,
            "grid_template_columns": null,
            "grid_template_rows": null,
            "height": null,
            "justify_content": null,
            "justify_items": null,
            "left": null,
            "margin": null,
            "max_height": null,
            "max_width": null,
            "min_height": null,
            "min_width": null,
            "object_fit": null,
            "object_position": null,
            "order": null,
            "overflow": null,
            "overflow_x": null,
            "overflow_y": null,
            "padding": null,
            "right": null,
            "top": null,
            "visibility": "hidden",
            "width": null
          }
        },
        "de1b49930a294b9ab18f502851c5e0f3": {
          "model_module": "@jupyter-widgets/base",
          "model_name": "LayoutModel",
          "model_module_version": "1.2.0",
          "state": {
            "_model_module": "@jupyter-widgets/base",
            "_model_module_version": "1.2.0",
            "_model_name": "LayoutModel",
            "_view_count": null,
            "_view_module": "@jupyter-widgets/base",
            "_view_module_version": "1.2.0",
            "_view_name": "LayoutView",
            "align_content": null,
            "align_items": null,
            "align_self": null,
            "border": null,
            "bottom": null,
            "display": null,
            "flex": null,
            "flex_flow": null,
            "grid_area": null,
            "grid_auto_columns": null,
            "grid_auto_flow": null,
            "grid_auto_rows": null,
            "grid_column": null,
            "grid_gap": null,
            "grid_row": null,
            "grid_template_areas": null,
            "grid_template_columns": null,
            "grid_template_rows": null,
            "height": null,
            "justify_content": null,
            "justify_items": null,
            "left": null,
            "margin": null,
            "max_height": null,
            "max_width": null,
            "min_height": null,
            "min_width": null,
            "object_fit": null,
            "object_position": null,
            "order": null,
            "overflow": null,
            "overflow_x": null,
            "overflow_y": null,
            "padding": null,
            "right": null,
            "top": null,
            "visibility": null,
            "width": null
          }
        },
        "be2b4cd72a2047849573f8df1c215931": {
          "model_module": "@jupyter-widgets/controls",
          "model_name": "DescriptionStyleModel",
          "model_module_version": "1.5.0",
          "state": {
            "_model_module": "@jupyter-widgets/controls",
            "_model_module_version": "1.5.0",
            "_model_name": "DescriptionStyleModel",
            "_view_count": null,
            "_view_module": "@jupyter-widgets/base",
            "_view_module_version": "1.2.0",
            "_view_name": "StyleView",
            "description_width": ""
          }
        },
        "eca96aad20614d56bfc9f2546ceefb7e": {
          "model_module": "@jupyter-widgets/base",
          "model_name": "LayoutModel",
          "model_module_version": "1.2.0",
          "state": {
            "_model_module": "@jupyter-widgets/base",
            "_model_module_version": "1.2.0",
            "_model_name": "LayoutModel",
            "_view_count": null,
            "_view_module": "@jupyter-widgets/base",
            "_view_module_version": "1.2.0",
            "_view_name": "LayoutView",
            "align_content": null,
            "align_items": null,
            "align_self": null,
            "border": null,
            "bottom": null,
            "display": null,
            "flex": null,
            "flex_flow": null,
            "grid_area": null,
            "grid_auto_columns": null,
            "grid_auto_flow": null,
            "grid_auto_rows": null,
            "grid_column": null,
            "grid_gap": null,
            "grid_row": null,
            "grid_template_areas": null,
            "grid_template_columns": null,
            "grid_template_rows": null,
            "height": null,
            "justify_content": null,
            "justify_items": null,
            "left": null,
            "margin": null,
            "max_height": null,
            "max_width": null,
            "min_height": null,
            "min_width": null,
            "object_fit": null,
            "object_position": null,
            "order": null,
            "overflow": null,
            "overflow_x": null,
            "overflow_y": null,
            "padding": null,
            "right": null,
            "top": null,
            "visibility": null,
            "width": null
          }
        },
        "a21b31549611415080cf737b974d370b": {
          "model_module": "@jupyter-widgets/controls",
          "model_name": "ProgressStyleModel",
          "model_module_version": "1.5.0",
          "state": {
            "_model_module": "@jupyter-widgets/controls",
            "_model_module_version": "1.5.0",
            "_model_name": "ProgressStyleModel",
            "_view_count": null,
            "_view_module": "@jupyter-widgets/base",
            "_view_module_version": "1.2.0",
            "_view_name": "StyleView",
            "bar_color": null,
            "description_width": ""
          }
        },
        "30c299b4e72c46d580a4f3721c70160c": {
          "model_module": "@jupyter-widgets/base",
          "model_name": "LayoutModel",
          "model_module_version": "1.2.0",
          "state": {
            "_model_module": "@jupyter-widgets/base",
            "_model_module_version": "1.2.0",
            "_model_name": "LayoutModel",
            "_view_count": null,
            "_view_module": "@jupyter-widgets/base",
            "_view_module_version": "1.2.0",
            "_view_name": "LayoutView",
            "align_content": null,
            "align_items": null,
            "align_self": null,
            "border": null,
            "bottom": null,
            "display": null,
            "flex": null,
            "flex_flow": null,
            "grid_area": null,
            "grid_auto_columns": null,
            "grid_auto_flow": null,
            "grid_auto_rows": null,
            "grid_column": null,
            "grid_gap": null,
            "grid_row": null,
            "grid_template_areas": null,
            "grid_template_columns": null,
            "grid_template_rows": null,
            "height": null,
            "justify_content": null,
            "justify_items": null,
            "left": null,
            "margin": null,
            "max_height": null,
            "max_width": null,
            "min_height": null,
            "min_width": null,
            "object_fit": null,
            "object_position": null,
            "order": null,
            "overflow": null,
            "overflow_x": null,
            "overflow_y": null,
            "padding": null,
            "right": null,
            "top": null,
            "visibility": null,
            "width": null
          }
        },
        "4ab198a2e41244da90774280ebafdb29": {
          "model_module": "@jupyter-widgets/controls",
          "model_name": "DescriptionStyleModel",
          "model_module_version": "1.5.0",
          "state": {
            "_model_module": "@jupyter-widgets/controls",
            "_model_module_version": "1.5.0",
            "_model_name": "DescriptionStyleModel",
            "_view_count": null,
            "_view_module": "@jupyter-widgets/base",
            "_view_module_version": "1.2.0",
            "_view_name": "StyleView",
            "description_width": ""
          }
        },
        "133e088022cd46f3b4c3d9344db02ef6": {
          "model_module": "@jupyter-widgets/controls",
          "model_name": "HBoxModel",
          "model_module_version": "1.5.0",
          "state": {
            "_dom_classes": [],
            "_model_module": "@jupyter-widgets/controls",
            "_model_module_version": "1.5.0",
            "_model_name": "HBoxModel",
            "_view_count": null,
            "_view_module": "@jupyter-widgets/controls",
            "_view_module_version": "1.5.0",
            "_view_name": "HBoxView",
            "box_style": "",
            "children": [
              "IPY_MODEL_4173637db189472f8af94bf9fb6246d2",
              "IPY_MODEL_f9f5dddf75074e57a46777dd84e30019",
              "IPY_MODEL_262638294b4b4885acc86e44bfac5704"
            ],
            "layout": "IPY_MODEL_4c757e4616e042cbac99050fb28dc5ba"
          }
        },
        "4173637db189472f8af94bf9fb6246d2": {
          "model_module": "@jupyter-widgets/controls",
          "model_name": "HTMLModel",
          "model_module_version": "1.5.0",
          "state": {
            "_dom_classes": [],
            "_model_module": "@jupyter-widgets/controls",
            "_model_module_version": "1.5.0",
            "_model_name": "HTMLModel",
            "_view_count": null,
            "_view_module": "@jupyter-widgets/controls",
            "_view_module_version": "1.5.0",
            "_view_name": "HTMLView",
            "description": "",
            "description_tooltip": null,
            "layout": "IPY_MODEL_31e6f745978b41398f73932ca5659a91",
            "placeholder": "​",
            "style": "IPY_MODEL_9db1fe0c3d9c4e379f28cd6b41028716",
            "value": "Generating test split: 100%"
          }
        },
        "f9f5dddf75074e57a46777dd84e30019": {
          "model_module": "@jupyter-widgets/controls",
          "model_name": "FloatProgressModel",
          "model_module_version": "1.5.0",
          "state": {
            "_dom_classes": [],
            "_model_module": "@jupyter-widgets/controls",
            "_model_module_version": "1.5.0",
            "_model_name": "FloatProgressModel",
            "_view_count": null,
            "_view_module": "@jupyter-widgets/controls",
            "_view_module_version": "1.5.0",
            "_view_name": "ProgressView",
            "bar_style": "",
            "description": "",
            "description_tooltip": null,
            "layout": "IPY_MODEL_250ea21d9da2448495a03b7667590fc9",
            "max": 11490,
            "min": 0,
            "orientation": "horizontal",
            "style": "IPY_MODEL_76f94bc577584106a335a388656d4515",
            "value": 11490
          }
        },
        "262638294b4b4885acc86e44bfac5704": {
          "model_module": "@jupyter-widgets/controls",
          "model_name": "HTMLModel",
          "model_module_version": "1.5.0",
          "state": {
            "_dom_classes": [],
            "_model_module": "@jupyter-widgets/controls",
            "_model_module_version": "1.5.0",
            "_model_name": "HTMLModel",
            "_view_count": null,
            "_view_module": "@jupyter-widgets/controls",
            "_view_module_version": "1.5.0",
            "_view_name": "HTMLView",
            "description": "",
            "description_tooltip": null,
            "layout": "IPY_MODEL_dc81932518b140fa93a1a930cb06df11",
            "placeholder": "​",
            "style": "IPY_MODEL_90af78a412f342b1bf563e5689103216",
            "value": " 11480/11490 [00:38&lt;00:00, 3462.56 examples/s]"
          }
        },
        "4c757e4616e042cbac99050fb28dc5ba": {
          "model_module": "@jupyter-widgets/base",
          "model_name": "LayoutModel",
          "model_module_version": "1.2.0",
          "state": {
            "_model_module": "@jupyter-widgets/base",
            "_model_module_version": "1.2.0",
            "_model_name": "LayoutModel",
            "_view_count": null,
            "_view_module": "@jupyter-widgets/base",
            "_view_module_version": "1.2.0",
            "_view_name": "LayoutView",
            "align_content": null,
            "align_items": null,
            "align_self": null,
            "border": null,
            "bottom": null,
            "display": null,
            "flex": null,
            "flex_flow": null,
            "grid_area": null,
            "grid_auto_columns": null,
            "grid_auto_flow": null,
            "grid_auto_rows": null,
            "grid_column": null,
            "grid_gap": null,
            "grid_row": null,
            "grid_template_areas": null,
            "grid_template_columns": null,
            "grid_template_rows": null,
            "height": null,
            "justify_content": null,
            "justify_items": null,
            "left": null,
            "margin": null,
            "max_height": null,
            "max_width": null,
            "min_height": null,
            "min_width": null,
            "object_fit": null,
            "object_position": null,
            "order": null,
            "overflow": null,
            "overflow_x": null,
            "overflow_y": null,
            "padding": null,
            "right": null,
            "top": null,
            "visibility": "hidden",
            "width": null
          }
        },
        "31e6f745978b41398f73932ca5659a91": {
          "model_module": "@jupyter-widgets/base",
          "model_name": "LayoutModel",
          "model_module_version": "1.2.0",
          "state": {
            "_model_module": "@jupyter-widgets/base",
            "_model_module_version": "1.2.0",
            "_model_name": "LayoutModel",
            "_view_count": null,
            "_view_module": "@jupyter-widgets/base",
            "_view_module_version": "1.2.0",
            "_view_name": "LayoutView",
            "align_content": null,
            "align_items": null,
            "align_self": null,
            "border": null,
            "bottom": null,
            "display": null,
            "flex": null,
            "flex_flow": null,
            "grid_area": null,
            "grid_auto_columns": null,
            "grid_auto_flow": null,
            "grid_auto_rows": null,
            "grid_column": null,
            "grid_gap": null,
            "grid_row": null,
            "grid_template_areas": null,
            "grid_template_columns": null,
            "grid_template_rows": null,
            "height": null,
            "justify_content": null,
            "justify_items": null,
            "left": null,
            "margin": null,
            "max_height": null,
            "max_width": null,
            "min_height": null,
            "min_width": null,
            "object_fit": null,
            "object_position": null,
            "order": null,
            "overflow": null,
            "overflow_x": null,
            "overflow_y": null,
            "padding": null,
            "right": null,
            "top": null,
            "visibility": null,
            "width": null
          }
        },
        "9db1fe0c3d9c4e379f28cd6b41028716": {
          "model_module": "@jupyter-widgets/controls",
          "model_name": "DescriptionStyleModel",
          "model_module_version": "1.5.0",
          "state": {
            "_model_module": "@jupyter-widgets/controls",
            "_model_module_version": "1.5.0",
            "_model_name": "DescriptionStyleModel",
            "_view_count": null,
            "_view_module": "@jupyter-widgets/base",
            "_view_module_version": "1.2.0",
            "_view_name": "StyleView",
            "description_width": ""
          }
        },
        "250ea21d9da2448495a03b7667590fc9": {
          "model_module": "@jupyter-widgets/base",
          "model_name": "LayoutModel",
          "model_module_version": "1.2.0",
          "state": {
            "_model_module": "@jupyter-widgets/base",
            "_model_module_version": "1.2.0",
            "_model_name": "LayoutModel",
            "_view_count": null,
            "_view_module": "@jupyter-widgets/base",
            "_view_module_version": "1.2.0",
            "_view_name": "LayoutView",
            "align_content": null,
            "align_items": null,
            "align_self": null,
            "border": null,
            "bottom": null,
            "display": null,
            "flex": null,
            "flex_flow": null,
            "grid_area": null,
            "grid_auto_columns": null,
            "grid_auto_flow": null,
            "grid_auto_rows": null,
            "grid_column": null,
            "grid_gap": null,
            "grid_row": null,
            "grid_template_areas": null,
            "grid_template_columns": null,
            "grid_template_rows": null,
            "height": null,
            "justify_content": null,
            "justify_items": null,
            "left": null,
            "margin": null,
            "max_height": null,
            "max_width": null,
            "min_height": null,
            "min_width": null,
            "object_fit": null,
            "object_position": null,
            "order": null,
            "overflow": null,
            "overflow_x": null,
            "overflow_y": null,
            "padding": null,
            "right": null,
            "top": null,
            "visibility": null,
            "width": null
          }
        },
        "76f94bc577584106a335a388656d4515": {
          "model_module": "@jupyter-widgets/controls",
          "model_name": "ProgressStyleModel",
          "model_module_version": "1.5.0",
          "state": {
            "_model_module": "@jupyter-widgets/controls",
            "_model_module_version": "1.5.0",
            "_model_name": "ProgressStyleModel",
            "_view_count": null,
            "_view_module": "@jupyter-widgets/base",
            "_view_module_version": "1.2.0",
            "_view_name": "StyleView",
            "bar_color": null,
            "description_width": ""
          }
        },
        "dc81932518b140fa93a1a930cb06df11": {
          "model_module": "@jupyter-widgets/base",
          "model_name": "LayoutModel",
          "model_module_version": "1.2.0",
          "state": {
            "_model_module": "@jupyter-widgets/base",
            "_model_module_version": "1.2.0",
            "_model_name": "LayoutModel",
            "_view_count": null,
            "_view_module": "@jupyter-widgets/base",
            "_view_module_version": "1.2.0",
            "_view_name": "LayoutView",
            "align_content": null,
            "align_items": null,
            "align_self": null,
            "border": null,
            "bottom": null,
            "display": null,
            "flex": null,
            "flex_flow": null,
            "grid_area": null,
            "grid_auto_columns": null,
            "grid_auto_flow": null,
            "grid_auto_rows": null,
            "grid_column": null,
            "grid_gap": null,
            "grid_row": null,
            "grid_template_areas": null,
            "grid_template_columns": null,
            "grid_template_rows": null,
            "height": null,
            "justify_content": null,
            "justify_items": null,
            "left": null,
            "margin": null,
            "max_height": null,
            "max_width": null,
            "min_height": null,
            "min_width": null,
            "object_fit": null,
            "object_position": null,
            "order": null,
            "overflow": null,
            "overflow_x": null,
            "overflow_y": null,
            "padding": null,
            "right": null,
            "top": null,
            "visibility": null,
            "width": null
          }
        },
        "90af78a412f342b1bf563e5689103216": {
          "model_module": "@jupyter-widgets/controls",
          "model_name": "DescriptionStyleModel",
          "model_module_version": "1.5.0",
          "state": {
            "_model_module": "@jupyter-widgets/controls",
            "_model_module_version": "1.5.0",
            "_model_name": "DescriptionStyleModel",
            "_view_count": null,
            "_view_module": "@jupyter-widgets/base",
            "_view_module_version": "1.2.0",
            "_view_name": "StyleView",
            "description_width": ""
          }
        },
        "24ba49b7ac734442a5e99236f599ed3f": {
          "model_module": "@jupyter-widgets/controls",
          "model_name": "HBoxModel",
          "model_module_version": "1.5.0",
          "state": {
            "_dom_classes": [],
            "_model_module": "@jupyter-widgets/controls",
            "_model_module_version": "1.5.0",
            "_model_name": "HBoxModel",
            "_view_count": null,
            "_view_module": "@jupyter-widgets/controls",
            "_view_module_version": "1.5.0",
            "_view_name": "HBoxView",
            "box_style": "",
            "children": [
              "IPY_MODEL_8c6e50ab2aa3415a9eda7a733b12e62f",
              "IPY_MODEL_bb2e7672eaef42919212421ba8898bf5",
              "IPY_MODEL_6090701da2214930a1aabe6aca44fe13"
            ],
            "layout": "IPY_MODEL_33a1ff5e81784049a8878aec2cf93074"
          }
        },
        "8c6e50ab2aa3415a9eda7a733b12e62f": {
          "model_module": "@jupyter-widgets/controls",
          "model_name": "HTMLModel",
          "model_module_version": "1.5.0",
          "state": {
            "_dom_classes": [],
            "_model_module": "@jupyter-widgets/controls",
            "_model_module_version": "1.5.0",
            "_model_name": "HTMLModel",
            "_view_count": null,
            "_view_module": "@jupyter-widgets/controls",
            "_view_module_version": "1.5.0",
            "_view_name": "HTMLView",
            "description": "",
            "description_tooltip": null,
            "layout": "IPY_MODEL_38a12d2312684be9848894fcfee949ec",
            "placeholder": "​",
            "style": "IPY_MODEL_d6465fe2bb844f90a50b6fad95c81c5a",
            "value": "Map:  96%"
          }
        },
        "bb2e7672eaef42919212421ba8898bf5": {
          "model_module": "@jupyter-widgets/controls",
          "model_name": "FloatProgressModel",
          "model_module_version": "1.5.0",
          "state": {
            "_dom_classes": [],
            "_model_module": "@jupyter-widgets/controls",
            "_model_module_version": "1.5.0",
            "_model_name": "FloatProgressModel",
            "_view_count": null,
            "_view_module": "@jupyter-widgets/controls",
            "_view_module_version": "1.5.0",
            "_view_name": "ProgressView",
            "bar_style": "",
            "description": "",
            "description_tooltip": null,
            "layout": "IPY_MODEL_f096861f2a9c4f40ace09382e8d54d94",
            "max": 11490,
            "min": 0,
            "orientation": "horizontal",
            "style": "IPY_MODEL_a274625046da44148bb9bf1ee924a9bc",
            "value": 11490
          }
        },
        "6090701da2214930a1aabe6aca44fe13": {
          "model_module": "@jupyter-widgets/controls",
          "model_name": "HTMLModel",
          "model_module_version": "1.5.0",
          "state": {
            "_dom_classes": [],
            "_model_module": "@jupyter-widgets/controls",
            "_model_module_version": "1.5.0",
            "_model_name": "HTMLModel",
            "_view_count": null,
            "_view_module": "@jupyter-widgets/controls",
            "_view_module_version": "1.5.0",
            "_view_name": "HTMLView",
            "description": "",
            "description_tooltip": null,
            "layout": "IPY_MODEL_d7860baa1b3049dda2b3ca673735593b",
            "placeholder": "​",
            "style": "IPY_MODEL_15736528a08544ef8ee648692439a4df",
            "value": " 11000/11490 [00:00&lt;00:00, 14102.78 examples/s]"
          }
        },
        "33a1ff5e81784049a8878aec2cf93074": {
          "model_module": "@jupyter-widgets/base",
          "model_name": "LayoutModel",
          "model_module_version": "1.2.0",
          "state": {
            "_model_module": "@jupyter-widgets/base",
            "_model_module_version": "1.2.0",
            "_model_name": "LayoutModel",
            "_view_count": null,
            "_view_module": "@jupyter-widgets/base",
            "_view_module_version": "1.2.0",
            "_view_name": "LayoutView",
            "align_content": null,
            "align_items": null,
            "align_self": null,
            "border": null,
            "bottom": null,
            "display": null,
            "flex": null,
            "flex_flow": null,
            "grid_area": null,
            "grid_auto_columns": null,
            "grid_auto_flow": null,
            "grid_auto_rows": null,
            "grid_column": null,
            "grid_gap": null,
            "grid_row": null,
            "grid_template_areas": null,
            "grid_template_columns": null,
            "grid_template_rows": null,
            "height": null,
            "justify_content": null,
            "justify_items": null,
            "left": null,
            "margin": null,
            "max_height": null,
            "max_width": null,
            "min_height": null,
            "min_width": null,
            "object_fit": null,
            "object_position": null,
            "order": null,
            "overflow": null,
            "overflow_x": null,
            "overflow_y": null,
            "padding": null,
            "right": null,
            "top": null,
            "visibility": "hidden",
            "width": null
          }
        },
        "38a12d2312684be9848894fcfee949ec": {
          "model_module": "@jupyter-widgets/base",
          "model_name": "LayoutModel",
          "model_module_version": "1.2.0",
          "state": {
            "_model_module": "@jupyter-widgets/base",
            "_model_module_version": "1.2.0",
            "_model_name": "LayoutModel",
            "_view_count": null,
            "_view_module": "@jupyter-widgets/base",
            "_view_module_version": "1.2.0",
            "_view_name": "LayoutView",
            "align_content": null,
            "align_items": null,
            "align_self": null,
            "border": null,
            "bottom": null,
            "display": null,
            "flex": null,
            "flex_flow": null,
            "grid_area": null,
            "grid_auto_columns": null,
            "grid_auto_flow": null,
            "grid_auto_rows": null,
            "grid_column": null,
            "grid_gap": null,
            "grid_row": null,
            "grid_template_areas": null,
            "grid_template_columns": null,
            "grid_template_rows": null,
            "height": null,
            "justify_content": null,
            "justify_items": null,
            "left": null,
            "margin": null,
            "max_height": null,
            "max_width": null,
            "min_height": null,
            "min_width": null,
            "object_fit": null,
            "object_position": null,
            "order": null,
            "overflow": null,
            "overflow_x": null,
            "overflow_y": null,
            "padding": null,
            "right": null,
            "top": null,
            "visibility": null,
            "width": null
          }
        },
        "d6465fe2bb844f90a50b6fad95c81c5a": {
          "model_module": "@jupyter-widgets/controls",
          "model_name": "DescriptionStyleModel",
          "model_module_version": "1.5.0",
          "state": {
            "_model_module": "@jupyter-widgets/controls",
            "_model_module_version": "1.5.0",
            "_model_name": "DescriptionStyleModel",
            "_view_count": null,
            "_view_module": "@jupyter-widgets/base",
            "_view_module_version": "1.2.0",
            "_view_name": "StyleView",
            "description_width": ""
          }
        },
        "f096861f2a9c4f40ace09382e8d54d94": {
          "model_module": "@jupyter-widgets/base",
          "model_name": "LayoutModel",
          "model_module_version": "1.2.0",
          "state": {
            "_model_module": "@jupyter-widgets/base",
            "_model_module_version": "1.2.0",
            "_model_name": "LayoutModel",
            "_view_count": null,
            "_view_module": "@jupyter-widgets/base",
            "_view_module_version": "1.2.0",
            "_view_name": "LayoutView",
            "align_content": null,
            "align_items": null,
            "align_self": null,
            "border": null,
            "bottom": null,
            "display": null,
            "flex": null,
            "flex_flow": null,
            "grid_area": null,
            "grid_auto_columns": null,
            "grid_auto_flow": null,
            "grid_auto_rows": null,
            "grid_column": null,
            "grid_gap": null,
            "grid_row": null,
            "grid_template_areas": null,
            "grid_template_columns": null,
            "grid_template_rows": null,
            "height": null,
            "justify_content": null,
            "justify_items": null,
            "left": null,
            "margin": null,
            "max_height": null,
            "max_width": null,
            "min_height": null,
            "min_width": null,
            "object_fit": null,
            "object_position": null,
            "order": null,
            "overflow": null,
            "overflow_x": null,
            "overflow_y": null,
            "padding": null,
            "right": null,
            "top": null,
            "visibility": null,
            "width": null
          }
        },
        "a274625046da44148bb9bf1ee924a9bc": {
          "model_module": "@jupyter-widgets/controls",
          "model_name": "ProgressStyleModel",
          "model_module_version": "1.5.0",
          "state": {
            "_model_module": "@jupyter-widgets/controls",
            "_model_module_version": "1.5.0",
            "_model_name": "ProgressStyleModel",
            "_view_count": null,
            "_view_module": "@jupyter-widgets/base",
            "_view_module_version": "1.2.0",
            "_view_name": "StyleView",
            "bar_color": null,
            "description_width": ""
          }
        },
        "d7860baa1b3049dda2b3ca673735593b": {
          "model_module": "@jupyter-widgets/base",
          "model_name": "LayoutModel",
          "model_module_version": "1.2.0",
          "state": {
            "_model_module": "@jupyter-widgets/base",
            "_model_module_version": "1.2.0",
            "_model_name": "LayoutModel",
            "_view_count": null,
            "_view_module": "@jupyter-widgets/base",
            "_view_module_version": "1.2.0",
            "_view_name": "LayoutView",
            "align_content": null,
            "align_items": null,
            "align_self": null,
            "border": null,
            "bottom": null,
            "display": null,
            "flex": null,
            "flex_flow": null,
            "grid_area": null,
            "grid_auto_columns": null,
            "grid_auto_flow": null,
            "grid_auto_rows": null,
            "grid_column": null,
            "grid_gap": null,
            "grid_row": null,
            "grid_template_areas": null,
            "grid_template_columns": null,
            "grid_template_rows": null,
            "height": null,
            "justify_content": null,
            "justify_items": null,
            "left": null,
            "margin": null,
            "max_height": null,
            "max_width": null,
            "min_height": null,
            "min_width": null,
            "object_fit": null,
            "object_position": null,
            "order": null,
            "overflow": null,
            "overflow_x": null,
            "overflow_y": null,
            "padding": null,
            "right": null,
            "top": null,
            "visibility": null,
            "width": null
          }
        },
        "15736528a08544ef8ee648692439a4df": {
          "model_module": "@jupyter-widgets/controls",
          "model_name": "DescriptionStyleModel",
          "model_module_version": "1.5.0",
          "state": {
            "_model_module": "@jupyter-widgets/controls",
            "_model_module_version": "1.5.0",
            "_model_name": "DescriptionStyleModel",
            "_view_count": null,
            "_view_module": "@jupyter-widgets/base",
            "_view_module_version": "1.2.0",
            "_view_name": "StyleView",
            "description_width": ""
          }
        },
        "205bf08208654b0d8270d67b2c4d4216": {
          "model_module": "@jupyter-widgets/controls",
          "model_name": "HBoxModel",
          "model_module_version": "1.5.0",
          "state": {
            "_dom_classes": [],
            "_model_module": "@jupyter-widgets/controls",
            "_model_module_version": "1.5.0",
            "_model_name": "HBoxModel",
            "_view_count": null,
            "_view_module": "@jupyter-widgets/controls",
            "_view_module_version": "1.5.0",
            "_view_name": "HBoxView",
            "box_style": "",
            "children": [
              "IPY_MODEL_d8355f01691b43f29d6338658677429e",
              "IPY_MODEL_0b02dd0772ae46c39e1b0d030be97e44",
              "IPY_MODEL_a8a9601352fc49e1b92d588364834fb8"
            ],
            "layout": "IPY_MODEL_a7438834aaee44fb80b4d18807486ad4"
          }
        },
        "d8355f01691b43f29d6338658677429e": {
          "model_module": "@jupyter-widgets/controls",
          "model_name": "HTMLModel",
          "model_module_version": "1.5.0",
          "state": {
            "_dom_classes": [],
            "_model_module": "@jupyter-widgets/controls",
            "_model_module_version": "1.5.0",
            "_model_name": "HTMLModel",
            "_view_count": null,
            "_view_module": "@jupyter-widgets/controls",
            "_view_module_version": "1.5.0",
            "_view_name": "HTMLView",
            "description": "",
            "description_tooltip": null,
            "layout": "IPY_MODEL_c04d4e57af644e6583c1620a16256e79",
            "placeholder": "​",
            "style": "IPY_MODEL_3c92afb5fc7d48dfb964aa48edf816cf",
            "value": "Downloading builder script: 100%"
          }
        },
        "0b02dd0772ae46c39e1b0d030be97e44": {
          "model_module": "@jupyter-widgets/controls",
          "model_name": "FloatProgressModel",
          "model_module_version": "1.5.0",
          "state": {
            "_dom_classes": [],
            "_model_module": "@jupyter-widgets/controls",
            "_model_module_version": "1.5.0",
            "_model_name": "FloatProgressModel",
            "_view_count": null,
            "_view_module": "@jupyter-widgets/controls",
            "_view_module_version": "1.5.0",
            "_view_name": "ProgressView",
            "bar_style": "success",
            "description": "",
            "description_tooltip": null,
            "layout": "IPY_MODEL_7628283038314dc3b2d0beb6dc031edb",
            "max": 8460,
            "min": 0,
            "orientation": "horizontal",
            "style": "IPY_MODEL_c3f63dd33c8442c1a5c511f68cc51d36",
            "value": 8460
          }
        },
        "a8a9601352fc49e1b92d588364834fb8": {
          "model_module": "@jupyter-widgets/controls",
          "model_name": "HTMLModel",
          "model_module_version": "1.5.0",
          "state": {
            "_dom_classes": [],
            "_model_module": "@jupyter-widgets/controls",
            "_model_module_version": "1.5.0",
            "_model_name": "HTMLModel",
            "_view_count": null,
            "_view_module": "@jupyter-widgets/controls",
            "_view_module_version": "1.5.0",
            "_view_name": "HTMLView",
            "description": "",
            "description_tooltip": null,
            "layout": "IPY_MODEL_c0db656ff86f440988280febd3cbce44",
            "placeholder": "​",
            "style": "IPY_MODEL_363a99ef74364fd998cc9f8685344e92",
            "value": " 8.46k/8.46k [00:00&lt;00:00, 212kB/s]"
          }
        },
        "a7438834aaee44fb80b4d18807486ad4": {
          "model_module": "@jupyter-widgets/base",
          "model_name": "LayoutModel",
          "model_module_version": "1.2.0",
          "state": {
            "_model_module": "@jupyter-widgets/base",
            "_model_module_version": "1.2.0",
            "_model_name": "LayoutModel",
            "_view_count": null,
            "_view_module": "@jupyter-widgets/base",
            "_view_module_version": "1.2.0",
            "_view_name": "LayoutView",
            "align_content": null,
            "align_items": null,
            "align_self": null,
            "border": null,
            "bottom": null,
            "display": null,
            "flex": null,
            "flex_flow": null,
            "grid_area": null,
            "grid_auto_columns": null,
            "grid_auto_flow": null,
            "grid_auto_rows": null,
            "grid_column": null,
            "grid_gap": null,
            "grid_row": null,
            "grid_template_areas": null,
            "grid_template_columns": null,
            "grid_template_rows": null,
            "height": null,
            "justify_content": null,
            "justify_items": null,
            "left": null,
            "margin": null,
            "max_height": null,
            "max_width": null,
            "min_height": null,
            "min_width": null,
            "object_fit": null,
            "object_position": null,
            "order": null,
            "overflow": null,
            "overflow_x": null,
            "overflow_y": null,
            "padding": null,
            "right": null,
            "top": null,
            "visibility": null,
            "width": null
          }
        },
        "c04d4e57af644e6583c1620a16256e79": {
          "model_module": "@jupyter-widgets/base",
          "model_name": "LayoutModel",
          "model_module_version": "1.2.0",
          "state": {
            "_model_module": "@jupyter-widgets/base",
            "_model_module_version": "1.2.0",
            "_model_name": "LayoutModel",
            "_view_count": null,
            "_view_module": "@jupyter-widgets/base",
            "_view_module_version": "1.2.0",
            "_view_name": "LayoutView",
            "align_content": null,
            "align_items": null,
            "align_self": null,
            "border": null,
            "bottom": null,
            "display": null,
            "flex": null,
            "flex_flow": null,
            "grid_area": null,
            "grid_auto_columns": null,
            "grid_auto_flow": null,
            "grid_auto_rows": null,
            "grid_column": null,
            "grid_gap": null,
            "grid_row": null,
            "grid_template_areas": null,
            "grid_template_columns": null,
            "grid_template_rows": null,
            "height": null,
            "justify_content": null,
            "justify_items": null,
            "left": null,
            "margin": null,
            "max_height": null,
            "max_width": null,
            "min_height": null,
            "min_width": null,
            "object_fit": null,
            "object_position": null,
            "order": null,
            "overflow": null,
            "overflow_x": null,
            "overflow_y": null,
            "padding": null,
            "right": null,
            "top": null,
            "visibility": null,
            "width": null
          }
        },
        "3c92afb5fc7d48dfb964aa48edf816cf": {
          "model_module": "@jupyter-widgets/controls",
          "model_name": "DescriptionStyleModel",
          "model_module_version": "1.5.0",
          "state": {
            "_model_module": "@jupyter-widgets/controls",
            "_model_module_version": "1.5.0",
            "_model_name": "DescriptionStyleModel",
            "_view_count": null,
            "_view_module": "@jupyter-widgets/base",
            "_view_module_version": "1.2.0",
            "_view_name": "StyleView",
            "description_width": ""
          }
        },
        "7628283038314dc3b2d0beb6dc031edb": {
          "model_module": "@jupyter-widgets/base",
          "model_name": "LayoutModel",
          "model_module_version": "1.2.0",
          "state": {
            "_model_module": "@jupyter-widgets/base",
            "_model_module_version": "1.2.0",
            "_model_name": "LayoutModel",
            "_view_count": null,
            "_view_module": "@jupyter-widgets/base",
            "_view_module_version": "1.2.0",
            "_view_name": "LayoutView",
            "align_content": null,
            "align_items": null,
            "align_self": null,
            "border": null,
            "bottom": null,
            "display": null,
            "flex": null,
            "flex_flow": null,
            "grid_area": null,
            "grid_auto_columns": null,
            "grid_auto_flow": null,
            "grid_auto_rows": null,
            "grid_column": null,
            "grid_gap": null,
            "grid_row": null,
            "grid_template_areas": null,
            "grid_template_columns": null,
            "grid_template_rows": null,
            "height": null,
            "justify_content": null,
            "justify_items": null,
            "left": null,
            "margin": null,
            "max_height": null,
            "max_width": null,
            "min_height": null,
            "min_width": null,
            "object_fit": null,
            "object_position": null,
            "order": null,
            "overflow": null,
            "overflow_x": null,
            "overflow_y": null,
            "padding": null,
            "right": null,
            "top": null,
            "visibility": null,
            "width": null
          }
        },
        "c3f63dd33c8442c1a5c511f68cc51d36": {
          "model_module": "@jupyter-widgets/controls",
          "model_name": "ProgressStyleModel",
          "model_module_version": "1.5.0",
          "state": {
            "_model_module": "@jupyter-widgets/controls",
            "_model_module_version": "1.5.0",
            "_model_name": "ProgressStyleModel",
            "_view_count": null,
            "_view_module": "@jupyter-widgets/base",
            "_view_module_version": "1.2.0",
            "_view_name": "StyleView",
            "bar_color": null,
            "description_width": ""
          }
        },
        "c0db656ff86f440988280febd3cbce44": {
          "model_module": "@jupyter-widgets/base",
          "model_name": "LayoutModel",
          "model_module_version": "1.2.0",
          "state": {
            "_model_module": "@jupyter-widgets/base",
            "_model_module_version": "1.2.0",
            "_model_name": "LayoutModel",
            "_view_count": null,
            "_view_module": "@jupyter-widgets/base",
            "_view_module_version": "1.2.0",
            "_view_name": "LayoutView",
            "align_content": null,
            "align_items": null,
            "align_self": null,
            "border": null,
            "bottom": null,
            "display": null,
            "flex": null,
            "flex_flow": null,
            "grid_area": null,
            "grid_auto_columns": null,
            "grid_auto_flow": null,
            "grid_auto_rows": null,
            "grid_column": null,
            "grid_gap": null,
            "grid_row": null,
            "grid_template_areas": null,
            "grid_template_columns": null,
            "grid_template_rows": null,
            "height": null,
            "justify_content": null,
            "justify_items": null,
            "left": null,
            "margin": null,
            "max_height": null,
            "max_width": null,
            "min_height": null,
            "min_width": null,
            "object_fit": null,
            "object_position": null,
            "order": null,
            "overflow": null,
            "overflow_x": null,
            "overflow_y": null,
            "padding": null,
            "right": null,
            "top": null,
            "visibility": null,
            "width": null
          }
        },
        "363a99ef74364fd998cc9f8685344e92": {
          "model_module": "@jupyter-widgets/controls",
          "model_name": "DescriptionStyleModel",
          "model_module_version": "1.5.0",
          "state": {
            "_model_module": "@jupyter-widgets/controls",
            "_model_module_version": "1.5.0",
            "_model_name": "DescriptionStyleModel",
            "_view_count": null,
            "_view_module": "@jupyter-widgets/base",
            "_view_module_version": "1.2.0",
            "_view_name": "StyleView",
            "description_width": ""
          }
        },
        "3cc7236c61dc4aba95c7ced8f5ed6167": {
          "model_module": "@jupyter-widgets/controls",
          "model_name": "HBoxModel",
          "model_module_version": "1.5.0",
          "state": {
            "_dom_classes": [],
            "_model_module": "@jupyter-widgets/controls",
            "_model_module_version": "1.5.0",
            "_model_name": "HBoxModel",
            "_view_count": null,
            "_view_module": "@jupyter-widgets/controls",
            "_view_module_version": "1.5.0",
            "_view_name": "HBoxView",
            "box_style": "",
            "children": [
              "IPY_MODEL_7e4f2146fa2445129db6100c9588e2e1",
              "IPY_MODEL_4f23853c642946cfa07bc5e81c1ba4b4",
              "IPY_MODEL_b82df727a9164797a2af1c4653726bb8"
            ],
            "layout": "IPY_MODEL_aabce05575d444c895a85fb5d0875b79"
          }
        },
        "7e4f2146fa2445129db6100c9588e2e1": {
          "model_module": "@jupyter-widgets/controls",
          "model_name": "HTMLModel",
          "model_module_version": "1.5.0",
          "state": {
            "_dom_classes": [],
            "_model_module": "@jupyter-widgets/controls",
            "_model_module_version": "1.5.0",
            "_model_name": "HTMLModel",
            "_view_count": null,
            "_view_module": "@jupyter-widgets/controls",
            "_view_module_version": "1.5.0",
            "_view_name": "HTMLView",
            "description": "",
            "description_tooltip": null,
            "layout": "IPY_MODEL_e5fa5de89762401fad0e47decebc321a",
            "placeholder": "​",
            "style": "IPY_MODEL_4f44b351fc74484fb2b88d60e99a3a74",
            "value": "100%"
          }
        },
        "4f23853c642946cfa07bc5e81c1ba4b4": {
          "model_module": "@jupyter-widgets/controls",
          "model_name": "FloatProgressModel",
          "model_module_version": "1.5.0",
          "state": {
            "_dom_classes": [],
            "_model_module": "@jupyter-widgets/controls",
            "_model_module_version": "1.5.0",
            "_model_name": "FloatProgressModel",
            "_view_count": null,
            "_view_module": "@jupyter-widgets/controls",
            "_view_module_version": "1.5.0",
            "_view_name": "ProgressView",
            "bar_style": "success",
            "description": "",
            "description_tooltip": null,
            "layout": "IPY_MODEL_ace12294ef8a4478a8226f881c387596",
            "max": 63,
            "min": 0,
            "orientation": "horizontal",
            "style": "IPY_MODEL_7e3725470bd24fc18d9de65b989c4980",
            "value": 63
          }
        },
        "b82df727a9164797a2af1c4653726bb8": {
          "model_module": "@jupyter-widgets/controls",
          "model_name": "HTMLModel",
          "model_module_version": "1.5.0",
          "state": {
            "_dom_classes": [],
            "_model_module": "@jupyter-widgets/controls",
            "_model_module_version": "1.5.0",
            "_model_name": "HTMLModel",
            "_view_count": null,
            "_view_module": "@jupyter-widgets/controls",
            "_view_module_version": "1.5.0",
            "_view_name": "HTMLView",
            "description": "",
            "description_tooltip": null,
            "layout": "IPY_MODEL_faeae1e0872e4687a367e282111cfbec",
            "placeholder": "​",
            "style": "IPY_MODEL_8520a994d7e143d29cb022ed1b38a4ee",
            "value": " 63/63 [00:10&lt;00:00,  6.49it/s]"
          }
        },
        "aabce05575d444c895a85fb5d0875b79": {
          "model_module": "@jupyter-widgets/base",
          "model_name": "LayoutModel",
          "model_module_version": "1.2.0",
          "state": {
            "_model_module": "@jupyter-widgets/base",
            "_model_module_version": "1.2.0",
            "_model_name": "LayoutModel",
            "_view_count": null,
            "_view_module": "@jupyter-widgets/base",
            "_view_module_version": "1.2.0",
            "_view_name": "LayoutView",
            "align_content": null,
            "align_items": null,
            "align_self": null,
            "border": null,
            "bottom": null,
            "display": null,
            "flex": null,
            "flex_flow": null,
            "grid_area": null,
            "grid_auto_columns": null,
            "grid_auto_flow": null,
            "grid_auto_rows": null,
            "grid_column": null,
            "grid_gap": null,
            "grid_row": null,
            "grid_template_areas": null,
            "grid_template_columns": null,
            "grid_template_rows": null,
            "height": null,
            "justify_content": null,
            "justify_items": null,
            "left": null,
            "margin": null,
            "max_height": null,
            "max_width": null,
            "min_height": null,
            "min_width": null,
            "object_fit": null,
            "object_position": null,
            "order": null,
            "overflow": null,
            "overflow_x": null,
            "overflow_y": null,
            "padding": null,
            "right": null,
            "top": null,
            "visibility": null,
            "width": null
          }
        },
        "e5fa5de89762401fad0e47decebc321a": {
          "model_module": "@jupyter-widgets/base",
          "model_name": "LayoutModel",
          "model_module_version": "1.2.0",
          "state": {
            "_model_module": "@jupyter-widgets/base",
            "_model_module_version": "1.2.0",
            "_model_name": "LayoutModel",
            "_view_count": null,
            "_view_module": "@jupyter-widgets/base",
            "_view_module_version": "1.2.0",
            "_view_name": "LayoutView",
            "align_content": null,
            "align_items": null,
            "align_self": null,
            "border": null,
            "bottom": null,
            "display": null,
            "flex": null,
            "flex_flow": null,
            "grid_area": null,
            "grid_auto_columns": null,
            "grid_auto_flow": null,
            "grid_auto_rows": null,
            "grid_column": null,
            "grid_gap": null,
            "grid_row": null,
            "grid_template_areas": null,
            "grid_template_columns": null,
            "grid_template_rows": null,
            "height": null,
            "justify_content": null,
            "justify_items": null,
            "left": null,
            "margin": null,
            "max_height": null,
            "max_width": null,
            "min_height": null,
            "min_width": null,
            "object_fit": null,
            "object_position": null,
            "order": null,
            "overflow": null,
            "overflow_x": null,
            "overflow_y": null,
            "padding": null,
            "right": null,
            "top": null,
            "visibility": null,
            "width": null
          }
        },
        "4f44b351fc74484fb2b88d60e99a3a74": {
          "model_module": "@jupyter-widgets/controls",
          "model_name": "DescriptionStyleModel",
          "model_module_version": "1.5.0",
          "state": {
            "_model_module": "@jupyter-widgets/controls",
            "_model_module_version": "1.5.0",
            "_model_name": "DescriptionStyleModel",
            "_view_count": null,
            "_view_module": "@jupyter-widgets/base",
            "_view_module_version": "1.2.0",
            "_view_name": "StyleView",
            "description_width": ""
          }
        },
        "ace12294ef8a4478a8226f881c387596": {
          "model_module": "@jupyter-widgets/base",
          "model_name": "LayoutModel",
          "model_module_version": "1.2.0",
          "state": {
            "_model_module": "@jupyter-widgets/base",
            "_model_module_version": "1.2.0",
            "_model_name": "LayoutModel",
            "_view_count": null,
            "_view_module": "@jupyter-widgets/base",
            "_view_module_version": "1.2.0",
            "_view_name": "LayoutView",
            "align_content": null,
            "align_items": null,
            "align_self": null,
            "border": null,
            "bottom": null,
            "display": null,
            "flex": null,
            "flex_flow": null,
            "grid_area": null,
            "grid_auto_columns": null,
            "grid_auto_flow": null,
            "grid_auto_rows": null,
            "grid_column": null,
            "grid_gap": null,
            "grid_row": null,
            "grid_template_areas": null,
            "grid_template_columns": null,
            "grid_template_rows": null,
            "height": null,
            "justify_content": null,
            "justify_items": null,
            "left": null,
            "margin": null,
            "max_height": null,
            "max_width": null,
            "min_height": null,
            "min_width": null,
            "object_fit": null,
            "object_position": null,
            "order": null,
            "overflow": null,
            "overflow_x": null,
            "overflow_y": null,
            "padding": null,
            "right": null,
            "top": null,
            "visibility": null,
            "width": null
          }
        },
        "7e3725470bd24fc18d9de65b989c4980": {
          "model_module": "@jupyter-widgets/controls",
          "model_name": "ProgressStyleModel",
          "model_module_version": "1.5.0",
          "state": {
            "_model_module": "@jupyter-widgets/controls",
            "_model_module_version": "1.5.0",
            "_model_name": "ProgressStyleModel",
            "_view_count": null,
            "_view_module": "@jupyter-widgets/base",
            "_view_module_version": "1.2.0",
            "_view_name": "StyleView",
            "bar_color": null,
            "description_width": ""
          }
        },
        "faeae1e0872e4687a367e282111cfbec": {
          "model_module": "@jupyter-widgets/base",
          "model_name": "LayoutModel",
          "model_module_version": "1.2.0",
          "state": {
            "_model_module": "@jupyter-widgets/base",
            "_model_module_version": "1.2.0",
            "_model_name": "LayoutModel",
            "_view_count": null,
            "_view_module": "@jupyter-widgets/base",
            "_view_module_version": "1.2.0",
            "_view_name": "LayoutView",
            "align_content": null,
            "align_items": null,
            "align_self": null,
            "border": null,
            "bottom": null,
            "display": null,
            "flex": null,
            "flex_flow": null,
            "grid_area": null,
            "grid_auto_columns": null,
            "grid_auto_flow": null,
            "grid_auto_rows": null,
            "grid_column": null,
            "grid_gap": null,
            "grid_row": null,
            "grid_template_areas": null,
            "grid_template_columns": null,
            "grid_template_rows": null,
            "height": null,
            "justify_content": null,
            "justify_items": null,
            "left": null,
            "margin": null,
            "max_height": null,
            "max_width": null,
            "min_height": null,
            "min_width": null,
            "object_fit": null,
            "object_position": null,
            "order": null,
            "overflow": null,
            "overflow_x": null,
            "overflow_y": null,
            "padding": null,
            "right": null,
            "top": null,
            "visibility": null,
            "width": null
          }
        },
        "8520a994d7e143d29cb022ed1b38a4ee": {
          "model_module": "@jupyter-widgets/controls",
          "model_name": "DescriptionStyleModel",
          "model_module_version": "1.5.0",
          "state": {
            "_model_module": "@jupyter-widgets/controls",
            "_model_module_version": "1.5.0",
            "_model_name": "DescriptionStyleModel",
            "_view_count": null,
            "_view_module": "@jupyter-widgets/base",
            "_view_module_version": "1.2.0",
            "_view_name": "StyleView",
            "description_width": ""
          }
        }
      }
    }
  },
  "cells": [
    {
      "cell_type": "code",
      "execution_count": 103,
      "metadata": {
        "id": "gqaI_5Ylovno",
        "colab": {
          "base_uri": "https://localhost:8080/"
        },
        "outputId": "ba033461-9178-4553-b97f-1688b4fd7414"
      },
      "outputs": [
        {
          "output_type": "stream",
          "name": "stdout",
          "text": [
            "  Preparing metadata (setup.py) ... \u001b[?25l\u001b[?25hdone\n",
            "  Building wheel for rouge_score (setup.py) ... \u001b[?25l\u001b[?25hdone\n"
          ]
        }
      ],
      "source": [
        "!pip install --quiet transformers datasets sentencepiece evaluate rouge_score"
      ]
    },
    {
      "cell_type": "markdown",
      "source": [
        "# Importing Libraries"
      ],
      "metadata": {
        "id": "_HUHjuofo5v2"
      }
    },
    {
      "cell_type": "code",
      "source": [
        "from datasets import load_dataset_builder, load_dataset, Dataset\n",
        "import transformers\n",
        "from transformers import GPT2Config, GPT2Model, GPT2Tokenizer, GPT2LMHeadModel\n",
        "import torch\n",
        "from torch.utils.data import DataLoader\n",
        "import gc\n",
        "\n",
        "import matplotlib.pyplot as plt\n",
        "import numpy as np\n",
        "from sklearn import metrics\n",
        "\n",
        "import evaluate\n",
        "import warnings"
      ],
      "metadata": {
        "id": "Oiuetj0fo7EL"
      },
      "execution_count": 2,
      "outputs": []
    },
    {
      "cell_type": "markdown",
      "source": [
        "# Model"
      ],
      "metadata": {
        "id": "F-oICT8BpZOZ"
      }
    },
    {
      "cell_type": "code",
      "source": [
        "device = \"cuda\" if torch.cuda.is_available() else \"cpu\"\n",
        "\n",
        "model_name = \"gpt2\"\n",
        "tokenizer = GPT2Tokenizer.from_pretrained(model_name)\n",
        "tokenizer.pad_token = tokenizer.eos_token      # tokenizer does not have a padding token by default. ref: https://github.com/huggingface/transformers/issues/2630#issuecomment-1290809338\n",
        "tokenizer.padding_side = \"left\"\n",
        "\n",
        "# configuration = GPT2Config()\n",
        "# model = GPT2Model(configuration)\n",
        "# configuration = model.config\n",
        "\n",
        "# model = GPT2Model.from_pretrained(model_name).to(device)\n",
        "model = GPT2LMHeadModel.from_pretrained(model_name).to(device)\n",
        "\n",
        "model.eval()"
      ],
      "metadata": {
        "colab": {
          "base_uri": "https://localhost:8080/"
        },
        "id": "DwGe0b3OpaAV",
        "outputId": "7c8c0534-2d7c-4123-be65-37eb0f6b72b5"
      },
      "execution_count": 3,
      "outputs": [
        {
          "output_type": "execute_result",
          "data": {
            "text/plain": [
              "GPT2LMHeadModel(\n",
              "  (transformer): GPT2Model(\n",
              "    (wte): Embedding(50257, 768)\n",
              "    (wpe): Embedding(1024, 768)\n",
              "    (drop): Dropout(p=0.1, inplace=False)\n",
              "    (h): ModuleList(\n",
              "      (0-11): 12 x GPT2Block(\n",
              "        (ln_1): LayerNorm((768,), eps=1e-05, elementwise_affine=True)\n",
              "        (attn): GPT2Attention(\n",
              "          (c_attn): Conv1D()\n",
              "          (c_proj): Conv1D()\n",
              "          (attn_dropout): Dropout(p=0.1, inplace=False)\n",
              "          (resid_dropout): Dropout(p=0.1, inplace=False)\n",
              "        )\n",
              "        (ln_2): LayerNorm((768,), eps=1e-05, elementwise_affine=True)\n",
              "        (mlp): GPT2MLP(\n",
              "          (c_fc): Conv1D()\n",
              "          (c_proj): Conv1D()\n",
              "          (act): NewGELUActivation()\n",
              "          (dropout): Dropout(p=0.1, inplace=False)\n",
              "        )\n",
              "      )\n",
              "    )\n",
              "    (ln_f): LayerNorm((768,), eps=1e-05, elementwise_affine=True)\n",
              "  )\n",
              "  (lm_head): Linear(in_features=768, out_features=50257, bias=False)\n",
              ")"
            ]
          },
          "metadata": {},
          "execution_count": 3
        }
      ]
    },
    {
      "cell_type": "code",
      "source": [
        "model.config"
      ],
      "metadata": {
        "colab": {
          "base_uri": "https://localhost:8080/"
        },
        "id": "hziPcqrvtFuJ",
        "outputId": "2b031f7f-7457-4530-eb45-459dff9333a7"
      },
      "execution_count": 4,
      "outputs": [
        {
          "output_type": "execute_result",
          "data": {
            "text/plain": [
              "GPT2Config {\n",
              "  \"_name_or_path\": \"gpt2\",\n",
              "  \"activation_function\": \"gelu_new\",\n",
              "  \"architectures\": [\n",
              "    \"GPT2LMHeadModel\"\n",
              "  ],\n",
              "  \"attn_pdrop\": 0.1,\n",
              "  \"bos_token_id\": 50256,\n",
              "  \"embd_pdrop\": 0.1,\n",
              "  \"eos_token_id\": 50256,\n",
              "  \"initializer_range\": 0.02,\n",
              "  \"layer_norm_epsilon\": 1e-05,\n",
              "  \"model_type\": \"gpt2\",\n",
              "  \"n_ctx\": 1024,\n",
              "  \"n_embd\": 768,\n",
              "  \"n_head\": 12,\n",
              "  \"n_inner\": null,\n",
              "  \"n_layer\": 12,\n",
              "  \"n_positions\": 1024,\n",
              "  \"reorder_and_upcast_attn\": false,\n",
              "  \"resid_pdrop\": 0.1,\n",
              "  \"scale_attn_by_inverse_layer_idx\": false,\n",
              "  \"scale_attn_weights\": true,\n",
              "  \"summary_activation\": null,\n",
              "  \"summary_first_dropout\": 0.1,\n",
              "  \"summary_proj_to_labels\": true,\n",
              "  \"summary_type\": \"cls_index\",\n",
              "  \"summary_use_proj\": true,\n",
              "  \"task_specific_params\": {\n",
              "    \"text-generation\": {\n",
              "      \"do_sample\": true,\n",
              "      \"max_length\": 50\n",
              "    }\n",
              "  },\n",
              "  \"transformers_version\": \"4.28.1\",\n",
              "  \"use_cache\": true,\n",
              "  \"vocab_size\": 50257\n",
              "}"
            ]
          },
          "metadata": {},
          "execution_count": 4
        }
      ]
    },
    {
      "cell_type": "markdown",
      "source": [
        "# Xsum Dataset"
      ],
      "metadata": {
        "id": "kY370Lt8t-py"
      }
    },
    {
      "cell_type": "markdown",
      "source": [
        "## Load Dataset"
      ],
      "metadata": {
        "id": "pyrMHHiprlz-"
      }
    },
    {
      "cell_type": "code",
      "source": [
        "ds_builder = load_dataset_builder(\"xsum\")\n",
        "print(ds_builder.info.description)\n",
        "print(ds_builder.info.features)"
      ],
      "metadata": {
        "colab": {
          "base_uri": "https://localhost:8080/"
        },
        "id": "1L9tjLv8uA1O",
        "outputId": "ed59b5ac-ca35-407f-a6e8-42e532682a2e"
      },
      "execution_count": 5,
      "outputs": [
        {
          "output_type": "stream",
          "name": "stdout",
          "text": [
            "\n",
            "Extreme Summarization (XSum) Dataset.\n",
            "\n",
            "There are three features:\n",
            "  - document: Input news article.\n",
            "  - summary: One sentence summary of the article.\n",
            "  - id: BBC ID of the article.\n",
            "\n",
            "\n",
            "{'document': Value(dtype='string', id=None), 'summary': Value(dtype='string', id=None), 'id': Value(dtype='string', id=None)}\n"
          ]
        }
      ]
    },
    {
      "cell_type": "code",
      "source": [
        "dataset = load_dataset(\"xsum\")\n",
        "dataset"
      ],
      "metadata": {
        "colab": {
          "base_uri": "https://localhost:8080/",
          "height": 839,
          "referenced_widgets": [
            "0f5dedc6a40b4d93a9e81366b6ad4ea3",
            "f8aefae11d784586bca4b7bc64b62f8d",
            "3ad9d7a447304dd889a510eee6fa6566",
            "c1a592df365b4fd4a94ed3347d938ab4",
            "1dd836eb486d43d19bed4b32eb6fdced",
            "c75574be7545427f9f3628e44a702b2e",
            "1c03c02fb80d4cc0802c5389e34ee6db",
            "769eaedce57b4694b17c3116bc102c12",
            "eecc0d53c92345f58345cf17d8df190b",
            "b319c81c5b7f4eb9ad8489d7a3756f8e",
            "ff7b9e3bdbb2457a954f9c0ae78e0dbf"
          ]
        },
        "id": "9lBdmBcEuFzn",
        "outputId": "a1fbade1-61dc-43b8-d203-3a026cdb4503"
      },
      "execution_count": 6,
      "outputs": [
        {
          "output_type": "stream",
          "name": "stderr",
          "text": [
            "WARNING:datasets.builder:Found cached dataset xsum (/root/.cache/huggingface/datasets/xsum/default/1.2.0/082863bf4754ee058a5b6f6525d0cb2b18eadb62c7b370b095d1364050a52b71)\n"
          ]
        },
        {
          "output_type": "display_data",
          "data": {
            "text/plain": [
              "  0%|          | 0/3 [00:00<?, ?it/s]"
            ],
            "application/vnd.jupyter.widget-view+json": {
              "version_major": 2,
              "version_minor": 0,
              "model_id": "0f5dedc6a40b4d93a9e81366b6ad4ea3"
            }
          },
          "metadata": {}
        },
        {
          "output_type": "execute_result",
          "data": {
            "text/plain": [
              "DatasetDict({\n",
              "    train: Dataset({\n",
              "        features: ['document', 'summary', 'id'],\n",
              "        num_rows: 204045\n",
              "    })\n",
              "    validation: Dataset({\n",
              "        features: ['document', 'summary', 'id'],\n",
              "        num_rows: 11332\n",
              "    })\n",
              "    test: Dataset({\n",
              "        features: ['document', 'summary', 'id'],\n",
              "        num_rows: 11334\n",
              "    })\n",
              "})"
            ]
          },
          "metadata": {},
          "execution_count": 6
        }
      ]
    },
    {
      "cell_type": "code",
      "source": [
        "print(dataset.column_names)"
      ],
      "metadata": {
        "colab": {
          "base_uri": "https://localhost:8080/"
        },
        "id": "Kl7b3aoM7K15",
        "outputId": "9124ff1a-ae14-44ed-f310-6b5e06f65156"
      },
      "execution_count": null,
      "outputs": [
        {
          "output_type": "stream",
          "name": "stdout",
          "text": [
            "{'train': ['document', 'summary', 'id'], 'validation': ['document', 'summary', 'id'], 'test': ['document', 'summary', 'id']}\n"
          ]
        }
      ]
    },
    {
      "cell_type": "code",
      "source": [
        "for k, v in dataset[\"train\"][0].items():\n",
        "    print(k,'=',v)\n",
        "    print()"
      ],
      "metadata": {
        "colab": {
          "base_uri": "https://localhost:8080/"
        },
        "id": "ahXGLS7suI-h",
        "outputId": "5725c726-e9dc-42aa-ef31-95b333039f0a"
      },
      "execution_count": null,
      "outputs": [
        {
          "output_type": "stream",
          "name": "stdout",
          "text": [
            "document = The full cost of damage in Newton Stewart, one of the areas worst affected, is still being assessed.\n",
            "Repair work is ongoing in Hawick and many roads in Peeblesshire remain badly affected by standing water.\n",
            "Trains on the west coast mainline face disruption due to damage at the Lamington Viaduct.\n",
            "Many businesses and householders were affected by flooding in Newton Stewart after the River Cree overflowed into the town.\n",
            "First Minister Nicola Sturgeon visited the area to inspect the damage.\n",
            "The waters breached a retaining wall, flooding many commercial properties on Victoria Street - the main shopping thoroughfare.\n",
            "Jeanette Tate, who owns the Cinnamon Cafe which was badly affected, said she could not fault the multi-agency response once the flood hit.\n",
            "However, she said more preventative work could have been carried out to ensure the retaining wall did not fail.\n",
            "\"It is difficult but I do think there is so much publicity for Dumfries and the Nith - and I totally appreciate that - but it is almost like we're neglected or forgotten,\" she said.\n",
            "\"That may not be true but it is perhaps my perspective over the last few days.\n",
            "\"Why were you not ready to help us a bit more when the warning and the alarm alerts had gone out?\"\n",
            "Meanwhile, a flood alert remains in place across the Borders because of the constant rain.\n",
            "Peebles was badly hit by problems, sparking calls to introduce more defences in the area.\n",
            "Scottish Borders Council has put a list on its website of the roads worst affected and drivers have been urged not to ignore closure signs.\n",
            "The Labour Party's deputy Scottish leader Alex Rowley was in Hawick on Monday to see the situation first hand.\n",
            "He said it was important to get the flood protection plan right but backed calls to speed up the process.\n",
            "\"I was quite taken aback by the amount of damage that has been done,\" he said.\n",
            "\"Obviously it is heart-breaking for people who have been forced out of their homes and the impact on businesses.\"\n",
            "He said it was important that \"immediate steps\" were taken to protect the areas most vulnerable and a clear timetable put in place for flood prevention plans.\n",
            "Have you been affected by flooding in Dumfries and Galloway or the Borders? Tell us about your experience of the situation and how it was handled. Email us on selkirk.news@bbc.co.uk or dumfries@bbc.co.uk.\n",
            "\n",
            "summary = Clean-up operations are continuing across the Scottish Borders and Dumfries and Galloway after flooding caused by Storm Frank.\n",
            "\n",
            "id = 35232142\n",
            "\n"
          ]
        }
      ]
    },
    {
      "cell_type": "markdown",
      "source": [
        "## Data Preprocessing"
      ],
      "metadata": {
        "id": "hQ77qxn5r3U3"
      }
    },
    {
      "cell_type": "code",
      "source": [
        "## GPT2 requires adding \"TL;DR\" at the end of input text to generate summaries\n",
        "\n",
        "def add_tldr(example):\n",
        "  example[\"document\"] = example[\"document\"] + \"\\nTL;DR\"\n",
        "  return example\n",
        "\n",
        "xsum_dataset = dataset[\"test\"].map(add_tldr)"
      ],
      "metadata": {
        "colab": {
          "base_uri": "https://localhost:8080/"
        },
        "id": "g2L9nQyTzRaD",
        "outputId": "9648c921-e6a2-4512-eb6c-5806984c9e6b"
      },
      "execution_count": 7,
      "outputs": [
        {
          "output_type": "stream",
          "name": "stderr",
          "text": [
            "WARNING:datasets.arrow_dataset:Loading cached processed dataset at /root/.cache/huggingface/datasets/xsum/default/1.2.0/082863bf4754ee058a5b6f6525d0cb2b18eadb62c7b370b095d1364050a52b71/cache-dab6379e811982a5.arrow\n"
          ]
        }
      ]
    },
    {
      "cell_type": "code",
      "source": [
        "for k, v in xsum_dataset[2500].items():\n",
        "  print(k, '=', v)\n",
        "  print()"
      ],
      "metadata": {
        "colab": {
          "base_uri": "https://localhost:8080/"
        },
        "id": "SkmNE6nj86A7",
        "outputId": "ba163011-51b3-47f5-d63f-f7bc9e4828f6"
      },
      "execution_count": null,
      "outputs": [
        {
          "output_type": "stream",
          "name": "stdout",
          "text": [
            "document = The 58-year-old plans to develop a giant aircraft that would put spaceships into orbit, rather than lifting them off from a launch pad.\n",
            "Other moguls are in the private space race, too, after Nasa this year ended its 30-year space shuttle programme.\n",
            "Virgin Galactic is working on a commercial space venture which aims to fly passengers into sub-orbit by 2013.\n",
            "Aerospace pioneer Burt Rutan is a partner on Mr Allen's project, which is called Stratolaunch Systems.\n",
            "The project is the latest to be led by Silicon Valley tycoons who think they spy a gap in demand opened by the retirement of the US government's space shuttle programme.\n",
            "While Nasa put rockets into space from a launch pad, the Stratolaunch plan is to launch unmanned rockets from high-flying aircraft, and eventually undertake manned missions too.\n",
            "The developers said their aircraft could ferry cargo for the commercial satellite industry and the International Space Station.\n",
            "The giant plane would be powered by six 747 jumbo jet engines and have a wingspan of 385ft (117m), developers said.\n",
            "It would be wider than the biggest aircraft ever, legendary Hollywood tycoon Howard Hughes' Spruce Goose.\n",
            "The first test flights are scheduled to begin in 2016.\n",
            "Mr Allen and Mr Rutan said that preliminary designs for the Stratolaunch aircraft have been put together over the course of 10 years.\n",
            "Construction has begun on a hangar in California's Mojave Desert, they said.\n",
            "In 2004 the duo created SpaceShipOne, a sub-orbital rocket that became the first privately financed, manned spaceship.\n",
            "\"When I was growing up, America's space programme was the symbol of aspiration,\" Mr Allen said at a news conference in Seattle.\n",
            "\"For me, the fascination with space never ended. I never stopped dreaming what might be possible.\"\n",
            "Stratolaunch's plane will carry a booster rocket on its belly, to be built by a space company owned by Elon Musk of PayPal, who has already built a successful commercial rocket.\n",
            "Other technology titans who have made forays into the private space industry include Jeff Bezos, founder of Amazon.com.\n",
            "British tycoon Richard Branson's Virgin Galactic aims to take passengers into sub-orbital space.\n",
            "Dropping rockets into space is not a new technique, but can offer more launch flexibility and minimise weather constraints, developers said.\n",
            "It can also save on rocket fuel.\n",
            "Orbital Sciences Corp, an older rocket company, has used this method of launching payloads such as unmanned rockets and satellites. TL;DR\n",
            "\n",
            "summary = Microsoft co-founder Paul Allen has announced plans to launch unmanned rockets and carry cargo into space.\n",
            "\n",
            "id = 16171482\n",
            "\n"
          ]
        }
      ]
    },
    {
      "cell_type": "code",
      "source": [
        "input = tokenizer(xsum_dataset[2500][\"document\"], truncation=True, padding=\"longest\", return_tensors=\"pt\").to(device)"
      ],
      "metadata": {
        "id": "t_D4GVpr_1x9"
      },
      "execution_count": null,
      "outputs": []
    },
    {
      "cell_type": "code",
      "source": [
        "for k, v in input.items():\n",
        "  print(k, '=', v)\n",
        "  print()"
      ],
      "metadata": {
        "colab": {
          "base_uri": "https://localhost:8080/"
        },
        "id": "om01NHqhAJFT",
        "outputId": "3f7b1efa-6ed1-475b-d6fc-86e0af21c121"
      },
      "execution_count": null,
      "outputs": [
        {
          "output_type": "stream",
          "name": "stdout",
          "text": [
            "input_ids = tensor([[  464,  7618,    12,  1941,    12,   727,  3352,   284,  1205,   257,\n",
            "          6175,  6215,   326,   561,  1234,  9029,  5748,   656, 13066,    11,\n",
            "          2138,   621, 16842,   606,   572,   422,   257,  4219, 14841,    13,\n",
            "           198,  6395, 32985,  5753,   389,   287,   262,  2839,  2272,  3234,\n",
            "            11,  1165,    11,   706, 48673,   428,   614,  4444,   663,  1542,\n",
            "            12,  1941,  2272, 20992, 11383,    13,   198, 34674, 23509,   318,\n",
            "          1762,   319,   257,  5068,  2272, 13189,   543, 12031,   284,  6129,\n",
            "         10405,   656,   850,    12, 42594,   416,  2211,    13,   198,    32,\n",
            "           263, 24912, 29570,   347,  3325, 21214,   272,   318,   257,  5212,\n",
            "           319,  1770,  9659,   338,  1628,    11,   543,   318,  1444, 29186,\n",
            "           349, 11429, 11998,    13,   198,   464,  1628,   318,   262,  3452,\n",
            "           284,   307,  2957,   416, 18210,  6916,  1259,  1073,   684,   508,\n",
            "           892,   484, 13997,   257,  7625,   287,  3512,  4721,   416,   262,\n",
            "         10737,   286,   262,  1294,  1230,   338,  2272, 20992, 11383,    13,\n",
            "           198,  3633, 48673,  1234, 20293,   656,  2272,   422,   257,  4219,\n",
            "         14841,    11,   262, 29186,   349, 11429,  1410,   318,   284,  4219,\n",
            "         35272, 20293,   422,  1029,    12, 45928,  6215,    11,   290,  4191,\n",
            "         25340, 34737, 10566,  1165,    13,   198,   464,  6505,   531,   511,\n",
            "          6215,   714, 26450, 15892,   329,   262,  5068, 11210,  2831,   290,\n",
            "           262,  4037,  4687,  9327,    13,   198,   464,  6175,  6614,   561,\n",
            "           307, 13232,   416,  2237, 45600,   474, 29309, 12644, 11874,   290,\n",
            "           423,   257, 12098,  6839,   286, 44826,   701,   357, 17657,    76,\n",
            "           828,  6505,   531,    13,   198,  1026,   561,   307, 10595,   621,\n",
            "           262,  4094,  6215,  1683,    11, 13273,  8502,  1259, 20912,  8442,\n",
            "         19712,     6,  1338, 26524, 46317,    13,   198,   464,   717,  1332,\n",
            "         13956,   389,  7530,   284,  2221,   287,  1584,    13,   198,  5246,\n",
            "          9659,   290,  1770, 21214,   272,   531,   326, 15223,  9824,   329,\n",
            "           262, 29186,   349, 11429,  6215,   423,   587,  1234,  1978,   625,\n",
            "           262,  1781,   286,   838,   812,    13,   198, 36687,   468,  9258,\n",
            "           319,   257, 44338,   287,  3442,   338, 40120,  1015, 18692,    11,\n",
            "           484,   531,    13,   198,   818,  5472,   262, 18545,  2727,  4687,\n",
            "         25586,  3198,    11,   257,   850,    12, 27688,  1287, 10701,   326,\n",
            "          2627,   262,   717, 17092, 29768,    11, 34737, 40663,    13,   198,\n",
            "             1,  2215,   314,   373,  3957,   510,    11,  2253,   338,  2272,\n",
            "         11383,   373,   262,  6194,   286, 48217,   553,  1770,  9659,   531,\n",
            "           379,   257,  1705,  4495,   287,  7312,    13,   198,     1,  1890,\n",
            "           502,    11,   262, 35556,   351,  2272,  1239,  4444,    13,   314,\n",
            "          1239,  5025, 28368,   644,  1244,   307,  1744,   526,   198,  1273,\n",
            "         10366,   349, 11429,   338,  6614,   481,  3283,   257, 30430, 10701,\n",
            "           319,   663, 19921,    11,   284,   307,  3170,   416,   257,  2272,\n",
            "          1664,  6898,   416, 32451, 20119,   286, 22525,    11,   508,   468,\n",
            "          1541,  3170,   257,  4388,  5068, 10701,    13,   198,  6395,  3037,\n",
            "          5259,   504,   508,   423,   925,   329,   592,   656,   262,  2839,\n",
            "          2272,  2831,  2291,  5502, 48607,    11,  9119,   286,  6186,    13,\n",
            "           785,    13,   198, 25631,  1259, 20912,  6219,  1709, 23103,   338,\n",
            "          5283, 23509, 12031,   284,  1011, 10405,   656,   850,    12, 27688,\n",
            "          1287,  2272,    13,   198, 35442,  2105, 20293,   656,  2272,   318,\n",
            "           407,   257,   649,  8173,    11,   475,   460,  2897,   517,  4219,\n",
            "         13688,   290, 10356,   786,  6193, 17778,    11,  6505,   531,    13,\n",
            "           198,  1026,   460,   635,  3613,   319, 10701,  5252,    13,   198,\n",
            "          5574,    65,  1287, 13473, 11421,    11,   281,  4697, 10701,  1664,\n",
            "            11,   468,   973,   428,  2446,   286, 13925, 21437,    82,   884,\n",
            "           355, 35272, 20293,   290, 20372,    13, 24811,    26,  7707]],\n",
            "       device='cuda:0')\n",
            "\n",
            "attention_mask = tensor([[1, 1, 1, 1, 1, 1, 1, 1, 1, 1, 1, 1, 1, 1, 1, 1, 1, 1, 1, 1, 1, 1, 1, 1,\n",
            "         1, 1, 1, 1, 1, 1, 1, 1, 1, 1, 1, 1, 1, 1, 1, 1, 1, 1, 1, 1, 1, 1, 1, 1,\n",
            "         1, 1, 1, 1, 1, 1, 1, 1, 1, 1, 1, 1, 1, 1, 1, 1, 1, 1, 1, 1, 1, 1, 1, 1,\n",
            "         1, 1, 1, 1, 1, 1, 1, 1, 1, 1, 1, 1, 1, 1, 1, 1, 1, 1, 1, 1, 1, 1, 1, 1,\n",
            "         1, 1, 1, 1, 1, 1, 1, 1, 1, 1, 1, 1, 1, 1, 1, 1, 1, 1, 1, 1, 1, 1, 1, 1,\n",
            "         1, 1, 1, 1, 1, 1, 1, 1, 1, 1, 1, 1, 1, 1, 1, 1, 1, 1, 1, 1, 1, 1, 1, 1,\n",
            "         1, 1, 1, 1, 1, 1, 1, 1, 1, 1, 1, 1, 1, 1, 1, 1, 1, 1, 1, 1, 1, 1, 1, 1,\n",
            "         1, 1, 1, 1, 1, 1, 1, 1, 1, 1, 1, 1, 1, 1, 1, 1, 1, 1, 1, 1, 1, 1, 1, 1,\n",
            "         1, 1, 1, 1, 1, 1, 1, 1, 1, 1, 1, 1, 1, 1, 1, 1, 1, 1, 1, 1, 1, 1, 1, 1,\n",
            "         1, 1, 1, 1, 1, 1, 1, 1, 1, 1, 1, 1, 1, 1, 1, 1, 1, 1, 1, 1, 1, 1, 1, 1,\n",
            "         1, 1, 1, 1, 1, 1, 1, 1, 1, 1, 1, 1, 1, 1, 1, 1, 1, 1, 1, 1, 1, 1, 1, 1,\n",
            "         1, 1, 1, 1, 1, 1, 1, 1, 1, 1, 1, 1, 1, 1, 1, 1, 1, 1, 1, 1, 1, 1, 1, 1,\n",
            "         1, 1, 1, 1, 1, 1, 1, 1, 1, 1, 1, 1, 1, 1, 1, 1, 1, 1, 1, 1, 1, 1, 1, 1,\n",
            "         1, 1, 1, 1, 1, 1, 1, 1, 1, 1, 1, 1, 1, 1, 1, 1, 1, 1, 1, 1, 1, 1, 1, 1,\n",
            "         1, 1, 1, 1, 1, 1, 1, 1, 1, 1, 1, 1, 1, 1, 1, 1, 1, 1, 1, 1, 1, 1, 1, 1,\n",
            "         1, 1, 1, 1, 1, 1, 1, 1, 1, 1, 1, 1, 1, 1, 1, 1, 1, 1, 1, 1, 1, 1, 1, 1,\n",
            "         1, 1, 1, 1, 1, 1, 1, 1, 1, 1, 1, 1, 1, 1, 1, 1, 1, 1, 1, 1, 1, 1, 1, 1,\n",
            "         1, 1, 1, 1, 1, 1, 1, 1, 1, 1, 1, 1, 1, 1, 1, 1, 1, 1, 1, 1, 1, 1, 1, 1,\n",
            "         1, 1, 1, 1, 1, 1, 1, 1, 1, 1, 1, 1, 1, 1, 1, 1, 1, 1, 1, 1, 1, 1, 1, 1,\n",
            "         1, 1, 1, 1, 1, 1, 1, 1, 1, 1, 1, 1, 1, 1, 1, 1, 1, 1, 1, 1, 1, 1, 1, 1,\n",
            "         1, 1, 1, 1, 1, 1, 1, 1, 1, 1, 1, 1, 1, 1, 1, 1, 1, 1, 1, 1, 1, 1, 1, 1,\n",
            "         1, 1, 1, 1, 1, 1, 1, 1, 1, 1, 1, 1, 1, 1, 1, 1, 1, 1, 1, 1, 1, 1, 1, 1,\n",
            "         1]], device='cuda:0')\n",
            "\n"
          ]
        }
      ]
    },
    {
      "cell_type": "code",
      "source": [
        "# output = model.generate(**input, output_hidden_states=True, output_scores=True, return_dict_in_generate=True)"
      ],
      "metadata": {
        "colab": {
          "base_uri": "https://localhost:8080/"
        },
        "id": "6z9nx2M_DUeG",
        "outputId": "f8eca282-7373-4b20-9f24-3f754a36a002"
      },
      "execution_count": null,
      "outputs": [
        {
          "output_type": "stream",
          "name": "stderr",
          "text": [
            "Setting `pad_token_id` to `eos_token_id`:50256 for open-end generation.\n",
            "/usr/local/lib/python3.10/dist-packages/transformers/generation/utils.py:1313: UserWarning: Using `max_length`'s default (20) to control the generation length. This behaviour is deprecated and will be removed from the config in v5 of Transformers -- we recommend using `max_new_tokens` to control the maximum length of the generation.\n",
            "  warnings.warn(\n",
            "Input length of input_ids is 529, but `max_length` is set to 20. This can lead to unexpected behavior. You should consider increasing `max_new_tokens`.\n"
          ]
        }
      ]
    },
    {
      "cell_type": "code",
      "source": [
        "output_ = model(**input, output_hidden_states=True)"
      ],
      "metadata": {
        "id": "UhzScWamEHJH"
      },
      "execution_count": null,
      "outputs": []
    },
    {
      "cell_type": "code",
      "source": [
        "# print(output)"
      ],
      "metadata": {
        "colab": {
          "base_uri": "https://localhost:8080/"
        },
        "id": "mBF6UqHpE7bK",
        "outputId": "1938bb22-576e-4b27-f25c-d7c7d3f7f5dd"
      },
      "execution_count": null,
      "outputs": [
        {
          "output_type": "stream",
          "name": "stdout",
          "text": [
            "GreedySearchDecoderOnlyOutput(sequences=tensor([[  464,  7618,    12,  1941,    12,   727,  3352,   284,  1205,   257,\n",
            "          6175,  6215,   326,   561,  1234,  9029,  5748,   656, 13066,    11,\n",
            "          2138,   621, 16842,   606,   572,   422,   257,  4219, 14841,    13,\n",
            "           198,  6395, 32985,  5753,   389,   287,   262,  2839,  2272,  3234,\n",
            "            11,  1165,    11,   706, 48673,   428,   614,  4444,   663,  1542,\n",
            "            12,  1941,  2272, 20992, 11383,    13,   198, 34674, 23509,   318,\n",
            "          1762,   319,   257,  5068,  2272, 13189,   543, 12031,   284,  6129,\n",
            "         10405,   656,   850,    12, 42594,   416,  2211,    13,   198,    32,\n",
            "           263, 24912, 29570,   347,  3325, 21214,   272,   318,   257,  5212,\n",
            "           319,  1770,  9659,   338,  1628,    11,   543,   318,  1444, 29186,\n",
            "           349, 11429, 11998,    13,   198,   464,  1628,   318,   262,  3452,\n",
            "           284,   307,  2957,   416, 18210,  6916,  1259,  1073,   684,   508,\n",
            "           892,   484, 13997,   257,  7625,   287,  3512,  4721,   416,   262,\n",
            "         10737,   286,   262,  1294,  1230,   338,  2272, 20992, 11383,    13,\n",
            "           198,  3633, 48673,  1234, 20293,   656,  2272,   422,   257,  4219,\n",
            "         14841,    11,   262, 29186,   349, 11429,  1410,   318,   284,  4219,\n",
            "         35272, 20293,   422,  1029,    12, 45928,  6215,    11,   290,  4191,\n",
            "         25340, 34737, 10566,  1165,    13,   198,   464,  6505,   531,   511,\n",
            "          6215,   714, 26450, 15892,   329,   262,  5068, 11210,  2831,   290,\n",
            "           262,  4037,  4687,  9327,    13,   198,   464,  6175,  6614,   561,\n",
            "           307, 13232,   416,  2237, 45600,   474, 29309, 12644, 11874,   290,\n",
            "           423,   257, 12098,  6839,   286, 44826,   701,   357, 17657,    76,\n",
            "           828,  6505,   531,    13,   198,  1026,   561,   307, 10595,   621,\n",
            "           262,  4094,  6215,  1683,    11, 13273,  8502,  1259, 20912,  8442,\n",
            "         19712,     6,  1338, 26524, 46317,    13,   198,   464,   717,  1332,\n",
            "         13956,   389,  7530,   284,  2221,   287,  1584,    13,   198,  5246,\n",
            "          9659,   290,  1770, 21214,   272,   531,   326, 15223,  9824,   329,\n",
            "           262, 29186,   349, 11429,  6215,   423,   587,  1234,  1978,   625,\n",
            "           262,  1781,   286,   838,   812,    13,   198, 36687,   468,  9258,\n",
            "           319,   257, 44338,   287,  3442,   338, 40120,  1015, 18692,    11,\n",
            "           484,   531,    13,   198,   818,  5472,   262, 18545,  2727,  4687,\n",
            "         25586,  3198,    11,   257,   850,    12, 27688,  1287, 10701,   326,\n",
            "          2627,   262,   717, 17092, 29768,    11, 34737, 40663,    13,   198,\n",
            "             1,  2215,   314,   373,  3957,   510,    11,  2253,   338,  2272,\n",
            "         11383,   373,   262,  6194,   286, 48217,   553,  1770,  9659,   531,\n",
            "           379,   257,  1705,  4495,   287,  7312,    13,   198,     1,  1890,\n",
            "           502,    11,   262, 35556,   351,  2272,  1239,  4444,    13,   314,\n",
            "          1239,  5025, 28368,   644,  1244,   307,  1744,   526,   198,  1273,\n",
            "         10366,   349, 11429,   338,  6614,   481,  3283,   257, 30430, 10701,\n",
            "           319,   663, 19921,    11,   284,   307,  3170,   416,   257,  2272,\n",
            "          1664,  6898,   416, 32451, 20119,   286, 22525,    11,   508,   468,\n",
            "          1541,  3170,   257,  4388,  5068, 10701,    13,   198,  6395,  3037,\n",
            "          5259,   504,   508,   423,   925,   329,   592,   656,   262,  2839,\n",
            "          2272,  2831,  2291,  5502, 48607,    11,  9119,   286,  6186,    13,\n",
            "           785,    13,   198, 25631,  1259, 20912,  6219,  1709, 23103,   338,\n",
            "          5283, 23509, 12031,   284,  1011, 10405,   656,   850,    12, 27688,\n",
            "          1287,  2272,    13,   198, 35442,  2105, 20293,   656,  2272,   318,\n",
            "           407,   257,   649,  8173,    11,   475,   460,  2897,   517,  4219,\n",
            "         13688,   290, 10356,   786,  6193, 17778,    11,  6505,   531,    13,\n",
            "           198,  1026,   460,   635,  3613,   319, 10701,  5252,    13,   198,\n",
            "          5574,    65,  1287, 13473, 11421,    11,   281,  4697, 10701,  1664,\n",
            "            11,   468,   973,   428,  2446,   286, 13925, 21437,    82,   884,\n",
            "           355, 35272, 20293,   290, 20372,    13, 24811,    26,  7707,    25]]), scores=(tensor([[-71.4707, -71.9659, -72.8554,  ..., -80.5367, -78.6035, -65.9655]]),), attentions=None, hidden_states=((tensor([[[-0.0874, -0.2177,  0.0685,  ...,  0.0208,  0.0183,  0.0576],\n",
            "         [ 0.0617, -0.0636, -0.0627,  ...,  0.0115,  0.0190,  0.0566],\n",
            "         [ 0.0656, -0.0997,  0.1111,  ..., -0.0721, -0.0542, -0.1067],\n",
            "         ...,\n",
            "         [ 0.0393,  0.1700, -0.0287,  ...,  0.0267, -0.2163, -0.0515],\n",
            "         [ 0.0327, -0.1175,  0.0193,  ..., -0.0262, -0.0381, -0.1075],\n",
            "         [ 0.0785,  0.1257,  0.1347,  ...,  0.0475,  0.0121, -0.1926]]]), tensor([[[ 0.1559, -0.7946,  0.3943,  ..., -1.7854, -0.4689,  0.1554],\n",
            "         [-0.7433,  0.5362,  0.8065,  ..., -1.3883, -0.3235, -0.2825],\n",
            "         [-0.5695, -0.4214, -0.3413,  ..., -0.7595,  1.0455, -0.8201],\n",
            "         ...,\n",
            "         [ 1.5109,  2.2153,  2.6057,  ...,  1.1427, -0.2949,  0.4518],\n",
            "         [ 1.3690, -0.5809, -0.0472,  ...,  0.1483,  0.1439,  0.6391],\n",
            "         [-2.2916, -1.8467,  0.3854,  ...,  0.5078,  0.2160, -1.4376]]]), tensor([[[ 0.0386, -1.1676,  1.1246,  ..., -1.4047, -0.5742, -0.0668],\n",
            "         [-0.0943,  0.4953,  1.8739,  ..., -1.7064, -0.3506, -0.6520],\n",
            "         [-1.1319, -0.7633,  0.2300,  ..., -1.1405,  0.9720, -1.5331],\n",
            "         ...,\n",
            "         [ 2.6173,  0.8480,  2.0441,  ...,  0.7295,  1.0098,  0.5787],\n",
            "         [ 1.1179, -0.7914, -0.3148,  ...,  0.4084,  0.9300,  0.9311],\n",
            "         [-2.2667, -1.8222, -0.2941,  ..., -0.6992,  1.4080, -1.2328]]]), tensor([[[ 0.2860, -1.3120,  0.9229,  ..., -1.3655, -0.3842, -0.0090],\n",
            "         [-0.2776,  0.3575,  2.1061,  ..., -2.2552, -0.6077, -0.7772],\n",
            "         [-1.1050, -0.9088,  0.5011,  ..., -1.9073,  0.9070, -2.4739],\n",
            "         ...,\n",
            "         [ 1.8580,  0.4024,  1.5701,  ...,  1.0339,  1.4529,  1.3387],\n",
            "         [ 0.3320,  0.1800, -0.8653,  ..., -0.6816,  0.9271,  1.6969],\n",
            "         [-2.0646, -0.7107, -0.8511,  ..., -0.2695,  1.2162,  0.4576]]]), tensor([[[ 0.3092, -1.3141,  0.9936,  ..., -1.3327, -0.4027, -0.1263],\n",
            "         [-0.1117,  1.2701,  2.6621,  ..., -2.3399, -0.9440, -0.7815],\n",
            "         [-1.3520,  0.1458,  0.8776,  ..., -2.0691, -0.0463, -3.1178],\n",
            "         ...,\n",
            "         [ 1.7051, -0.0371,  1.6035,  ..., -0.0970,  0.8398,  1.1641],\n",
            "         [ 0.1308, -0.0256, -1.0689,  ..., -2.2375,  0.7646,  1.9514],\n",
            "         [-2.3674, -0.4480, -1.9784,  ..., -0.0660,  0.5495,  0.5734]]]), tensor([[[ 0.1397, -1.3879,  0.9011,  ..., -1.4786, -0.5756, -0.1675],\n",
            "         [-0.3716,  1.2323,  2.1402,  ..., -2.5032, -1.4925, -1.0501],\n",
            "         [-2.1935,  0.3724,  1.6057,  ..., -2.2188, -0.5327, -3.4836],\n",
            "         ...,\n",
            "         [ 1.7993,  0.2589,  0.8986,  ..., -0.3184,  1.1022,  1.4870],\n",
            "         [ 0.3400,  0.1454, -3.0359,  ..., -1.7036,  0.4503,  5.0759],\n",
            "         [-2.0873,  0.9864, -3.6509,  ...,  0.8606,  0.4790,  3.1797]]]), tensor([[[ 0.1408, -1.4999,  0.9446,  ..., -1.5783, -0.6470, -0.1584],\n",
            "         [-0.3344,  1.2720,  2.4645,  ..., -2.9654, -1.8411, -1.2751],\n",
            "         [-1.6941,  0.9620,  1.0177,  ..., -3.6310, -1.1703, -3.3479],\n",
            "         ...,\n",
            "         [ 0.9632, -1.4718,  1.5706,  ..., -0.1706,  0.2857,  1.4945],\n",
            "         [ 0.6059,  1.7418, -3.7492,  ..., -2.1289, -1.3963,  3.3731],\n",
            "         [-2.7027,  1.6661, -5.0616,  ...,  2.7464,  0.1198,  1.1557]]]), tensor([[[ 0.0884, -1.4915,  0.9749,  ..., -1.6161, -0.6395, -0.1455],\n",
            "         [ 0.3858,  1.5863,  2.6345,  ..., -3.6205, -1.6577, -1.1307],\n",
            "         [-2.0638,  0.6259,  1.4034,  ..., -3.0560, -1.6191, -4.1922],\n",
            "         ...,\n",
            "         [ 1.5600, -1.4396,  2.1328,  ..., -1.9267,  0.4696,  2.1496],\n",
            "         [ 0.1675,  2.6878, -3.7074,  ..., -1.4276, -1.0677,  3.8328],\n",
            "         [-3.9881,  1.4389, -4.5706,  ...,  2.9477,  1.8405,  3.0056]]]), tensor([[[ 0.0363, -1.3821,  0.8510,  ..., -1.5710, -0.7238, -0.2971],\n",
            "         [ 1.3663,  1.7900,  2.4180,  ..., -3.4878, -1.5348, -0.8017],\n",
            "         [-0.1181, -0.3732, -0.4384,  ..., -4.2880, -0.9692, -1.5592],\n",
            "         ...,\n",
            "         [ 1.6787, -0.1519,  2.6823,  ..., -2.7124,  1.1355,  2.7691],\n",
            "         [ 1.0975,  4.1858, -2.1599,  ..., -1.1874, -4.9850,  3.2469],\n",
            "         [-3.9853,  0.6450, -4.1901,  ...,  4.4489, -0.4327,  3.2272]]]), tensor([[[ 0.0636, -1.3291,  0.8274,  ..., -1.4424, -0.7224, -0.4483],\n",
            "         [ 0.9886,  1.8606,  2.3969,  ..., -4.3862, -0.2369, -0.1629],\n",
            "         [ 0.1130, -0.3050, -0.5916,  ..., -6.0191, -0.0500, -0.3334],\n",
            "         ...,\n",
            "         [ 2.6955, -1.2780,  4.2144,  ..., -3.0301,  1.3842,  2.6779],\n",
            "         [ 1.4125,  2.8394, -3.0223,  ..., -0.8009, -4.2377,  5.2905],\n",
            "         [-2.1723,  0.2854, -3.7328,  ...,  4.0111,  0.3614,  4.2335]]]), tensor([[[-0.0275, -1.2308,  0.5696,  ..., -1.3159, -0.6050, -0.7692],\n",
            "         [ 0.9613,  3.0279,  3.0732,  ..., -4.1843, -0.2023, -1.3027],\n",
            "         [ 1.4720, -2.1490, -1.9442,  ..., -5.6039,  0.9934, -0.6301],\n",
            "         ...,\n",
            "         [ 4.2704, -2.3032,  4.5110,  ..., -3.6865,  0.6777,  2.2218],\n",
            "         [ 1.4968,  3.9309, -2.3537,  ...,  0.0747, -4.1575,  5.7655],\n",
            "         [-3.5679, -2.4113, -5.9279,  ...,  1.8582, -1.0963,  6.2096]]]), tensor([[[-0.1526, -1.0455,  0.2843,  ..., -1.3134, -0.3339, -0.9442],\n",
            "         [ 3.1908,  3.6701,  2.4474,  ..., -3.8455, -1.3972, -1.9751],\n",
            "         [ 2.7073, -2.1741, -1.6957,  ..., -6.8875,  0.9808,  0.4684],\n",
            "         ...,\n",
            "         [ 6.9595, -2.6535,  6.6181,  ..., -4.1831,  3.3019,  0.2877],\n",
            "         [ 3.3458,  5.4124, -1.9635,  ...,  0.8101, -3.9008,  3.7691],\n",
            "         [-1.0464, -1.4675, -7.8821,  ...,  0.7914, -3.1230,  7.4231]]]), tensor([[[-0.0470, -0.0333, -0.1626,  ..., -0.1337, -0.0571, -0.1059],\n",
            "         [ 0.4783,  0.5455,  0.5523,  ..., -0.2615, -0.1260, -0.1804],\n",
            "         [ 0.3532, -0.1254,  0.0650,  ..., -0.4620,  0.0722,  0.2935],\n",
            "         ...,\n",
            "         [ 0.5783,  0.0455,  0.5869,  ..., -0.0471, -0.0632,  0.1805],\n",
            "         [ 0.5266,  0.9584, -0.1785,  ...,  0.0439, -0.5484,  0.7059],\n",
            "         [ 0.6282, -0.1396, -0.7631,  ...,  0.0508, -0.4036,  0.5429]]])),))\n"
          ]
        }
      ]
    },
    {
      "cell_type": "code",
      "source": [
        "print(output_)"
      ],
      "metadata": {
        "colab": {
          "base_uri": "https://localhost:8080/"
        },
        "id": "6gphnU3QEb7q",
        "outputId": "3642759c-ce3b-40a5-b5fe-33d1c1c15b9b"
      },
      "execution_count": null,
      "outputs": [
        {
          "output_type": "stream",
          "name": "stdout",
          "text": [
            "CausalLMOutputWithCrossAttentions(loss=None, logits=tensor([[[ -36.2875,  -35.0114,  -38.0794,  ...,  -40.5164,  -41.3760,\n",
            "           -34.9194],\n",
            "         [ -46.8871,  -42.6035,  -47.5720,  ...,  -49.9105,  -52.0880,\n",
            "           -46.5096],\n",
            "         [ -41.4456,  -39.3806,  -41.3288,  ...,  -50.1155,  -49.3654,\n",
            "           -41.7125],\n",
            "         ...,\n",
            "         [ -90.6513,  -90.6124,  -92.8737,  ..., -100.2512,  -94.8702,\n",
            "           -87.2627],\n",
            "         [ -90.4059,  -88.5835,  -89.7060,  ...,  -99.8591,  -94.7330,\n",
            "           -88.6694],\n",
            "         [ -71.4707,  -71.9659,  -72.8554,  ...,  -80.5367,  -78.6035,\n",
            "           -65.9654]]], device='cuda:0', grad_fn=<UnsafeViewBackward0>), past_key_values=((tensor([[[[-0.9420,  1.9023,  0.8722,  ..., -1.2703, -0.4792,  1.2469],\n",
            "          [-2.4264,  2.3726,  1.8181,  ..., -1.2160, -1.8774,  1.2674],\n",
            "          [-1.9781,  3.0301,  2.0410,  ..., -0.5624, -1.9179,  1.7366],\n",
            "          ...,\n",
            "          [ 1.0665,  0.9803, -1.6351,  ...,  0.5204,  1.4847, -2.4060],\n",
            "          [ 1.8846, -0.3338, -0.7713,  ..., -0.3340,  1.4949, -1.8362],\n",
            "          [ 1.4833, -0.9447, -1.3078,  ...,  0.1375,  1.4482, -0.1764]],\n",
            "\n",
            "         [[ 0.1103,  0.6967, -1.1409,  ..., -0.1243,  1.8249, -0.1592],\n",
            "          [ 0.4032, -0.3239, -1.5608,  ...,  1.5552,  3.0029,  0.3236],\n",
            "          [ 0.7821, -0.2204, -2.0947,  ..., -1.3020,  2.8016, -0.7709],\n",
            "          ...,\n",
            "          [-0.8303,  0.6574,  0.5328,  ...,  0.7432,  0.0587, -0.0680],\n",
            "          [-0.5975,  0.2119, -0.4304,  ..., -0.5869, -4.2275, -1.2818],\n",
            "          [-0.4652, -1.0280,  2.4555,  ...,  2.9717, -0.9638, -0.2154]],\n",
            "\n",
            "         [[-0.0985, -0.0323,  0.7536,  ..., -1.1902, -1.6401,  0.6545],\n",
            "          [ 0.4290, -1.0830,  0.7913,  ..., -1.8359,  0.4765,  2.2272],\n",
            "          [ 0.1789, -0.3222,  1.5954,  ..., -2.0951,  0.2072,  1.7126],\n",
            "          ...,\n",
            "          [-0.9921,  2.1985, -0.0888,  ...,  0.2767,  0.2241, -2.5142],\n",
            "          [-1.2006,  1.1615,  0.3496,  ...,  1.9369,  1.0654, -0.4124],\n",
            "          [-1.3873,  0.2792,  0.8146,  ...,  0.0242, -1.0183, -1.1044]],\n",
            "\n",
            "         ...,\n",
            "\n",
            "         [[ 0.6009, -0.0877, -0.2693,  ...,  0.1756,  0.7995,  0.5978],\n",
            "          [ 0.5252,  0.2487,  0.1189,  ...,  1.0607,  0.1687,  0.2728],\n",
            "          [ 0.1494, -0.0620, -0.0288,  ...,  0.8703,  0.7416,  0.5947],\n",
            "          ...,\n",
            "          [-0.1731, -0.0704,  0.0155,  ..., -0.5114, -1.4679, -0.1412],\n",
            "          [-0.0754, -0.3069, -0.0825,  ..., -0.2501, -0.3587, -0.1309],\n",
            "          [-0.4942, -0.0190, -0.0950,  ..., -0.6306,  0.0925,  0.0457]],\n",
            "\n",
            "         [[ 1.4709,  1.5225, -0.4336,  ..., -0.1837,  1.0947, -1.6615],\n",
            "          [ 1.2872, -0.1186, -0.8574,  ..., -0.3522,  1.4771, -1.8454],\n",
            "          [ 0.8232,  0.1917, -0.5130,  ..., -1.0736,  0.9762, -0.8482],\n",
            "          ...,\n",
            "          [-0.6610, -0.7528,  1.8102,  ..., -0.2098, -0.0949,  0.2720],\n",
            "          [ 0.2987, -0.5506,  0.5628,  ...,  0.5391, -0.5898,  0.8032],\n",
            "          [ 0.4275, -0.4100, -0.6250,  ..., -0.1302, -0.0490,  0.7082]],\n",
            "\n",
            "         [[ 0.6260,  0.2122,  0.2527,  ..., -0.6377,  0.2275,  1.5142],\n",
            "          [ 0.3702,  0.6859,  0.0772,  ...,  0.5628,  0.5265,  1.2640],\n",
            "          [-0.2059,  0.0596, -0.2397,  ...,  0.6078, -0.6589,  0.7701],\n",
            "          ...,\n",
            "          [-0.3336, -0.3413, -0.4157,  ..., -1.0862, -0.0701, -0.2404],\n",
            "          [-0.8896, -0.7496,  0.7320,  ...,  0.2875, -0.6485, -1.9440],\n",
            "          [-0.0369, -0.8927, -1.0406,  ...,  0.2234, -0.2784, -0.3852]]]],\n",
            "       device='cuda:0', grad_fn=<PermuteBackward0>), tensor([[[[-0.0131, -0.0145,  0.1269,  ..., -0.0492,  0.1046,  0.0231],\n",
            "          [ 0.0030, -0.0776, -0.0099,  ...,  0.1817,  0.0578, -0.0540],\n",
            "          [-0.1135, -0.0907, -0.0772,  ...,  0.0673, -0.2893, -0.0560],\n",
            "          ...,\n",
            "          [-0.0466, -0.1718, -0.1047,  ...,  0.0448, -0.4752, -0.3270],\n",
            "          [-0.1905,  0.2821, -0.2915,  ...,  0.1206, -0.2065, -0.0332],\n",
            "          [ 0.1654,  0.2291, -0.1689,  ...,  0.1033, -0.3069, -0.4216]],\n",
            "\n",
            "         [[ 0.5901,  0.1005, -0.2072,  ..., -0.6938, -0.2776,  0.2052],\n",
            "          [ 0.4160, -0.3033,  0.4512,  ...,  0.3682,  0.5543,  0.0091],\n",
            "          [ 0.6401,  0.0247, -0.0024,  ..., -0.1859,  0.3819,  0.0129],\n",
            "          ...,\n",
            "          [-1.1445, -0.2455,  0.1121,  ...,  0.1914, -0.2093,  0.1850],\n",
            "          [-0.7914,  0.0989,  0.0822,  ...,  0.0036,  0.7567, -0.1019],\n",
            "          [-0.7401,  0.1030, -0.0604,  ...,  0.2575,  0.0686, -0.2700]],\n",
            "\n",
            "         [[-0.0284, -0.1145, -0.0217,  ...,  0.0039,  0.0788, -0.0040],\n",
            "          [ 0.1178, -0.0946, -0.1138,  ..., -0.0924,  0.0670, -0.0619],\n",
            "          [ 0.5393, -0.1843, -0.3832,  ...,  0.1103,  0.2948,  0.1560],\n",
            "          ...,\n",
            "          [-0.1709,  0.4644,  0.0694,  ..., -0.1408, -0.2884,  0.1066],\n",
            "          [-0.1178,  0.0383,  0.0612,  ...,  0.2869, -0.4196, -0.1638],\n",
            "          [-0.1253,  0.0462, -0.6317,  ...,  0.2813, -0.1137,  0.3808]],\n",
            "\n",
            "         ...,\n",
            "\n",
            "         [[-0.1077, -0.2132, -0.0218,  ..., -0.2321,  0.0213, -0.0665],\n",
            "          [-0.0174,  0.6551,  0.0362,  ...,  0.0978, -0.2016,  0.3505],\n",
            "          [-0.0315,  0.0950, -0.0023,  ..., -0.0027, -0.0841, -0.1073],\n",
            "          ...,\n",
            "          [-0.0057, -0.0355, -0.2544,  ..., -0.0036,  0.0514,  0.0475],\n",
            "          [ 0.1493, -0.0602,  0.1956,  ...,  0.0185,  0.0934,  0.0880],\n",
            "          [ 0.1497, -0.2249,  0.3355,  ...,  0.1391,  0.7909,  0.6641]],\n",
            "\n",
            "         [[ 0.0932, -0.1040, -0.2110,  ...,  0.1850,  0.2238, -0.0320],\n",
            "          [-0.3693,  0.0283,  0.2419,  ..., -0.0784,  0.0484,  0.2346],\n",
            "          [-0.0424,  0.1984, -0.0313,  ...,  0.0432, -0.1743, -0.0932],\n",
            "          ...,\n",
            "          [ 0.3707, -0.0862,  0.1329,  ..., -0.0116,  0.0625,  0.1573],\n",
            "          [-0.0601,  0.0704, -0.3001,  ...,  0.2215,  0.1548, -0.0577],\n",
            "          [-0.0284,  0.3513,  0.0540,  ..., -0.1748,  0.2520, -0.1637]],\n",
            "\n",
            "         [[-0.0248, -0.3783,  0.1184,  ...,  0.0116, -0.2484, -0.1156],\n",
            "          [ 0.0054,  0.0906, -0.0840,  ...,  0.3502,  0.1317,  0.1616],\n",
            "          [-0.0417, -0.1311,  0.1048,  ...,  0.2292, -0.0680,  0.1680],\n",
            "          ...,\n",
            "          [-0.0771,  0.0300, -0.0343,  ..., -0.2674, -0.1190, -0.0937],\n",
            "          [ 0.0670, -0.3864,  0.0997,  ..., -0.2515,  0.2864, -0.2407],\n",
            "          [-0.3968, -0.0559,  0.0768,  ..., -0.1346, -0.1039, -0.1405]]]],\n",
            "       device='cuda:0', grad_fn=<PermuteBackward0>)), (tensor([[[[-3.4652e-01,  1.8232e+00, -1.4522e+00,  ...,  1.4427e+00,\n",
            "           -8.3291e-01,  1.0962e+00],\n",
            "          [ 2.7877e-01,  1.3976e+00, -2.6836e-01,  ..., -1.6828e+00,\n",
            "           -1.3413e+00,  6.2115e-01],\n",
            "          [ 1.6992e+00,  2.5037e+00, -3.2462e-01,  ..., -6.1752e-01,\n",
            "           -1.5338e+00,  3.3211e-01],\n",
            "          ...,\n",
            "          [-3.7779e+00, -2.7098e+00,  1.8024e+00,  ..., -2.0165e+00,\n",
            "            1.3620e+00,  2.7061e+00],\n",
            "          [-2.3996e+00, -2.1281e+00,  3.7784e-01,  ..., -1.4657e+00,\n",
            "            1.2053e+00,  4.0920e+00],\n",
            "          [-3.8089e+00, -4.1175e-01,  1.5105e+00,  ..., -1.8123e+00,\n",
            "            1.4503e+00,  3.7275e+00]],\n",
            "\n",
            "         [[-8.2454e-01, -3.5095e-01, -5.7461e-01,  ..., -2.9826e-01,\n",
            "            9.7538e-01, -5.5108e-01],\n",
            "          [-3.5125e-01,  3.8826e-01, -1.3812e+00,  ..., -1.0602e+00,\n",
            "            2.0225e-01,  7.1462e-01],\n",
            "          [-6.7256e-01, -1.4660e+00, -1.8690e+00,  ..., -4.1961e-01,\n",
            "            6.6667e-02, -1.1834e+00],\n",
            "          ...,\n",
            "          [ 9.9430e-01, -3.1135e-01, -5.2557e-01,  ...,  2.0701e+00,\n",
            "            7.9185e-01, -2.8338e-02],\n",
            "          [ 7.3383e-01,  1.2765e+00, -6.5938e-01,  ...,  1.8058e+00,\n",
            "            1.6406e+00, -2.0888e-01],\n",
            "          [ 1.3219e+00, -5.0101e-03, -1.9498e+00,  ...,  2.4196e+00,\n",
            "            9.6671e-01,  5.7420e-01]],\n",
            "\n",
            "         [[ 3.4445e-01,  2.7299e-02,  7.3553e-02,  ..., -1.2545e+00,\n",
            "            2.9189e-01, -1.9579e-01],\n",
            "          [-2.0632e-01,  2.2434e-01, -7.5729e-02,  ..., -9.6645e-01,\n",
            "           -1.7325e-01,  3.3479e-01],\n",
            "          [ 2.4878e-02, -2.4769e-02, -3.2106e-01,  ..., -6.7290e-01,\n",
            "            5.0519e-02,  2.8634e-01],\n",
            "          ...,\n",
            "          [ 1.9948e-01,  2.9279e-01,  3.1027e-02,  ...,  1.2503e+00,\n",
            "           -2.5220e-02,  1.6949e-01],\n",
            "          [ 1.9218e-01,  4.3493e-01,  1.9811e-01,  ...,  9.1798e-01,\n",
            "            4.9985e-02,  2.5665e-01],\n",
            "          [-1.4137e-01,  5.0165e-02, -4.6880e-01,  ...,  2.0094e+00,\n",
            "           -1.9511e-01,  9.8809e-02]],\n",
            "\n",
            "         ...,\n",
            "\n",
            "         [[-3.6552e-01, -2.5970e-01, -7.4104e-01,  ..., -8.0236e-01,\n",
            "            4.2475e-01, -4.2085e-01],\n",
            "          [-1.4435e+00, -8.9262e-02,  1.8529e+00,  ..., -8.3977e-01,\n",
            "           -1.5359e+00, -3.1855e-01],\n",
            "          [ 8.2975e-01,  1.3998e+00,  2.0391e+00,  ...,  7.1104e-01,\n",
            "           -6.0467e-01,  6.8712e-02],\n",
            "          ...,\n",
            "          [ 2.0952e-01,  1.2272e+00,  7.6290e-02,  ...,  4.0533e-02,\n",
            "           -1.1213e+00,  9.0802e-02],\n",
            "          [-1.0809e-01,  1.4297e+00, -2.1065e-03,  ...,  1.0264e-01,\n",
            "           -1.4833e+00,  7.2492e-01],\n",
            "          [ 1.1672e-01,  5.7429e-01, -6.2975e-01,  ..., -2.2054e-02,\n",
            "            5.5896e-01,  1.5632e-01]],\n",
            "\n",
            "         [[-1.1789e+00, -2.8546e+00,  1.0955e-01,  ...,  1.7660e+00,\n",
            "            1.5671e+00, -1.5985e+00],\n",
            "          [ 1.3354e-01,  1.0158e+00, -5.1842e-01,  ..., -5.1506e-01,\n",
            "            6.0341e-01, -2.0641e-02],\n",
            "          [ 3.5617e-01,  6.3869e-01, -5.4558e-01,  ..., -5.4099e-01,\n",
            "            6.6590e-01, -1.2177e-01],\n",
            "          ...,\n",
            "          [-3.6152e-02,  4.1359e-01,  2.2404e+00,  ...,  4.1038e-02,\n",
            "           -6.9362e-01,  4.5757e-01],\n",
            "          [ 2.0525e-01,  4.4983e-01,  2.2777e+00,  ..., -2.5575e-01,\n",
            "           -6.8947e-01,  2.8140e-01],\n",
            "          [-9.0836e-02,  8.5052e-01,  2.1371e+00,  ..., -2.5622e-01,\n",
            "           -5.6658e-01,  6.5179e-01]],\n",
            "\n",
            "         [[ 1.0171e+00,  1.8497e+00,  6.3780e-01,  ..., -8.0347e-01,\n",
            "            1.2935e-01,  6.0398e-01],\n",
            "          [ 8.7661e-01,  1.1418e+00,  9.1169e-01,  ...,  4.3778e-01,\n",
            "            5.9916e-02,  1.3153e-01],\n",
            "          [-2.0487e-01,  3.2857e+00,  8.1042e-01,  ...,  3.0982e-01,\n",
            "           -1.7755e+00, -1.4394e+00],\n",
            "          ...,\n",
            "          [ 1.0452e+00,  6.5581e-01,  5.5188e-01,  ..., -3.4956e+00,\n",
            "            1.3262e-01,  2.7325e-01],\n",
            "          [-1.0216e+00, -1.0507e+00, -1.4026e+00,  ..., -3.5791e+00,\n",
            "           -2.2343e-01,  3.6807e-01],\n",
            "          [-1.5327e-01, -1.0961e+00, -2.3040e-01,  ..., -1.7413e+00,\n",
            "            6.2242e-01, -9.9512e-01]]]], device='cuda:0',\n",
            "       grad_fn=<PermuteBackward0>), tensor([[[[ 2.8582e-01, -5.7216e-02,  7.6864e-03,  ...,  1.7198e-01,\n",
            "           -2.0384e-01, -1.4675e-02],\n",
            "          [-4.1796e-01, -3.9503e-02,  1.9776e-01,  ..., -6.1571e-01,\n",
            "            2.7661e-01,  1.2271e-02],\n",
            "          [ 6.5001e-01,  2.6098e-01,  1.3936e-01,  ...,  6.5641e-02,\n",
            "           -2.1835e-01,  6.0636e-02],\n",
            "          ...,\n",
            "          [ 2.0034e-01, -4.9009e-01, -3.9237e-01,  ..., -1.2198e-01,\n",
            "            6.9552e-01, -3.9811e-01],\n",
            "          [ 8.6255e-01,  3.4113e-01,  6.8130e-03,  ...,  3.0306e-01,\n",
            "            2.8332e-02,  3.4980e-02],\n",
            "          [-6.5579e-01, -6.8668e-01,  3.6647e-01,  ...,  6.8479e-01,\n",
            "            1.5764e-01,  5.4115e-01]],\n",
            "\n",
            "         [[ 1.9847e-01, -5.7434e-02, -1.4368e-01,  ...,  4.2653e-02,\n",
            "           -4.2432e-01,  3.0031e-02],\n",
            "          [-5.2553e-01,  8.5705e-01, -2.7338e-01,  ...,  6.8909e-01,\n",
            "            2.5846e-01, -3.6163e-01],\n",
            "          [ 3.8012e-01, -2.3271e-01, -3.1253e-02,  ...,  6.4592e-01,\n",
            "            8.4420e-01, -8.5765e-02],\n",
            "          ...,\n",
            "          [-7.4022e-01, -1.0881e-02,  6.7102e-01,  ...,  1.9677e-01,\n",
            "           -4.3148e-02, -9.5352e-01],\n",
            "          [ 1.2540e-01, -3.9955e-01, -1.1958e-01,  ...,  3.9661e-01,\n",
            "           -3.6965e-02, -1.6156e-01],\n",
            "          [-3.0846e-01, -3.5929e-01,  3.1931e-01,  ...,  4.5796e-01,\n",
            "           -3.7464e-01, -4.8434e-01]],\n",
            "\n",
            "         [[ 4.5447e-02, -1.3822e-01, -5.6856e-02,  ..., -5.8098e-01,\n",
            "            7.3407e-02,  3.3327e-02],\n",
            "          [ 5.5035e-01,  4.2462e-01,  4.6337e-01,  ..., -7.6674e-01,\n",
            "            9.1403e-02, -1.5542e-01],\n",
            "          [ 7.2705e-01,  3.0145e-01,  2.8900e-01,  ..., -5.9719e-01,\n",
            "            2.4916e-01, -5.0900e-01],\n",
            "          ...,\n",
            "          [-2.0968e+00, -5.3361e-01,  2.8822e-01,  ..., -1.2656e-01,\n",
            "            3.2089e-01,  7.6829e-02],\n",
            "          [-2.3624e+00, -3.5442e-01, -4.2166e-01,  ...,  6.6377e-02,\n",
            "            1.4549e-01, -2.6407e-01],\n",
            "          [-2.3746e+00, -1.8856e-01, -5.7284e-01,  ..., -2.7267e-02,\n",
            "            2.0433e-02,  2.1126e-01]],\n",
            "\n",
            "         ...,\n",
            "\n",
            "         [[ 1.4935e-01,  5.5228e-01, -5.8729e-02,  ...,  1.0577e-01,\n",
            "           -1.1574e+00, -1.3604e-02],\n",
            "          [ 6.0284e-02,  1.2530e-01,  4.9181e-01,  ...,  1.3695e-01,\n",
            "           -6.7045e-01, -4.2633e-01],\n",
            "          [ 1.8493e-01, -6.9590e-01,  4.7806e-01,  ...,  2.0362e-02,\n",
            "           -9.0122e-01, -2.4502e-01],\n",
            "          ...,\n",
            "          [ 4.6949e-01, -3.0106e-03,  3.3797e-01,  ...,  4.3212e-01,\n",
            "           -6.8436e-01,  1.7436e-01],\n",
            "          [-4.3546e-01, -8.0843e-01,  4.0877e-01,  ..., -2.3669e-01,\n",
            "           -6.9338e-01, -1.1892e-01],\n",
            "          [-1.6225e-01,  3.2384e-01, -3.9150e-01,  ...,  6.4358e-01,\n",
            "           -4.3874e-01,  4.1358e-01]],\n",
            "\n",
            "         [[ 3.3667e-01, -2.2411e-01, -1.9435e-01,  ...,  3.1840e-01,\n",
            "           -3.5641e+00, -1.4767e-01],\n",
            "          [ 2.1332e-02, -8.5411e-03,  1.1595e-01,  ...,  1.9420e-01,\n",
            "            4.1446e-02, -3.4024e-01],\n",
            "          [ 6.3698e-02,  6.1480e-01, -2.0242e-01,  ..., -2.4279e-01,\n",
            "           -2.3532e-01,  5.5387e-01],\n",
            "          ...,\n",
            "          [ 2.4349e-01,  1.0352e-01,  4.3862e-01,  ..., -1.3417e-02,\n",
            "           -1.6014e-01, -3.0010e-01],\n",
            "          [-1.8442e-01,  2.3680e-01, -4.0139e-02,  ...,  1.5227e-01,\n",
            "            2.3547e-02, -1.6408e-02],\n",
            "          [ 4.2982e-01, -2.7102e-01, -4.1381e-01,  ...,  1.0613e-01,\n",
            "            5.7978e-02,  1.3178e-01]],\n",
            "\n",
            "         [[ 1.0385e-01, -6.1643e-02, -8.1606e-02,  ..., -1.9553e-01,\n",
            "            1.6988e-01,  7.9386e-02],\n",
            "          [-2.1100e-01,  1.5290e-01,  2.3733e-01,  ..., -3.3029e-01,\n",
            "            2.1614e-01,  4.0428e-01],\n",
            "          [ 1.8181e-01, -1.6442e-01, -3.2193e-02,  ..., -4.0464e-01,\n",
            "            2.9006e-01,  1.6063e-01],\n",
            "          ...,\n",
            "          [ 6.5918e-02,  2.0418e-01,  3.8488e-02,  ..., -2.3368e-01,\n",
            "            3.8591e-01,  1.2906e-01],\n",
            "          [ 2.1669e-02, -1.8398e-01,  4.1319e-01,  ..., -7.8194e-02,\n",
            "            1.2140e-01, -5.9245e-02],\n",
            "          [ 3.7651e-01,  3.1253e-01,  3.1996e-02,  ..., -3.3454e-01,\n",
            "            9.4666e-02, -1.9251e-02]]]], device='cuda:0',\n",
            "       grad_fn=<PermuteBackward0>)), (tensor([[[[-1.1258e-01, -1.1088e+00,  2.8973e-01,  ..., -6.3421e-01,\n",
            "           -1.7726e-01,  3.7837e-03],\n",
            "          [-3.5963e-01, -2.1345e+00, -7.3419e-02,  ..., -6.7533e-02,\n",
            "           -1.3433e+00, -2.1160e-02],\n",
            "          [ 1.0481e+00, -2.8424e+00, -8.8800e-01,  ...,  1.7686e-02,\n",
            "           -1.3791e+00, -1.7854e-01],\n",
            "          ...,\n",
            "          [ 3.6476e-01,  4.8430e+00,  7.0563e-03,  ..., -6.6074e-01,\n",
            "           -1.1377e+00,  1.3386e+00],\n",
            "          [-2.5281e-02,  4.1494e+00, -8.4447e-01,  ..., -6.4588e-01,\n",
            "           -2.0842e-01,  3.6833e-01],\n",
            "          [ 4.6890e-01,  4.6242e+00,  5.5129e-02,  ..., -9.1809e-01,\n",
            "            6.1385e-01,  8.5214e-01]],\n",
            "\n",
            "         [[-5.2778e-01,  3.9466e-01, -3.2121e-01,  ...,  1.1577e+00,\n",
            "           -5.7213e-01, -4.4179e-01],\n",
            "          [-1.5333e+00,  1.0351e-01, -1.2756e+00,  ...,  1.8288e+00,\n",
            "            8.5322e-01, -5.2372e-01],\n",
            "          [-2.2091e+00, -7.8558e-01, -6.0225e-01,  ...,  1.2700e+00,\n",
            "            1.4337e+00, -3.7017e-01],\n",
            "          ...,\n",
            "          [-4.0593e-01, -3.0447e-02, -5.4288e-02,  ..., -1.3901e+00,\n",
            "           -1.1279e+00, -3.9613e-01],\n",
            "          [-1.1549e-01, -1.1477e+00,  1.1331e+00,  ..., -1.4451e+00,\n",
            "            9.4104e-02, -3.6496e-01],\n",
            "          [ 6.9493e-01, -7.5949e-01,  5.0555e-01,  ..., -1.5545e+00,\n",
            "           -6.9905e-01, -9.3395e-01]],\n",
            "\n",
            "         [[ 1.2186e+00,  3.0460e+00,  3.7205e+00,  ...,  6.2533e-01,\n",
            "            1.6636e+00, -7.7160e-01],\n",
            "          [-2.5627e+00,  1.9991e+00, -3.8393e+00,  ..., -2.6687e+00,\n",
            "            4.2692e+00, -5.1536e-01],\n",
            "          [-4.3889e+00,  4.7348e-01, -2.8094e+00,  ..., -3.5749e+00,\n",
            "            4.1869e+00,  1.2144e+00],\n",
            "          ...,\n",
            "          [ 5.4967e+00, -4.6364e+00,  5.1580e+00,  ...,  8.8532e+00,\n",
            "           -2.9785e+00,  9.1833e+00],\n",
            "          [ 4.7562e+00, -4.4706e+00,  4.8230e+00,  ...,  1.0242e+01,\n",
            "           -3.1483e+00,  1.0541e+01],\n",
            "          [ 6.2587e+00, -4.5891e+00,  5.2275e+00,  ...,  9.1004e+00,\n",
            "           -4.2482e+00,  1.0698e+01]],\n",
            "\n",
            "         ...,\n",
            "\n",
            "         [[ 1.3252e+00, -2.7270e+00, -2.7397e+00,  ...,  9.5941e-01,\n",
            "            4.3134e-01,  2.7145e+00],\n",
            "          [-1.9807e+00,  1.4109e+00,  1.0982e-01,  ..., -7.3415e-02,\n",
            "           -1.6292e+00, -6.1689e-01],\n",
            "          [-2.7503e+00,  2.2490e+00,  2.6680e-01,  ...,  6.8860e-01,\n",
            "           -1.7211e+00, -2.0912e-01],\n",
            "          ...,\n",
            "          [ 1.6285e+00, -2.6762e+00,  2.2263e+00,  ...,  1.6111e-01,\n",
            "            1.2655e+00, -5.9577e+00],\n",
            "          [ 1.7036e+00, -3.5071e+00,  4.6538e-01,  ..., -8.4371e-01,\n",
            "            1.9568e+00, -5.0864e+00],\n",
            "          [ 1.4360e+00, -3.2028e+00,  1.2326e+00,  ...,  8.1130e-01,\n",
            "            2.1891e+00, -6.8853e+00]],\n",
            "\n",
            "         [[ 1.7317e+00,  4.5925e-01,  9.2368e-01,  ...,  2.3702e-02,\n",
            "           -1.0098e+00, -3.0809e-01],\n",
            "          [ 2.5044e+00,  9.3826e-01,  1.3725e+00,  ...,  3.3132e-01,\n",
            "           -1.9191e+00, -1.5088e+00],\n",
            "          [ 2.2974e+00,  9.0861e-01,  1.3926e+00,  ..., -3.6219e-02,\n",
            "           -2.6331e+00, -5.3227e-01],\n",
            "          ...,\n",
            "          [-5.0209e+00, -8.7410e-01, -9.4008e-01,  ...,  5.0561e-01,\n",
            "            1.2465e+00, -2.6564e-01],\n",
            "          [-5.6241e+00, -5.6522e-01, -1.1097e+00,  ...,  6.1517e-01,\n",
            "            4.1203e-01, -4.9786e-02],\n",
            "          [-5.5604e+00, -1.1714e+00, -7.6009e-01,  ...,  7.0379e-01,\n",
            "            7.3195e-01, -1.2909e-02]],\n",
            "\n",
            "         [[-2.5208e-01,  1.5814e-01, -5.6552e-01,  ...,  3.1414e-01,\n",
            "            2.8355e-01,  2.2655e-01],\n",
            "          [-5.4896e-01,  1.3292e+00, -7.6002e-01,  ...,  3.1920e-01,\n",
            "            4.9465e-01, -3.3225e-01],\n",
            "          [ 7.6118e-01, -9.1802e-02,  1.5714e-01,  ..., -2.7112e-01,\n",
            "            2.3179e-03, -1.8629e-01],\n",
            "          ...,\n",
            "          [-3.0164e-01,  1.4253e-01, -7.2845e-01,  ...,  2.8696e-01,\n",
            "            3.9420e-01,  1.1666e-01],\n",
            "          [-7.2582e-02, -5.9391e-01, -9.2155e-01,  ...,  7.0654e-01,\n",
            "            7.1108e-01,  1.1291e+00],\n",
            "          [ 3.6288e-01,  4.4547e-01, -3.7376e-01,  ..., -2.9865e-01,\n",
            "            8.4844e-01,  6.1944e-01]]]], device='cuda:0',\n",
            "       grad_fn=<PermuteBackward0>), tensor([[[[ 0.0042,  0.0508, -0.1229,  ...,  0.0206,  0.0479, -0.5479],\n",
            "          [ 0.1879,  1.0196,  0.2191,  ..., -0.3370, -0.1251,  0.7980],\n",
            "          [-0.4378,  1.1454, -0.1207,  ..., -0.3107,  0.1573,  0.9472],\n",
            "          ...,\n",
            "          [-0.4807, -0.2710,  0.3491,  ...,  0.2909,  0.3528, -0.0782],\n",
            "          [-0.0428,  0.9310, -0.5584,  ...,  0.2470,  0.0097, -0.9151],\n",
            "          [-0.0870, -0.5059,  0.9345,  ...,  0.1803,  0.6021, -0.2131]],\n",
            "\n",
            "         [[ 0.0133, -0.0290,  0.0555,  ..., -0.0442,  0.0062,  0.0345],\n",
            "          [-0.5742,  0.4594, -0.6700,  ...,  0.3064, -1.0044, -0.2283],\n",
            "          [-0.5830,  0.0956,  0.1256,  ..., -0.0404, -0.0460,  0.7487],\n",
            "          ...,\n",
            "          [ 0.7481, -0.6694, -0.8765,  ..., -0.8539,  0.7020, -0.6109],\n",
            "          [-0.6696, -0.3278, -0.0503,  ..., -0.6449, -0.3269,  0.0742],\n",
            "          [ 0.4997, -0.3901,  0.0085,  ..., -0.3922, -0.0775,  0.1420]],\n",
            "\n",
            "         [[ 0.0140, -0.8073, -0.0366,  ...,  0.0730,  0.0084, -0.0269],\n",
            "          [ 0.7605, -0.8190,  0.3582,  ..., -0.5254, -0.7488, -0.1677],\n",
            "          [ 0.1355, -1.6392, -0.0346,  ..., -0.1854,  0.1202,  0.3645],\n",
            "          ...,\n",
            "          [-0.4109, -0.3122, -0.0671,  ..., -0.0670,  0.0711, -0.2438],\n",
            "          [ 0.3895, -1.3182, -0.2017,  ..., -0.1397, -0.1990,  0.1218],\n",
            "          [-0.5707, -0.4629,  0.9633,  ..., -1.0876, -0.2080,  0.3877]],\n",
            "\n",
            "         ...,\n",
            "\n",
            "         [[ 0.0142, -0.0709,  1.3435,  ..., -0.0737,  0.2010, -0.0282],\n",
            "          [-0.3658,  0.2215,  2.2695,  ..., -0.9571, -0.1540,  0.2139],\n",
            "          [ 0.4460,  0.1995,  2.5534,  ..., -0.3009, -0.1676,  0.4275],\n",
            "          ...,\n",
            "          [-0.1415,  0.9362,  0.6944,  ...,  0.9839, -0.3362, -0.2542],\n",
            "          [ 0.3780, -0.2440,  2.2590,  ..., -0.4179, -0.1446,  0.2270],\n",
            "          [-0.2636,  0.4505,  0.7947,  ...,  0.3100,  0.0403, -0.0388]],\n",
            "\n",
            "         [[-0.0313, -0.0907, -0.1506,  ...,  0.1141,  0.1292,  0.1926],\n",
            "          [-0.1614,  0.2219, -0.6226,  ...,  0.3985,  0.0057, -0.8910],\n",
            "          [ 0.2513,  0.6688, -0.6617,  ..., -0.2034,  0.2146, -0.7912],\n",
            "          ...,\n",
            "          [ 0.6822, -0.1341, -0.1212,  ...,  0.1821, -0.4496,  0.2033],\n",
            "          [ 0.9541,  0.6914, -0.2899,  ..., -1.0236, -0.8991,  0.1423],\n",
            "          [ 0.1221, -0.6744, -0.4295,  ..., -0.4942, -1.0821, -0.2419]],\n",
            "\n",
            "         [[ 0.0199,  0.0075,  0.0261,  ..., -0.0037,  0.2239,  0.0138],\n",
            "          [-0.6254, -0.4209,  0.2600,  ..., -0.3353, -1.4984,  0.5132],\n",
            "          [ 0.1898, -0.2615, -0.0942,  ..., -0.1028, -1.7093,  0.1591],\n",
            "          ...,\n",
            "          [-0.3676, -0.2405, -0.0664,  ...,  0.2250, -0.2407, -0.0518],\n",
            "          [-0.2926,  0.6298,  0.7460,  ..., -0.1798, -0.1076,  0.5194],\n",
            "          [ 0.9547, -0.2326,  0.2327,  ...,  0.2343, -0.3290,  0.5796]]]],\n",
            "       device='cuda:0', grad_fn=<PermuteBackward0>)), (tensor([[[[ 3.0508e-02, -2.2260e-01,  1.5264e-01,  ..., -8.9290e-01,\n",
            "            7.5289e-01, -1.1935e+00],\n",
            "          [-9.0427e-01, -7.6281e-01,  6.9902e-02,  ...,  3.1791e-01,\n",
            "            1.0621e+00, -8.2240e-01],\n",
            "          [-1.2313e+00,  2.8796e-01,  8.9068e-01,  ..., -3.6936e-01,\n",
            "           -1.3753e+00,  3.7205e-01],\n",
            "          ...,\n",
            "          [-1.8435e+00, -2.6694e+00,  1.8228e+00,  ...,  1.0448e+00,\n",
            "            3.8124e-01, -4.4569e+00],\n",
            "          [ 2.2665e+00, -2.9325e+00,  9.3358e-01,  ...,  1.3673e+00,\n",
            "           -2.2214e-01, -5.0422e-01],\n",
            "          [-8.6501e-01, -2.8259e-01, -1.6899e-01,  ...,  9.6071e-01,\n",
            "            2.5110e+00,  1.1455e+00]],\n",
            "\n",
            "         [[ 8.1046e-01,  1.8663e-01, -6.4914e-03,  ..., -1.5619e-01,\n",
            "           -1.0988e+00, -1.8967e-01],\n",
            "          [ 3.8143e-01, -1.9404e+00,  1.4262e-01,  ...,  3.4099e-01,\n",
            "            4.6372e+00,  1.4822e+00],\n",
            "          [ 6.4609e-01, -4.7493e-01,  4.3571e-01,  ..., -3.9065e-01,\n",
            "            6.2705e+00, -4.5909e-01],\n",
            "          ...,\n",
            "          [-3.9660e+00,  3.7092e+00, -2.1707e-01,  ..., -1.2971e+00,\n",
            "           -4.5433e+00, -5.5515e+00],\n",
            "          [-5.7505e+00,  3.4697e+00,  3.4881e+00,  ...,  7.0642e-01,\n",
            "           -5.0937e+00, -3.0695e+00],\n",
            "          [-4.0359e+00,  2.9948e+00,  2.3065e+00,  ..., -6.2241e-02,\n",
            "           -5.0625e+00, -3.7762e+00]],\n",
            "\n",
            "         [[ 3.4120e-01, -3.7081e-01, -3.0869e-01,  ...,  3.6410e-01,\n",
            "            1.4399e+00,  2.5755e-01],\n",
            "          [-6.0053e-01, -4.2017e+00, -2.5833e-01,  ..., -3.7578e+00,\n",
            "           -1.1673e+00, -6.7757e+00],\n",
            "          [-8.6384e-01, -7.4254e+00, -1.7811e+00,  ..., -6.6699e+00,\n",
            "           -2.9898e+00, -5.5937e+00],\n",
            "          ...,\n",
            "          [-1.4188e+01,  2.7812e+00, -2.7768e+00,  ...,  1.0646e+00,\n",
            "            3.1132e+00,  5.2428e+00],\n",
            "          [-1.4661e+01,  2.3887e+00, -3.2731e+00,  ..., -1.2982e-01,\n",
            "            3.0048e+00,  6.6567e+00],\n",
            "          [-1.5168e+01,  4.0398e+00, -2.8202e+00,  ..., -1.8765e+00,\n",
            "            3.4013e+00,  7.1728e+00]],\n",
            "\n",
            "         ...,\n",
            "\n",
            "         [[ 2.2782e-01,  1.7694e+00,  5.3587e-01,  ...,  2.5913e-01,\n",
            "            4.6895e-01, -1.6825e+00],\n",
            "          [-1.0336e+00, -5.2910e+00, -1.4691e+00,  ..., -1.4462e+00,\n",
            "           -9.2506e-01,  5.9482e+00],\n",
            "          [-1.1746e+00, -6.2827e+00, -1.4116e+00,  ..., -2.4946e+00,\n",
            "           -1.3883e+00,  6.5562e+00],\n",
            "          ...,\n",
            "          [ 3.8270e+00, -3.1269e+00, -1.1670e+00,  ...,  4.1915e+00,\n",
            "           -8.8691e-01, -4.2004e+00],\n",
            "          [ 2.1870e+00, -4.9029e+00, -3.2877e+00,  ...,  3.3887e+00,\n",
            "           -6.3055e-01, -4.8899e+00],\n",
            "          [ 2.6435e+00, -3.3946e+00, -2.9026e+00,  ...,  3.8016e+00,\n",
            "           -7.0497e-01, -5.5246e+00]],\n",
            "\n",
            "         [[ 5.4848e-02, -2.5668e-02,  1.4165e-01,  ..., -9.0588e-02,\n",
            "           -8.5854e-02, -1.3366e-01],\n",
            "          [ 1.3261e+00, -1.4248e+00,  8.4352e-01,  ..., -1.5402e+00,\n",
            "            7.9942e-01, -8.1269e-01],\n",
            "          [-5.0536e-01, -1.1218e-01, -1.3734e-01,  ...,  2.5749e-01,\n",
            "            7.8127e-01,  2.6160e-01],\n",
            "          ...,\n",
            "          [ 7.6059e-01,  2.7092e-01,  4.8743e-01,  ...,  4.2256e-01,\n",
            "            1.3244e-01,  7.1525e-01],\n",
            "          [-2.0875e-01, -2.8168e-01, -1.9213e-01,  ...,  8.9626e-01,\n",
            "           -4.3577e-01, -9.8913e-02],\n",
            "          [-7.6793e-01,  1.9585e-01, -2.9312e-01,  ...,  5.8104e-01,\n",
            "           -1.3661e-01, -1.4470e+00]],\n",
            "\n",
            "         [[ 3.9688e-01, -6.6984e-02,  1.8968e+00,  ..., -2.4403e-01,\n",
            "           -2.1560e-01, -1.0126e+00],\n",
            "          [ 2.2191e+00, -2.5383e-01, -3.6296e+00,  ...,  1.0320e+00,\n",
            "           -6.2095e-01,  1.3508e+00],\n",
            "          [ 3.7803e+00,  1.0518e+00, -1.9416e+00,  ...,  1.9702e+00,\n",
            "           -3.1626e-02,  3.1937e+00],\n",
            "          ...,\n",
            "          [-1.4149e+00,  2.6075e-01, -2.2796e+00,  ..., -2.6209e+00,\n",
            "           -3.0580e+00, -3.8175e+00],\n",
            "          [-3.0826e+00, -3.3410e-01, -3.9686e+00,  ..., -2.0360e+00,\n",
            "           -1.4025e+00, -3.4237e+00],\n",
            "          [-2.0190e+00,  7.3507e-01, -1.5830e+00,  ..., -1.7522e+00,\n",
            "           -1.8829e+00, -3.1190e+00]]]], device='cuda:0',\n",
            "       grad_fn=<PermuteBackward0>), tensor([[[[ 4.1882e-02,  6.4490e-02, -9.3272e-03,  ...,  1.6030e-02,\n",
            "            1.0052e-01,  3.5980e-02],\n",
            "          [ 8.7677e-02, -1.0369e+00,  3.8106e-01,  ...,  7.8717e-01,\n",
            "            1.6469e-01, -1.1409e+00],\n",
            "          [-9.9994e-02, -9.5953e-01,  7.9635e-01,  ...,  2.7094e-01,\n",
            "            5.0797e-01, -4.3013e-03],\n",
            "          ...,\n",
            "          [-5.0596e-01, -5.1111e-01,  4.4729e-01,  ..., -8.7307e-02,\n",
            "           -6.6279e-01, -4.4310e-01],\n",
            "          [-9.1905e-02, -3.6917e-02, -2.0248e-01,  ..., -5.1044e-01,\n",
            "           -7.2908e-01,  7.5405e-01],\n",
            "          [ 2.9028e-01, -2.3233e-01,  4.8472e-01,  ..., -9.4643e-01,\n",
            "           -5.7087e-01, -9.7335e-02]],\n",
            "\n",
            "         [[-3.3985e-02, -1.3486e-03,  8.3480e-02,  ..., -4.4081e-02,\n",
            "           -3.3619e-02, -5.0814e-02],\n",
            "          [ 2.1449e-01, -7.4274e-02, -6.6996e-02,  ...,  3.5892e-03,\n",
            "            5.8006e-01,  1.6818e-01],\n",
            "          [-2.0767e-02, -1.0556e+00,  3.0187e-01,  ...,  4.1493e-01,\n",
            "           -8.0225e-02, -4.6167e-02],\n",
            "          ...,\n",
            "          [ 2.6233e-01, -3.4261e-01,  1.4433e-01,  ...,  3.8177e-01,\n",
            "           -5.7292e-02, -1.2485e-01],\n",
            "          [-7.8232e-01, -1.5045e-01, -2.5397e-01,  ..., -3.6426e-02,\n",
            "            3.6517e-01, -3.4815e-01],\n",
            "          [ 4.5280e-01, -3.4567e-01,  1.2769e+00,  ...,  2.1610e-02,\n",
            "           -6.7254e-01,  6.7879e-01]],\n",
            "\n",
            "         [[ 3.5987e-02, -1.0232e-01, -4.4135e-02,  ..., -2.5785e-02,\n",
            "            8.6479e-02, -1.4895e-01],\n",
            "          [-1.8895e-01,  5.5789e-01,  5.3098e-01,  ...,  4.2070e-01,\n",
            "           -3.3715e-01,  3.0769e-01],\n",
            "          [ 9.5161e-01, -5.9383e-01,  7.4629e-01,  ..., -1.9668e-01,\n",
            "           -9.7665e-02, -6.6092e-01],\n",
            "          ...,\n",
            "          [ 8.9455e-02, -6.2078e-02, -9.0293e-02,  ...,  4.1447e-01,\n",
            "            3.4680e-01,  9.0737e-02],\n",
            "          [ 4.6936e-01,  6.1139e-01,  1.3608e-01,  ...,  3.8582e-02,\n",
            "            4.3866e-01, -7.8712e-01],\n",
            "          [ 3.1482e-01, -4.7761e-01, -1.5971e-01,  ...,  6.2153e-01,\n",
            "            1.5566e-01,  4.1218e-01]],\n",
            "\n",
            "         ...,\n",
            "\n",
            "         [[-2.3814e-02,  1.2032e-01, -7.7499e-03,  ..., -2.3475e-02,\n",
            "            5.9122e-02, -4.1239e-02],\n",
            "          [ 1.7839e-01,  6.3933e-01,  1.4145e-01,  ..., -3.6327e-01,\n",
            "           -4.4224e-01,  2.9996e-02],\n",
            "          [ 1.1296e-02,  6.4116e-01,  4.8253e-02,  ..., -2.9220e-01,\n",
            "           -4.5596e-01,  1.2534e-01],\n",
            "          ...,\n",
            "          [ 1.1246e-01,  9.9016e-02,  1.8606e-02,  ..., -1.7364e-01,\n",
            "           -3.9589e-01, -8.4926e-02],\n",
            "          [ 5.5714e-02,  8.2254e-02, -1.2691e-01,  ...,  7.8008e-01,\n",
            "            2.8650e-01, -1.3006e-01],\n",
            "          [-1.3379e-01,  5.1252e-01,  6.0348e-03,  ...,  9.8040e-02,\n",
            "            2.3850e-01, -3.2693e-01]],\n",
            "\n",
            "         [[-1.5903e-01, -1.2174e-01, -6.9957e-02,  ..., -2.3985e-01,\n",
            "           -1.6513e-02, -3.9757e-02],\n",
            "          [ 6.7847e-02,  2.7643e-01,  7.8497e-01,  ...,  1.2198e+00,\n",
            "            7.0609e-01,  1.0774e+00],\n",
            "          [ 6.8690e-02, -1.5643e-01,  7.0769e-01,  ..., -3.5691e-01,\n",
            "            2.5193e-01, -6.8323e-02],\n",
            "          ...,\n",
            "          [ 1.2501e+00, -1.1108e-01,  6.2847e-01,  ...,  5.3507e-01,\n",
            "           -1.1494e+00, -4.6061e-01],\n",
            "          [ 6.5500e-01,  7.2515e-01, -1.1886e+00,  ...,  4.2206e-02,\n",
            "           -7.6026e-01,  3.6414e-01],\n",
            "          [ 1.5759e+00, -1.3850e+00,  4.1820e-01,  ...,  1.7670e+00,\n",
            "           -7.1124e-01,  3.6389e-01]],\n",
            "\n",
            "         [[ 1.1859e-01, -8.5552e-02, -2.7463e-02,  ..., -1.7703e-02,\n",
            "           -9.0103e-02, -9.4804e-02],\n",
            "          [-4.8661e-01, -2.3310e-01, -2.5604e-01,  ..., -7.0504e-01,\n",
            "            1.1336e+00,  3.5972e-01],\n",
            "          [ 1.5211e-01, -1.0149e-02, -5.6292e-01,  ...,  3.3771e-01,\n",
            "           -7.3784e-01,  3.8717e-01],\n",
            "          ...,\n",
            "          [-1.4136e-01,  2.0968e-01, -1.0348e-01,  ..., -2.3387e-01,\n",
            "            3.5280e-01, -7.5110e-01],\n",
            "          [ 8.5109e-01, -2.8537e-01,  2.2407e-01,  ..., -1.7718e-01,\n",
            "           -2.5297e-01, -4.2367e-01],\n",
            "          [-1.6025e-01,  4.3183e-01,  8.6651e-03,  ...,  6.6410e-01,\n",
            "           -2.4783e-01,  5.3380e-02]]]], device='cuda:0',\n",
            "       grad_fn=<PermuteBackward0>)), (tensor([[[[-8.8230e-01, -1.4005e-01,  3.3679e-01,  ..., -9.7407e-01,\n",
            "            1.9440e-02, -2.9572e+00],\n",
            "          [ 1.4505e+00,  7.3338e-01, -2.6166e+00,  ..., -2.0990e+00,\n",
            "           -1.4210e+00,  9.4351e+00],\n",
            "          [ 1.9783e+00, -1.4355e-01, -3.6262e+00,  ..., -3.8123e+00,\n",
            "           -6.1771e-01,  8.2081e+00],\n",
            "          ...,\n",
            "          [-3.8484e+00,  1.3132e+00, -9.3752e-01,  ...,  1.7372e+00,\n",
            "            1.2123e+00,  6.5606e+00],\n",
            "          [-1.7947e+00, -2.9126e-01, -8.7814e-01,  ...,  2.4025e+00,\n",
            "            2.6865e+00,  7.0047e+00],\n",
            "          [-3.6259e+00,  2.8214e+00,  4.3229e-01,  ...,  2.4021e+00,\n",
            "            2.7026e+00,  6.1912e+00]],\n",
            "\n",
            "         [[ 3.7102e-01, -7.1686e-02,  4.7841e-01,  ..., -1.3458e-01,\n",
            "           -6.9245e-02, -2.2292e+00],\n",
            "          [-1.2633e+00,  9.9107e-01,  3.6006e+00,  ..., -1.4598e+00,\n",
            "           -2.6557e+00,  5.0311e+00],\n",
            "          [-1.0605e+00,  8.3033e-01,  2.2596e+00,  ..., -3.3762e-01,\n",
            "           -1.3910e+00,  4.4806e+00],\n",
            "          ...,\n",
            "          [ 3.4390e+00,  3.6617e+00, -6.2278e+00,  ...,  6.6630e+00,\n",
            "            3.3137e-01, -3.0527e+00],\n",
            "          [ 3.9017e+00,  4.1555e+00, -7.8040e+00,  ...,  7.7894e+00,\n",
            "            1.8665e+00, -1.9444e+00],\n",
            "          [ 3.1771e+00,  1.7017e+00, -7.5341e+00,  ...,  6.4803e+00,\n",
            "            1.9448e+00, -2.6525e+00]],\n",
            "\n",
            "         [[ 1.1640e-01, -6.5411e-01, -2.1746e-01,  ...,  1.4848e-01,\n",
            "            2.7450e-01, -1.7022e-01],\n",
            "          [ 7.5454e-01,  1.9752e+00, -2.5535e-01,  ...,  1.2648e+00,\n",
            "            2.2317e+00, -1.8766e+00],\n",
            "          [ 1.2217e+00,  3.6127e+00, -2.8786e-01,  ...,  4.8626e-01,\n",
            "            3.2144e-01, -1.6481e+00],\n",
            "          ...,\n",
            "          [ 1.9066e+00, -1.1114e+00,  1.9510e-01,  ..., -6.9251e-01,\n",
            "            1.7327e-02, -1.1832e+00],\n",
            "          [ 2.2690e-01, -1.6169e+00,  8.8621e-01,  ..., -7.4867e-01,\n",
            "           -4.9370e-01, -5.4742e-01],\n",
            "          [-3.2963e-01, -2.2255e+00,  2.7289e-01,  ..., -1.9556e+00,\n",
            "           -6.9405e-01,  1.1543e+00]],\n",
            "\n",
            "         ...,\n",
            "\n",
            "         [[-3.8907e-01,  2.1348e-02,  5.1327e-03,  ...,  1.2555e+00,\n",
            "            6.2962e-02,  1.7806e+00],\n",
            "          [ 6.7550e-01,  2.0925e-01,  5.3696e-01,  ..., -1.3165e+00,\n",
            "           -3.6294e-01, -7.1700e-01],\n",
            "          [ 8.3805e-01,  1.1029e-01,  1.4210e+00,  ..., -3.1046e+00,\n",
            "           -7.6323e-01, -7.2558e-01],\n",
            "          ...,\n",
            "          [ 9.0206e-01,  8.9769e-01, -3.8293e-02,  ..., -1.3087e-01,\n",
            "           -1.3114e+00, -4.2675e+00],\n",
            "          [-5.0070e-01,  1.4798e+00, -7.2243e-01,  ...,  3.6798e-01,\n",
            "           -7.6785e-01, -3.4360e+00],\n",
            "          [ 3.7269e-02,  1.5437e+00, -1.9582e+00,  ..., -7.2769e-02,\n",
            "            2.0348e-01, -2.5357e+00]],\n",
            "\n",
            "         [[-3.3280e-01, -1.1855e-01,  2.2112e-01,  ...,  2.5834e-01,\n",
            "           -3.4137e-02,  1.9058e-02],\n",
            "          [-6.2766e-01, -1.7119e-01,  8.9697e-01,  ..., -4.5576e-01,\n",
            "            3.2918e+00, -3.6845e-01],\n",
            "          [-6.3909e-02,  3.7120e-01,  4.7375e-01,  ..., -2.0622e-01,\n",
            "            2.5134e-01,  8.5541e-01],\n",
            "          ...,\n",
            "          [-3.6589e-01, -1.9048e+00,  2.4777e-01,  ..., -8.6211e-01,\n",
            "           -1.3371e+00, -2.0949e-01],\n",
            "          [ 1.1419e+00,  1.8713e+00, -6.2267e-01,  ...,  4.3179e-01,\n",
            "           -1.7054e+00, -4.3754e-01],\n",
            "          [-2.4828e-01, -7.5243e-01, -1.9131e+00,  ..., -4.4924e-01,\n",
            "           -8.5816e-01,  1.3093e-01]],\n",
            "\n",
            "         [[ 3.3855e+00,  2.1669e+00, -2.1247e+00,  ..., -2.8605e+00,\n",
            "           -3.8921e+00, -1.1778e+00],\n",
            "          [-7.1267e-01, -3.2341e-01,  3.9888e+00,  ..., -3.8401e+00,\n",
            "            9.7087e+00,  1.8231e-01],\n",
            "          [-8.2401e-01, -2.7303e+00,  3.1137e+00,  ..., -7.2438e+00,\n",
            "            1.1831e+01, -3.6034e+00],\n",
            "          ...,\n",
            "          [ 3.9496e+00,  3.3534e-01,  1.1162e+01,  ...,  2.1459e+01,\n",
            "            6.9401e+00, -9.2540e+00],\n",
            "          [ 5.0317e+00,  3.6761e-01,  1.1981e+01,  ...,  2.2638e+01,\n",
            "            8.5454e+00, -1.1995e+01],\n",
            "          [ 6.1962e+00, -1.3816e+00,  1.3731e+01,  ...,  2.2219e+01,\n",
            "            4.9307e+00, -1.1372e+01]]]], device='cuda:0',\n",
            "       grad_fn=<PermuteBackward0>), tensor([[[[-2.8015e-03, -4.2843e-02,  2.1946e-02,  ...,  5.9664e-02,\n",
            "            2.8541e-02,  7.5017e-02],\n",
            "          [-1.6229e-01, -1.6255e-01, -2.2697e-01,  ..., -2.3435e-01,\n",
            "           -1.7025e-01, -1.7819e-02],\n",
            "          [-3.9708e-02, -5.0444e-01,  6.1315e-01,  ...,  1.0786e-01,\n",
            "            2.2892e-01, -1.0761e-01],\n",
            "          ...,\n",
            "          [-5.3866e-01,  1.0036e-01, -2.8286e-01,  ..., -1.3875e-02,\n",
            "            6.4427e-01, -3.3909e-01],\n",
            "          [ 7.5219e-02, -1.7317e-01,  4.7526e-01,  ..., -4.9604e-01,\n",
            "            9.0023e-02,  8.5431e-02],\n",
            "          [ 3.0298e-01,  3.1379e-01,  6.9536e-02,  ...,  2.1076e-01,\n",
            "            3.7035e-01,  1.1955e-02]],\n",
            "\n",
            "         [[-6.7511e-02, -1.7221e-02, -1.4186e-01,  ..., -4.4599e-02,\n",
            "            4.3422e-02, -1.4441e-02],\n",
            "          [ 1.5147e-01, -1.3182e-01,  2.6088e-02,  ..., -1.7027e-01,\n",
            "           -2.8141e-01, -3.1606e-01],\n",
            "          [ 1.3362e+00, -7.4529e-02,  1.1200e+00,  ...,  3.6672e-01,\n",
            "           -1.1927e+00, -1.7662e-01],\n",
            "          ...,\n",
            "          [ 2.4395e-01,  6.0321e-01,  2.5006e-01,  ...,  7.5907e-01,\n",
            "            6.0017e-01, -2.1736e-01],\n",
            "          [ 5.3843e-03, -2.8865e-02,  4.7016e-01,  ...,  1.0624e-01,\n",
            "           -4.5958e-01,  2.9965e-01],\n",
            "          [ 3.5783e-01, -6.9734e-01,  7.9393e-01,  ..., -4.1034e-02,\n",
            "            4.5647e-01, -7.8973e-01]],\n",
            "\n",
            "         [[ 7.0874e-02,  8.7366e-02,  8.0504e-02,  ...,  1.9967e-02,\n",
            "           -8.7678e-02,  1.5890e-03],\n",
            "          [-1.5567e+00,  5.7647e-02, -3.3747e-01,  ..., -2.4446e-01,\n",
            "            3.4550e-02,  3.3328e-02],\n",
            "          [-6.5960e-01,  1.0798e-01,  2.7651e-01,  ...,  4.4568e-01,\n",
            "            1.2977e-01,  1.7774e-01],\n",
            "          ...,\n",
            "          [-6.4007e-01, -1.3617e-02,  3.3561e-01,  ...,  3.1934e-01,\n",
            "            8.8219e-02, -3.9873e-01],\n",
            "          [ 5.9591e-01,  7.4871e-02, -7.7191e-02,  ..., -2.7955e-01,\n",
            "            9.8016e-01, -3.7512e-01],\n",
            "          [ 2.3228e-01,  2.3913e-01, -2.5867e-01,  ...,  4.0894e-01,\n",
            "            6.8388e-01, -4.7195e-01]],\n",
            "\n",
            "         ...,\n",
            "\n",
            "         [[-7.1235e-03,  7.8853e-02, -8.0076e-02,  ...,  4.3391e-02,\n",
            "            4.2254e-02, -1.3848e-01],\n",
            "          [ 8.4597e-02, -7.1846e-01, -2.5944e-01,  ..., -3.2093e-01,\n",
            "            4.0566e-01,  3.3564e-02],\n",
            "          [-2.4178e-01, -6.5416e-01,  6.6906e-01,  ..., -1.3030e-01,\n",
            "            1.2860e+00, -1.9457e-01],\n",
            "          ...,\n",
            "          [ 1.0784e+00,  3.6563e-01, -1.9616e-01,  ...,  2.8319e-01,\n",
            "           -2.2095e-01, -1.2416e-01],\n",
            "          [ 1.3844e+00,  4.8297e-01,  5.6903e-02,  ...,  6.7879e-02,\n",
            "           -1.2922e-02, -1.1632e-01],\n",
            "          [-1.8626e-01, -2.1980e-01, -1.2286e-01,  ..., -3.5760e-02,\n",
            "            1.1857e-01,  4.6042e-01]],\n",
            "\n",
            "         [[-1.2629e-01, -4.8935e-02,  1.1181e-01,  ..., -6.4385e-02,\n",
            "            4.6905e-02, -1.4047e-02],\n",
            "          [ 1.9102e-01, -1.0185e+00, -1.7722e+00,  ..., -8.0473e-01,\n",
            "           -6.3993e-01, -5.9165e-01],\n",
            "          [-7.9653e-01,  4.9069e-01, -7.2147e-02,  ..., -5.1555e-01,\n",
            "            7.6019e-01, -1.0030e-01],\n",
            "          ...,\n",
            "          [-2.3843e-01, -7.5684e-02,  7.3258e-02,  ..., -1.1848e+00,\n",
            "            5.3501e-01, -1.3830e+00],\n",
            "          [ 8.6345e-02,  5.3349e-01, -1.0679e+00,  ...,  1.0115e+00,\n",
            "            3.5964e-01, -8.5343e-01],\n",
            "          [ 4.8529e-01,  1.5750e+00, -1.0066e+00,  ..., -1.1703e+00,\n",
            "            9.0489e-01, -1.2008e+00]],\n",
            "\n",
            "         [[-3.7456e-03, -9.2607e-03, -2.4621e-02,  ..., -2.7746e-02,\n",
            "            5.3264e-03, -1.2048e-02],\n",
            "          [ 1.0763e-01,  4.8515e-01,  3.5240e-01,  ...,  1.6711e-01,\n",
            "           -2.9559e-01,  3.5874e-01],\n",
            "          [ 3.5230e-01,  4.7251e-01, -1.9260e-01,  ..., -5.1735e-01,\n",
            "            3.4260e-01,  9.1316e-01],\n",
            "          ...,\n",
            "          [ 5.1659e-01,  1.7497e-01,  4.7961e-01,  ...,  5.9412e-01,\n",
            "            2.0533e-01, -6.3527e-01],\n",
            "          [-3.0704e-01, -3.6507e-01, -1.6326e-01,  ...,  1.1792e+00,\n",
            "            6.0752e-02,  4.8655e-01],\n",
            "          [-1.9312e-01, -8.0159e-01,  7.7930e-02,  ..., -4.3192e-01,\n",
            "            2.4090e-01,  2.5855e-01]]]], device='cuda:0',\n",
            "       grad_fn=<PermuteBackward0>)), (tensor([[[[ 2.4425e-02, -2.9901e-01,  2.2618e-01,  ...,  1.7002e+00,\n",
            "           -2.1425e-01, -7.5452e-02],\n",
            "          [-4.4929e-01,  1.2032e+00,  5.5626e-01,  ..., -4.4116e+00,\n",
            "            3.2454e-01, -1.8657e+00],\n",
            "          [ 5.5358e-01,  1.6804e+00, -8.1326e-01,  ..., -4.3272e+00,\n",
            "           -9.5297e-02, -2.2427e+00],\n",
            "          ...,\n",
            "          [-2.3733e-02,  1.0786e+00,  5.9700e-01,  ..., -2.6723e+00,\n",
            "            1.7100e+00,  1.3549e+00],\n",
            "          [ 1.9522e+00, -2.8011e+00,  6.3981e-01,  ..., -4.9543e+00,\n",
            "           -8.0092e-01, -8.0153e-02],\n",
            "          [ 7.5390e-02,  6.0142e-01,  1.6406e-01,  ..., -5.7001e+00,\n",
            "            5.7906e-01, -3.6527e-01]],\n",
            "\n",
            "         [[ 1.6053e-01,  9.7512e-01, -1.4212e+00,  ..., -1.1826e-01,\n",
            "            2.6721e-01,  9.2271e-01],\n",
            "          [-8.2110e-01, -5.1005e+00,  1.5315e+00,  ...,  7.1802e-01,\n",
            "            1.0158e+00, -2.2949e+00],\n",
            "          [-9.6506e-01, -5.3409e+00,  3.8890e+00,  ..., -4.6532e-01,\n",
            "            7.6607e-01, -4.9433e+00],\n",
            "          ...,\n",
            "          [ 1.7523e+00, -7.4514e-01,  1.6007e+00,  ..., -1.3561e+00,\n",
            "           -9.0658e-01, -1.3724e+00],\n",
            "          [-2.9564e+00, -6.2803e+00,  3.7269e+00,  ..., -1.2912e+00,\n",
            "            1.8645e+00, -3.4545e+00],\n",
            "          [ 2.5662e-01, -4.9388e+00,  9.7526e-02,  ..., -8.6426e-01,\n",
            "            1.0706e+00, -3.0317e+00]],\n",
            "\n",
            "         [[-6.6854e-01,  2.4147e-01, -4.0604e-02,  ...,  1.7321e-01,\n",
            "            3.9602e-02, -2.9668e-01],\n",
            "          [ 2.8882e+00, -7.2417e-01, -1.5015e+00,  ..., -9.4517e-01,\n",
            "            1.1701e-01,  5.1081e-01],\n",
            "          [ 2.4155e+00, -2.1480e+00,  3.1817e-01,  ..., -1.2878e+00,\n",
            "            1.4335e+00,  1.5222e-01],\n",
            "          ...,\n",
            "          [-1.4265e+00, -6.0411e-01,  4.7717e-01,  ..., -4.2281e-01,\n",
            "           -9.6009e-01,  8.4012e-01],\n",
            "          [-3.4992e+00,  5.4257e-01, -4.6655e-01,  ..., -3.0214e-01,\n",
            "            6.7277e-01, -1.0697e+00],\n",
            "          [-2.4956e+00,  8.4840e-01, -1.4777e+00,  ..., -9.9880e-02,\n",
            "            1.9989e+00, -1.3804e-02]],\n",
            "\n",
            "         ...,\n",
            "\n",
            "         [[-2.9694e-02,  1.2897e-01,  1.5171e-01,  ..., -1.0306e-01,\n",
            "            2.4162e-02,  1.6164e-01],\n",
            "          [ 1.3084e-01,  4.3246e-01, -1.5810e+00,  ...,  1.4277e+00,\n",
            "           -1.0373e+00,  9.9420e-01],\n",
            "          [-8.2762e-01,  6.5004e-01, -1.5811e+00,  ...,  9.2398e-01,\n",
            "           -1.6682e+00,  2.0432e-01],\n",
            "          ...,\n",
            "          [-2.1611e+00, -7.5025e-01,  1.8407e+00,  ...,  2.4703e-01,\n",
            "           -1.1395e-01,  1.0292e+00],\n",
            "          [-1.6131e+00, -1.1036e-01,  1.2467e+00,  ...,  1.8672e+00,\n",
            "           -3.0222e-01,  1.0282e+00],\n",
            "          [-1.7770e+00, -5.8299e-02, -5.9213e-01,  ...,  1.8481e+00,\n",
            "           -1.1000e+00,  1.3580e+00]],\n",
            "\n",
            "         [[-3.0105e+00,  4.0288e-01, -3.0686e-02,  ..., -4.7620e-01,\n",
            "           -3.6181e-01,  1.2402e+00],\n",
            "          [ 5.0467e+00,  1.1321e+00, -6.9216e-01,  ..., -5.9753e-01,\n",
            "            9.5411e-02, -2.4339e-01],\n",
            "          [ 5.2785e+00, -8.4180e-01,  7.6134e-01,  ..., -5.7950e-01,\n",
            "           -7.1737e-01, -6.1146e-01],\n",
            "          ...,\n",
            "          [ 1.3021e+00,  6.6802e-01, -6.1892e-01,  ...,  1.2354e+00,\n",
            "           -3.2640e+00, -1.3080e+00],\n",
            "          [ 1.2852e+00, -1.9956e+00,  3.0822e-02,  ..., -1.4218e+00,\n",
            "            1.6431e-01, -2.6662e+00],\n",
            "          [ 1.5022e+00,  1.2197e-01,  5.5231e-01,  ..., -3.1403e-01,\n",
            "           -4.7230e-01, -2.8869e+00]],\n",
            "\n",
            "         [[-1.0533e-02, -2.4607e-01,  2.7443e-03,  ..., -1.7876e-01,\n",
            "            3.2764e-01,  8.2148e-02],\n",
            "          [ 1.1690e+00, -2.1405e+00,  7.6136e-01,  ..., -8.7840e-01,\n",
            "            2.6286e-01,  6.8315e-01],\n",
            "          [ 6.8798e-01, -2.1306e+00,  9.9238e-01,  ...,  7.6128e-01,\n",
            "            3.6036e-01,  5.8474e-01],\n",
            "          ...,\n",
            "          [ 3.6546e-01,  1.6330e+00, -7.8790e-01,  ..., -9.1494e-01,\n",
            "           -1.3212e+00,  3.6703e-01],\n",
            "          [ 5.0991e-01, -3.6654e-01,  3.6502e-01,  ..., -1.8581e-01,\n",
            "            2.4006e+00,  9.4418e-01],\n",
            "          [ 4.9461e-01,  1.6173e+00, -1.3141e+00,  ..., -8.4449e-01,\n",
            "            7.5615e-01,  6.2292e-01]]]], device='cuda:0',\n",
            "       grad_fn=<PermuteBackward0>), tensor([[[[-0.0260, -0.0201,  0.0090,  ..., -0.0063, -0.0343,  0.3522],\n",
            "          [ 0.5607,  0.9064,  0.1732,  ..., -1.4130,  0.0731, -1.0401],\n",
            "          [-0.2165, -1.4758,  0.0679,  ..., -1.4690, -0.1262, -0.5833],\n",
            "          ...,\n",
            "          [ 0.5772,  1.9439, -0.0274,  ..., -1.7924, -1.6496,  0.6490],\n",
            "          [ 0.4368,  0.6425,  0.3340,  ...,  0.4749, -1.1919,  0.2096],\n",
            "          [ 0.2009,  0.7777,  1.0017,  ..., -0.3496, -0.6837,  0.3299]],\n",
            "\n",
            "         [[-0.0041, -0.0135,  0.0183,  ..., -0.0215,  0.0231,  0.0108],\n",
            "          [ 0.4630, -0.0188,  0.0641,  ..., -0.0959,  0.4468,  0.1959],\n",
            "          [ 0.6271, -1.5040,  0.3084,  ...,  1.0981,  2.3058, -0.4118],\n",
            "          ...,\n",
            "          [-0.7157,  1.4846, -0.8827,  ...,  1.0229, -1.5043,  0.1980],\n",
            "          [-1.4235, -0.0250, -0.9392,  ..., -0.6763,  1.1954, -0.9545],\n",
            "          [-1.1375,  0.6769, -0.9225,  ..., -1.0161,  0.2828,  0.2155]],\n",
            "\n",
            "         [[-0.0566,  0.0091, -0.0393,  ..., -0.0407,  0.0051, -0.0818],\n",
            "          [-0.4756, -0.7420, -0.8631,  ..., -0.4906,  1.3394, -0.8787],\n",
            "          [-0.6897,  0.4441, -0.1758,  ..., -0.2209,  0.6570, -1.1550],\n",
            "          ...,\n",
            "          [-0.3043,  0.3710,  0.0413,  ...,  0.2282,  0.4767, -0.3510],\n",
            "          [ 0.6061, -0.1375,  1.4206,  ..., -0.3336,  0.4621, -0.1909],\n",
            "          [-0.2321,  0.2892,  0.5218,  ..., -0.3941,  0.2364,  0.1104]],\n",
            "\n",
            "         ...,\n",
            "\n",
            "         [[-0.3324, -0.1904, -0.0728,  ..., -0.4847,  0.2203,  0.1020],\n",
            "          [ 1.9653, -0.8562,  0.1069,  ...,  1.2466, -0.2782,  0.6720],\n",
            "          [ 2.4777, -1.0036,  0.1618,  ..., -0.3298, -0.9456, -1.1232],\n",
            "          ...,\n",
            "          [-0.0246,  3.2266, -0.8706,  ..., -1.1138, -0.0996, -2.4477],\n",
            "          [ 0.0626,  1.3197,  1.6009,  ..., -1.5163, -0.3616, -3.0467],\n",
            "          [ 2.2208,  0.9583,  1.4514,  ...,  0.1690, -0.8972, -0.1427]],\n",
            "\n",
            "         [[-0.0805, -0.1338, -0.0433,  ..., -0.1887, -0.1398,  0.1256],\n",
            "          [ 0.5042,  0.0840, -0.3745,  ...,  0.1254,  0.8114,  0.1594],\n",
            "          [ 1.5797, -0.3734, -0.2039,  ...,  0.0923,  0.9635,  0.7250],\n",
            "          ...,\n",
            "          [ 1.4800,  0.1645, -0.2404,  ..., -0.8511,  0.3123, -0.5071],\n",
            "          [ 0.9610, -0.6791, -0.2062,  ...,  0.1692, -0.4198, -0.4158],\n",
            "          [ 1.9014,  0.3488, -1.3897,  ..., -0.0791,  0.6598, -1.0480]],\n",
            "\n",
            "         [[-0.0283, -0.0370,  0.0912,  ...,  0.0785, -0.0412,  0.0123],\n",
            "          [-0.1415, -0.3667,  0.2620,  ..., -1.2612,  0.1974, -0.4649],\n",
            "          [-0.3475, -0.4130, -0.6061,  ..., -0.3559, -0.1052,  0.3425],\n",
            "          ...,\n",
            "          [ 0.5836,  0.7850,  0.3725,  ...,  1.2860,  0.2601,  0.1020],\n",
            "          [-0.0950,  0.3744,  0.4682,  ..., -1.7897,  0.8434,  0.2612],\n",
            "          [-0.2090,  0.9285,  0.7014,  ..., -0.7881,  0.2499,  1.3379]]]],\n",
            "       device='cuda:0', grad_fn=<PermuteBackward0>)), (tensor([[[[-3.3578e-01,  8.6494e-01, -1.5782e-01,  ...,  1.1243e+00,\n",
            "           -1.7831e-01,  1.3638e-01],\n",
            "          [ 1.1581e+00, -3.9403e+00,  6.9242e-01,  ..., -2.4322e+00,\n",
            "           -1.5716e+00,  7.4258e-01],\n",
            "          [ 2.1009e-01, -4.9449e+00,  7.2445e-01,  ..., -3.3821e+00,\n",
            "           -2.7924e+00, -8.4251e-01],\n",
            "          ...,\n",
            "          [ 6.9876e-01,  7.2375e+00, -1.5919e-01,  ...,  4.2541e+00,\n",
            "           -1.6291e+00,  1.9638e-01],\n",
            "          [-2.5120e-01,  4.7680e+00,  8.2181e-01,  ...,  3.1051e+00,\n",
            "            2.6057e-01, -3.7793e-01],\n",
            "          [-1.4135e+00,  4.3610e+00, -1.4440e+00,  ...,  3.3618e+00,\n",
            "           -7.2593e-01, -1.1837e+00]],\n",
            "\n",
            "         [[ 6.0723e-02,  8.6226e-01, -6.4320e-01,  ..., -4.2258e-02,\n",
            "            2.9290e-01,  8.5186e-03],\n",
            "          [-8.5710e-01,  3.3301e+00,  4.2021e-02,  ...,  8.3503e-01,\n",
            "           -9.6870e-01, -1.5688e+00],\n",
            "          [ 4.0165e-01,  7.9078e-01,  2.6335e-01,  ...,  1.5840e+00,\n",
            "           -1.3503e+00, -1.8991e+00],\n",
            "          ...,\n",
            "          [-1.5079e+00,  1.0410e+00, -5.4250e-01,  ..., -1.7239e-01,\n",
            "           -1.0594e+00, -1.6198e+00],\n",
            "          [ 5.7159e-01, -7.6017e-01, -6.9620e-02,  ..., -6.7279e-01,\n",
            "           -1.6583e+00, -3.0480e+00],\n",
            "          [ 4.6106e-01,  2.7041e-01, -1.0101e+00,  ..., -1.4268e+00,\n",
            "           -1.3016e+00,  8.0170e-02]],\n",
            "\n",
            "         [[-3.1530e-01,  1.2470e-01, -9.8533e-01,  ..., -3.5174e-01,\n",
            "           -6.0202e-02, -1.3882e-01],\n",
            "          [-2.2054e-01, -4.9881e-01,  4.0888e+00,  ...,  6.9640e-01,\n",
            "           -1.9713e-01, -1.4814e-01],\n",
            "          [ 2.8163e-01, -5.7322e-01,  3.4324e+00,  ..., -1.0414e-01,\n",
            "           -2.3381e-01, -2.1810e-01],\n",
            "          ...,\n",
            "          [-3.8000e-01,  1.0644e+00,  3.8811e+00,  ..., -7.2522e-02,\n",
            "            6.7487e-01,  8.5823e-01],\n",
            "          [ 5.8374e-01,  3.2372e-01, -1.2569e-01,  ...,  4.5450e-01,\n",
            "            1.4933e+00,  8.9624e-01],\n",
            "          [ 1.0577e-01, -1.5388e-01,  1.2197e+00,  ...,  5.9394e-01,\n",
            "            7.1005e-01,  7.1302e-01]],\n",
            "\n",
            "         ...,\n",
            "\n",
            "         [[ 3.8411e-01,  8.0610e-02, -7.7487e-02,  ..., -3.1953e-02,\n",
            "            2.1622e-01,  1.0605e-02],\n",
            "          [-5.1070e-02, -1.7780e-01, -8.8464e-01,  ..., -2.7027e-01,\n",
            "            1.1123e+00,  4.4658e-02],\n",
            "          [ 1.2977e+00, -1.2721e-01,  6.8526e-01,  ...,  1.9351e+00,\n",
            "           -8.8184e-01,  2.1879e+00],\n",
            "          ...,\n",
            "          [-2.7564e-01, -6.2545e-01, -2.9611e-01,  ...,  1.0311e+00,\n",
            "            5.9199e-01,  5.3239e-01],\n",
            "          [ 2.2969e+00, -1.0555e+00,  2.4128e+00,  ...,  2.3918e+00,\n",
            "           -9.3345e-01, -2.1106e+00],\n",
            "          [ 1.3284e+00, -1.4940e+00,  1.5066e-01,  ...,  1.0060e+00,\n",
            "           -1.3224e-01, -2.0358e+00]],\n",
            "\n",
            "         [[ 2.0019e-01,  6.5883e-02,  3.2484e-01,  ...,  4.1552e-01,\n",
            "            1.3110e-02,  2.2381e-01],\n",
            "          [ 1.2991e+00, -2.3782e-01,  9.8312e-01,  ..., -1.4676e+00,\n",
            "           -8.0894e-01,  5.8672e-01],\n",
            "          [ 2.0478e+00, -7.3233e-01,  2.3831e+00,  ..., -1.9088e+00,\n",
            "            1.9682e-02, -3.2561e-02],\n",
            "          ...,\n",
            "          [-1.7293e-01, -4.8216e-02, -2.0569e+00,  ...,  1.0880e+00,\n",
            "           -1.4101e+00, -7.5049e-01],\n",
            "          [ 9.5798e-01, -1.9135e-01,  7.3070e-01,  ...,  1.7559e-01,\n",
            "           -5.3499e-01, -2.8082e+00],\n",
            "          [ 5.0869e-01,  1.0422e+00, -2.5225e-01,  ...,  4.8114e-01,\n",
            "           -7.4167e-01, -1.0370e+00]],\n",
            "\n",
            "         [[-3.0144e+00,  5.5559e-01,  5.5824e-01,  ..., -9.2879e-01,\n",
            "            3.1234e-01,  2.1565e-01],\n",
            "          [ 8.8162e+00, -9.0366e-01, -9.7587e-01,  ...,  2.9824e+00,\n",
            "            4.3610e-01,  2.4870e+00],\n",
            "          [ 9.2894e+00, -1.9625e-01, -1.2155e+00,  ...,  3.0007e+00,\n",
            "            1.5734e+00,  1.0466e+00],\n",
            "          ...,\n",
            "          [ 2.0756e+00,  2.6914e+00,  7.9171e-01,  ..., -8.0596e+00,\n",
            "            1.0419e+00,  1.4756e+00],\n",
            "          [ 1.5403e+00,  1.5636e+00,  6.7908e-01,  ..., -7.4611e+00,\n",
            "            1.3113e+00,  2.8387e+00],\n",
            "          [ 6.0431e-01,  8.6766e-01, -7.8612e-02,  ..., -6.6684e+00,\n",
            "            1.7244e-01,  6.1363e-01]]]], device='cuda:0',\n",
            "       grad_fn=<PermuteBackward0>), tensor([[[[ 5.1141e-02, -4.3904e-02,  1.0421e-02,  ..., -7.0718e-02,\n",
            "            4.0157e-03, -8.7774e-02],\n",
            "          [ 6.0882e-02, -8.6516e-02,  1.4322e-01,  ..., -4.8078e-01,\n",
            "            8.0571e-01,  8.4319e-02],\n",
            "          [-7.3998e-01, -3.7144e-01,  5.2788e-01,  ..., -1.3479e+00,\n",
            "            9.3616e-02, -9.1560e-02],\n",
            "          ...,\n",
            "          [-3.6736e-01,  2.0405e-01, -3.5015e-01,  ..., -3.4239e-01,\n",
            "           -5.1794e-01,  1.8327e-01],\n",
            "          [ 2.2519e-01, -7.5209e-02,  3.6006e-01,  ...,  1.1873e+00,\n",
            "            5.4930e-01, -8.5700e-01],\n",
            "          [-1.2886e-01, -3.8101e-01, -4.4396e-01,  ..., -3.2681e-01,\n",
            "            4.1438e-01, -1.0272e+00]],\n",
            "\n",
            "         [[ 6.9888e-02,  1.9044e-02, -2.6442e-02,  ..., -2.8091e-02,\n",
            "            8.5949e-03, -8.9132e-03],\n",
            "          [ 3.6132e-01,  1.2850e+00,  7.1961e-01,  ...,  7.1921e-01,\n",
            "           -8.5181e-01, -4.0725e-02],\n",
            "          [ 7.1099e-01,  1.0864e+00,  8.2041e-01,  ...,  4.2360e-02,\n",
            "           -2.9408e-01,  7.9113e-02],\n",
            "          ...,\n",
            "          [ 9.4856e-01,  5.8320e-01, -1.4513e+00,  ...,  1.7021e-01,\n",
            "           -6.7010e-02, -6.2509e-01],\n",
            "          [-4.3691e-01,  6.8372e-01, -1.9322e+00,  ...,  2.5387e-01,\n",
            "           -2.9127e-01, -4.3021e-01],\n",
            "          [ 1.2368e+00,  1.1266e+00,  5.5918e-01,  ...,  4.0493e-02,\n",
            "            9.7272e-01, -1.1044e+00]],\n",
            "\n",
            "         [[ 7.8181e-02,  1.2402e-02,  3.8624e-03,  ...,  2.5141e-02,\n",
            "           -7.0518e-02, -6.1704e-02],\n",
            "          [ 8.7376e-01,  1.0396e+00, -2.9467e-01,  ..., -2.5575e-01,\n",
            "            6.5329e-02,  8.3289e-01],\n",
            "          [ 8.5782e-01,  1.1667e-01,  1.9006e-01,  ..., -4.1140e-02,\n",
            "           -4.5988e-01, -1.2809e-01],\n",
            "          ...,\n",
            "          [ 6.4732e-01, -5.9210e-01, -1.1729e+00,  ..., -1.8960e-01,\n",
            "           -2.0925e-01,  1.3624e+00],\n",
            "          [-7.0211e-01, -8.8099e-01,  8.4652e-01,  ..., -1.9747e-01,\n",
            "           -7.2265e-01,  3.6256e-01],\n",
            "          [-3.8727e-02, -5.8348e-01, -1.4115e+00,  ..., -1.1020e+00,\n",
            "            1.4370e-01, -9.2239e-01]],\n",
            "\n",
            "         ...,\n",
            "\n",
            "         [[ 4.7203e-03,  2.5397e-02,  1.7264e-02,  ..., -7.3335e-02,\n",
            "           -1.9856e-02,  1.3880e-02],\n",
            "          [-9.2858e-01, -1.1265e-01, -1.5177e-01,  ...,  2.3416e+00,\n",
            "            1.5221e+00, -1.2449e+00],\n",
            "          [-2.4664e+00, -4.9434e-01, -4.0060e-01,  ...,  1.3075e+00,\n",
            "           -6.2337e-01, -1.1776e-01],\n",
            "          ...,\n",
            "          [ 1.4131e+00, -4.8775e-01, -3.2083e-02,  ...,  3.2141e-01,\n",
            "            1.0158e+00, -5.8416e-01],\n",
            "          [-4.9858e-01, -3.3176e-01,  1.0092e+00,  ..., -2.5443e-01,\n",
            "            4.1333e-01,  6.2520e-01],\n",
            "          [-4.9204e-01,  1.9972e+00,  2.7549e-01,  ..., -2.4337e-01,\n",
            "           -2.4304e-01, -1.3044e+00]],\n",
            "\n",
            "         [[ 4.5729e-02, -1.4005e-02,  2.1403e-02,  ...,  3.1315e-02,\n",
            "           -8.0189e-03,  2.6655e-03],\n",
            "          [ 7.1634e-01,  9.9686e-01,  6.2863e-01,  ..., -6.6376e-01,\n",
            "           -9.4646e-01,  6.0482e-01],\n",
            "          [ 1.1364e+00,  9.5070e-01,  3.0231e-01,  ..., -3.8568e-01,\n",
            "            7.0480e-01, -8.2204e-01],\n",
            "          ...,\n",
            "          [ 3.3312e-02,  4.0099e-01,  3.0124e-01,  ...,  7.3956e-01,\n",
            "           -1.8175e+00, -5.9321e-01],\n",
            "          [ 3.6019e+00, -7.6430e-01, -1.4517e+00,  ..., -1.4105e+00,\n",
            "           -9.3261e-01, -1.8676e-01],\n",
            "          [ 1.6626e+00, -7.2553e-01, -1.4037e-01,  ..., -3.5343e-01,\n",
            "           -3.8818e-01, -4.3029e-01]],\n",
            "\n",
            "         [[ 7.2741e-02, -1.9836e-01, -7.2501e-02,  ..., -3.1681e-02,\n",
            "            1.9165e-01, -4.7206e-02],\n",
            "          [-2.3013e-01, -1.5298e-01,  1.4290e-03,  ...,  2.4428e-02,\n",
            "           -1.2480e-01,  7.6779e-01],\n",
            "          [ 1.0441e+00, -1.0411e-01, -4.6174e-01,  ..., -4.5792e-01,\n",
            "            4.2919e-02, -4.3127e-02],\n",
            "          ...,\n",
            "          [-1.9233e-01, -2.1257e-01,  6.1869e-01,  ..., -2.5228e-01,\n",
            "           -1.2150e+00,  3.3478e-01],\n",
            "          [-7.6135e-01,  3.7828e-01,  2.2031e-01,  ..., -1.0734e+00,\n",
            "           -5.1948e-01,  7.6063e-01],\n",
            "          [-1.2065e+00, -3.0519e-01, -1.1891e+00,  ...,  6.8923e-01,\n",
            "            3.2043e-01,  5.6776e-01]]]], device='cuda:0',\n",
            "       grad_fn=<PermuteBackward0>)), (tensor([[[[ 1.0499e+00, -2.6094e-01, -1.4624e-01,  ...,  6.4066e-01,\n",
            "            7.3481e-01, -3.1200e-01],\n",
            "          [-3.8855e+00, -1.8527e+00,  5.1827e-01,  ...,  1.6227e+00,\n",
            "           -4.8304e+00, -4.2280e-01],\n",
            "          [-3.6685e+00, -1.9287e+00, -4.6527e-01,  ...,  1.7337e+00,\n",
            "           -4.7488e+00,  6.5352e-01],\n",
            "          ...,\n",
            "          [ 2.0306e+00, -2.9607e+00, -1.3981e+00,  ...,  2.9919e+00,\n",
            "            4.2261e+00,  5.8651e-01],\n",
            "          [ 2.5618e+00, -2.8656e+00, -1.4705e+00,  ...,  3.3720e+00,\n",
            "            7.2876e+00, -8.4896e-03],\n",
            "          [ 3.7783e+00, -1.8974e+00, -9.1665e-01,  ...,  1.6139e+00,\n",
            "            6.3081e+00, -6.6751e-02]],\n",
            "\n",
            "         [[-1.4052e-01, -6.4055e-02,  1.6708e-01,  ..., -5.0385e-02,\n",
            "           -8.8839e-01, -1.9052e-01],\n",
            "          [ 8.8193e-01,  6.7666e-01,  5.7002e-02,  ..., -1.5782e+00,\n",
            "           -4.2400e-02,  8.2235e-01],\n",
            "          [ 6.5311e-01,  7.7712e-01,  9.4035e-01,  ..., -2.1772e+00,\n",
            "            1.2545e+00, -2.4067e-01],\n",
            "          ...,\n",
            "          [ 2.0520e+00,  1.2029e+00,  1.1550e+00,  ..., -1.2104e+00,\n",
            "            2.4830e+00,  2.1338e+00],\n",
            "          [-3.3056e-01,  1.6123e-01,  1.2147e+00,  ..., -2.4590e+00,\n",
            "           -1.1624e+00,  1.7985e+00],\n",
            "          [ 5.3329e-01,  1.2295e+00, -3.2593e-01,  ..., -1.7486e+00,\n",
            "            2.3694e-01, -3.1351e-01]],\n",
            "\n",
            "         [[ 1.9705e-01,  3.1511e-01,  1.1296e+00,  ..., -4.5656e-01,\n",
            "            4.3585e-01, -4.9803e-01],\n",
            "          [-1.7619e-01, -1.6425e+00, -9.3637e-01,  ..., -2.0773e-01,\n",
            "           -1.6329e+00,  2.4689e+00],\n",
            "          [-1.2076e-01, -3.0531e-01, -2.5481e+00,  ...,  2.6949e+00,\n",
            "           -2.0058e+00,  2.1738e+00],\n",
            "          ...,\n",
            "          [ 1.1998e+00,  1.1976e-01,  1.8784e+00,  ...,  1.0680e+00,\n",
            "            1.0292e+00,  1.7515e+00],\n",
            "          [ 3.0337e-01,  1.2406e+00, -2.1963e+00,  ...,  4.7929e-01,\n",
            "           -8.1769e-01, -1.6774e+00],\n",
            "          [-2.6795e+00, -1.4912e+00, -1.2351e+00,  ...,  2.5926e-01,\n",
            "            4.0593e-02, -1.0028e+00]],\n",
            "\n",
            "         ...,\n",
            "\n",
            "         [[-1.5123e-01,  7.1820e-02, -2.2811e-01,  ...,  4.1856e-04,\n",
            "            1.5596e-01,  2.9428e-02],\n",
            "          [-1.7345e+00, -6.7996e-02, -1.2671e-01,  ...,  3.3398e+00,\n",
            "           -2.4775e-01, -7.3970e-01],\n",
            "          [-2.4482e+00, -2.0323e-03,  1.5953e+00,  ...,  2.3332e+00,\n",
            "           -3.0621e-01,  1.0324e+00],\n",
            "          ...,\n",
            "          [-3.0244e-01,  1.4074e+00,  8.8418e-02,  ..., -2.5977e-02,\n",
            "            8.2211e-02, -2.3758e-01],\n",
            "          [ 3.7017e-01, -3.3262e-03,  1.5071e+00,  ...,  3.8102e-02,\n",
            "            1.2410e+00,  2.8955e-01],\n",
            "          [-1.0232e+00, -1.6968e-01,  3.5128e-01,  ...,  1.5510e+00,\n",
            "            3.0083e+00,  1.9972e-01]],\n",
            "\n",
            "         [[-3.5156e-01, -2.1933e+00,  1.1372e-01,  ..., -8.6831e-02,\n",
            "           -4.2204e-02,  9.1871e-01],\n",
            "          [ 1.5226e+00,  2.0782e+00, -8.7395e-01,  ...,  1.8884e-01,\n",
            "           -9.6804e-01,  6.9135e-01],\n",
            "          [ 1.1521e+00,  4.8939e+00,  3.7345e-01,  ...,  1.7677e+00,\n",
            "            5.5164e-01, -7.2639e-02],\n",
            "          ...,\n",
            "          [-7.5488e-01,  2.2302e+00, -5.2535e-01,  ...,  5.1311e-01,\n",
            "           -4.1401e-02, -7.4427e-01],\n",
            "          [-1.7522e+00,  4.3577e+00,  3.5895e-01,  ...,  1.9666e+00,\n",
            "           -1.6381e+00, -2.2464e+00],\n",
            "          [-5.0859e-01,  5.1518e+00,  8.9985e-01,  ..., -3.3698e-01,\n",
            "           -1.3081e+00,  4.9464e-01]],\n",
            "\n",
            "         [[ 3.6793e-01,  7.5982e-02, -1.3786e-01,  ...,  6.4646e-01,\n",
            "            1.3555e-01,  2.5748e-01],\n",
            "          [ 8.7830e-01, -3.1055e-01, -5.7568e-01,  ..., -8.9461e-01,\n",
            "            2.2743e-01, -6.2918e-01],\n",
            "          [ 3.6736e-01, -2.3998e-01, -1.5444e+00,  ..., -1.0994e+00,\n",
            "           -2.5865e-01, -3.5227e-01],\n",
            "          ...,\n",
            "          [ 2.4864e+00,  4.5720e-01, -7.1563e-01,  ...,  5.2346e-01,\n",
            "            5.4557e-01, -3.7989e-01],\n",
            "          [-6.6229e-01, -1.1256e+00,  1.5798e+00,  ...,  2.6840e+00,\n",
            "           -1.0650e+00, -9.6297e-01],\n",
            "          [ 3.1360e-02, -1.3288e+00, -4.3245e-01,  ...,  2.7056e+00,\n",
            "           -1.1352e+00, -7.3983e-01]]]], device='cuda:0',\n",
            "       grad_fn=<PermuteBackward0>), tensor([[[[-3.6090e-02,  5.8404e-02, -4.7430e-02,  ..., -1.6448e-02,\n",
            "            6.5290e-03,  2.0813e-02],\n",
            "          [-3.8659e-02,  1.3023e-01, -3.7668e-01,  ...,  2.2999e-01,\n",
            "           -2.7569e-01, -1.1130e-01],\n",
            "          [ 2.5272e-01, -5.8668e-02,  1.0177e-01,  ..., -5.7291e-01,\n",
            "            2.1463e-01, -1.0921e+00],\n",
            "          ...,\n",
            "          [-8.4686e-01, -2.3292e-01,  9.4581e-02,  ...,  6.4348e-02,\n",
            "           -9.6750e-01,  4.5240e-01],\n",
            "          [-1.0029e-01, -2.6403e-01, -1.5917e-01,  ...,  2.9726e-01,\n",
            "           -6.0014e-03, -4.8450e-01],\n",
            "          [ 4.5350e-01,  2.1535e+00, -6.6197e-01,  ...,  5.8652e-01,\n",
            "            2.0563e-01,  1.7808e-02]],\n",
            "\n",
            "         [[ 1.0002e-02, -2.6317e-02,  2.8788e-02,  ...,  2.0878e-02,\n",
            "           -5.0190e-02,  1.7778e-02],\n",
            "          [ 1.6021e-01, -8.6994e-02, -9.8410e-02,  ...,  4.4047e-01,\n",
            "            6.2395e-01, -1.7018e-02],\n",
            "          [ 1.5649e-01,  6.8213e-01, -1.3527e+00,  ..., -4.8622e-02,\n",
            "           -1.2531e-01,  1.2809e-01],\n",
            "          ...,\n",
            "          [-4.3128e-01,  4.0934e-01, -7.6675e-01,  ...,  1.9070e-01,\n",
            "           -5.4144e-02,  1.9525e-01],\n",
            "          [-9.0666e-01,  2.0743e-01, -1.7102e+00,  ...,  1.4063e+00,\n",
            "            2.3364e-01,  3.8794e-01],\n",
            "          [-1.0456e+00, -1.4573e-01, -2.2196e+00,  ...,  9.3170e-01,\n",
            "           -3.1207e-01,  1.3785e+00]],\n",
            "\n",
            "         [[ 2.8050e-02, -3.8394e-02,  4.2667e-02,  ...,  1.8323e-02,\n",
            "           -7.2851e-03,  6.6779e-03],\n",
            "          [ 1.1513e-01, -1.5915e-02, -1.5025e+00,  ...,  7.1326e-01,\n",
            "            5.7315e-01,  6.6018e-01],\n",
            "          [-9.7242e-01, -1.2211e+00, -1.2039e-01,  ...,  5.7054e-01,\n",
            "           -9.3362e-01,  1.4630e+00],\n",
            "          ...,\n",
            "          [-2.0712e-01, -1.4159e+00, -2.2846e+00,  ..., -6.8994e-01,\n",
            "           -6.3215e-01,  2.5757e+00],\n",
            "          [-9.6059e-01, -1.2956e+00,  9.6582e-01,  ...,  4.2926e-01,\n",
            "            9.8419e-01, -7.6113e-01],\n",
            "          [-2.2459e-01, -6.5848e-01, -6.4441e-01,  ..., -1.7005e+00,\n",
            "           -9.3605e-01, -7.0476e-01]],\n",
            "\n",
            "         ...,\n",
            "\n",
            "         [[-1.8594e-01,  9.0682e-02,  4.9690e-02,  ...,  4.3440e-02,\n",
            "            3.8206e-02, -1.2884e-01],\n",
            "          [-4.6724e-01,  2.3303e-01, -3.2983e-01,  ...,  8.8661e-01,\n",
            "            1.2416e+00, -6.0305e-01],\n",
            "          [ 2.5734e-01,  9.7908e-02, -6.2732e-01,  ..., -2.6661e-01,\n",
            "            5.5801e-01, -5.8438e-01],\n",
            "          ...,\n",
            "          [-2.4561e-01,  2.9098e-01, -8.0993e-01,  ...,  2.1036e+00,\n",
            "            1.3640e+00,  1.1424e-01],\n",
            "          [ 5.5170e-01,  1.2391e+00,  3.9278e-01,  ...,  3.0656e-01,\n",
            "            7.6588e-02, -3.5916e-01],\n",
            "          [ 7.3930e-01,  1.0535e+00, -3.4437e-01,  ...,  3.8062e-01,\n",
            "           -1.1524e-01,  7.6288e-03]],\n",
            "\n",
            "         [[-5.9095e-01, -5.1091e-03,  4.9711e-02,  ..., -6.8232e-03,\n",
            "            1.0263e-02, -1.0583e-03],\n",
            "          [-2.0097e+00,  1.2185e-01, -5.2325e-01,  ...,  1.3591e+00,\n",
            "           -1.8746e+00, -5.1498e-01],\n",
            "          [-2.0470e+00, -6.0769e-02,  2.7959e-02,  ...,  2.1656e-02,\n",
            "           -1.8679e-01,  4.4242e-01],\n",
            "          ...,\n",
            "          [-7.4305e-01,  1.2621e+00, -1.6931e-01,  ...,  2.8188e-01,\n",
            "            1.2538e+00,  1.6477e-01],\n",
            "          [-1.4480e+00,  4.2001e-01, -6.8932e-01,  ..., -1.0716e+00,\n",
            "           -1.7584e+00,  7.2608e-01],\n",
            "          [-1.5356e+00,  9.8063e-01,  1.0667e+00,  ..., -1.9285e-04,\n",
            "            2.9837e-01,  8.2929e-01]],\n",
            "\n",
            "         [[ 4.1802e-03,  8.6289e-02, -4.7156e-02,  ...,  6.4784e-02,\n",
            "            3.7624e-02, -3.6941e-02],\n",
            "          [-7.3085e-01,  2.9514e-01, -9.4314e-01,  ...,  4.2728e-01,\n",
            "           -2.2769e+00, -4.6320e-01],\n",
            "          [ 1.1175e+00,  1.4856e+00,  1.4559e-01,  ..., -5.6023e-01,\n",
            "           -1.3624e+00, -5.0731e-01],\n",
            "          ...,\n",
            "          [-1.6620e+00,  2.7256e-01, -5.2156e-01,  ..., -6.8135e-01,\n",
            "           -9.3009e-01,  3.7738e-01],\n",
            "          [-1.7730e+00,  5.9095e-01,  6.5057e-01,  ...,  9.1305e-01,\n",
            "           -4.1112e-01, -1.0398e+00],\n",
            "          [ 2.8975e-01, -4.4370e-01,  2.1184e-03,  ...,  8.7332e-01,\n",
            "           -1.6702e+00,  2.5298e-01]]]], device='cuda:0',\n",
            "       grad_fn=<PermuteBackward0>)), (tensor([[[[-0.0268, -2.3484,  0.1738,  ..., -0.2339, -0.1850,  0.0804],\n",
            "          [-0.2343,  4.5554, -0.1075,  ..., -0.7293, -0.6259,  1.2742],\n",
            "          [-0.5384,  5.4749,  0.2193,  ...,  0.4099,  0.8878, -0.5485],\n",
            "          ...,\n",
            "          [ 0.6680,  2.2203, -2.5778,  ...,  1.0192,  0.1842,  1.5429],\n",
            "          [ 0.8570,  1.5789, -0.4326,  ..., -0.2340,  2.5325,  0.6811],\n",
            "          [ 0.0600,  1.5363, -0.8122,  ..., -0.7018,  1.3454,  0.2577]],\n",
            "\n",
            "         [[-0.8116,  0.2276,  0.4685,  ..., -0.5214,  1.0647,  1.1201],\n",
            "          [ 1.1818,  1.5400, -0.4437,  ..., -0.6383,  2.6018, -1.0623],\n",
            "          [ 0.7592,  1.4697, -1.2026,  ..., -0.6015,  1.7175, -1.3241],\n",
            "          ...,\n",
            "          [ 0.2735, -1.6383,  0.8530,  ...,  1.6201,  0.4191, -1.3575],\n",
            "          [-0.2665, -0.0385,  0.7853,  ...,  0.1247,  0.0855, -1.9320],\n",
            "          [-0.7729,  0.5692,  1.6605,  ...,  2.2345, -0.1910, -2.7704]],\n",
            "\n",
            "         [[-0.8658,  0.4789,  0.0214,  ...,  0.4886, -0.2292,  1.1553],\n",
            "          [ 0.9848, -0.2449,  1.1803,  ..., -0.2063,  1.4382,  0.0942],\n",
            "          [ 0.6995, -0.0449,  0.6868,  ...,  0.0564,  0.5091,  0.0187],\n",
            "          ...,\n",
            "          [-0.6293, -1.2908,  1.0329,  ...,  0.0265, -0.8616, -1.3554],\n",
            "          [-1.5773,  0.2863, -0.3503,  ...,  1.0165, -1.3400, -2.7442],\n",
            "          [-1.6498, -0.7062, -0.8655,  ..., -1.3078, -0.7433, -2.9193]],\n",
            "\n",
            "         ...,\n",
            "\n",
            "         [[-0.3004, -0.1312,  0.1413,  ...,  0.1929,  1.7425, -2.8649],\n",
            "          [-1.3007, -1.1076, -0.5527,  ..., -0.4215, -4.7389,  5.2278],\n",
            "          [-1.7076, -2.3143, -1.2300,  ...,  0.3700, -5.2440,  5.8453],\n",
            "          ...,\n",
            "          [-0.7237, -0.5495, -2.4949,  ...,  0.8342, -0.8208,  2.5631],\n",
            "          [ 0.8233, -1.2968, -1.6638,  ...,  1.0519,  0.2370,  3.2232],\n",
            "          [ 1.1466,  0.2876, -1.3567,  ..., -0.2367, -0.7591,  3.5294]],\n",
            "\n",
            "         [[ 0.1853,  0.3700,  0.2141,  ..., -0.2157,  0.0307, -0.1397],\n",
            "          [-0.5146, -0.1056, -0.4237,  ..., -0.3617, -0.0659,  1.4260],\n",
            "          [-0.5113, -0.3245, -0.9084,  ..., -0.2772,  0.7652, -0.1317],\n",
            "          ...,\n",
            "          [ 1.6323,  0.5945,  0.0108,  ..., -1.2122,  1.5672,  0.7267],\n",
            "          [ 1.7271,  1.6261,  1.1956,  ..., -0.1022,  1.1093, -0.3190],\n",
            "          [ 1.6801,  0.2854,  0.6715,  ...,  0.3996,  1.8432, -1.8905]],\n",
            "\n",
            "         [[ 0.3703,  0.1178,  0.6143,  ...,  0.5201,  0.5804, -0.3314],\n",
            "          [-1.7038, -0.3012, -1.6599,  ..., -2.0592, -1.0755,  0.0778],\n",
            "          [-1.2192,  0.5495,  1.0810,  ..., -2.8876, -2.4563,  0.9812],\n",
            "          ...,\n",
            "          [ 0.7905, -0.7964, -0.3775,  ..., -1.1232,  1.7657, -0.0731],\n",
            "          [-0.0739, -0.8978, -0.4883,  ...,  1.2890,  1.4941,  1.2923],\n",
            "          [ 1.1050, -0.9795, -1.0290,  ..., -1.7283,  1.8339,  0.2563]]]],\n",
            "       device='cuda:0', grad_fn=<PermuteBackward0>), tensor([[[[ 6.5136e-02, -1.0029e-02, -2.2108e-02,  ...,  1.1689e-01,\n",
            "           -7.1039e-02, -3.8524e-02],\n",
            "          [-1.1900e-01,  5.4116e-02,  7.5015e-01,  ..., -1.0505e+00,\n",
            "            4.3754e-01,  1.1305e+00],\n",
            "          [-6.4340e-01, -1.1947e-01,  2.4570e-01,  ...,  3.9274e-02,\n",
            "            1.1962e+00,  7.8141e-01],\n",
            "          ...,\n",
            "          [ 3.7993e-01,  7.9594e-01,  1.1071e+00,  ..., -1.0032e+00,\n",
            "            1.3310e+00,  9.2481e-01],\n",
            "          [-8.3064e-01,  1.2491e+00, -6.7012e-01,  ..., -8.3462e-01,\n",
            "            4.0469e+00,  1.3520e+00],\n",
            "          [ 2.5232e-01,  6.6033e-01, -1.9198e-01,  ..., -2.9413e-01,\n",
            "            2.2519e+00,  1.2436e-01]],\n",
            "\n",
            "         [[ 1.1602e-02,  2.9395e-02,  5.1380e-02,  ..., -4.0429e-04,\n",
            "            5.4506e-03, -5.0795e-03],\n",
            "          [-1.7353e+00,  5.5734e-02, -9.3339e-01,  ..., -1.4216e+00,\n",
            "           -5.5072e-01,  5.7524e-01],\n",
            "          [ 2.4019e-01, -1.0242e-01, -8.1952e-01,  ...,  6.2976e-01,\n",
            "            4.6464e-01, -5.7739e-01],\n",
            "          ...,\n",
            "          [-1.7086e+00, -1.4312e+00,  8.6943e-01,  ..., -5.4892e-01,\n",
            "           -3.2569e-01, -6.6519e-01],\n",
            "          [ 5.6527e-01,  3.4649e-01,  2.4934e-02,  ...,  5.4388e-01,\n",
            "            7.5066e-01, -1.7194e+00],\n",
            "          [ 7.4374e-01, -3.6209e-02,  8.1460e-01,  ..., -9.2512e-01,\n",
            "           -3.3852e-04, -1.0727e+00]],\n",
            "\n",
            "         [[ 5.2304e-02, -3.7324e-02,  6.3114e-02,  ...,  5.8532e-02,\n",
            "           -6.3338e-02, -5.8268e-02],\n",
            "          [ 4.8406e-01,  3.9267e-01, -5.1969e-01,  ..., -1.0694e+00,\n",
            "            4.9370e-01,  1.6498e+00],\n",
            "          [-6.7078e-01,  5.8409e-01, -1.3860e+00,  ..., -7.2779e-01,\n",
            "           -1.8895e-01,  1.4142e+00],\n",
            "          ...,\n",
            "          [-2.3883e+00, -1.0645e+00, -3.0177e-01,  ..., -3.4316e-01,\n",
            "           -7.2711e-02, -8.9213e-01],\n",
            "          [-1.4328e+00, -6.0128e-02,  1.8196e-03,  ..., -2.8919e-01,\n",
            "           -2.1618e-01, -4.6796e-01],\n",
            "          [-8.2478e-01, -8.3397e-01,  1.2457e+00,  ..., -1.1275e+00,\n",
            "           -6.2100e-01, -1.1380e+00]],\n",
            "\n",
            "         ...,\n",
            "\n",
            "         [[-9.0498e-02, -4.4621e-02,  4.2299e-02,  ..., -9.2541e-02,\n",
            "            3.0748e-02,  1.1883e-02],\n",
            "          [-5.5541e-02,  6.0083e-01,  9.0832e-01,  ...,  7.1615e-01,\n",
            "            1.4512e+00,  3.0117e-01],\n",
            "          [-2.2453e-01,  1.2259e+00,  1.6393e+00,  ..., -3.6731e-01,\n",
            "            1.7917e+00,  5.6783e-01],\n",
            "          ...,\n",
            "          [ 4.0983e-01,  1.8276e+00,  8.9496e-01,  ..., -2.2020e-01,\n",
            "           -4.3409e-01, -6.3895e-01],\n",
            "          [ 2.0705e-01, -1.0500e+00, -6.6795e-03,  ...,  6.1493e-01,\n",
            "           -2.5335e+00, -2.4609e+00],\n",
            "          [-5.5764e-01,  3.1660e-01, -7.8486e-01,  ..., -1.3554e+00,\n",
            "           -4.9442e-01,  7.0627e-01]],\n",
            "\n",
            "         [[ 1.4738e-01, -6.2497e-02,  1.3729e-01,  ...,  6.0634e-02,\n",
            "            3.2148e-02, -1.2945e-01],\n",
            "          [-7.7961e-01,  3.2839e-01,  1.1296e+00,  ...,  5.6797e-01,\n",
            "            2.2995e+00, -1.1944e+00],\n",
            "          [-1.5875e-01,  2.1834e+00,  6.2017e-01,  ...,  1.4026e+00,\n",
            "            2.1564e+00, -1.1305e+00],\n",
            "          ...,\n",
            "          [-2.2560e+00,  3.2029e-01,  1.7978e+00,  ...,  7.5794e-01,\n",
            "           -1.2684e+00, -3.8106e-02],\n",
            "          [-1.4438e+00, -5.2898e-01, -3.5918e-01,  ...,  7.3205e-01,\n",
            "           -1.4119e+00,  1.2104e+00],\n",
            "          [-1.3736e+00,  1.4036e+00, -2.0477e+00,  ...,  8.3776e-02,\n",
            "           -8.4077e-01,  1.4174e+00]],\n",
            "\n",
            "         [[ 2.0906e-01, -4.6573e-02, -6.0253e-02,  ...,  3.5716e-02,\n",
            "            4.1975e-02,  2.2183e-02],\n",
            "          [-8.2889e-01,  4.5637e-01, -1.5245e+00,  ...,  4.0569e-01,\n",
            "            3.0229e-02, -5.6096e-01],\n",
            "          [-3.0876e-01, -1.8195e-01, -3.3067e-01,  ...,  1.2259e+00,\n",
            "           -1.1322e+00, -1.6955e-02],\n",
            "          ...,\n",
            "          [ 2.8129e-01,  1.5325e+00, -9.8822e-01,  ...,  2.3541e+00,\n",
            "           -2.3541e+00,  1.1083e+00],\n",
            "          [-6.0622e-01,  8.6281e-01,  1.8918e+00,  ...,  4.0646e-01,\n",
            "            3.8110e-01,  1.2713e+00],\n",
            "          [-2.1054e-01, -9.7105e-02, -1.6550e+00,  ...,  1.4915e-01,\n",
            "           -5.3412e-01,  4.9501e-01]]]], device='cuda:0',\n",
            "       grad_fn=<PermuteBackward0>)), (tensor([[[[ 0.0259, -0.2689, -0.4629,  ...,  0.2984,  0.3260,  0.3575],\n",
            "          [ 0.6692, -0.7380, -1.5264,  ..., -1.9584,  0.0944,  0.5122],\n",
            "          [-0.8309, -0.1060, -1.1448,  ..., -0.6345, -0.7076,  0.1615],\n",
            "          ...,\n",
            "          [ 0.8585, -0.8529, -0.6606,  ..., -1.0997,  0.6341, -2.3235],\n",
            "          [-0.1958, -0.7880, -2.5680,  ..., -0.9427,  1.4363, -3.1020],\n",
            "          [-0.1812, -1.3835, -0.6599,  ...,  1.3380,  1.4259, -4.3122]],\n",
            "\n",
            "         [[-0.2881,  0.1613,  0.1111,  ...,  0.0531, -1.1501, -0.1557],\n",
            "          [ 2.2719, -0.2594, -1.6564,  ..., -0.2001, -0.9541,  1.3443],\n",
            "          [ 2.2349,  1.0633, -1.3764,  ..., -1.0570, -0.3892,  0.6820],\n",
            "          ...,\n",
            "          [-1.5998, -1.5508, -0.1644,  ...,  1.8710,  0.1495,  2.9643],\n",
            "          [-0.3882, -0.6349,  1.8670,  ...,  0.9168, -1.0107,  1.4109],\n",
            "          [ 0.1187,  0.1004,  1.2011,  ...,  1.1086,  1.2963,  0.8991]],\n",
            "\n",
            "         [[-1.2375, -0.1208,  0.5527,  ..., -0.6611,  0.4618, -0.2718],\n",
            "          [ 1.5339,  0.3250,  1.2960,  ..., -0.4359, -1.2581,  0.2519],\n",
            "          [ 0.5851,  0.6704,  0.3273,  ...,  0.3231, -3.4751,  0.8503],\n",
            "          ...,\n",
            "          [ 0.4611, -0.5559,  1.9334,  ..., -0.3371, -0.7999, -0.4210],\n",
            "          [ 0.0260, -0.1282,  1.0063,  ..., -1.5427, -1.4113,  2.2498],\n",
            "          [ 0.4422,  1.0892,  1.2173,  ..., -0.4404, -1.9922,  0.1064]],\n",
            "\n",
            "         ...,\n",
            "\n",
            "         [[ 0.7998, -0.9091, -0.3943,  ..., -1.0356, -0.4314,  0.4918],\n",
            "          [ 0.4547, -1.0473, -1.6877,  ..., -0.4808, -2.1044, -3.1236],\n",
            "          [-1.2476, -0.5705, -1.7851,  ...,  1.3531, -2.3396, -0.2335],\n",
            "          ...,\n",
            "          [-1.1782, -0.2176,  0.0436,  ..., -0.7671, -1.5935, -2.1288],\n",
            "          [-0.3017,  0.1459, -0.8741,  ..., -3.5045,  0.4551,  0.1321],\n",
            "          [ 1.3718,  2.8918, -2.2910,  ..., -3.3393,  1.4597, -0.6964]],\n",
            "\n",
            "         [[-0.8976,  2.5559,  0.3032,  ...,  0.3402,  1.9589, -0.5408],\n",
            "          [ 0.8571, -1.9472,  1.9656,  ...,  0.6819, -4.5447, -0.4462],\n",
            "          [ 0.0303, -3.1495,  1.5285,  ..., -0.1979, -4.5619,  1.0243],\n",
            "          ...,\n",
            "          [-1.1245, -8.8659,  1.3152,  ...,  1.7859, -2.7707, -2.8036],\n",
            "          [-1.0161, -7.3405,  1.4593,  ...,  2.4857, -2.6981, -2.1737],\n",
            "          [-0.2087, -7.5798,  1.4345,  ..., -0.1437, -2.3080, -1.4991]],\n",
            "\n",
            "         [[-2.0290, -0.3663, -1.1161,  ..., -0.4002,  0.0649,  0.2499],\n",
            "          [ 0.9494,  0.2962,  1.0480,  ...,  1.3908, -0.1412,  0.8747],\n",
            "          [ 2.4354,  0.7894,  1.8387,  ...,  0.3605,  1.3074, -0.2055],\n",
            "          ...,\n",
            "          [ 1.3828,  1.7216,  0.0261,  ...,  1.0581, -0.2365,  1.0196],\n",
            "          [ 1.2564,  1.2881,  0.1321,  ..., -2.3246,  0.9117,  0.0148],\n",
            "          [ 1.9687, -0.5090,  0.4456,  ..., -0.5614,  0.6666,  1.0547]]]],\n",
            "       device='cuda:0', grad_fn=<PermuteBackward0>), tensor([[[[-4.9252e-02, -8.7662e-02,  1.9245e-02,  ...,  1.1583e-01,\n",
            "           -2.2480e-02,  2.4090e-02],\n",
            "          [-2.2607e-01,  2.5860e-01, -1.5638e-01,  ..., -1.8430e+00,\n",
            "           -6.0822e-01,  8.3403e-02],\n",
            "          [ 7.6181e-02,  1.0405e+00, -6.8602e-01,  ..., -1.1463e+00,\n",
            "           -2.0040e+00,  1.4039e-01],\n",
            "          ...,\n",
            "          [ 8.4130e-01,  7.5293e-01, -3.2917e-01,  ..., -1.4138e-01,\n",
            "           -5.1963e-01,  1.8909e+00],\n",
            "          [ 3.5363e-01, -1.0105e+00, -1.6373e+00,  ..., -1.5725e+00,\n",
            "           -2.8000e-01,  1.9957e+00],\n",
            "          [ 7.5648e-01, -6.1784e-01, -3.1844e-01,  ..., -3.5285e-01,\n",
            "           -9.5528e-01,  3.5309e-01]],\n",
            "\n",
            "         [[ 1.7039e-02,  1.7426e-02, -3.8615e-02,  ...,  3.8622e-02,\n",
            "            1.0783e-02,  3.5067e-02],\n",
            "          [ 9.0618e-01, -1.2224e+00, -2.1287e-01,  ...,  1.0843e+00,\n",
            "            1.9819e+00,  4.8712e-02],\n",
            "          [-1.2334e+00, -5.9409e-01, -1.7051e-01,  ...,  7.8640e-01,\n",
            "            5.5861e-01,  1.2667e-01],\n",
            "          ...,\n",
            "          [ 1.5419e+00,  5.5414e-01, -1.7372e+00,  ..., -1.1798e-01,\n",
            "           -3.1471e-02, -6.5063e-01],\n",
            "          [ 1.6299e+00, -1.6839e+00,  9.1436e-01,  ..., -4.2846e-01,\n",
            "           -2.6875e+00, -6.3852e-01],\n",
            "          [-9.5578e-01, -2.1094e-01, -3.1179e-01,  ...,  1.0932e+00,\n",
            "            1.6244e-01,  1.1582e+00]],\n",
            "\n",
            "         [[ 3.8827e-02,  3.3008e-02, -8.3370e-02,  ...,  2.5783e-03,\n",
            "           -1.6268e-02,  9.1883e-04],\n",
            "          [-1.6302e-01, -1.9634e-01,  1.4681e+00,  ..., -2.0891e+00,\n",
            "            1.6218e-01,  9.5488e-01],\n",
            "          [ 1.7120e-01, -4.9139e-01,  2.4108e+00,  ..., -2.0584e+00,\n",
            "            1.2520e+00,  9.6766e-02],\n",
            "          ...,\n",
            "          [ 1.7915e+00, -1.2180e-01,  2.5866e-01,  ...,  4.7428e-01,\n",
            "            2.9942e-01,  1.1846e+00],\n",
            "          [-3.4457e-01,  7.3889e-01, -7.5512e-01,  ...,  3.2273e-01,\n",
            "            7.3984e-01, -1.4952e+00],\n",
            "          [-1.2658e-01,  2.0630e-01,  4.1570e-01,  ...,  1.5114e-01,\n",
            "           -1.7560e-01, -2.4186e-01]],\n",
            "\n",
            "         ...,\n",
            "\n",
            "         [[-2.6492e-02,  2.4856e-02, -1.0858e-02,  ..., -1.9138e-02,\n",
            "           -1.6549e-02,  2.3261e-02],\n",
            "          [-6.7515e-01, -2.2813e-01, -5.8062e-01,  ..., -8.2728e-01,\n",
            "           -2.4369e-01, -1.2998e+00],\n",
            "          [-1.4526e-01,  3.9498e-01, -8.5052e-01,  ...,  1.4208e+00,\n",
            "           -1.5005e+00,  8.3055e-02],\n",
            "          ...,\n",
            "          [-6.2723e-01,  9.1220e-01, -2.2533e+00,  ..., -8.5027e-01,\n",
            "            1.7705e+00, -2.9474e+00],\n",
            "          [ 1.4117e-01, -5.9564e-01,  1.0254e-01,  ..., -4.7876e-01,\n",
            "            8.8841e-02, -1.8152e-01],\n",
            "          [ 2.6917e-01,  9.8810e-01, -1.7308e+00,  ..., -2.7190e-01,\n",
            "            3.8356e-01,  1.4370e-01]],\n",
            "\n",
            "         [[-6.4021e-02, -3.2721e-02,  2.4496e-02,  ...,  2.8996e-03,\n",
            "           -5.4889e-02, -1.0845e-01],\n",
            "          [-1.1951e+00,  6.9291e-01,  7.0417e-01,  ...,  7.8439e-02,\n",
            "           -1.4175e-01,  5.7870e-01],\n",
            "          [-2.6105e-01,  4.5472e-01,  3.5739e-01,  ..., -4.9187e-01,\n",
            "            1.4083e-01,  5.7580e-01],\n",
            "          ...,\n",
            "          [-7.5155e-01,  4.1260e-01, -3.0992e-01,  ..., -4.0825e-02,\n",
            "           -2.1774e-01,  4.9680e-01],\n",
            "          [-2.2836e-01, -1.1488e-01, -1.2780e+00,  ..., -2.3576e-01,\n",
            "           -7.6012e-01, -3.7886e-01],\n",
            "          [-8.0889e-01,  2.8799e-01, -2.0038e-01,  ...,  2.8346e-01,\n",
            "            7.1794e-02,  2.2984e+00]],\n",
            "\n",
            "         [[-3.9005e-04,  4.5721e-02, -4.4665e-02,  ..., -1.7350e-02,\n",
            "            1.0824e-02,  2.1425e-03],\n",
            "          [ 1.3933e+00, -4.5003e-01, -2.3130e+00,  ..., -8.9720e-02,\n",
            "           -5.4109e-01,  1.4408e+00],\n",
            "          [-3.4206e-01, -6.4575e-01, -1.6300e-01,  ..., -1.5916e-02,\n",
            "           -5.6300e-03, -1.5267e+00],\n",
            "          ...,\n",
            "          [ 1.8097e+00,  1.0068e+00,  6.5191e-01,  ..., -1.4878e+00,\n",
            "           -1.0851e+00, -3.7603e-01],\n",
            "          [ 5.9779e-01, -2.8774e+00,  1.6071e-01,  ...,  1.1101e-01,\n",
            "           -9.0973e-01, -2.7300e-01],\n",
            "          [ 9.5620e-02,  9.6646e-01, -4.8402e-01,  ...,  1.2536e-01,\n",
            "            1.3573e+00,  1.7150e+00]]]], device='cuda:0',\n",
            "       grad_fn=<PermuteBackward0>)), (tensor([[[[-5.1126e-01,  4.8631e-01, -8.4782e-01,  ..., -1.0067e+00,\n",
            "           -1.3222e+00,  2.1121e-01],\n",
            "          [-2.4600e+00,  6.6375e-01,  2.5137e-01,  ...,  2.2819e+00,\n",
            "            1.5450e-01, -3.0024e-02],\n",
            "          [-8.0462e-01,  1.1620e+00,  6.1327e-01,  ...,  4.1952e+00,\n",
            "            7.7031e-03, -3.8136e-01],\n",
            "          ...,\n",
            "          [ 3.8893e-01, -4.2722e-01,  1.5578e+00,  ..., -6.8300e-01,\n",
            "            3.0613e+00, -7.4519e-01],\n",
            "          [ 1.4170e+00, -2.8669e-01,  1.4356e+00,  ...,  2.0038e-01,\n",
            "            1.3141e+00, -2.4476e-01],\n",
            "          [ 9.6617e-01, -5.7545e-01, -5.4779e-02,  ..., -4.7401e-03,\n",
            "            1.5951e+00,  3.1063e-01]],\n",
            "\n",
            "         [[ 8.5777e-01, -2.0592e+00,  1.5521e-01,  ...,  2.3654e-01,\n",
            "           -2.4501e+00, -4.2521e-01],\n",
            "          [ 4.7959e-01,  1.3286e+00, -1.7086e+00,  ...,  7.6668e-01,\n",
            "           -1.3032e+00, -4.0755e-01],\n",
            "          [-7.1529e-01,  3.1540e+00, -7.3820e-01,  ..., -5.2371e-02,\n",
            "            2.1221e+00, -6.2442e-01],\n",
            "          ...,\n",
            "          [-3.4199e+00,  6.8859e-01, -6.3063e-01,  ...,  7.4496e-02,\n",
            "           -2.1837e+00,  7.9226e-01],\n",
            "          [-1.2830e+00,  1.9852e+00,  1.1105e+00,  ..., -1.0754e+00,\n",
            "            1.8052e+00,  9.6894e-02],\n",
            "          [-7.6353e-01, -3.6544e-01,  1.3432e+00,  ..., -3.7151e-01,\n",
            "            5.4323e-01,  5.7811e-01]],\n",
            "\n",
            "         [[ 1.0126e+00,  3.7291e-01, -1.7033e-01,  ..., -8.0856e-01,\n",
            "           -1.4068e+00, -3.6498e-01],\n",
            "          [-1.0633e+00, -5.2893e-01, -6.5028e-03,  ..., -3.0480e-02,\n",
            "           -1.6878e+00, -6.2623e-01],\n",
            "          [-2.3949e-01,  7.3045e-01,  5.3056e-01,  ...,  1.6268e+00,\n",
            "           -1.9000e+00, -7.8039e-01],\n",
            "          ...,\n",
            "          [ 5.3258e-01,  1.4150e-01, -6.0919e-01,  ..., -2.5368e+00,\n",
            "           -1.1151e-01,  2.1116e-01],\n",
            "          [ 8.1205e-01, -1.3181e+00,  9.6070e-01,  ..., -1.3644e+00,\n",
            "            1.2055e-01,  1.0235e+00],\n",
            "          [ 1.3562e+00, -2.4009e+00,  1.1598e-01,  ..., -2.4300e+00,\n",
            "            2.8280e-01, -3.3093e-02]],\n",
            "\n",
            "         ...,\n",
            "\n",
            "         [[ 2.1343e-01, -5.8145e-01,  4.8737e-01,  ..., -6.8098e-01,\n",
            "            1.0950e+00,  3.0494e-01],\n",
            "          [-6.7881e-01,  2.0576e+00,  1.0351e-01,  ..., -2.2963e+00,\n",
            "           -1.1212e+00, -2.8897e-01],\n",
            "          [-1.6771e+00,  2.9235e+00, -2.7397e+00,  ..., -2.7219e+00,\n",
            "            1.6190e-01,  6.4522e-01],\n",
            "          ...,\n",
            "          [-1.6618e+00, -2.9528e+00,  4.2990e+00,  ...,  5.5010e-01,\n",
            "            1.6415e+00,  1.0653e+00],\n",
            "          [-1.7995e+00, -1.0431e+00,  3.9317e+00,  ..., -2.7904e-01,\n",
            "            2.4165e+00,  1.8915e+00],\n",
            "          [-9.9290e-01, -1.8070e+00,  5.5667e+00,  ..., -2.4359e-01,\n",
            "            2.0536e+00,  1.4117e+00]],\n",
            "\n",
            "         [[ 2.5605e-01,  5.5230e-01,  5.5799e-01,  ...,  7.2461e-01,\n",
            "            6.5172e-02,  8.3494e-01],\n",
            "          [-4.9391e-01, -7.4758e-01,  1.2037e+00,  ...,  2.2138e+00,\n",
            "           -3.7107e-01,  4.2068e-01],\n",
            "          [ 2.4291e-01, -1.0215e+00,  1.0726e+00,  ...,  5.1578e-01,\n",
            "           -9.4215e-01,  8.8619e-01],\n",
            "          ...,\n",
            "          [ 9.6095e-02,  5.6080e-01, -4.8272e-01,  ...,  3.9649e-01,\n",
            "            3.0757e+00, -1.4332e-01],\n",
            "          [ 1.6443e+00,  7.3115e-01,  2.8770e-01,  ...,  9.5776e-01,\n",
            "            2.1554e+00, -2.7792e-02],\n",
            "          [ 6.6773e-01,  1.4769e+00,  2.5466e-01,  ...,  8.4661e-01,\n",
            "            3.6681e+00,  5.6532e-01]],\n",
            "\n",
            "         [[-7.2956e-01,  3.0569e-01, -1.5837e+00,  ..., -3.9476e-01,\n",
            "            2.2673e-01, -1.3335e+00],\n",
            "          [ 1.1971e+00,  8.4602e-01, -5.5534e-01,  ...,  2.2553e+00,\n",
            "            4.8554e-01, -8.8297e-01],\n",
            "          [ 8.0625e-01,  1.8892e+00,  9.0807e-01,  ...,  2.5917e+00,\n",
            "            5.6583e-01, -1.7671e+00],\n",
            "          ...,\n",
            "          [-1.4621e+00, -8.3946e-01,  1.0519e+00,  ..., -2.7349e-01,\n",
            "            1.2649e+00, -4.8416e-01],\n",
            "          [-7.2489e-01, -7.1127e-01,  2.3996e+00,  ..., -8.5001e-01,\n",
            "            8.1371e-01, -1.3031e+00],\n",
            "          [-3.2657e+00,  1.2886e-01, -3.7523e-02,  ..., -3.1357e-01,\n",
            "           -1.1465e+00,  5.9996e-01]]]], device='cuda:0',\n",
            "       grad_fn=<PermuteBackward0>), tensor([[[[-3.1461e-03,  4.0217e-02, -7.3887e-02,  ...,  5.2969e-02,\n",
            "           -2.6784e-02, -8.3422e-02],\n",
            "          [ 6.7461e-01, -2.9891e-01, -4.8339e-01,  ...,  1.1070e+00,\n",
            "           -9.9451e-01,  1.1410e+00],\n",
            "          [-2.1012e+00,  4.3869e-01, -1.7112e+00,  ...,  2.4661e+00,\n",
            "           -8.6272e-01, -2.4961e-01],\n",
            "          ...,\n",
            "          [-1.7322e+00,  1.9687e+00,  2.3940e-01,  ..., -2.9170e-01,\n",
            "            3.2232e-01,  1.4084e+00],\n",
            "          [-5.7969e-01,  2.2998e+00,  8.9780e-01,  ..., -2.0078e+00,\n",
            "           -1.8998e+00,  5.7661e-01],\n",
            "          [-7.5868e-01,  7.1697e-01,  8.3678e-02,  ...,  2.2017e-01,\n",
            "            3.9477e-01,  1.1476e+00]],\n",
            "\n",
            "         [[ 4.5011e-02,  1.3549e-02,  2.6805e-02,  ..., -3.5686e-02,\n",
            "           -3.5387e-02, -4.4578e-03],\n",
            "          [-3.3337e-01,  4.2372e-01, -2.2671e-01,  ...,  1.6451e+00,\n",
            "            1.8009e-01, -7.2138e-01],\n",
            "          [ 7.1022e-01, -1.7851e+00,  8.8103e-02,  ...,  2.3098e+00,\n",
            "            1.8205e+00, -1.5737e+00],\n",
            "          ...,\n",
            "          [ 1.4729e+00,  1.1596e+00, -4.0117e-01,  ..., -2.8396e+00,\n",
            "            2.6933e-01,  6.6664e-01],\n",
            "          [-3.2441e-01,  8.4277e-01,  2.3119e-01,  ..., -1.1854e+00,\n",
            "           -1.0070e+00, -2.7430e-02],\n",
            "          [ 2.2808e-01, -5.5393e-01,  9.7287e-01,  ...,  1.1472e+00,\n",
            "            4.3776e-01,  1.1213e+00]],\n",
            "\n",
            "         [[ 3.8630e-03,  2.0467e-02, -4.0017e-02,  ..., -1.7781e-03,\n",
            "            3.0812e-02,  5.9422e-02],\n",
            "          [ 2.6851e-01,  9.0087e-01,  5.2380e-01,  ..., -4.4007e-01,\n",
            "           -2.6403e-01,  7.8799e-01],\n",
            "          [ 6.1548e-01,  1.1829e+00, -1.6286e-01,  ..., -9.9143e-01,\n",
            "            2.1918e-01,  1.7470e-01],\n",
            "          ...,\n",
            "          [ 1.3752e+00, -2.5915e+00, -5.2419e-01,  ..., -7.9880e-01,\n",
            "            1.7472e+00,  8.4390e-02],\n",
            "          [ 1.6527e+00,  7.8861e-01,  3.2486e-01,  ...,  2.2632e-01,\n",
            "            1.1904e+00,  1.2463e+00],\n",
            "          [ 2.6870e-01, -1.1606e+00,  2.1179e+00,  ...,  5.7436e-01,\n",
            "            5.7026e-01, -5.4289e-02]],\n",
            "\n",
            "         ...,\n",
            "\n",
            "         [[-8.9160e-02,  4.4159e-02, -7.4542e-03,  ..., -4.1528e-02,\n",
            "           -1.3703e-02,  1.0209e-02],\n",
            "          [ 6.9590e-01, -5.0240e-01, -8.1604e-01,  ...,  1.7895e-01,\n",
            "           -5.0226e-01,  9.9653e-01],\n",
            "          [ 1.7023e+00,  7.0982e-02,  5.8551e-02,  ..., -1.5395e-01,\n",
            "           -1.2190e+00,  1.6356e+00],\n",
            "          ...,\n",
            "          [ 1.9499e-01, -8.5825e-01,  4.4285e-01,  ...,  1.1959e+00,\n",
            "            8.9021e-02, -1.4929e-02],\n",
            "          [-5.3163e-01, -2.3353e-01, -5.4960e-01,  ..., -1.2418e+00,\n",
            "            1.4882e-01,  1.1778e+00],\n",
            "          [ 4.2227e-02, -2.0707e-02, -3.1033e-01,  ..., -4.3998e-01,\n",
            "           -9.2542e-01, -4.2419e-01]],\n",
            "\n",
            "         [[ 7.4462e-02,  1.1415e-02,  6.6753e-02,  ...,  2.6585e-02,\n",
            "            5.9258e-02,  2.8430e-02],\n",
            "          [-1.0627e+00, -7.5871e-01,  5.7487e-02,  ...,  9.5014e-01,\n",
            "            3.0135e-03, -5.2354e-01],\n",
            "          [-3.6620e-01, -1.3495e+00,  1.4568e+00,  ...,  1.0465e+00,\n",
            "            2.6294e-01, -9.3462e-02],\n",
            "          ...,\n",
            "          [-3.0238e+00,  1.6147e+00,  2.4485e+00,  ...,  4.6627e-01,\n",
            "            1.4379e+00,  8.9432e-01],\n",
            "          [-6.5192e-01,  3.1596e-01,  6.6922e-01,  ...,  1.2584e+00,\n",
            "            3.8871e-01, -1.5733e+00],\n",
            "          [-8.5163e-01, -1.1313e+00,  4.6267e-01,  ...,  1.1620e-01,\n",
            "            6.0140e-01,  1.2836e+00]],\n",
            "\n",
            "         [[-1.0551e-01,  3.7056e-02, -5.2910e-02,  ..., -8.2813e-02,\n",
            "            8.1320e-02, -1.1580e-02],\n",
            "          [-1.5677e+00,  1.5514e+00,  1.4116e+00,  ..., -1.9918e+00,\n",
            "           -2.0100e-01,  6.7530e-01],\n",
            "          [-4.5048e-01,  1.8160e+00,  6.9398e-01,  ..., -2.2529e+00,\n",
            "            4.6714e-01,  7.4766e-01],\n",
            "          ...,\n",
            "          [-1.3610e-01,  4.9186e-01,  4.9317e-01,  ..., -3.0274e-01,\n",
            "            3.1417e-02,  1.4490e+00],\n",
            "          [ 4.8695e-01,  4.1023e-01, -1.3771e+00,  ..., -9.6041e-01,\n",
            "            1.0426e+00, -8.9690e-02],\n",
            "          [ 5.7674e-02,  3.5025e-01,  2.7350e-01,  ..., -1.0028e+00,\n",
            "           -6.3058e-02, -1.4374e+00]]]], device='cuda:0',\n",
            "       grad_fn=<PermuteBackward0>)), (tensor([[[[-1.7171, -0.3168, -0.2978,  ...,  0.1637,  0.3394, -0.5041],\n",
            "          [-0.3168,  0.2065, -1.2980,  ...,  1.8224, -0.8922,  0.0351],\n",
            "          [ 0.0316, -0.7991, -0.3939,  ...,  1.7911, -0.8811,  0.9570],\n",
            "          ...,\n",
            "          [ 2.9428,  0.2477,  0.0163,  ...,  1.6726, -1.2946, -0.5252],\n",
            "          [ 0.6101, -2.1368, -0.3592,  ...,  2.6300, -0.6585,  0.5302],\n",
            "          [ 3.2326, -0.5735, -1.7374,  ...,  0.0964, -2.3344, -1.2242]],\n",
            "\n",
            "         [[ 0.1125, -0.0720,  2.2769,  ...,  0.2411,  0.0791, -0.1868],\n",
            "          [ 1.3992, -0.1021, -0.9265,  ...,  0.8273,  0.6395,  0.4054],\n",
            "          [ 2.5446, -0.0803, -0.7768,  ...,  1.1384, -0.1216, -0.3669],\n",
            "          ...,\n",
            "          [-0.5164,  0.4785, -2.5936,  ...,  1.0743,  1.3117, -0.0217],\n",
            "          [-0.7928, -0.3411,  0.9976,  ...,  1.9957,  0.6766, -0.5678],\n",
            "          [-0.5029, -1.7308, -0.6999,  ...,  0.8602, -0.2637, -0.9109]],\n",
            "\n",
            "         [[-0.1971,  1.0731,  0.4710,  ..., -0.5335,  0.3173, -0.1099],\n",
            "          [-1.8309,  0.5210,  0.7099,  ...,  2.5099,  0.3953, -1.2818],\n",
            "          [-1.1725,  0.4426,  0.0916,  ...,  2.4156,  0.6649, -1.6191],\n",
            "          ...,\n",
            "          [ 1.3946, -1.3331, -2.1155,  ..., -0.0222, -0.7511,  0.3913],\n",
            "          [ 1.6917, -1.6919, -1.9153,  ...,  0.5580, -0.0385,  0.1970],\n",
            "          [ 0.7478, -1.9233, -0.7971,  ...,  1.3492,  0.1946, -0.5465]],\n",
            "\n",
            "         ...,\n",
            "\n",
            "         [[ 0.5514,  0.9770, -0.8534,  ..., -0.7274,  0.6981,  0.8435],\n",
            "          [ 0.7891,  1.6489,  0.7510,  ..., -1.0939, -0.2148, -0.1798],\n",
            "          [ 0.0548,  0.1978,  0.3933,  ..., -0.3737, -0.4077, -0.0287],\n",
            "          ...,\n",
            "          [ 1.3252,  0.1515,  0.3192,  ..., -1.3264, -2.1590, -1.2696],\n",
            "          [-0.4513,  0.6224, -0.0921,  ..., -0.3723, -1.6219, -0.9124],\n",
            "          [ 0.4933,  0.3893,  0.0100,  ..., -0.0494, -0.6391, -0.0188]],\n",
            "\n",
            "         [[-0.4173,  0.3735,  0.3492,  ...,  0.7022,  0.0200, -0.0874],\n",
            "          [-1.1352, -0.0743, -0.3934,  ...,  0.4413, -1.5491, -0.6549],\n",
            "          [-0.3668,  0.1649, -0.3573,  ...,  1.0008, -1.4651,  0.2815],\n",
            "          ...,\n",
            "          [-1.8418, -1.2184, -1.2588,  ..., -2.2200, -0.3272,  0.0780],\n",
            "          [-1.5475,  0.5644, -0.2633,  ..., -0.5617, -0.2907,  0.5942],\n",
            "          [-0.1627, -0.9022, -2.3450,  ..., -0.3668,  0.2939, -0.3350]],\n",
            "\n",
            "         [[-0.7286, -0.0169,  0.4363,  ..., -0.1016,  0.0149, -0.0735],\n",
            "          [-1.9097, -0.2519,  1.5865,  ...,  0.8488, -0.3601,  1.6140],\n",
            "          [-2.0174, -2.3294,  1.9652,  ..., -1.0692, -0.7541,  2.4917],\n",
            "          ...,\n",
            "          [-1.9804, -0.5848,  0.4123,  ...,  2.3212, -0.6712,  2.1774],\n",
            "          [-1.3595, -1.6108,  1.1972,  ...,  4.0406,  0.3475,  0.6900],\n",
            "          [-0.8683, -0.2367,  0.2251,  ...,  0.8098,  0.7504, -1.0088]]]],\n",
            "       device='cuda:0', grad_fn=<PermuteBackward0>), tensor([[[[ 8.6463e-02, -1.3589e-01, -2.0528e-01,  ..., -2.7072e-01,\n",
            "            2.5288e-01, -1.4601e-01],\n",
            "          [-4.2749e-01,  8.2279e-01,  5.1628e-01,  ...,  1.0025e+00,\n",
            "           -2.3404e-01,  4.6291e-01],\n",
            "          [-1.3857e+00,  4.9090e-01,  1.2572e-01,  ...,  3.3322e-01,\n",
            "            1.1109e-01,  6.5467e-01],\n",
            "          ...,\n",
            "          [-1.6286e+00,  1.2199e-01,  6.4047e-01,  ...,  1.3119e+00,\n",
            "           -9.0067e-01, -1.4997e-01],\n",
            "          [-1.8619e+00,  1.0505e+00,  2.1963e+00,  ...,  3.9615e+00,\n",
            "           -2.2737e+00,  5.3421e-01],\n",
            "          [-1.5105e+00,  2.2698e-01, -1.7803e+00,  ...,  4.1085e+00,\n",
            "           -1.3542e+00,  3.1958e-01]],\n",
            "\n",
            "         [[ 8.4597e-02, -3.0458e-02,  4.1542e-02,  ..., -3.1874e-02,\n",
            "           -9.8648e-02,  1.6476e-01],\n",
            "          [ 8.2902e-01,  9.4181e-02,  1.8753e+00,  ..., -5.4414e-01,\n",
            "            2.1025e+00,  8.7074e-01],\n",
            "          [ 1.3532e+00,  1.2300e+00,  1.3803e+00,  ..., -1.1366e+00,\n",
            "            1.5504e+00,  3.8749e-01],\n",
            "          ...,\n",
            "          [ 8.1491e-01,  5.2182e-01,  1.0841e+00,  ...,  4.2807e-01,\n",
            "           -1.9359e+00,  1.6131e+00],\n",
            "          [-3.2462e-01, -4.5307e-01,  4.9411e-01,  ...,  1.3179e-01,\n",
            "           -1.4051e+00, -8.0292e-01],\n",
            "          [ 3.6148e-01, -3.9964e-01,  8.1492e-01,  ...,  3.0854e+00,\n",
            "            8.3478e-01,  1.5824e+00]],\n",
            "\n",
            "         [[-1.1751e-03,  2.7713e-02, -4.8585e-02,  ...,  4.0027e-02,\n",
            "            2.4395e-02,  5.1549e-02],\n",
            "          [-7.2230e-01, -1.3437e+00, -1.3459e-01,  ...,  9.4221e-01,\n",
            "           -2.3841e-01,  1.4840e+00],\n",
            "          [ 1.0586e+00, -3.0360e-01, -1.2132e-01,  ..., -5.6541e-01,\n",
            "            3.0084e-01,  5.7602e-01],\n",
            "          ...,\n",
            "          [ 1.0460e+00, -1.1846e+00,  2.0679e+00,  ...,  1.2998e+00,\n",
            "            1.6832e+00,  9.8134e-01],\n",
            "          [ 1.3983e+00, -3.8105e-01, -5.2160e-01,  ...,  2.0133e-01,\n",
            "            1.7420e-01, -2.7172e-01],\n",
            "          [ 4.6790e-01, -1.5567e-01, -1.1138e+00,  ...,  9.0841e-01,\n",
            "           -7.4084e-01, -2.8149e+00]],\n",
            "\n",
            "         ...,\n",
            "\n",
            "         [[ 5.7213e-04, -5.6054e-03,  1.0676e-01,  ...,  7.0169e-02,\n",
            "           -1.8888e-02,  4.3763e-02],\n",
            "          [ 1.1424e+00,  5.7466e-01, -3.1079e-01,  ...,  4.0398e-01,\n",
            "           -3.6443e-01,  7.6766e-01],\n",
            "          [-4.9080e-01, -5.3549e-01,  1.1826e+00,  ...,  2.3261e+00,\n",
            "           -1.8026e-01, -3.0963e-02],\n",
            "          ...,\n",
            "          [ 5.8091e-01, -9.4012e-01,  8.5269e-01,  ...,  5.4668e-01,\n",
            "           -6.6996e-01,  1.7272e+00],\n",
            "          [ 2.5227e+00, -7.7369e-01,  2.3015e-01,  ...,  2.8266e-01,\n",
            "           -1.6375e-01,  5.5065e-01],\n",
            "          [ 1.9785e-01, -7.2012e-01,  8.5640e-01,  ..., -1.5277e+00,\n",
            "           -7.3600e-01,  1.4128e+00]],\n",
            "\n",
            "         [[-2.0099e-01, -6.8959e-02,  7.5206e-02,  ..., -5.4001e-02,\n",
            "            4.2309e-02, -9.4743e-02],\n",
            "          [ 7.2842e-02,  1.5660e-01,  1.2528e+00,  ..., -6.7014e-01,\n",
            "            2.6010e-01, -5.7691e-01],\n",
            "          [-3.2710e-03, -6.6183e-01,  2.0714e+00,  ..., -5.2716e-01,\n",
            "            1.0075e+00, -1.9110e-02],\n",
            "          ...,\n",
            "          [-2.0252e-01, -1.4878e+00, -1.7680e+00,  ..., -8.6253e-01,\n",
            "            3.6121e-02, -8.5771e-01],\n",
            "          [-3.0629e-01, -7.4225e-01, -2.4023e-01,  ..., -3.1470e-01,\n",
            "            1.1921e+00, -1.2361e+00],\n",
            "          [ 7.6610e-01, -7.5959e-01,  8.3538e-01,  ..., -5.5934e-02,\n",
            "           -2.5515e-01,  2.0635e-02]],\n",
            "\n",
            "         [[ 1.0339e-01, -1.4692e-01,  1.6582e-01,  ..., -1.4900e-01,\n",
            "           -1.5749e-02, -1.8594e-01],\n",
            "          [ 2.8970e-01,  3.8844e-01,  3.7017e-01,  ...,  8.8021e-02,\n",
            "            7.3746e-01,  5.6651e-01],\n",
            "          [ 2.5433e+00,  1.8361e+00,  2.2400e-01,  ...,  1.4180e+00,\n",
            "            9.5501e-01,  1.5690e+00],\n",
            "          ...,\n",
            "          [-5.5964e-01,  1.3786e+00, -8.5753e-01,  ...,  4.8663e-01,\n",
            "            1.1708e+00,  1.5745e+00],\n",
            "          [-1.5298e+00, -8.9788e-02,  1.1118e-01,  ...,  1.6121e+00,\n",
            "            1.2173e+00,  1.9800e+00],\n",
            "          [-3.7691e-01,  2.8280e-01, -9.0105e-01,  ...,  3.6256e-02,\n",
            "           -9.6637e-02,  7.5647e-02]]]], device='cuda:0',\n",
            "       grad_fn=<PermuteBackward0>))), hidden_states=(tensor([[[-0.0874, -0.2177,  0.0685,  ...,  0.0208,  0.0183,  0.0576],\n",
            "         [ 0.0617, -0.0636, -0.0627,  ...,  0.0115,  0.0190,  0.0566],\n",
            "         [ 0.0656, -0.0997,  0.1111,  ..., -0.0721, -0.0542, -0.1067],\n",
            "         ...,\n",
            "         [ 0.0393,  0.1700, -0.0287,  ...,  0.0267, -0.2163, -0.0515],\n",
            "         [ 0.0327, -0.1175,  0.0193,  ..., -0.0262, -0.0381, -0.1075],\n",
            "         [ 0.0785,  0.1257,  0.1347,  ...,  0.0475,  0.0121, -0.1926]]],\n",
            "       device='cuda:0', grad_fn=<AddBackward0>), tensor([[[ 0.1559, -0.7946,  0.3943,  ..., -1.7854, -0.4689,  0.1554],\n",
            "         [-0.7433,  0.5362,  0.8065,  ..., -1.3883, -0.3235, -0.2825],\n",
            "         [-0.5695, -0.4214, -0.3413,  ..., -0.7595,  1.0455, -0.8201],\n",
            "         ...,\n",
            "         [ 1.5109,  2.2153,  2.6057,  ...,  1.1427, -0.2949,  0.4518],\n",
            "         [ 1.3690, -0.5809, -0.0472,  ...,  0.1483,  0.1439,  0.6391],\n",
            "         [-2.2916, -1.8467,  0.3854,  ...,  0.5078,  0.2160, -1.4376]]],\n",
            "       device='cuda:0', grad_fn=<AddBackward0>), tensor([[[ 0.0386, -1.1676,  1.1246,  ..., -1.4047, -0.5742, -0.0668],\n",
            "         [-0.0943,  0.4953,  1.8739,  ..., -1.7064, -0.3506, -0.6520],\n",
            "         [-1.1319, -0.7633,  0.2300,  ..., -1.1405,  0.9720, -1.5331],\n",
            "         ...,\n",
            "         [ 2.6173,  0.8480,  2.0441,  ...,  0.7295,  1.0099,  0.5787],\n",
            "         [ 1.1179, -0.7914, -0.3148,  ...,  0.4084,  0.9300,  0.9311],\n",
            "         [-2.2667, -1.8222, -0.2941,  ..., -0.6992,  1.4080, -1.2328]]],\n",
            "       device='cuda:0', grad_fn=<AddBackward0>), tensor([[[ 0.2860, -1.3120,  0.9229,  ..., -1.3655, -0.3842, -0.0090],\n",
            "         [-0.2776,  0.3575,  2.1061,  ..., -2.2552, -0.6077, -0.7772],\n",
            "         [-1.1050, -0.9088,  0.5011,  ..., -1.9073,  0.9070, -2.4739],\n",
            "         ...,\n",
            "         [ 1.8580,  0.4024,  1.5701,  ...,  1.0339,  1.4529,  1.3387],\n",
            "         [ 0.3320,  0.1800, -0.8653,  ..., -0.6816,  0.9271,  1.6969],\n",
            "         [-2.0646, -0.7106, -0.8511,  ..., -0.2695,  1.2162,  0.4576]]],\n",
            "       device='cuda:0', grad_fn=<AddBackward0>), tensor([[[ 0.3092, -1.3141,  0.9936,  ..., -1.3327, -0.4027, -0.1263],\n",
            "         [-0.1117,  1.2701,  2.6621,  ..., -2.3399, -0.9440, -0.7815],\n",
            "         [-1.3520,  0.1458,  0.8776,  ..., -2.0691, -0.0463, -3.1178],\n",
            "         ...,\n",
            "         [ 1.7051, -0.0371,  1.6035,  ..., -0.0970,  0.8398,  1.1641],\n",
            "         [ 0.1308, -0.0256, -1.0689,  ..., -2.2375,  0.7646,  1.9514],\n",
            "         [-2.3674, -0.4480, -1.9784,  ..., -0.0661,  0.5495,  0.5734]]],\n",
            "       device='cuda:0', grad_fn=<AddBackward0>), tensor([[[ 0.1397, -1.3879,  0.9011,  ..., -1.4786, -0.5756, -0.1675],\n",
            "         [-0.3716,  1.2323,  2.1402,  ..., -2.5032, -1.4925, -1.0501],\n",
            "         [-2.1935,  0.3724,  1.6057,  ..., -2.2188, -0.5327, -3.4836],\n",
            "         ...,\n",
            "         [ 1.7993,  0.2589,  0.8986,  ..., -0.3184,  1.1022,  1.4870],\n",
            "         [ 0.3400,  0.1454, -3.0359,  ..., -1.7036,  0.4503,  5.0759],\n",
            "         [-2.0873,  0.9864, -3.6509,  ...,  0.8606,  0.4790,  3.1797]]],\n",
            "       device='cuda:0', grad_fn=<AddBackward0>), tensor([[[ 0.1408, -1.4999,  0.9446,  ..., -1.5783, -0.6470, -0.1584],\n",
            "         [-0.3344,  1.2720,  2.4645,  ..., -2.9654, -1.8411, -1.2751],\n",
            "         [-1.6941,  0.9620,  1.0177,  ..., -3.6310, -1.1703, -3.3479],\n",
            "         ...,\n",
            "         [ 0.9632, -1.4718,  1.5706,  ..., -0.1706,  0.2858,  1.4945],\n",
            "         [ 0.6059,  1.7418, -3.7492,  ..., -2.1289, -1.3963,  3.3731],\n",
            "         [-2.7027,  1.6661, -5.0616,  ...,  2.7464,  0.1198,  1.1557]]],\n",
            "       device='cuda:0', grad_fn=<AddBackward0>), tensor([[[ 0.0884, -1.4915,  0.9749,  ..., -1.6161, -0.6395, -0.1455],\n",
            "         [ 0.3858,  1.5863,  2.6345,  ..., -3.6205, -1.6577, -1.1307],\n",
            "         [-2.0638,  0.6259,  1.4034,  ..., -3.0560, -1.6191, -4.1922],\n",
            "         ...,\n",
            "         [ 1.5600, -1.4396,  2.1328,  ..., -1.9267,  0.4696,  2.1496],\n",
            "         [ 0.1675,  2.6878, -3.7074,  ..., -1.4276, -1.0677,  3.8328],\n",
            "         [-3.9881,  1.4389, -4.5706,  ...,  2.9477,  1.8405,  3.0056]]],\n",
            "       device='cuda:0', grad_fn=<AddBackward0>), tensor([[[ 0.0363, -1.3821,  0.8510,  ..., -1.5710, -0.7238, -0.2971],\n",
            "         [ 1.3663,  1.7900,  2.4180,  ..., -3.4878, -1.5348, -0.8017],\n",
            "         [-0.1181, -0.3732, -0.4384,  ..., -4.2880, -0.9692, -1.5592],\n",
            "         ...,\n",
            "         [ 1.6787, -0.1519,  2.6823,  ..., -2.7124,  1.1355,  2.7691],\n",
            "         [ 1.0975,  4.1858, -2.1599,  ..., -1.1874, -4.9850,  3.2469],\n",
            "         [-3.9853,  0.6450, -4.1901,  ...,  4.4489, -0.4327,  3.2272]]],\n",
            "       device='cuda:0', grad_fn=<AddBackward0>), tensor([[[ 0.0636, -1.3291,  0.8274,  ..., -1.4424, -0.7224, -0.4483],\n",
            "         [ 0.9886,  1.8606,  2.3969,  ..., -4.3862, -0.2369, -0.1630],\n",
            "         [ 0.1130, -0.3050, -0.5916,  ..., -6.0191, -0.0500, -0.3334],\n",
            "         ...,\n",
            "         [ 2.6955, -1.2780,  4.2144,  ..., -3.0301,  1.3842,  2.6779],\n",
            "         [ 1.4125,  2.8394, -3.0223,  ..., -0.8009, -4.2377,  5.2905],\n",
            "         [-2.1723,  0.2854, -3.7328,  ...,  4.0111,  0.3614,  4.2335]]],\n",
            "       device='cuda:0', grad_fn=<AddBackward0>), tensor([[[-0.0275, -1.2308,  0.5696,  ..., -1.3159, -0.6050, -0.7692],\n",
            "         [ 0.9613,  3.0279,  3.0732,  ..., -4.1843, -0.2023, -1.3027],\n",
            "         [ 1.4720, -2.1490, -1.9442,  ..., -5.6039,  0.9934, -0.6301],\n",
            "         ...,\n",
            "         [ 4.2704, -2.3032,  4.5110,  ..., -3.6865,  0.6777,  2.2218],\n",
            "         [ 1.4968,  3.9309, -2.3537,  ...,  0.0747, -4.1575,  5.7655],\n",
            "         [-3.5679, -2.4113, -5.9279,  ...,  1.8582, -1.0963,  6.2096]]],\n",
            "       device='cuda:0', grad_fn=<AddBackward0>), tensor([[[-0.1526, -1.0455,  0.2843,  ..., -1.3134, -0.3339, -0.9442],\n",
            "         [ 3.1908,  3.6701,  2.4474,  ..., -3.8455, -1.3972, -1.9750],\n",
            "         [ 2.7073, -2.1741, -1.6957,  ..., -6.8875,  0.9808,  0.4684],\n",
            "         ...,\n",
            "         [ 6.9595, -2.6535,  6.6181,  ..., -4.1831,  3.3019,  0.2877],\n",
            "         [ 3.3458,  5.4124, -1.9634,  ...,  0.8101, -3.9008,  3.7691],\n",
            "         [-1.0464, -1.4675, -7.8820,  ...,  0.7914, -3.1230,  7.4231]]],\n",
            "       device='cuda:0', grad_fn=<AddBackward0>), tensor([[[-0.0470, -0.0333, -0.1626,  ..., -0.1337, -0.0571, -0.1059],\n",
            "         [ 0.4783,  0.5455,  0.5523,  ..., -0.2615, -0.1260, -0.1804],\n",
            "         [ 0.3532, -0.1254,  0.0650,  ..., -0.4620,  0.0722,  0.2935],\n",
            "         ...,\n",
            "         [ 0.5783,  0.0455,  0.5869,  ..., -0.0471, -0.0632,  0.1805],\n",
            "         [ 0.5266,  0.9584, -0.1785,  ...,  0.0439, -0.5484,  0.7059],\n",
            "         [ 0.6282, -0.1396, -0.7631,  ...,  0.0508, -0.4036,  0.5429]]],\n",
            "       device='cuda:0', grad_fn=<ViewBackward0>)), attentions=None, cross_attentions=None)\n"
          ]
        }
      ]
    },
    {
      "cell_type": "code",
      "source": [
        "# print(output.hidden_states[-1][-1])"
      ],
      "metadata": {
        "colab": {
          "base_uri": "https://localhost:8080/"
        },
        "id": "L-HL0C99GVB6",
        "outputId": "2d1b3f30-0c77-4ade-b975-c72900560571"
      },
      "execution_count": null,
      "outputs": [
        {
          "output_type": "stream",
          "name": "stdout",
          "text": [
            "tensor([[[-0.0470, -0.0333, -0.1626,  ..., -0.1337, -0.0571, -0.1059],\n",
            "         [ 0.4783,  0.5455,  0.5523,  ..., -0.2615, -0.1260, -0.1804],\n",
            "         [ 0.3532, -0.1254,  0.0650,  ..., -0.4620,  0.0722,  0.2935],\n",
            "         ...,\n",
            "         [ 0.5783,  0.0455,  0.5869,  ..., -0.0471, -0.0632,  0.1805],\n",
            "         [ 0.5266,  0.9584, -0.1785,  ...,  0.0439, -0.5484,  0.7059],\n",
            "         [ 0.6282, -0.1396, -0.7631,  ...,  0.0508, -0.4036,  0.5429]]])\n"
          ]
        }
      ]
    },
    {
      "cell_type": "code",
      "source": [
        "print(output_.hidden_states[-1])"
      ],
      "metadata": {
        "colab": {
          "base_uri": "https://localhost:8080/"
        },
        "id": "57IuqSH6HTcR",
        "outputId": "863e7b56-cf21-4c6b-94a6-127af7bbbca5"
      },
      "execution_count": null,
      "outputs": [
        {
          "output_type": "stream",
          "name": "stdout",
          "text": [
            "tensor([[[-0.0470, -0.0333, -0.1626,  ..., -0.1337, -0.0571, -0.1059],\n",
            "         [ 0.4783,  0.5455,  0.5523,  ..., -0.2615, -0.1260, -0.1804],\n",
            "         [ 0.3532, -0.1254,  0.0650,  ..., -0.4620,  0.0722,  0.2935],\n",
            "         ...,\n",
            "         [ 0.5783,  0.0455,  0.5869,  ..., -0.0471, -0.0632,  0.1805],\n",
            "         [ 0.5266,  0.9584, -0.1785,  ...,  0.0439, -0.5484,  0.7059],\n",
            "         [ 0.6282, -0.1396, -0.7631,  ...,  0.0508, -0.4036,  0.5429]]],\n",
            "       device='cuda:0', grad_fn=<ViewBackward0>)\n"
          ]
        }
      ]
    },
    {
      "cell_type": "code",
      "source": [
        "print(len(output_.hidden_states))"
      ],
      "metadata": {
        "colab": {
          "base_uri": "https://localhost:8080/"
        },
        "id": "zDnlLP6eJC4K",
        "outputId": "acda394e-4104-4815-fb57-11f8e7e64050"
      },
      "execution_count": null,
      "outputs": [
        {
          "output_type": "stream",
          "name": "stdout",
          "text": [
            "13\n"
          ]
        }
      ]
    },
    {
      "cell_type": "code",
      "source": [
        "print(output_.hidden_states[-1].size())"
      ],
      "metadata": {
        "colab": {
          "base_uri": "https://localhost:8080/"
        },
        "id": "RNBq0K7xKeG6",
        "outputId": "331db5e2-6394-4503-8478-1a4679e3ecff"
      },
      "execution_count": null,
      "outputs": [
        {
          "output_type": "stream",
          "name": "stdout",
          "text": [
            "torch.Size([1, 529, 768])\n"
          ]
        }
      ]
    },
    {
      "cell_type": "code",
      "source": [
        "# There are 529 tokens (words, etc.) in the document. Take average over the tokens\n",
        "print(output_.hidden_states[-1].mean(axis=1).size())"
      ],
      "metadata": {
        "colab": {
          "base_uri": "https://localhost:8080/"
        },
        "id": "dGhe_E5nJgOr",
        "outputId": "7285210d-5bd1-4e24-d9ac-499e63f14616"
      },
      "execution_count": null,
      "outputs": [
        {
          "output_type": "stream",
          "name": "stdout",
          "text": [
            "torch.Size([1, 768])\n"
          ]
        }
      ]
    },
    {
      "cell_type": "markdown",
      "source": [
        "## Hidden State Computation"
      ],
      "metadata": {
        "id": "RkyCHMWUsFiI"
      }
    },
    {
      "cell_type": "code",
      "source": [
        "batch_size = 8\n",
        "\n",
        "all_last_hidden_states = []         # Decoder only"
      ],
      "metadata": {
        "id": "TACh4H2dwW6q"
      },
      "execution_count": 8,
      "outputs": []
    },
    {
      "cell_type": "code",
      "source": [
        "with torch.no_grad():\n",
        "  for i in range(0, len(xsum_dataset), batch_size):\n",
        "    batch = tokenizer(xsum_dataset[i:min(i+batch_size,len(xsum_dataset))][\"document\"], truncation=True, padding=\"longest\", return_tensors=\"pt\").to(device)\n",
        "    outputs = model(**batch, output_hidden_states=True)\n",
        "    hidden_states = outputs.hidden_states[-1].mean(axis=1).to(\"cpu\")\n",
        "    for j in range(hidden_states.shape[0]):\n",
        "      all_last_hidden_states.append(hidden_states[j,:].reshape(1,-1))\n",
        "    del outputs\n",
        "    del batch\n",
        "    gc.collect()\n",
        "    torch.cuda.empty_cache()"
      ],
      "metadata": {
        "id": "pnY_J_JnwebT"
      },
      "execution_count": null,
      "outputs": []
    },
    {
      "cell_type": "code",
      "source": [
        "all_last_hidden_states = torch.cat(all_last_hidden_states, dim=0)\n",
        "torch.save({\n",
        "  \"hidden\": all_last_hidden_states\n",
        "}, \"result_xsum_gpt2.pt\")"
      ],
      "metadata": {
        "id": "Uvk0pfS8SUee"
      },
      "execution_count": null,
      "outputs": []
    },
    {
      "cell_type": "markdown",
      "source": [
        "## Test Summary Computation"
      ],
      "metadata": {
        "id": "0p0G-DJ-sTIH"
      }
    },
    {
      "cell_type": "code",
      "source": [
        "batch_size = 8\n",
        "\n",
        "summaries = []"
      ],
      "metadata": {
        "id": "VQ7ZFuSntISI"
      },
      "execution_count": 8,
      "outputs": []
    },
    {
      "cell_type": "code",
      "source": [
        "# with torch.no_grad():\n",
        "#   for i in range(8000, 10000, batch_size):\n",
        "#     print(i, end=' ')\n",
        "#     batch = tokenizer(xsum_dataset[i:min(i+batch_size,len(xsum_dataset))][\"document\"], truncation=True, padding=\"longest\", return_tensors=\"pt\").to(device)\n",
        "#     outputs = model.generate(**batch, max_new_tokens = 64)\n",
        "#     summaries += (tokenizer.batch_decode(outputs, skip_special_tokens=True))\n",
        "#     del outputs\n",
        "#     del batch\n",
        "#     gc.collect()\n",
        "#     torch.cuda.empty_cache()"
      ],
      "metadata": {
        "id": "ozga-yh5_iwl"
      },
      "execution_count": null,
      "outputs": []
    },
    {
      "cell_type": "code",
      "source": [
        "small_doc_indices = []\n",
        "for i in range(10000):\n",
        "  if(len(xsum_dataset[i][\"document\"][:-6]) > 0 and len(xsum_dataset[i][\"document\"][:-6]) < 1000):\n",
        "    small_doc_indices.append(i)\n",
        "\n",
        "small_doc_indices = np.random.permutation(small_doc_indices)[:500]\n",
        "\n",
        "xsum_dataset_taken = xsum_dataset[small_doc_indices]\n",
        "xsum_dataset_taken = Dataset.from_dict(xsum_dataset_taken)\n",
        "\n",
        "with torch.no_grad():\n",
        "  for i in range(0, len(xsum_dataset_taken), batch_size):\n",
        "    print(i, end=' ')\n",
        "    batch = tokenizer(xsum_dataset_taken[i:min(i+batch_size,len(xsum_dataset_taken))][\"document\"], truncation=True, padding=\"longest\", return_tensors=\"pt\").to(device)\n",
        "    outputs = model.generate(**batch, max_new_tokens = 64)\n",
        "    summaries += (tokenizer.batch_decode(outputs, skip_special_tokens=True))       # Returns document with summary after \"TL;DR: \"\n",
        "    del outputs\n",
        "    del batch\n",
        "    gc.collect()\n",
        "    torch.cuda.empty_cache()"
      ],
      "metadata": {
        "colab": {
          "base_uri": "https://localhost:8080/"
        },
        "id": "6R12XbTW63zP",
        "outputId": "f09483c5-793c-458b-e25f-8c383424d6bf"
      },
      "execution_count": 9,
      "outputs": [
        {
          "output_type": "stream",
          "name": "stderr",
          "text": [
            "Setting `pad_token_id` to `eos_token_id`:50256 for open-end generation.\n"
          ]
        },
        {
          "output_type": "stream",
          "name": "stdout",
          "text": [
            "0 "
          ]
        },
        {
          "output_type": "stream",
          "name": "stderr",
          "text": [
            "Setting `pad_token_id` to `eos_token_id`:50256 for open-end generation.\n"
          ]
        },
        {
          "output_type": "stream",
          "name": "stdout",
          "text": [
            "8 "
          ]
        },
        {
          "output_type": "stream",
          "name": "stderr",
          "text": [
            "Setting `pad_token_id` to `eos_token_id`:50256 for open-end generation.\n"
          ]
        },
        {
          "output_type": "stream",
          "name": "stdout",
          "text": [
            "16 "
          ]
        },
        {
          "output_type": "stream",
          "name": "stderr",
          "text": [
            "Setting `pad_token_id` to `eos_token_id`:50256 for open-end generation.\n"
          ]
        },
        {
          "output_type": "stream",
          "name": "stdout",
          "text": [
            "24 "
          ]
        },
        {
          "output_type": "stream",
          "name": "stderr",
          "text": [
            "Setting `pad_token_id` to `eos_token_id`:50256 for open-end generation.\n"
          ]
        },
        {
          "output_type": "stream",
          "name": "stdout",
          "text": [
            "32 "
          ]
        },
        {
          "output_type": "stream",
          "name": "stderr",
          "text": [
            "Setting `pad_token_id` to `eos_token_id`:50256 for open-end generation.\n"
          ]
        },
        {
          "output_type": "stream",
          "name": "stdout",
          "text": [
            "40 "
          ]
        },
        {
          "output_type": "stream",
          "name": "stderr",
          "text": [
            "Setting `pad_token_id` to `eos_token_id`:50256 for open-end generation.\n"
          ]
        },
        {
          "output_type": "stream",
          "name": "stdout",
          "text": [
            "48 "
          ]
        },
        {
          "output_type": "stream",
          "name": "stderr",
          "text": [
            "Setting `pad_token_id` to `eos_token_id`:50256 for open-end generation.\n"
          ]
        },
        {
          "output_type": "stream",
          "name": "stdout",
          "text": [
            "56 "
          ]
        },
        {
          "output_type": "stream",
          "name": "stderr",
          "text": [
            "Setting `pad_token_id` to `eos_token_id`:50256 for open-end generation.\n"
          ]
        },
        {
          "output_type": "stream",
          "name": "stdout",
          "text": [
            "64 "
          ]
        },
        {
          "output_type": "stream",
          "name": "stderr",
          "text": [
            "Setting `pad_token_id` to `eos_token_id`:50256 for open-end generation.\n"
          ]
        },
        {
          "output_type": "stream",
          "name": "stdout",
          "text": [
            "72 "
          ]
        },
        {
          "output_type": "stream",
          "name": "stderr",
          "text": [
            "Setting `pad_token_id` to `eos_token_id`:50256 for open-end generation.\n"
          ]
        },
        {
          "output_type": "stream",
          "name": "stdout",
          "text": [
            "80 "
          ]
        },
        {
          "output_type": "stream",
          "name": "stderr",
          "text": [
            "Setting `pad_token_id` to `eos_token_id`:50256 for open-end generation.\n"
          ]
        },
        {
          "output_type": "stream",
          "name": "stdout",
          "text": [
            "88 "
          ]
        },
        {
          "output_type": "stream",
          "name": "stderr",
          "text": [
            "Setting `pad_token_id` to `eos_token_id`:50256 for open-end generation.\n"
          ]
        },
        {
          "output_type": "stream",
          "name": "stdout",
          "text": [
            "96 "
          ]
        },
        {
          "output_type": "stream",
          "name": "stderr",
          "text": [
            "Setting `pad_token_id` to `eos_token_id`:50256 for open-end generation.\n"
          ]
        },
        {
          "output_type": "stream",
          "name": "stdout",
          "text": [
            "104 "
          ]
        },
        {
          "output_type": "stream",
          "name": "stderr",
          "text": [
            "Setting `pad_token_id` to `eos_token_id`:50256 for open-end generation.\n"
          ]
        },
        {
          "output_type": "stream",
          "name": "stdout",
          "text": [
            "112 "
          ]
        },
        {
          "output_type": "stream",
          "name": "stderr",
          "text": [
            "Setting `pad_token_id` to `eos_token_id`:50256 for open-end generation.\n"
          ]
        },
        {
          "output_type": "stream",
          "name": "stdout",
          "text": [
            "120 "
          ]
        },
        {
          "output_type": "stream",
          "name": "stderr",
          "text": [
            "Setting `pad_token_id` to `eos_token_id`:50256 for open-end generation.\n"
          ]
        },
        {
          "output_type": "stream",
          "name": "stdout",
          "text": [
            "128 "
          ]
        },
        {
          "output_type": "stream",
          "name": "stderr",
          "text": [
            "Setting `pad_token_id` to `eos_token_id`:50256 for open-end generation.\n"
          ]
        },
        {
          "output_type": "stream",
          "name": "stdout",
          "text": [
            "136 "
          ]
        },
        {
          "output_type": "stream",
          "name": "stderr",
          "text": [
            "Setting `pad_token_id` to `eos_token_id`:50256 for open-end generation.\n"
          ]
        },
        {
          "output_type": "stream",
          "name": "stdout",
          "text": [
            "144 "
          ]
        },
        {
          "output_type": "stream",
          "name": "stderr",
          "text": [
            "Setting `pad_token_id` to `eos_token_id`:50256 for open-end generation.\n"
          ]
        },
        {
          "output_type": "stream",
          "name": "stdout",
          "text": [
            "152 "
          ]
        },
        {
          "output_type": "stream",
          "name": "stderr",
          "text": [
            "Setting `pad_token_id` to `eos_token_id`:50256 for open-end generation.\n"
          ]
        },
        {
          "output_type": "stream",
          "name": "stdout",
          "text": [
            "160 "
          ]
        },
        {
          "output_type": "stream",
          "name": "stderr",
          "text": [
            "Setting `pad_token_id` to `eos_token_id`:50256 for open-end generation.\n"
          ]
        },
        {
          "output_type": "stream",
          "name": "stdout",
          "text": [
            "168 "
          ]
        },
        {
          "output_type": "stream",
          "name": "stderr",
          "text": [
            "Setting `pad_token_id` to `eos_token_id`:50256 for open-end generation.\n"
          ]
        },
        {
          "output_type": "stream",
          "name": "stdout",
          "text": [
            "176 "
          ]
        },
        {
          "output_type": "stream",
          "name": "stderr",
          "text": [
            "Setting `pad_token_id` to `eos_token_id`:50256 for open-end generation.\n"
          ]
        },
        {
          "output_type": "stream",
          "name": "stdout",
          "text": [
            "184 "
          ]
        },
        {
          "output_type": "stream",
          "name": "stderr",
          "text": [
            "Setting `pad_token_id` to `eos_token_id`:50256 for open-end generation.\n"
          ]
        },
        {
          "output_type": "stream",
          "name": "stdout",
          "text": [
            "192 "
          ]
        },
        {
          "output_type": "stream",
          "name": "stderr",
          "text": [
            "Setting `pad_token_id` to `eos_token_id`:50256 for open-end generation.\n"
          ]
        },
        {
          "output_type": "stream",
          "name": "stdout",
          "text": [
            "200 "
          ]
        },
        {
          "output_type": "stream",
          "name": "stderr",
          "text": [
            "Setting `pad_token_id` to `eos_token_id`:50256 for open-end generation.\n"
          ]
        },
        {
          "output_type": "stream",
          "name": "stdout",
          "text": [
            "208 "
          ]
        },
        {
          "output_type": "stream",
          "name": "stderr",
          "text": [
            "Setting `pad_token_id` to `eos_token_id`:50256 for open-end generation.\n"
          ]
        },
        {
          "output_type": "stream",
          "name": "stdout",
          "text": [
            "216 "
          ]
        },
        {
          "output_type": "stream",
          "name": "stderr",
          "text": [
            "Setting `pad_token_id` to `eos_token_id`:50256 for open-end generation.\n"
          ]
        },
        {
          "output_type": "stream",
          "name": "stdout",
          "text": [
            "224 "
          ]
        },
        {
          "output_type": "stream",
          "name": "stderr",
          "text": [
            "Setting `pad_token_id` to `eos_token_id`:50256 for open-end generation.\n"
          ]
        },
        {
          "output_type": "stream",
          "name": "stdout",
          "text": [
            "232 "
          ]
        },
        {
          "output_type": "stream",
          "name": "stderr",
          "text": [
            "Setting `pad_token_id` to `eos_token_id`:50256 for open-end generation.\n"
          ]
        },
        {
          "output_type": "stream",
          "name": "stdout",
          "text": [
            "240 "
          ]
        },
        {
          "output_type": "stream",
          "name": "stderr",
          "text": [
            "Setting `pad_token_id` to `eos_token_id`:50256 for open-end generation.\n"
          ]
        },
        {
          "output_type": "stream",
          "name": "stdout",
          "text": [
            "248 "
          ]
        },
        {
          "output_type": "stream",
          "name": "stderr",
          "text": [
            "Setting `pad_token_id` to `eos_token_id`:50256 for open-end generation.\n"
          ]
        },
        {
          "output_type": "stream",
          "name": "stdout",
          "text": [
            "256 "
          ]
        },
        {
          "output_type": "stream",
          "name": "stderr",
          "text": [
            "Setting `pad_token_id` to `eos_token_id`:50256 for open-end generation.\n"
          ]
        },
        {
          "output_type": "stream",
          "name": "stdout",
          "text": [
            "264 "
          ]
        },
        {
          "output_type": "stream",
          "name": "stderr",
          "text": [
            "Setting `pad_token_id` to `eos_token_id`:50256 for open-end generation.\n"
          ]
        },
        {
          "output_type": "stream",
          "name": "stdout",
          "text": [
            "272 "
          ]
        },
        {
          "output_type": "stream",
          "name": "stderr",
          "text": [
            "Setting `pad_token_id` to `eos_token_id`:50256 for open-end generation.\n"
          ]
        },
        {
          "output_type": "stream",
          "name": "stdout",
          "text": [
            "280 "
          ]
        },
        {
          "output_type": "stream",
          "name": "stderr",
          "text": [
            "Setting `pad_token_id` to `eos_token_id`:50256 for open-end generation.\n"
          ]
        },
        {
          "output_type": "stream",
          "name": "stdout",
          "text": [
            "288 "
          ]
        },
        {
          "output_type": "stream",
          "name": "stderr",
          "text": [
            "Setting `pad_token_id` to `eos_token_id`:50256 for open-end generation.\n"
          ]
        },
        {
          "output_type": "stream",
          "name": "stdout",
          "text": [
            "296 "
          ]
        },
        {
          "output_type": "stream",
          "name": "stderr",
          "text": [
            "Setting `pad_token_id` to `eos_token_id`:50256 for open-end generation.\n"
          ]
        },
        {
          "output_type": "stream",
          "name": "stdout",
          "text": [
            "304 "
          ]
        },
        {
          "output_type": "stream",
          "name": "stderr",
          "text": [
            "Setting `pad_token_id` to `eos_token_id`:50256 for open-end generation.\n"
          ]
        },
        {
          "output_type": "stream",
          "name": "stdout",
          "text": [
            "312 "
          ]
        },
        {
          "output_type": "stream",
          "name": "stderr",
          "text": [
            "Setting `pad_token_id` to `eos_token_id`:50256 for open-end generation.\n"
          ]
        },
        {
          "output_type": "stream",
          "name": "stdout",
          "text": [
            "320 "
          ]
        },
        {
          "output_type": "stream",
          "name": "stderr",
          "text": [
            "Setting `pad_token_id` to `eos_token_id`:50256 for open-end generation.\n"
          ]
        },
        {
          "output_type": "stream",
          "name": "stdout",
          "text": [
            "328 "
          ]
        },
        {
          "output_type": "stream",
          "name": "stderr",
          "text": [
            "Setting `pad_token_id` to `eos_token_id`:50256 for open-end generation.\n"
          ]
        },
        {
          "output_type": "stream",
          "name": "stdout",
          "text": [
            "336 "
          ]
        },
        {
          "output_type": "stream",
          "name": "stderr",
          "text": [
            "Setting `pad_token_id` to `eos_token_id`:50256 for open-end generation.\n"
          ]
        },
        {
          "output_type": "stream",
          "name": "stdout",
          "text": [
            "344 "
          ]
        },
        {
          "output_type": "stream",
          "name": "stderr",
          "text": [
            "Setting `pad_token_id` to `eos_token_id`:50256 for open-end generation.\n"
          ]
        },
        {
          "output_type": "stream",
          "name": "stdout",
          "text": [
            "352 "
          ]
        },
        {
          "output_type": "stream",
          "name": "stderr",
          "text": [
            "Setting `pad_token_id` to `eos_token_id`:50256 for open-end generation.\n"
          ]
        },
        {
          "output_type": "stream",
          "name": "stdout",
          "text": [
            "360 "
          ]
        },
        {
          "output_type": "stream",
          "name": "stderr",
          "text": [
            "Setting `pad_token_id` to `eos_token_id`:50256 for open-end generation.\n"
          ]
        },
        {
          "output_type": "stream",
          "name": "stdout",
          "text": [
            "368 "
          ]
        },
        {
          "output_type": "stream",
          "name": "stderr",
          "text": [
            "Setting `pad_token_id` to `eos_token_id`:50256 for open-end generation.\n"
          ]
        },
        {
          "output_type": "stream",
          "name": "stdout",
          "text": [
            "376 "
          ]
        },
        {
          "output_type": "stream",
          "name": "stderr",
          "text": [
            "Setting `pad_token_id` to `eos_token_id`:50256 for open-end generation.\n"
          ]
        },
        {
          "output_type": "stream",
          "name": "stdout",
          "text": [
            "384 "
          ]
        },
        {
          "output_type": "stream",
          "name": "stderr",
          "text": [
            "Setting `pad_token_id` to `eos_token_id`:50256 for open-end generation.\n"
          ]
        },
        {
          "output_type": "stream",
          "name": "stdout",
          "text": [
            "392 "
          ]
        },
        {
          "output_type": "stream",
          "name": "stderr",
          "text": [
            "Setting `pad_token_id` to `eos_token_id`:50256 for open-end generation.\n"
          ]
        },
        {
          "output_type": "stream",
          "name": "stdout",
          "text": [
            "400 "
          ]
        },
        {
          "output_type": "stream",
          "name": "stderr",
          "text": [
            "Setting `pad_token_id` to `eos_token_id`:50256 for open-end generation.\n"
          ]
        },
        {
          "output_type": "stream",
          "name": "stdout",
          "text": [
            "408 "
          ]
        },
        {
          "output_type": "stream",
          "name": "stderr",
          "text": [
            "Setting `pad_token_id` to `eos_token_id`:50256 for open-end generation.\n"
          ]
        },
        {
          "output_type": "stream",
          "name": "stdout",
          "text": [
            "416 "
          ]
        },
        {
          "output_type": "stream",
          "name": "stderr",
          "text": [
            "Setting `pad_token_id` to `eos_token_id`:50256 for open-end generation.\n"
          ]
        },
        {
          "output_type": "stream",
          "name": "stdout",
          "text": [
            "424 "
          ]
        },
        {
          "output_type": "stream",
          "name": "stderr",
          "text": [
            "Setting `pad_token_id` to `eos_token_id`:50256 for open-end generation.\n"
          ]
        },
        {
          "output_type": "stream",
          "name": "stdout",
          "text": [
            "432 "
          ]
        },
        {
          "output_type": "stream",
          "name": "stderr",
          "text": [
            "Setting `pad_token_id` to `eos_token_id`:50256 for open-end generation.\n"
          ]
        },
        {
          "output_type": "stream",
          "name": "stdout",
          "text": [
            "440 "
          ]
        },
        {
          "output_type": "stream",
          "name": "stderr",
          "text": [
            "Setting `pad_token_id` to `eos_token_id`:50256 for open-end generation.\n"
          ]
        },
        {
          "output_type": "stream",
          "name": "stdout",
          "text": [
            "448 "
          ]
        },
        {
          "output_type": "stream",
          "name": "stderr",
          "text": [
            "Setting `pad_token_id` to `eos_token_id`:50256 for open-end generation.\n"
          ]
        },
        {
          "output_type": "stream",
          "name": "stdout",
          "text": [
            "456 "
          ]
        },
        {
          "output_type": "stream",
          "name": "stderr",
          "text": [
            "Setting `pad_token_id` to `eos_token_id`:50256 for open-end generation.\n"
          ]
        },
        {
          "output_type": "stream",
          "name": "stdout",
          "text": [
            "464 "
          ]
        },
        {
          "output_type": "stream",
          "name": "stderr",
          "text": [
            "Setting `pad_token_id` to `eos_token_id`:50256 for open-end generation.\n"
          ]
        },
        {
          "output_type": "stream",
          "name": "stdout",
          "text": [
            "472 "
          ]
        },
        {
          "output_type": "stream",
          "name": "stderr",
          "text": [
            "Setting `pad_token_id` to `eos_token_id`:50256 for open-end generation.\n"
          ]
        },
        {
          "output_type": "stream",
          "name": "stdout",
          "text": [
            "480 "
          ]
        },
        {
          "output_type": "stream",
          "name": "stderr",
          "text": [
            "Setting `pad_token_id` to `eos_token_id`:50256 for open-end generation.\n"
          ]
        },
        {
          "output_type": "stream",
          "name": "stdout",
          "text": [
            "488 "
          ]
        },
        {
          "output_type": "stream",
          "name": "stderr",
          "text": [
            "Setting `pad_token_id` to `eos_token_id`:50256 for open-end generation.\n"
          ]
        },
        {
          "output_type": "stream",
          "name": "stdout",
          "text": [
            "496 "
          ]
        }
      ]
    },
    {
      "cell_type": "code",
      "source": [
        "torch.save({\n",
        "  \"predictions\": summaries,\n",
        "  \"indices\": small_doc_indices,\n",
        "  \"dataset_summaries\": xsum_dataset[small_doc_indices][\"summary\"]\n",
        "}, \"xsum_test_summaries_gpt2.pt\")"
      ],
      "metadata": {
        "id": "nyh2FHTZJH8s"
      },
      "execution_count": 11,
      "outputs": []
    },
    {
      "cell_type": "markdown",
      "source": [
        "# C4 Dataset"
      ],
      "metadata": {
        "id": "QiBcUTY9U9mx"
      }
    },
    {
      "cell_type": "markdown",
      "source": [
        "## Load Dataset"
      ],
      "metadata": {
        "id": "209_6qZNyuf8"
      }
    },
    {
      "cell_type": "code",
      "source": [
        "ds_builder = load_dataset_builder(\"stas/c4-en-10k\")\n",
        "print(ds_builder.info.description)\n",
        "print(ds_builder.info.features)"
      ],
      "metadata": {
        "colab": {
          "base_uri": "https://localhost:8080/"
        },
        "id": "CjGEuIOyVGIO",
        "outputId": "ba86eda4-41b9-4fe4-cd95-d1a29f1cf8ec"
      },
      "execution_count": null,
      "outputs": [
        {
          "output_type": "stream",
          "name": "stdout",
          "text": [
            "This is a small subset representing the first 10K records of the original C4 dataset, \"en\" subset - created for testing. The records were extracted after having been shuffled.\n",
            "\n",
            "The full 1TB+ dataset is at https://huggingface.co/datasets/c4.\n",
            "\n",
            "{'text': Value(dtype='string', id=None)}\n"
          ]
        }
      ]
    },
    {
      "cell_type": "code",
      "source": [
        "dataset = load_dataset(\"stas/c4-en-10k\")\n",
        "dataset"
      ],
      "metadata": {
        "colab": {
          "base_uri": "https://localhost:8080/",
          "height": 188,
          "referenced_widgets": [
            "0b4f6020dfe4445ead28f65fb1c0b131",
            "022504f387754949a415bfdcb76f6b20",
            "de7f4887b83d42cc8ea1baf04a7deccc",
            "fb5217e0c24c4c4ba583887353a490b9",
            "1c3083dec4da4b06ae4c9353bb8cf676",
            "49912059a09c4c018220cd256c082322",
            "c3e221fe84e7468ab4fa50be8696e098",
            "efcd53067e5440858ff0d3db179dc46a",
            "a233d51f63d84aaea543b8a088f63c46",
            "53b0aaecdb17486788409a9b7fdfa51a",
            "bc0920cca527415cb4cbd1786a5a1e3b"
          ]
        },
        "id": "z-ngCYDJVG8T",
        "outputId": "f7d1b8c0-373a-4cdf-8055-c3084ca16ecd"
      },
      "execution_count": null,
      "outputs": [
        {
          "output_type": "stream",
          "name": "stderr",
          "text": [
            "WARNING:datasets.builder:Found cached dataset c4-en-10k (/root/.cache/huggingface/datasets/stas___c4-en-10k/plain_text/1.0.0/edbf1ff8b8ee35a9751a7752b5e93a4873cc7905ffae010ad334a2c96f81e1cd)\n"
          ]
        },
        {
          "output_type": "display_data",
          "data": {
            "text/plain": [
              "  0%|          | 0/1 [00:00<?, ?it/s]"
            ],
            "application/vnd.jupyter.widget-view+json": {
              "version_major": 2,
              "version_minor": 0,
              "model_id": "0b4f6020dfe4445ead28f65fb1c0b131"
            }
          },
          "metadata": {}
        },
        {
          "output_type": "execute_result",
          "data": {
            "text/plain": [
              "DatasetDict({\n",
              "    train: Dataset({\n",
              "        features: ['text'],\n",
              "        num_rows: 10000\n",
              "    })\n",
              "})"
            ]
          },
          "metadata": {},
          "execution_count": 61
        }
      ]
    },
    {
      "cell_type": "code",
      "source": [
        "print(dataset.column_names)"
      ],
      "metadata": {
        "colab": {
          "base_uri": "https://localhost:8080/"
        },
        "id": "Kfx0jhL-XT4C",
        "outputId": "cc449742-b1cd-4214-f1fa-9ab8c502a740"
      },
      "execution_count": null,
      "outputs": [
        {
          "output_type": "stream",
          "name": "stdout",
          "text": [
            "{'train': ['text']}\n"
          ]
        }
      ]
    },
    {
      "cell_type": "code",
      "source": [
        "for k, v in dataset[\"train\"][0].items():\n",
        "  print(k, '=', v)\n",
        "  print()"
      ],
      "metadata": {
        "colab": {
          "base_uri": "https://localhost:8080/"
        },
        "id": "QR5LjabUVIve",
        "outputId": "639d1d7b-f101-4eb0-fe68-3e98f84eadac"
      },
      "execution_count": null,
      "outputs": [
        {
          "output_type": "stream",
          "name": "stdout",
          "text": [
            "text = Beginners BBQ Class Taking Place in Missoula!\n",
            "Do you want to get better at making delicious BBQ? You will have the opportunity, put this on your calendar now. Thursday, September 22nd join World Class BBQ Champion, Tony Balay from Lonestar Smoke Rangers. He will be teaching a beginner level class for everyone who wants to get better with their culinary skills.\n",
            "He will teach you everything you need to know to compete in a KCBS BBQ competition, including techniques, recipes, timelines, meat selection and trimming, plus smoker and fire information.\n",
            "The cost to be in the class is $35 per person, and for spectators it is free. Included in the cost will be either a t-shirt or apron and you will be tasting samples of each meat that is prepared.\n",
            "\n"
          ]
        }
      ]
    },
    {
      "cell_type": "markdown",
      "source": [
        "## Data Preprocessing"
      ],
      "metadata": {
        "id": "EH9kGDiry1Wc"
      }
    },
    {
      "cell_type": "code",
      "source": [
        "def add_tldr1(example):\n",
        "  example[\"text\"] = example[\"text\"] + \" TL;DR\"\n",
        "  return example\n",
        "\n",
        "c4_dataset = dataset[\"train\"].map(add_tldr1)"
      ],
      "metadata": {
        "colab": {
          "base_uri": "https://localhost:8080/"
        },
        "id": "FvkEQodzX2lp",
        "outputId": "2ce4c4c4-ff65-4eb9-e20b-50966171d249"
      },
      "execution_count": null,
      "outputs": [
        {
          "output_type": "stream",
          "name": "stderr",
          "text": [
            "WARNING:datasets.arrow_dataset:Loading cached processed dataset at /root/.cache/huggingface/datasets/stas___c4-en-10k/plain_text/1.0.0/edbf1ff8b8ee35a9751a7752b5e93a4873cc7905ffae010ad334a2c96f81e1cd/cache-59cd4875826e56da.arrow\n"
          ]
        }
      ]
    },
    {
      "cell_type": "code",
      "source": [
        "for k, v in c4_dataset[0].items():\n",
        "  print(k, '=', v)\n",
        "  print()"
      ],
      "metadata": {
        "colab": {
          "base_uri": "https://localhost:8080/"
        },
        "id": "g4atTug1aDsC",
        "outputId": "2cee68fe-7537-4f6a-f682-b2003d168a40"
      },
      "execution_count": null,
      "outputs": [
        {
          "output_type": "stream",
          "name": "stdout",
          "text": [
            "text = Beginners BBQ Class Taking Place in Missoula!\n",
            "Do you want to get better at making delicious BBQ? You will have the opportunity, put this on your calendar now. Thursday, September 22nd join World Class BBQ Champion, Tony Balay from Lonestar Smoke Rangers. He will be teaching a beginner level class for everyone who wants to get better with their culinary skills.\n",
            "He will teach you everything you need to know to compete in a KCBS BBQ competition, including techniques, recipes, timelines, meat selection and trimming, plus smoker and fire information.\n",
            "The cost to be in the class is $35 per person, and for spectators it is free. Included in the cost will be either a t-shirt or apron and you will be tasting samples of each meat that is prepared. TL;DR\n",
            "\n"
          ]
        }
      ]
    },
    {
      "cell_type": "markdown",
      "source": [
        "## Hidden State Computation"
      ],
      "metadata": {
        "id": "nYSv7ueBy6P5"
      }
    },
    {
      "cell_type": "code",
      "source": [
        "batch_size = 8\n",
        "\n",
        "all_last_hidden_states = []"
      ],
      "metadata": {
        "id": "ZwNtpUTTVLAP"
      },
      "execution_count": null,
      "outputs": []
    },
    {
      "cell_type": "code",
      "source": [
        "with torch.no_grad():\n",
        "  for i in range(0, len(c4_dataset), batch_size):\n",
        "    batch = tokenizer(c4_dataset[i:min(i+batch_size,len(c4_dataset))][\"text\"], truncation=True, padding=\"longest\", return_tensors=\"pt\").to(device)\n",
        "    outputs = model(**batch, output_hidden_states=True)\n",
        "    hidden_states = outputs.hidden_states[-1].mean(axis=1).to(\"cpu\")\n",
        "    for j in range(hidden_states.shape[0]):\n",
        "      all_last_hidden_states.append(hidden_states[j,:].reshape(1,-1))\n",
        "    del outputs\n",
        "    del batch\n",
        "    gc.collect()\n",
        "    torch.cuda.empty_cache()"
      ],
      "metadata": {
        "id": "-r9QioLkafvD"
      },
      "execution_count": null,
      "outputs": []
    },
    {
      "cell_type": "code",
      "source": [
        "all_last_hidden_states = torch.cat(all_last_hidden_states, dim=0)\n",
        "torch.save({\n",
        "    \"hidden\": all_last_hidden_states\n",
        "}, \"result_c4_gpt2.pt\")"
      ],
      "metadata": {
        "id": "VqU4Ld9Ocm_p"
      },
      "execution_count": null,
      "outputs": []
    },
    {
      "cell_type": "markdown",
      "source": [
        "# Cnn_dailymail Dataset"
      ],
      "metadata": {
        "id": "yEUQP-sBdorI"
      }
    },
    {
      "cell_type": "markdown",
      "source": [
        "## Load Dataset"
      ],
      "metadata": {
        "id": "765iZ7pyzezZ"
      }
    },
    {
      "cell_type": "code",
      "source": [
        "ds_builder = load_dataset_builder(\"cnn_dailymail\", \"3.0.0\")\n",
        "print(ds_builder.info.description)\n",
        "print(ds_builder.info.features)"
      ],
      "metadata": {
        "colab": {
          "base_uri": "https://localhost:8080/",
          "height": 269,
          "referenced_widgets": [
            "8f9172bf0380435099668e68a3db46bb",
            "fe46218119cb4c98bfeccf5434d0018f",
            "57d0f248679d408cbe34ae9a18be0e5a",
            "db7d0065a0194724a9a9737490749404",
            "61e0402d7ca347d3af287f5a54498c1e",
            "b7d2387322784ec4a40cfd852388d9a4",
            "fa00fc22dbb04f5e9db3143462c023eb",
            "7e1104a28fc8404c83ef5bfee6780638",
            "b9ab2c948b07467eb6764c823689fb3f",
            "79eec9d316ad451299f38a2b772d8454",
            "a4183a43511e46d4a7f66a6bbb94eca3",
            "4565f7c0a15e4a7c843234c928350184",
            "a283a00ab6054b2db9278971d11325d0",
            "025f142c84cf46f4856d111d76b7a154",
            "88ef852ce73a4aaeaa8e4b5ed2b0dfbc",
            "020a5aa7f0f2465ebc482b4f8750fd8e",
            "4fec085938254033a9260ab6698a8382",
            "c8066c11d2ea4f399a0d2800e64aa18d",
            "fffd13d341e74e35b4dd4c8e82c9c2dc",
            "f029e56c78d94f8695268d9e6172adbb",
            "24233f6537ca4cf78a966ed906bbd87a",
            "195296c0f8a84ce5b2330d59f701f596",
            "02ec5507fd3b440ca350947bf0dd13bf",
            "d839f5b690444227a142097f5f43985f",
            "50d9aad94bd74f8f9ba0c841e9bc2538",
            "69ff512a172d44848ccf238ce8c777d6",
            "d63668d6d480425f89494548f0e5784d",
            "dfc20b0758334be3bed00214a44491d2",
            "05f1dd5b311047878d16aace34f65d7f",
            "f51eb797c1ce4d9294ec1ff641a7558d",
            "b8672c1bd01f4b76befa42f3d1fce2f5",
            "a82239d45a744e87891a139bc5f3f61e",
            "cdb3596f4eb447c6a0a34564cfed0b22"
          ]
        },
        "id": "XPEtlieLdqxO",
        "outputId": "f9237c51-40ab-4c92-d489-c2ef81e1c3c9"
      },
      "execution_count": 12,
      "outputs": [
        {
          "output_type": "display_data",
          "data": {
            "text/plain": [
              "Downloading builder script:   0%|          | 0.00/8.33k [00:00<?, ?B/s]"
            ],
            "application/vnd.jupyter.widget-view+json": {
              "version_major": 2,
              "version_minor": 0,
              "model_id": "8f9172bf0380435099668e68a3db46bb"
            }
          },
          "metadata": {}
        },
        {
          "output_type": "display_data",
          "data": {
            "text/plain": [
              "Downloading metadata:   0%|          | 0.00/9.88k [00:00<?, ?B/s]"
            ],
            "application/vnd.jupyter.widget-view+json": {
              "version_major": 2,
              "version_minor": 0,
              "model_id": "4565f7c0a15e4a7c843234c928350184"
            }
          },
          "metadata": {}
        },
        {
          "output_type": "display_data",
          "data": {
            "text/plain": [
              "Downloading readme:   0%|          | 0.00/15.1k [00:00<?, ?B/s]"
            ],
            "application/vnd.jupyter.widget-view+json": {
              "version_major": 2,
              "version_minor": 0,
              "model_id": "02ec5507fd3b440ca350947bf0dd13bf"
            }
          },
          "metadata": {}
        },
        {
          "output_type": "stream",
          "name": "stdout",
          "text": [
            "CNN/DailyMail non-anonymized summarization dataset.\n",
            "\n",
            "There are two features:\n",
            "  - article: text of news article, used as the document to be summarized\n",
            "  - highlights: joined text of highlights with <s> and </s> around each\n",
            "    highlight, which is the target summary\n",
            "\n",
            "{'article': Value(dtype='string', id=None), 'highlights': Value(dtype='string', id=None), 'id': Value(dtype='string', id=None)}\n"
          ]
        }
      ]
    },
    {
      "cell_type": "code",
      "source": [
        "dataset = load_dataset(\"cnn_dailymail\", \"3.0.0\", split=\"test\")\n",
        "dataset"
      ],
      "metadata": {
        "colab": {
          "base_uri": "https://localhost:8080/",
          "height": 769,
          "referenced_widgets": [
            "d6284baf549c4f51864416a113bd0b58",
            "ac9e575c27b34357923bfac959eb7c0c",
            "45e8d63e0eb4418fb66cb6dfa51df785",
            "2ba8b99509924320967d789bb4e1a19b",
            "b08128ce065f4ff3bab163a70f1e53b6",
            "8ef45486f5034b8185862727c98cfd66",
            "3f5b5ea66c054673bf835e3f9ad36b86",
            "21d8cdbcea7b477d992142f9ac0594db",
            "eebe50e85747419a82b9cf63c1ef3d9e",
            "5a9d33821b4a4c5ca6ff4fe54a02bc69",
            "c470cbf3ea2c4441bcca307a2b3f43de",
            "2407e2e147f949f8aa1ce78f66b924b2",
            "b20d837f0c3341dc9a8f16c754aa4846",
            "08d82a86656a47d086760f6283d80cef",
            "75c4ee0b4abc42e889e98f9db0f75731",
            "6be360975d274159a27dbdab09cb5756",
            "70c96b39598c4f17be16828fa39727a6",
            "2b808d8833e041df811b5c0fa6923f89",
            "7ee8d46182c047f98304c2c7210c16b5",
            "43e748134a914a65a52555f99f586247",
            "5c790fd5f1314a6ca0b6fa1ae5566e0b",
            "faee2da3c1e342f5aecb863fb07a3cf8",
            "ffbd6c5de79340fc9a327753a000c8d5",
            "1523d4f9988145398ca3a2dcc4d27d07",
            "0026cf5943644a838efa251de65cfb26",
            "677596d3abe94570b7b757114c377a87",
            "0c0d8dba29d146638d7c0d0caefbc570",
            "462d7e53af544426835bcf1e003150c7",
            "3f226b96ac624cbca332b935f4838b27",
            "90c6035cc47d44048e46deb15589c8af",
            "4fd2e7eda1994ad7a12bc11a1942675b",
            "54de3e298c074a7a846fda58c393f9b0",
            "0ac9905c189d448b946fc51f6be27ce8",
            "a1e1e5088cb24678af30dcd02b662f40",
            "cabdb7bdfc3c4b39931943097517e7f2",
            "f8c537954d66424a9e49abcd6a3c045a",
            "a2e38e247f9a4c84b89cac3b09d1650d",
            "dbc8f7718bbb4ccf8f8645025aafce82",
            "e4e4b09e091f473084bf2abfe0058ca5",
            "fe7f46bbe8ae4bbe8efd63aaa8c71030",
            "b3ea7efdc06a4313bfdc202d2e87e022",
            "0e0d49c1062e4042a6bdb11d5eb93f50",
            "ae5137d8060648068caab0eab8cd1e63",
            "e4c9823214124feda1e0598fe0f46765",
            "3bf1f59aceba43a190900f712b039f9e",
            "8bc28b0d432a42529636f4ecb58f62f6",
            "be1e089da37140438f038a477f9c42c3",
            "905d950f8be64999bb796ed351df271d",
            "6ed65be852e046178cc9093273d048c9",
            "398895a659d7482385198ee9afc7e57d",
            "e2230493e0794e4b975ed72c7d6284ee",
            "9904174f07084ab7a4445ea06fdcae1b",
            "0ef87ad887064b7bb890d2d2a85026d9",
            "cc5eb99c8fe348a292d25e2ee5733b57",
            "a0f47f3ec28a4f0591d62c9facbdaa33",
            "d9a832976f324b96bf172c66aaddfd0b",
            "f214ccdad9ea480daf017c290c3d1327",
            "10874cb2577c4b45b40aec98f30c8b56",
            "231570d0b89440f98f8cfece2117b660",
            "f8e2bb74981a4a1b89d205e83399efe5",
            "4d438915242645099ca232800956b1cc",
            "48c8dd11d6814a628fc39e3f7035264f",
            "e0dc792141c341309f22796e01347e48",
            "1b6d732d08d542959b101e8bf4327585",
            "edeb065f933e49f6b35a75c385b73d10",
            "0811609e5f41497ea798ba3bba2aeb08",
            "2b00feaea9b946978d37bfc188e720bc",
            "c666bb1e4535473dab16192c275361a6",
            "cdc3956e547248e48d04e90df12e3337",
            "90802129c80a4c2caa897278a3c700cc",
            "245a0970960b499b92c7fda3dcd63d8f",
            "2368de527df248a69d95225c4fd820f7",
            "83f0c067a7134bbbabe60c68fc1c70c0",
            "779730c5f2ff4e7b9caebc28d1f5753c",
            "07f9335b19d54108bfc290673e64671b",
            "fba777f1c70d4ec78c7eb6a043e23550",
            "fa7907272c7d4d8eaa27a7a3bbb0c9a0",
            "e7b6e1782432445681b23e165c2d7698",
            "6496ec34a9354546a762d6567f7ed4fc",
            "9f75258ced1849128741088d0fb88dd9",
            "521b97f3b101416491634ebba487a84e",
            "1758210008004f1093e3b3b61eed630c",
            "de1b49930a294b9ab18f502851c5e0f3",
            "be2b4cd72a2047849573f8df1c215931",
            "eca96aad20614d56bfc9f2546ceefb7e",
            "a21b31549611415080cf737b974d370b",
            "30c299b4e72c46d580a4f3721c70160c",
            "4ab198a2e41244da90774280ebafdb29",
            "133e088022cd46f3b4c3d9344db02ef6",
            "4173637db189472f8af94bf9fb6246d2",
            "f9f5dddf75074e57a46777dd84e30019",
            "262638294b4b4885acc86e44bfac5704",
            "4c757e4616e042cbac99050fb28dc5ba",
            "31e6f745978b41398f73932ca5659a91",
            "9db1fe0c3d9c4e379f28cd6b41028716",
            "250ea21d9da2448495a03b7667590fc9",
            "76f94bc577584106a335a388656d4515",
            "dc81932518b140fa93a1a930cb06df11",
            "90af78a412f342b1bf563e5689103216"
          ]
        },
        "id": "z-HC7K-3dul8",
        "outputId": "c90128e0-b18b-4a29-fa58-7679a16e4cb8"
      },
      "execution_count": 13,
      "outputs": [
        {
          "output_type": "stream",
          "name": "stdout",
          "text": [
            "Downloading and preparing dataset cnn_dailymail/3.0.0 to /root/.cache/huggingface/datasets/cnn_dailymail/3.0.0/3.0.0/1b3c71476f6d152c31c1730e83ccb08bcf23e348233f4fcc11e182248e6bf7de...\n"
          ]
        },
        {
          "output_type": "display_data",
          "data": {
            "text/plain": [
              "Downloading data files:   0%|          | 0/5 [00:00<?, ?it/s]"
            ],
            "application/vnd.jupyter.widget-view+json": {
              "version_major": 2,
              "version_minor": 0,
              "model_id": "d6284baf549c4f51864416a113bd0b58"
            }
          },
          "metadata": {}
        },
        {
          "output_type": "display_data",
          "data": {
            "text/plain": [
              "Downloading data:   0%|          | 0.00/159M [00:00<?, ?B/s]"
            ],
            "application/vnd.jupyter.widget-view+json": {
              "version_major": 2,
              "version_minor": 0,
              "model_id": "2407e2e147f949f8aa1ce78f66b924b2"
            }
          },
          "metadata": {}
        },
        {
          "output_type": "display_data",
          "data": {
            "text/plain": [
              "Downloading data:   0%|          | 0.00/376M [00:00<?, ?B/s]"
            ],
            "application/vnd.jupyter.widget-view+json": {
              "version_major": 2,
              "version_minor": 0,
              "model_id": "ffbd6c5de79340fc9a327753a000c8d5"
            }
          },
          "metadata": {}
        },
        {
          "output_type": "display_data",
          "data": {
            "text/plain": [
              "Downloading data:   0%|          | 0.00/12.3M [00:00<?, ?B/s]"
            ],
            "application/vnd.jupyter.widget-view+json": {
              "version_major": 2,
              "version_minor": 0,
              "model_id": "a1e1e5088cb24678af30dcd02b662f40"
            }
          },
          "metadata": {}
        },
        {
          "output_type": "display_data",
          "data": {
            "text/plain": [
              "Downloading data:   0%|          | 0.00/661k [00:00<?, ?B/s]"
            ],
            "application/vnd.jupyter.widget-view+json": {
              "version_major": 2,
              "version_minor": 0,
              "model_id": "3bf1f59aceba43a190900f712b039f9e"
            }
          },
          "metadata": {}
        },
        {
          "output_type": "display_data",
          "data": {
            "text/plain": [
              "Downloading data:   0%|          | 0.00/572k [00:00<?, ?B/s]"
            ],
            "application/vnd.jupyter.widget-view+json": {
              "version_major": 2,
              "version_minor": 0,
              "model_id": "d9a832976f324b96bf172c66aaddfd0b"
            }
          },
          "metadata": {}
        },
        {
          "output_type": "display_data",
          "data": {
            "text/plain": [
              "Generating train split:   0%|          | 0/287113 [00:00<?, ? examples/s]"
            ],
            "application/vnd.jupyter.widget-view+json": {
              "version_major": 2,
              "version_minor": 0,
              "model_id": "2b00feaea9b946978d37bfc188e720bc"
            }
          },
          "metadata": {}
        },
        {
          "output_type": "display_data",
          "data": {
            "text/plain": [
              "Generating validation split:   0%|          | 0/13368 [00:00<?, ? examples/s]"
            ],
            "application/vnd.jupyter.widget-view+json": {
              "version_major": 2,
              "version_minor": 0,
              "model_id": "e7b6e1782432445681b23e165c2d7698"
            }
          },
          "metadata": {}
        },
        {
          "output_type": "display_data",
          "data": {
            "text/plain": [
              "Generating test split:   0%|          | 0/11490 [00:00<?, ? examples/s]"
            ],
            "application/vnd.jupyter.widget-view+json": {
              "version_major": 2,
              "version_minor": 0,
              "model_id": "133e088022cd46f3b4c3d9344db02ef6"
            }
          },
          "metadata": {}
        },
        {
          "output_type": "stream",
          "name": "stdout",
          "text": [
            "Dataset cnn_dailymail downloaded and prepared to /root/.cache/huggingface/datasets/cnn_dailymail/3.0.0/3.0.0/1b3c71476f6d152c31c1730e83ccb08bcf23e348233f4fcc11e182248e6bf7de. Subsequent calls will reuse this data.\n"
          ]
        },
        {
          "output_type": "execute_result",
          "data": {
            "text/plain": [
              "Dataset({\n",
              "    features: ['article', 'highlights', 'id'],\n",
              "    num_rows: 11490\n",
              "})"
            ]
          },
          "metadata": {},
          "execution_count": 13
        }
      ]
    },
    {
      "cell_type": "code",
      "source": [
        "print(dataset.column_names)"
      ],
      "metadata": {
        "colab": {
          "base_uri": "https://localhost:8080/"
        },
        "id": "3r6WLLnffh2n",
        "outputId": "1a39770c-1087-4cc4-ffa5-45ecb5e4cbd4"
      },
      "execution_count": null,
      "outputs": [
        {
          "output_type": "stream",
          "name": "stdout",
          "text": [
            "['article', 'highlights', 'id']\n"
          ]
        }
      ]
    },
    {
      "cell_type": "code",
      "source": [
        "for k, v in dataset[0].items():\n",
        "  print(k, '=', v)\n",
        "  print()"
      ],
      "metadata": {
        "colab": {
          "base_uri": "https://localhost:8080/"
        },
        "id": "B8xVulT5dyeA",
        "outputId": "e312ea8c-5a0f-4bac-afdb-ccd58ca1ca3f"
      },
      "execution_count": null,
      "outputs": [
        {
          "output_type": "stream",
          "name": "stdout",
          "text": [
            "article = (CNN)The Palestinian Authority officially became the 123rd member of the International Criminal Court on Wednesday, a step that gives the court jurisdiction over alleged crimes in Palestinian territories. The formal accession was marked with a ceremony at The Hague, in the Netherlands, where the court is based. The Palestinians signed the ICC's founding Rome Statute in January, when they also accepted its jurisdiction over alleged crimes committed \"in the occupied Palestinian territory, including East Jerusalem, since June 13, 2014.\" Later that month, the ICC opened a preliminary examination into the situation in Palestinian territories, paving the way for possible war crimes investigations against Israelis. As members of the court, Palestinians may be subject to counter-charges as well. Israel and the United States, neither of which is an ICC member, opposed the Palestinians' efforts to join the body. But Palestinian Foreign Minister Riad al-Malki, speaking at Wednesday's ceremony, said it was a move toward greater justice. \"As Palestine formally becomes a State Party to the Rome Statute today, the world is also a step closer to ending a long era of impunity and injustice,\" he said, according to an ICC news release. \"Indeed, today brings us closer to our shared goals of justice and peace.\" Judge Kuniko Ozaki, a vice president of the ICC, said acceding to the treaty was just the first step for the Palestinians. \"As the Rome Statute today enters into force for the State of Palestine, Palestine acquires all the rights as well as responsibilities that come with being a State Party to the Statute. These are substantive commitments, which cannot be taken lightly,\" she said. Rights group Human Rights Watch welcomed the development. \"Governments seeking to penalize Palestine for joining the ICC should immediately end their pressure, and countries that support universal acceptance of the court's treaty should speak out to welcome its membership,\" said Balkees Jarrah, international justice counsel for the group. \"What's objectionable is the attempts to undermine international justice, not Palestine's decision to join a treaty to which over 100 countries around the world are members.\" In January, when the preliminary ICC examination was opened, Israeli Prime Minister Benjamin Netanyahu described it as an outrage, saying the court was overstepping its boundaries. The United States also said it \"strongly\" disagreed with the court's decision. \"As we have said repeatedly, we do not believe that Palestine is a state and therefore we do not believe that it is eligible to join the ICC,\" the State Department said in a statement. It urged the warring sides to resolve their differences through direct negotiations. \"We will continue to oppose actions against Israel at the ICC as counterproductive to the cause of peace,\" it said. But the ICC begs to differ with the definition of a state for its purposes and refers to the territories as \"Palestine.\" While a preliminary examination is not a formal investigation, it allows the court to review evidence and determine whether to investigate suspects on both sides. Prosecutor Fatou Bensouda said her office would \"conduct its analysis in full independence and impartiality.\" The war between Israel and Hamas militants in Gaza last summer left more than 2,000 people dead. The inquiry will include alleged war crimes committed since June. The International Criminal Court was set up in 2002 to prosecute genocide, crimes against humanity and war crimes. CNN's Vasco Cotovio, Kareem Khadder and Faith Karimi contributed to this report.\n",
            "\n",
            "highlights = Membership gives the ICC jurisdiction over alleged crimes committed in Palestinian territories since last June .\n",
            "Israel and the United States opposed the move, which could open the door to war crimes investigations against Israelis .\n",
            "\n",
            "id = f001ec5c4704938247d27a44948eebb37ae98d01\n",
            "\n"
          ]
        }
      ]
    },
    {
      "cell_type": "markdown",
      "source": [
        "## Data Preprocessing"
      ],
      "metadata": {
        "id": "ircoqH1BzkcB"
      }
    },
    {
      "cell_type": "code",
      "source": [
        "def add_tldr2(example):\n",
        "  example[\"article\"] = example[\"article\"] + \"\\nTL;DR\"\n",
        "  return example\n",
        "\n",
        "cnn_dailymail_dataset = dataset.map(add_tldr2)"
      ],
      "metadata": {
        "colab": {
          "base_uri": "https://localhost:8080/",
          "height": 37,
          "referenced_widgets": [
            "24ba49b7ac734442a5e99236f599ed3f",
            "8c6e50ab2aa3415a9eda7a733b12e62f",
            "bb2e7672eaef42919212421ba8898bf5",
            "6090701da2214930a1aabe6aca44fe13",
            "33a1ff5e81784049a8878aec2cf93074",
            "38a12d2312684be9848894fcfee949ec",
            "d6465fe2bb844f90a50b6fad95c81c5a",
            "f096861f2a9c4f40ace09382e8d54d94",
            "a274625046da44148bb9bf1ee924a9bc",
            "d7860baa1b3049dda2b3ca673735593b",
            "15736528a08544ef8ee648692439a4df"
          ]
        },
        "id": "SyIZ6B2NfdGa",
        "outputId": "e11b236c-562d-4f98-b3ef-25a1206d5d92"
      },
      "execution_count": 14,
      "outputs": [
        {
          "output_type": "display_data",
          "data": {
            "text/plain": [
              "Map:   0%|          | 0/11490 [00:00<?, ? examples/s]"
            ],
            "application/vnd.jupyter.widget-view+json": {
              "version_major": 2,
              "version_minor": 0,
              "model_id": "24ba49b7ac734442a5e99236f599ed3f"
            }
          },
          "metadata": {}
        }
      ]
    },
    {
      "cell_type": "code",
      "source": [
        "type(cnn_dailymail_dataset)"
      ],
      "metadata": {
        "colab": {
          "base_uri": "https://localhost:8080/"
        },
        "id": "Q_pbHFdS2Z3M",
        "outputId": "2ba9f109-94af-4db8-b80e-0465aa4cd47c"
      },
      "execution_count": null,
      "outputs": [
        {
          "output_type": "execute_result",
          "data": {
            "text/plain": [
              "datasets.arrow_dataset.Dataset"
            ]
          },
          "metadata": {},
          "execution_count": 19
        }
      ]
    },
    {
      "cell_type": "code",
      "source": [
        "num_test_samples = 2000\n",
        "\n",
        "indices_taken = torch.randperm(len(cnn_dailymail_dataset))[:num_test_samples]\n",
        "cnn_dailymail_dataset = cnn_dailymail_dataset[indices_taken]\n",
        "print(len(cnn_dailymail_dataset[\"article\"]))"
      ],
      "metadata": {
        "colab": {
          "base_uri": "https://localhost:8080/"
        },
        "id": "hcZawQs3eetU",
        "outputId": "e00bd2a2-28b3-4669-a6a0-1c2745f077e2"
      },
      "execution_count": null,
      "outputs": [
        {
          "output_type": "stream",
          "name": "stdout",
          "text": [
            "2000\n"
          ]
        }
      ]
    },
    {
      "cell_type": "code",
      "source": [
        "type(cnn_dailymail_dataset)"
      ],
      "metadata": {
        "colab": {
          "base_uri": "https://localhost:8080/"
        },
        "id": "SGbqRbfCmFEA",
        "outputId": "d5e0da55-16e9-4050-b590-4aec86dbb1ec"
      },
      "execution_count": null,
      "outputs": [
        {
          "output_type": "execute_result",
          "data": {
            "text/plain": [
              "dict"
            ]
          },
          "metadata": {},
          "execution_count": 22
        }
      ]
    },
    {
      "cell_type": "code",
      "source": [
        "print(cnn_dailymail_dataset.keys())"
      ],
      "metadata": {
        "colab": {
          "base_uri": "https://localhost:8080/"
        },
        "id": "Mx_rPTmZmIPo",
        "outputId": "07840b7f-8a5a-43b6-c8d5-daec02d9219c"
      },
      "execution_count": null,
      "outputs": [
        {
          "output_type": "stream",
          "name": "stdout",
          "text": [
            "dict_keys(['article', 'highlights', 'id'])\n"
          ]
        }
      ]
    },
    {
      "cell_type": "code",
      "source": [
        "type(cnn_dailymail_dataset[\"article\"])"
      ],
      "metadata": {
        "colab": {
          "base_uri": "https://localhost:8080/"
        },
        "id": "s1WtjIJUmWLW",
        "outputId": "e6123432-7245-4f2b-e6ea-0183e6ad0594"
      },
      "execution_count": null,
      "outputs": [
        {
          "output_type": "execute_result",
          "data": {
            "text/plain": [
              "list"
            ]
          },
          "metadata": {},
          "execution_count": 25
        }
      ]
    },
    {
      "cell_type": "code",
      "source": [
        "print(cnn_dailymail_dataset[\"article\"][1000])"
      ],
      "metadata": {
        "colab": {
          "base_uri": "https://localhost:8080/"
        },
        "id": "yH0TarEP5ICs",
        "outputId": "4a984a51-7dd5-493e-ca5a-9fe8eb1a48c2"
      },
      "execution_count": null,
      "outputs": [
        {
          "output_type": "stream",
          "name": "stdout",
          "text": [
            "Exeter swept aside Newcastle 48-13 to set up a semi-final showdown with Gloucester in the inaugural European Challenge Cup. The Chiefs outscored their opponents six tries to one at Sandy Park, with a David Ewers score and a penalty try helping the home side into a 17-6 half-time lead. Exeter then added further tries through Thomas Waldrom, Byron McGuigan, Sam Hill and Dean Mumm after the break, with outclassed Newcastle only able to respond with a 68th-minute effort from Chris Harris and eight points from the boot of Tom Catterick. Carl Rimmer of Exeter Chiefs is tackled by Newcastle Falcons' Dom Barrow during match at Sandy Park . Exeter's Thomas Waldrom stretches over for a try during the European Rugby Challenge Cup match . The victory means Exeter will take on Gloucester at Kingsholm in two weeks' time for a place in the final against either Newport Gwent Dragons or the winner of Sunday's London Irish-Edinburgh encounter. The hosts made a number of changes from the side that lost 25-18 at Leicester in the Premiership last weekend with McGuigan, Ben Moon, Tomas Francis and Tom James being drafted in. The Chiefs were also forced into a late change with Damian Welch pulling-up in the warm-up so Ben White was promoted from the bench to play in the back row, skipper Mumm moved into the second row and Sam Skinner added to the replacements. Newcastle, who lost 46-17 to Exeter in the Premiership last month, started with two changes in the backs from the side that narrowly lost at London Irish with Juan Pablo Socino in the centre and Harris on the right wing. Both defences were tested in the opening 10 minutes but it was Exeter who made the first breakthrough just before the quarter-hour. Dave Ewers of Exeter Chiefs (centre) makes a break during his side's 48-13 victory against the Falcons . After the Falcons were forced to touch down over their own line, Exeter broke off the back of the five-metre scrum and Ewers barged over the line. Slade added the extras from out wide on the right and the Chiefs were under way. Exeter increased their advantage midway through the half when wing Matt Jess, who was on course to score from a loose ball, was pulled back twice off the ball by full-back Alex Tait. Referee Marius Mitrea had no hesitation in awarding a penalty try - which Slade converted - and Tait went to the sin-bin. Newcastle kept the Chiefs at bay while they were a man down and when they were back to full strength the visitors were awarded a penalty 12 metres out in front of the posts, which fly-half Catterick slotted over to get his side off the mark. Slade and Catterick then swapped penalties to leave Exeter with an 11-point lead at the interval. Dan Temm of Newcastle Falcons tackles Thomas Waldrom during the quarter-final encounter . That soon became 18 points as just 45 seconds after the restart Ewers broke from inside his own half, shrugged off a couple of half tackles, before offloading to number eight Waldrom to stretch for the line. Slade converted and, 12 minutes later, added his second penalty from 30 metres out to make it 27-6. The Chiefs' fourth try came just before the hour-mark when Will Chudley chipped over the head of the defence and into the arms of McGuigan to go over, with Slade again adding the conversion. The Falcons may have looked down and out but Harris rounded a couple of forwards to score a breakaway try under the posts with Catterick converting to cut the deficit to 34-13. However, the Chiefs replied immediately through Hill to help restore their advantage and then Hill turned provider for Mumm to score the Chiefs' sixth and final try, with replacement fly-half Gareth Steenson converting both to cap a one-sided triumph. TL;DR\n"
          ]
        }
      ]
    },
    {
      "cell_type": "code",
      "source": [
        "print(cnn_dailymail_dataset[\"highlights\"][1000])"
      ],
      "metadata": {
        "colab": {
          "base_uri": "https://localhost:8080/"
        },
        "id": "pOyNpNSd5MX7",
        "outputId": "9d1c9498-ac73-4913-ceaa-6e09ec5e60c2"
      },
      "execution_count": null,
      "outputs": [
        {
          "output_type": "stream",
          "name": "stdout",
          "text": [
            "Exeter and Gloucester will go head-to-head for place in inaugural final .\n",
            "Winner will face either Newport Gwent Dragons, London Irish or Edinburgh .\n",
            "David Ewers helped his side into a 17-6 half-time lead .\n"
          ]
        }
      ]
    },
    {
      "cell_type": "code",
      "source": [
        "cnn_dailymail_dataset = Dataset.from_dict(cnn_dailymail_dataset)"
      ],
      "metadata": {
        "id": "xqGLWR-r5UaY"
      },
      "execution_count": null,
      "outputs": []
    },
    {
      "cell_type": "code",
      "source": [
        "type(cnn_dailymail_dataset)"
      ],
      "metadata": {
        "colab": {
          "base_uri": "https://localhost:8080/"
        },
        "id": "mddOzspM6hvT",
        "outputId": "e7f369dc-5929-4d9e-c6f4-b977656c8924"
      },
      "execution_count": null,
      "outputs": [
        {
          "output_type": "execute_result",
          "data": {
            "text/plain": [
              "datasets.arrow_dataset.Dataset"
            ]
          },
          "metadata": {},
          "execution_count": 37
        }
      ]
    },
    {
      "cell_type": "code",
      "source": [
        "for k, v in cnn_dailymail_dataset[0].items():\n",
        "  print(k, '=', v)\n",
        "  print()"
      ],
      "metadata": {
        "colab": {
          "base_uri": "https://localhost:8080/"
        },
        "id": "VQ3dR0xjhQe5",
        "outputId": "0988799c-01b0-4baa-b551-e6847cb3f75f"
      },
      "execution_count": null,
      "outputs": [
        {
          "output_type": "stream",
          "name": "stdout",
          "text": [
            "article = Nigel Farage has admitted that he has a 'preference' for Australian immigrants over Eastern Europeans and Somalians. The Ukip leader said he had to 'confess' that he was happier accepting migrants from Commonwealth countries such as Australian and India because they could speak English and understood Britain's legal system. The controversial remarks come after Mr Farage demanded that refugees fleeing to Europe across the Mediterranean are sent back. Scroll down for video . Nigel Farage, speaking to BBC Newsnight,  admitted that he has a 'preference' for Australian immigrants over Eastern Europeans and Somalians . Mr Farage, who has also admitted today that he went 'a bit wonky' and made mistakes at the start of Ukip's election campaign, was asked on BBC Newsnight whether he was anti all immigration or preferred some foreigners to others. The BBC presenter Evan Davis asked: 'Let's suppose one from Mogadishu with the same skills, the same ability to speak English, but not as a first language from one from Melbourne do you have a preference?' Mr Farage said: 'I have to confess I do have a slight preference. I do think, naturally that people from India and Australia are in some ways more likely to speak English, understand common law and have a connection with this country that some people that come perhaps from countries that haven't fully recovered from being behind the Iron Curtain.' The remarks are the latest in a series of pointed interventions Mr Farage has made on the issue of immigration. During the live leaders' TV debates Mr Farage said the NHS should not be treating foreigners with HIV. Speaking to the BBC tonight, Mr Farage admitted that he purposely ramped up the rhetoric to 'wake people up'. He said: 'Sometimes have to say things in a way to get noticed, of that there's no question. 'In order to get the public aware of some of these issues perhaps at time that tone had to be used. But you are not you are not hearing, and you're interviewing me now as we approach a general election, you are not hearing that tone from me.' The Ukip leader's remarks are the latest in a series of pointed interventions Mr Farage has made on the issue of immigration . Ukip has fallen behind the Tories and Labour in a poll of 10 target constituencies, according to a ComRes poll for ITV News . Earlier Mr Farage admitted that he had 'made some mistakes' in the campaign insisted he was looking forward to the rest of the campaign and had 'a bit of the old vim and vigour back'. Speaking to Channel 4 News tonight he said: 'I started the campaign and think I make some mistakes. 'My desperation for Ukip to do well meant that I really packed the diary and the day in a way that frankly wasn't very bright. I have now trimmed it back a bit. I'm being a bit more selective.' Asked if he was 'exhausted' he said: 'No, I'm now actually rejuvenated and enjoying it again.' Nigel Farage told ITV's Lorraine that migrants from Africa should be sent back . But told he had looked 'a bit wonky' earlier in the campaign, Mr Farage said: 'I was. No, no. Hands up I was. I had completely overdone it. 'I wasn't getting it right. I feel a bit of the old vim and vigour back and I'm looking forward to the next fortnight.' The admission came as the Deputy Prime Minister Nick Clegg accused Mr Farage of being an 'odious Victor Meldrew' character. In an interview with MailOnline, Mr Clegg said Mr Farage's 'mask is slipping' to reveal a man uncomfortable talking about people who are not white 'lashing out' in a scrabble for headlines. The Lib Dem leader condemned David Cameron's appeal to UKIP supporters to 'come home', warning the 'bandwagons of the far right' are encircling an 'increasingly hapless Conservative leadership' which is losing all grip on the party. In an interview with MailOnline, Mr Clegg said Mr Farage's 'mask is slipping' to reveal a man uncomfortable talking about people who are not white 'lashing out' in a scrabble for headlines. The Lib Dem leader condemned David Cameron's appeal to UKIP supporters to 'come home', warning the 'bandwagons of the far right' are encircling an 'increasingly hapless Conservative leadership' which is losing all grip on the party. It came after Mr Farage called for any migrants rescued from the Mediterranean to be sent back to Africa. The Ukip leader said 'millions' of refugees could arrive on boats in Europe over the next few years unless they are intercepted and turned back now. Mr Farage urged Prime Minister David Cameron to resist pressure at an emergency summit of EU leaders in Brussels tomorrow for Britain to take in large numbers of refugees brought across the Mediterranean by people-smugglers. Mr Farage urged David Cameron - pictured with Boris Johnson campaigning in London today - to resist pressure at an emergency summit of EU leaders in Brussels tomorrow for Britain to take in large numbers of refugees . He insisted the UK could not take more than 'a few thousand' genuine refugees. His comments came as experts warned that up to 30,000 migrants, including 2,500 children, could be killed this year unless the crisis is tackled. Up to 950 people are believed to have drowned in a shipwreck off the coast of Libya on Saturday, according to the Office of the United Nations High Commissioner for Refugees. Just 28 people are known to have survived the tragedy, described by UNHCR as 'the deadliest incident in the Mediterranean we have ever recorded'. However, a major survey published today suggested Mr Farage's hard-line immigration stance was popular with the public. Nick Clegg said the Ukip leader was an 'odious' man . Barely one in ten electors say they are satisfied with Conservative border policies over the past five years. The poll by Ipsos MORI suggests this unhappiness may be the key factor behind large numbers of Conservative voters switching to Ukip. Of those who supported David Cameron in 2010, but now intend to vote for Mr Farage's party, 94 per cent are dissatisfied with immigration policy. This compared to 45 per cent of voters sticking with the Tories. This loss of voters to Ukip could be crucial in deciding the outcome of the General Election on May 7 – with the Prime Minister now facing a race against time to win them back. For all voters, six in ten electors say they are unhappy about the Tories handling of the nation's borders. A significant number of voters also insist immigration is still not being discussed enough by the politicians. During the current campaign, the Tories, Labour and Liberal Democrats have all avoided talking about the subject. The poll will now put pressure on the Prime Minister to change course and begin promoting his policies – which are far tougher than any advocated by Labour. The public considers Labour and the Tories to be just as bad as one another when it comes to getting a grip. Alarmingly for Mr Cameron, only 27 per cent think the current government's handling of immigration has been better than under the previous Labour government – and 26 per cent say they're handling it worse. The rest say both are the same. This is despite the fact Labour presided over a policy of open borders in which record numbers were allowed to pour into the UK. TL;DR\n",
            "\n",
            "highlights = Ukip leader 'confessed' that he preferred some migrants to others .\n",
            "He said immigrants from Commonwealth countries settled more easily .\n",
            "Mr Farage also called on refugees fleeing to Europe to be sent back .\n",
            "He said the Royal Navy should be sent to patrol the Mediterranean .\n",
            "Mr Farage also accepted that he used explosive language to get noticed .\n",
            "\n",
            "id = 0b6ee20d19e89512903366438c9497e941e07162\n",
            "\n"
          ]
        }
      ]
    },
    {
      "cell_type": "markdown",
      "source": [
        "## Hidden State Computation"
      ],
      "metadata": {
        "id": "854Yi2R1zqMJ"
      }
    },
    {
      "cell_type": "code",
      "source": [
        "batch_size = 8\n",
        "\n",
        "all_last_hidden_states = []"
      ],
      "metadata": {
        "id": "GjjmFya5hx_F"
      },
      "execution_count": null,
      "outputs": []
    },
    {
      "cell_type": "code",
      "source": [
        "with torch.no_grad():\n",
        "  for i in range(0, len(cnn_dailymail_dataset), batch_size):\n",
        "    print(i, end=' ')\n",
        "    batch = tokenizer(cnn_dailymail_dataset[i:min(i+batch_size,len(cnn_dailymail_dataset))][\"article\"], truncation=True, padding=\"longest\", return_tensors=\"pt\").to(device)\n",
        "    outputs = model(**batch, output_hidden_states=True)\n",
        "    hidden_states = outputs.hidden_states[-1].mean(axis=1).to(\"cpu\")\n",
        "    for j in range(hidden_states.shape[0]):\n",
        "      all_last_hidden_states.append(hidden_states[j,:].reshape(1,-1))\n",
        "    del outputs\n",
        "    del batch\n",
        "    gc.collect()\n",
        "    torch.cuda.empty_cache()"
      ],
      "metadata": {
        "colab": {
          "base_uri": "https://localhost:8080/"
        },
        "id": "M6K9roBBh5mP",
        "outputId": "51299fa3-8a88-4b8b-9c5d-127828ccf836"
      },
      "execution_count": null,
      "outputs": [
        {
          "output_type": "stream",
          "name": "stdout",
          "text": [
            "0 8 16 24 32 40 48 56 64 72 80 88 96 104 112 120 128 136 144 152 160 168 176 184 192 200 208 216 224 232 240 248 256 264 272 280 288 296 304 312 320 328 336 344 352 360 368 376 384 392 400 408 416 424 432 440 448 456 464 472 480 488 496 504 512 520 528 536 544 552 560 568 576 584 592 600 608 616 624 632 640 648 656 664 672 680 688 696 704 712 720 728 736 744 752 760 768 776 784 792 800 808 816 824 832 840 848 856 864 872 880 888 896 904 912 920 928 936 944 952 960 968 976 984 992 1000 1008 1016 1024 1032 1040 1048 1056 1064 1072 1080 1088 1096 1104 1112 1120 1128 1136 1144 1152 1160 1168 1176 1184 1192 1200 1208 1216 1224 1232 1240 1248 1256 1264 1272 1280 1288 1296 1304 1312 1320 1328 1336 1344 1352 1360 1368 1376 1384 1392 1400 1408 1416 1424 1432 1440 1448 1456 1464 1472 1480 1488 1496 1504 1512 1520 1528 1536 1544 1552 1560 1568 1576 1584 1592 1600 1608 1616 1624 1632 1640 1648 1656 1664 1672 1680 1688 1696 1704 1712 1720 1728 1736 1744 1752 1760 1768 1776 1784 1792 1800 1808 1816 1824 1832 1840 1848 1856 1864 1872 1880 1888 1896 1904 1912 1920 1928 1936 1944 1952 1960 1968 1976 1984 1992 "
          ]
        }
      ]
    },
    {
      "cell_type": "code",
      "source": [
        "all_last_hidden_states = torch.cat(all_last_hidden_states, dim=0)\n",
        "torch.save({\n",
        "    \"indices_taken\": indices_taken,         # as only some are taken\n",
        "    \"hidden\": all_last_hidden_states\n",
        "}, \"result_cnn_dailymail_gpt2.pt\")"
      ],
      "metadata": {
        "id": "e5hptNSLjWY0"
      },
      "execution_count": null,
      "outputs": []
    },
    {
      "cell_type": "markdown",
      "source": [
        "## Summary Computation"
      ],
      "metadata": {
        "id": "YsY6KBiSzvIt"
      }
    },
    {
      "cell_type": "code",
      "source": [
        "cnn_dailymail_dataset = dataset.map(add_tldr2)"
      ],
      "metadata": {
        "colab": {
          "base_uri": "https://localhost:8080/"
        },
        "id": "CHEdrDrc1jHu",
        "outputId": "2ad8ab71-db83-4823-a9d8-62dbdf0859d0"
      },
      "execution_count": 15,
      "outputs": [
        {
          "output_type": "stream",
          "name": "stderr",
          "text": [
            "WARNING:datasets.arrow_dataset:Loading cached processed dataset at /root/.cache/huggingface/datasets/cnn_dailymail/3.0.0/3.0.0/1b3c71476f6d152c31c1730e83ccb08bcf23e348233f4fcc11e182248e6bf7de/cache-686614eb1a81c935.arrow\n"
          ]
        }
      ]
    },
    {
      "cell_type": "code",
      "source": [
        "batch_size = 8\n",
        "\n",
        "summaries = []"
      ],
      "metadata": {
        "id": "VLisk0Cwzy5Y"
      },
      "execution_count": 16,
      "outputs": []
    },
    {
      "cell_type": "code",
      "source": [
        "indices_taken = torch.load(\"result_cnn_dailymail_gpt2.pt\")[\"indices_taken\"]"
      ],
      "metadata": {
        "id": "GYLLF9wo0rjf"
      },
      "execution_count": 17,
      "outputs": []
    },
    {
      "cell_type": "code",
      "source": [
        "cnn_dailymail_dataset_taken = cnn_dailymail_dataset[indices_taken]              # returns dict\n",
        "cnn_dailymail_dataset_taken = Dataset.from_dict(cnn_dailymail_dataset_taken)    # converts to datasets.arrow_dataset.Dataset"
      ],
      "metadata": {
        "id": "wyYiCSF42hSU"
      },
      "execution_count": 18,
      "outputs": []
    },
    {
      "cell_type": "code",
      "source": [
        "# with torch.no_grad():\n",
        "#   for i in range(0, len(cnn_dailymail_dataset_taken), batch_size):\n",
        "#     print(i, end=' ')\n",
        "#     batch = tokenizer(cnn_dailymail_dataset_taken[i:min(i+batch_size,len(cnn_dailymail_dataset_taken))][\"article\"], truncation=True, padding=\"longest\", return_tensors=\"pt\").to(device)\n",
        "#     outputs = model.generate(**batch, max_length = 64)                      # max number of tokens generated is max_new_tokens\n",
        "#     summaries += (tokenizer.batch_decode(outputs, skip_special_tokens=True))\n",
        "#     del outputs\n",
        "#     del batch\n",
        "#     gc.collect()\n",
        "#     torch.cuda.empty_cache()"
      ],
      "metadata": {
        "colab": {
          "base_uri": "https://localhost:8080/"
        },
        "id": "FQvY7Kxx6Fyt",
        "outputId": "19d553dd-b77c-406e-9269-6a2e94a0f9b8"
      },
      "execution_count": null,
      "outputs": [
        {
          "output_type": "stream",
          "name": "stderr",
          "text": [
            "Setting `pad_token_id` to `eos_token_id`:50256 for open-end generation.\n",
            "Input length of input_ids is 1024, but `max_length` is set to 64. This can lead to unexpected behavior. You should consider increasing `max_new_tokens`.\n"
          ]
        },
        {
          "output_type": "stream",
          "name": "stdout",
          "text": [
            "0 "
          ]
        },
        {
          "output_type": "stream",
          "name": "stderr",
          "text": [
            "Setting `pad_token_id` to `eos_token_id`:50256 for open-end generation.\n",
            "Input length of input_ids is 1024, but `max_length` is set to 64. This can lead to unexpected behavior. You should consider increasing `max_new_tokens`.\n"
          ]
        },
        {
          "output_type": "stream",
          "name": "stdout",
          "text": [
            "8 "
          ]
        },
        {
          "output_type": "stream",
          "name": "stderr",
          "text": [
            "Setting `pad_token_id` to `eos_token_id`:50256 for open-end generation.\n",
            "Input length of input_ids is 1024, but `max_length` is set to 64. This can lead to unexpected behavior. You should consider increasing `max_new_tokens`.\n"
          ]
        },
        {
          "output_type": "stream",
          "name": "stdout",
          "text": [
            "16 "
          ]
        },
        {
          "output_type": "stream",
          "name": "stderr",
          "text": [
            "Setting `pad_token_id` to `eos_token_id`:50256 for open-end generation.\n",
            "Input length of input_ids is 1024, but `max_length` is set to 64. This can lead to unexpected behavior. You should consider increasing `max_new_tokens`.\n"
          ]
        },
        {
          "output_type": "stream",
          "name": "stdout",
          "text": [
            "24 "
          ]
        },
        {
          "output_type": "stream",
          "name": "stderr",
          "text": [
            "Setting `pad_token_id` to `eos_token_id`:50256 for open-end generation.\n",
            "Input length of input_ids is 1024, but `max_length` is set to 64. This can lead to unexpected behavior. You should consider increasing `max_new_tokens`.\n"
          ]
        },
        {
          "output_type": "stream",
          "name": "stdout",
          "text": [
            "32 "
          ]
        },
        {
          "output_type": "stream",
          "name": "stderr",
          "text": [
            "Setting `pad_token_id` to `eos_token_id`:50256 for open-end generation.\n",
            "Input length of input_ids is 1024, but `max_length` is set to 64. This can lead to unexpected behavior. You should consider increasing `max_new_tokens`.\n"
          ]
        },
        {
          "output_type": "stream",
          "name": "stdout",
          "text": [
            "40 "
          ]
        },
        {
          "output_type": "stream",
          "name": "stderr",
          "text": [
            "Setting `pad_token_id` to `eos_token_id`:50256 for open-end generation.\n",
            "Input length of input_ids is 1024, but `max_length` is set to 64. This can lead to unexpected behavior. You should consider increasing `max_new_tokens`.\n"
          ]
        },
        {
          "output_type": "stream",
          "name": "stdout",
          "text": [
            "48 "
          ]
        },
        {
          "output_type": "stream",
          "name": "stderr",
          "text": [
            "Setting `pad_token_id` to `eos_token_id`:50256 for open-end generation.\n",
            "Input length of input_ids is 1024, but `max_length` is set to 64. This can lead to unexpected behavior. You should consider increasing `max_new_tokens`.\n"
          ]
        },
        {
          "output_type": "stream",
          "name": "stdout",
          "text": [
            "56 "
          ]
        },
        {
          "output_type": "stream",
          "name": "stderr",
          "text": [
            "Setting `pad_token_id` to `eos_token_id`:50256 for open-end generation.\n",
            "Input length of input_ids is 1024, but `max_length` is set to 64. This can lead to unexpected behavior. You should consider increasing `max_new_tokens`.\n"
          ]
        },
        {
          "output_type": "stream",
          "name": "stdout",
          "text": [
            "64 "
          ]
        },
        {
          "output_type": "stream",
          "name": "stderr",
          "text": [
            "Setting `pad_token_id` to `eos_token_id`:50256 for open-end generation.\n",
            "Input length of input_ids is 1024, but `max_length` is set to 64. This can lead to unexpected behavior. You should consider increasing `max_new_tokens`.\n"
          ]
        },
        {
          "output_type": "stream",
          "name": "stdout",
          "text": [
            "72 "
          ]
        },
        {
          "output_type": "stream",
          "name": "stderr",
          "text": [
            "Setting `pad_token_id` to `eos_token_id`:50256 for open-end generation.\n",
            "Input length of input_ids is 1024, but `max_length` is set to 64. This can lead to unexpected behavior. You should consider increasing `max_new_tokens`.\n"
          ]
        },
        {
          "output_type": "stream",
          "name": "stdout",
          "text": [
            "80 "
          ]
        },
        {
          "output_type": "stream",
          "name": "stderr",
          "text": [
            "Setting `pad_token_id` to `eos_token_id`:50256 for open-end generation.\n",
            "Input length of input_ids is 1024, but `max_length` is set to 64. This can lead to unexpected behavior. You should consider increasing `max_new_tokens`.\n"
          ]
        },
        {
          "output_type": "stream",
          "name": "stdout",
          "text": [
            "88 "
          ]
        },
        {
          "output_type": "stream",
          "name": "stderr",
          "text": [
            "Setting `pad_token_id` to `eos_token_id`:50256 for open-end generation.\n",
            "Input length of input_ids is 1024, but `max_length` is set to 64. This can lead to unexpected behavior. You should consider increasing `max_new_tokens`.\n"
          ]
        },
        {
          "output_type": "stream",
          "name": "stdout",
          "text": [
            "96 "
          ]
        },
        {
          "output_type": "stream",
          "name": "stderr",
          "text": [
            "Setting `pad_token_id` to `eos_token_id`:50256 for open-end generation.\n",
            "Input length of input_ids is 1024, but `max_length` is set to 64. This can lead to unexpected behavior. You should consider increasing `max_new_tokens`.\n"
          ]
        },
        {
          "output_type": "stream",
          "name": "stdout",
          "text": [
            "104 "
          ]
        },
        {
          "output_type": "stream",
          "name": "stderr",
          "text": [
            "Setting `pad_token_id` to `eos_token_id`:50256 for open-end generation.\n",
            "Input length of input_ids is 1024, but `max_length` is set to 64. This can lead to unexpected behavior. You should consider increasing `max_new_tokens`.\n"
          ]
        },
        {
          "output_type": "stream",
          "name": "stdout",
          "text": [
            "112 "
          ]
        },
        {
          "output_type": "stream",
          "name": "stderr",
          "text": [
            "Setting `pad_token_id` to `eos_token_id`:50256 for open-end generation.\n",
            "Input length of input_ids is 1024, but `max_length` is set to 64. This can lead to unexpected behavior. You should consider increasing `max_new_tokens`.\n"
          ]
        },
        {
          "output_type": "stream",
          "name": "stdout",
          "text": [
            "120 "
          ]
        },
        {
          "output_type": "stream",
          "name": "stderr",
          "text": [
            "Setting `pad_token_id` to `eos_token_id`:50256 for open-end generation.\n",
            "Input length of input_ids is 914, but `max_length` is set to 64. This can lead to unexpected behavior. You should consider increasing `max_new_tokens`.\n"
          ]
        },
        {
          "output_type": "stream",
          "name": "stdout",
          "text": [
            "128 "
          ]
        },
        {
          "output_type": "stream",
          "name": "stderr",
          "text": [
            "Setting `pad_token_id` to `eos_token_id`:50256 for open-end generation.\n",
            "Input length of input_ids is 1024, but `max_length` is set to 64. This can lead to unexpected behavior. You should consider increasing `max_new_tokens`.\n"
          ]
        },
        {
          "output_type": "stream",
          "name": "stdout",
          "text": [
            "136 "
          ]
        },
        {
          "output_type": "stream",
          "name": "stderr",
          "text": [
            "Setting `pad_token_id` to `eos_token_id`:50256 for open-end generation.\n",
            "Input length of input_ids is 1024, but `max_length` is set to 64. This can lead to unexpected behavior. You should consider increasing `max_new_tokens`.\n"
          ]
        },
        {
          "output_type": "stream",
          "name": "stdout",
          "text": [
            "144 "
          ]
        },
        {
          "output_type": "stream",
          "name": "stderr",
          "text": [
            "Setting `pad_token_id` to `eos_token_id`:50256 for open-end generation.\n",
            "Input length of input_ids is 1024, but `max_length` is set to 64. This can lead to unexpected behavior. You should consider increasing `max_new_tokens`.\n"
          ]
        },
        {
          "output_type": "stream",
          "name": "stdout",
          "text": [
            "152 "
          ]
        },
        {
          "output_type": "stream",
          "name": "stderr",
          "text": [
            "Setting `pad_token_id` to `eos_token_id`:50256 for open-end generation.\n",
            "Input length of input_ids is 1024, but `max_length` is set to 64. This can lead to unexpected behavior. You should consider increasing `max_new_tokens`.\n"
          ]
        },
        {
          "output_type": "stream",
          "name": "stdout",
          "text": [
            "160 "
          ]
        },
        {
          "output_type": "stream",
          "name": "stderr",
          "text": [
            "Setting `pad_token_id` to `eos_token_id`:50256 for open-end generation.\n",
            "Input length of input_ids is 1024, but `max_length` is set to 64. This can lead to unexpected behavior. You should consider increasing `max_new_tokens`.\n"
          ]
        },
        {
          "output_type": "stream",
          "name": "stdout",
          "text": [
            "168 "
          ]
        },
        {
          "output_type": "stream",
          "name": "stderr",
          "text": [
            "Setting `pad_token_id` to `eos_token_id`:50256 for open-end generation.\n",
            "Input length of input_ids is 936, but `max_length` is set to 64. This can lead to unexpected behavior. You should consider increasing `max_new_tokens`.\n"
          ]
        },
        {
          "output_type": "stream",
          "name": "stdout",
          "text": [
            "176 "
          ]
        },
        {
          "output_type": "stream",
          "name": "stderr",
          "text": [
            "Setting `pad_token_id` to `eos_token_id`:50256 for open-end generation.\n",
            "Input length of input_ids is 1024, but `max_length` is set to 64. This can lead to unexpected behavior. You should consider increasing `max_new_tokens`.\n"
          ]
        },
        {
          "output_type": "stream",
          "name": "stdout",
          "text": [
            "184 "
          ]
        },
        {
          "output_type": "stream",
          "name": "stderr",
          "text": [
            "Setting `pad_token_id` to `eos_token_id`:50256 for open-end generation.\n",
            "Input length of input_ids is 1024, but `max_length` is set to 64. This can lead to unexpected behavior. You should consider increasing `max_new_tokens`.\n"
          ]
        },
        {
          "output_type": "stream",
          "name": "stdout",
          "text": [
            "192 "
          ]
        },
        {
          "output_type": "stream",
          "name": "stderr",
          "text": [
            "Setting `pad_token_id` to `eos_token_id`:50256 for open-end generation.\n",
            "Input length of input_ids is 1015, but `max_length` is set to 64. This can lead to unexpected behavior. You should consider increasing `max_new_tokens`.\n"
          ]
        },
        {
          "output_type": "stream",
          "name": "stdout",
          "text": [
            "200 "
          ]
        },
        {
          "output_type": "stream",
          "name": "stderr",
          "text": [
            "Setting `pad_token_id` to `eos_token_id`:50256 for open-end generation.\n",
            "Input length of input_ids is 1024, but `max_length` is set to 64. This can lead to unexpected behavior. You should consider increasing `max_new_tokens`.\n"
          ]
        },
        {
          "output_type": "stream",
          "name": "stdout",
          "text": [
            "208 "
          ]
        },
        {
          "output_type": "stream",
          "name": "stderr",
          "text": [
            "Setting `pad_token_id` to `eos_token_id`:50256 for open-end generation.\n",
            "Input length of input_ids is 1024, but `max_length` is set to 64. This can lead to unexpected behavior. You should consider increasing `max_new_tokens`.\n"
          ]
        },
        {
          "output_type": "stream",
          "name": "stdout",
          "text": [
            "216 "
          ]
        },
        {
          "output_type": "stream",
          "name": "stderr",
          "text": [
            "Setting `pad_token_id` to `eos_token_id`:50256 for open-end generation.\n",
            "Input length of input_ids is 1024, but `max_length` is set to 64. This can lead to unexpected behavior. You should consider increasing `max_new_tokens`.\n"
          ]
        },
        {
          "output_type": "stream",
          "name": "stdout",
          "text": [
            "224 "
          ]
        },
        {
          "output_type": "stream",
          "name": "stderr",
          "text": [
            "Setting `pad_token_id` to `eos_token_id`:50256 for open-end generation.\n",
            "Input length of input_ids is 1024, but `max_length` is set to 64. This can lead to unexpected behavior. You should consider increasing `max_new_tokens`.\n"
          ]
        },
        {
          "output_type": "stream",
          "name": "stdout",
          "text": [
            "232 "
          ]
        },
        {
          "output_type": "stream",
          "name": "stderr",
          "text": [
            "Setting `pad_token_id` to `eos_token_id`:50256 for open-end generation.\n",
            "Input length of input_ids is 1024, but `max_length` is set to 64. This can lead to unexpected behavior. You should consider increasing `max_new_tokens`.\n"
          ]
        },
        {
          "output_type": "stream",
          "name": "stdout",
          "text": [
            "240 "
          ]
        },
        {
          "output_type": "stream",
          "name": "stderr",
          "text": [
            "Setting `pad_token_id` to `eos_token_id`:50256 for open-end generation.\n",
            "Input length of input_ids is 1024, but `max_length` is set to 64. This can lead to unexpected behavior. You should consider increasing `max_new_tokens`.\n"
          ]
        },
        {
          "output_type": "stream",
          "name": "stdout",
          "text": [
            "248 "
          ]
        },
        {
          "output_type": "stream",
          "name": "stderr",
          "text": [
            "Setting `pad_token_id` to `eos_token_id`:50256 for open-end generation.\n",
            "Input length of input_ids is 1024, but `max_length` is set to 64. This can lead to unexpected behavior. You should consider increasing `max_new_tokens`.\n"
          ]
        },
        {
          "output_type": "stream",
          "name": "stdout",
          "text": [
            "256 "
          ]
        },
        {
          "output_type": "stream",
          "name": "stderr",
          "text": [
            "Setting `pad_token_id` to `eos_token_id`:50256 for open-end generation.\n",
            "Input length of input_ids is 1024, but `max_length` is set to 64. This can lead to unexpected behavior. You should consider increasing `max_new_tokens`.\n"
          ]
        },
        {
          "output_type": "stream",
          "name": "stdout",
          "text": [
            "264 "
          ]
        },
        {
          "output_type": "stream",
          "name": "stderr",
          "text": [
            "Setting `pad_token_id` to `eos_token_id`:50256 for open-end generation.\n",
            "Input length of input_ids is 1024, but `max_length` is set to 64. This can lead to unexpected behavior. You should consider increasing `max_new_tokens`.\n"
          ]
        },
        {
          "output_type": "stream",
          "name": "stdout",
          "text": [
            "272 "
          ]
        },
        {
          "output_type": "stream",
          "name": "stderr",
          "text": [
            "Setting `pad_token_id` to `eos_token_id`:50256 for open-end generation.\n",
            "Input length of input_ids is 1024, but `max_length` is set to 64. This can lead to unexpected behavior. You should consider increasing `max_new_tokens`.\n"
          ]
        },
        {
          "output_type": "stream",
          "name": "stdout",
          "text": [
            "280 "
          ]
        },
        {
          "output_type": "stream",
          "name": "stderr",
          "text": [
            "Setting `pad_token_id` to `eos_token_id`:50256 for open-end generation.\n",
            "Input length of input_ids is 1024, but `max_length` is set to 64. This can lead to unexpected behavior. You should consider increasing `max_new_tokens`.\n"
          ]
        },
        {
          "output_type": "stream",
          "name": "stdout",
          "text": [
            "288 "
          ]
        },
        {
          "output_type": "stream",
          "name": "stderr",
          "text": [
            "Setting `pad_token_id` to `eos_token_id`:50256 for open-end generation.\n",
            "Input length of input_ids is 1024, but `max_length` is set to 64. This can lead to unexpected behavior. You should consider increasing `max_new_tokens`.\n"
          ]
        },
        {
          "output_type": "stream",
          "name": "stdout",
          "text": [
            "296 "
          ]
        },
        {
          "output_type": "stream",
          "name": "stderr",
          "text": [
            "Setting `pad_token_id` to `eos_token_id`:50256 for open-end generation.\n",
            "Input length of input_ids is 1024, but `max_length` is set to 64. This can lead to unexpected behavior. You should consider increasing `max_new_tokens`.\n"
          ]
        },
        {
          "output_type": "stream",
          "name": "stdout",
          "text": [
            "304 "
          ]
        },
        {
          "output_type": "stream",
          "name": "stderr",
          "text": [
            "Setting `pad_token_id` to `eos_token_id`:50256 for open-end generation.\n",
            "Input length of input_ids is 1024, but `max_length` is set to 64. This can lead to unexpected behavior. You should consider increasing `max_new_tokens`.\n"
          ]
        },
        {
          "output_type": "stream",
          "name": "stdout",
          "text": [
            "312 "
          ]
        },
        {
          "output_type": "stream",
          "name": "stderr",
          "text": [
            "Setting `pad_token_id` to `eos_token_id`:50256 for open-end generation.\n",
            "Input length of input_ids is 1024, but `max_length` is set to 64. This can lead to unexpected behavior. You should consider increasing `max_new_tokens`.\n"
          ]
        },
        {
          "output_type": "stream",
          "name": "stdout",
          "text": [
            "320 "
          ]
        },
        {
          "output_type": "stream",
          "name": "stderr",
          "text": [
            "Setting `pad_token_id` to `eos_token_id`:50256 for open-end generation.\n",
            "Input length of input_ids is 1024, but `max_length` is set to 64. This can lead to unexpected behavior. You should consider increasing `max_new_tokens`.\n"
          ]
        },
        {
          "output_type": "stream",
          "name": "stdout",
          "text": [
            "328 "
          ]
        },
        {
          "output_type": "stream",
          "name": "stderr",
          "text": [
            "Setting `pad_token_id` to `eos_token_id`:50256 for open-end generation.\n",
            "Input length of input_ids is 1024, but `max_length` is set to 64. This can lead to unexpected behavior. You should consider increasing `max_new_tokens`.\n"
          ]
        },
        {
          "output_type": "stream",
          "name": "stdout",
          "text": [
            "336 "
          ]
        },
        {
          "output_type": "stream",
          "name": "stderr",
          "text": [
            "Setting `pad_token_id` to `eos_token_id`:50256 for open-end generation.\n",
            "Input length of input_ids is 1024, but `max_length` is set to 64. This can lead to unexpected behavior. You should consider increasing `max_new_tokens`.\n"
          ]
        },
        {
          "output_type": "stream",
          "name": "stdout",
          "text": [
            "344 "
          ]
        },
        {
          "output_type": "stream",
          "name": "stderr",
          "text": [
            "Setting `pad_token_id` to `eos_token_id`:50256 for open-end generation.\n",
            "Input length of input_ids is 1024, but `max_length` is set to 64. This can lead to unexpected behavior. You should consider increasing `max_new_tokens`.\n"
          ]
        },
        {
          "output_type": "stream",
          "name": "stdout",
          "text": [
            "352 "
          ]
        },
        {
          "output_type": "stream",
          "name": "stderr",
          "text": [
            "Setting `pad_token_id` to `eos_token_id`:50256 for open-end generation.\n",
            "Input length of input_ids is 1024, but `max_length` is set to 64. This can lead to unexpected behavior. You should consider increasing `max_new_tokens`.\n"
          ]
        },
        {
          "output_type": "stream",
          "name": "stdout",
          "text": [
            "360 "
          ]
        },
        {
          "output_type": "stream",
          "name": "stderr",
          "text": [
            "Setting `pad_token_id` to `eos_token_id`:50256 for open-end generation.\n",
            "Input length of input_ids is 1024, but `max_length` is set to 64. This can lead to unexpected behavior. You should consider increasing `max_new_tokens`.\n"
          ]
        },
        {
          "output_type": "stream",
          "name": "stdout",
          "text": [
            "368 "
          ]
        },
        {
          "output_type": "stream",
          "name": "stderr",
          "text": [
            "Setting `pad_token_id` to `eos_token_id`:50256 for open-end generation.\n",
            "Input length of input_ids is 1024, but `max_length` is set to 64. This can lead to unexpected behavior. You should consider increasing `max_new_tokens`.\n"
          ]
        },
        {
          "output_type": "stream",
          "name": "stdout",
          "text": [
            "376 "
          ]
        },
        {
          "output_type": "stream",
          "name": "stderr",
          "text": [
            "Setting `pad_token_id` to `eos_token_id`:50256 for open-end generation.\n",
            "Input length of input_ids is 1024, but `max_length` is set to 64. This can lead to unexpected behavior. You should consider increasing `max_new_tokens`.\n"
          ]
        },
        {
          "output_type": "stream",
          "name": "stdout",
          "text": [
            "384 "
          ]
        },
        {
          "output_type": "stream",
          "name": "stderr",
          "text": [
            "Setting `pad_token_id` to `eos_token_id`:50256 for open-end generation.\n",
            "Input length of input_ids is 1024, but `max_length` is set to 64. This can lead to unexpected behavior. You should consider increasing `max_new_tokens`.\n"
          ]
        },
        {
          "output_type": "stream",
          "name": "stdout",
          "text": [
            "392 "
          ]
        },
        {
          "output_type": "stream",
          "name": "stderr",
          "text": [
            "Setting `pad_token_id` to `eos_token_id`:50256 for open-end generation.\n",
            "Input length of input_ids is 1024, but `max_length` is set to 64. This can lead to unexpected behavior. You should consider increasing `max_new_tokens`.\n"
          ]
        },
        {
          "output_type": "stream",
          "name": "stdout",
          "text": [
            "400 "
          ]
        },
        {
          "output_type": "stream",
          "name": "stderr",
          "text": [
            "Setting `pad_token_id` to `eos_token_id`:50256 for open-end generation.\n",
            "Input length of input_ids is 1024, but `max_length` is set to 64. This can lead to unexpected behavior. You should consider increasing `max_new_tokens`.\n"
          ]
        },
        {
          "output_type": "stream",
          "name": "stdout",
          "text": [
            "408 "
          ]
        },
        {
          "output_type": "stream",
          "name": "stderr",
          "text": [
            "Setting `pad_token_id` to `eos_token_id`:50256 for open-end generation.\n",
            "Input length of input_ids is 1024, but `max_length` is set to 64. This can lead to unexpected behavior. You should consider increasing `max_new_tokens`.\n"
          ]
        },
        {
          "output_type": "stream",
          "name": "stdout",
          "text": [
            "416 "
          ]
        },
        {
          "output_type": "stream",
          "name": "stderr",
          "text": [
            "Setting `pad_token_id` to `eos_token_id`:50256 for open-end generation.\n",
            "Input length of input_ids is 1024, but `max_length` is set to 64. This can lead to unexpected behavior. You should consider increasing `max_new_tokens`.\n"
          ]
        },
        {
          "output_type": "stream",
          "name": "stdout",
          "text": [
            "424 "
          ]
        },
        {
          "output_type": "stream",
          "name": "stderr",
          "text": [
            "Setting `pad_token_id` to `eos_token_id`:50256 for open-end generation.\n",
            "Input length of input_ids is 1024, but `max_length` is set to 64. This can lead to unexpected behavior. You should consider increasing `max_new_tokens`.\n"
          ]
        },
        {
          "output_type": "stream",
          "name": "stdout",
          "text": [
            "432 "
          ]
        },
        {
          "output_type": "stream",
          "name": "stderr",
          "text": [
            "Setting `pad_token_id` to `eos_token_id`:50256 for open-end generation.\n",
            "Input length of input_ids is 1024, but `max_length` is set to 64. This can lead to unexpected behavior. You should consider increasing `max_new_tokens`.\n"
          ]
        },
        {
          "output_type": "stream",
          "name": "stdout",
          "text": [
            "440 "
          ]
        },
        {
          "output_type": "stream",
          "name": "stderr",
          "text": [
            "Setting `pad_token_id` to `eos_token_id`:50256 for open-end generation.\n",
            "Input length of input_ids is 1024, but `max_length` is set to 64. This can lead to unexpected behavior. You should consider increasing `max_new_tokens`.\n"
          ]
        },
        {
          "output_type": "stream",
          "name": "stdout",
          "text": [
            "448 "
          ]
        },
        {
          "output_type": "stream",
          "name": "stderr",
          "text": [
            "Setting `pad_token_id` to `eos_token_id`:50256 for open-end generation.\n",
            "Input length of input_ids is 1024, but `max_length` is set to 64. This can lead to unexpected behavior. You should consider increasing `max_new_tokens`.\n"
          ]
        },
        {
          "output_type": "stream",
          "name": "stdout",
          "text": [
            "456 "
          ]
        },
        {
          "output_type": "stream",
          "name": "stderr",
          "text": [
            "Setting `pad_token_id` to `eos_token_id`:50256 for open-end generation.\n",
            "Input length of input_ids is 1024, but `max_length` is set to 64. This can lead to unexpected behavior. You should consider increasing `max_new_tokens`.\n"
          ]
        },
        {
          "output_type": "stream",
          "name": "stdout",
          "text": [
            "464 "
          ]
        },
        {
          "output_type": "stream",
          "name": "stderr",
          "text": [
            "Setting `pad_token_id` to `eos_token_id`:50256 for open-end generation.\n",
            "Input length of input_ids is 1024, but `max_length` is set to 64. This can lead to unexpected behavior. You should consider increasing `max_new_tokens`.\n"
          ]
        },
        {
          "output_type": "stream",
          "name": "stdout",
          "text": [
            "472 "
          ]
        },
        {
          "output_type": "stream",
          "name": "stderr",
          "text": [
            "Setting `pad_token_id` to `eos_token_id`:50256 for open-end generation.\n",
            "Input length of input_ids is 970, but `max_length` is set to 64. This can lead to unexpected behavior. You should consider increasing `max_new_tokens`.\n"
          ]
        },
        {
          "output_type": "stream",
          "name": "stdout",
          "text": [
            "480 "
          ]
        },
        {
          "output_type": "stream",
          "name": "stderr",
          "text": [
            "Setting `pad_token_id` to `eos_token_id`:50256 for open-end generation.\n",
            "Input length of input_ids is 1024, but `max_length` is set to 64. This can lead to unexpected behavior. You should consider increasing `max_new_tokens`.\n"
          ]
        },
        {
          "output_type": "stream",
          "name": "stdout",
          "text": [
            "488 "
          ]
        },
        {
          "output_type": "stream",
          "name": "stderr",
          "text": [
            "Setting `pad_token_id` to `eos_token_id`:50256 for open-end generation.\n",
            "Input length of input_ids is 1024, but `max_length` is set to 64. This can lead to unexpected behavior. You should consider increasing `max_new_tokens`.\n"
          ]
        },
        {
          "output_type": "stream",
          "name": "stdout",
          "text": [
            "496 "
          ]
        },
        {
          "output_type": "stream",
          "name": "stderr",
          "text": [
            "Setting `pad_token_id` to `eos_token_id`:50256 for open-end generation.\n",
            "Input length of input_ids is 1024, but `max_length` is set to 64. This can lead to unexpected behavior. You should consider increasing `max_new_tokens`.\n"
          ]
        },
        {
          "output_type": "stream",
          "name": "stdout",
          "text": [
            "504 "
          ]
        },
        {
          "output_type": "stream",
          "name": "stderr",
          "text": [
            "Setting `pad_token_id` to `eos_token_id`:50256 for open-end generation.\n",
            "Input length of input_ids is 1024, but `max_length` is set to 64. This can lead to unexpected behavior. You should consider increasing `max_new_tokens`.\n"
          ]
        },
        {
          "output_type": "stream",
          "name": "stdout",
          "text": [
            "512 "
          ]
        },
        {
          "output_type": "stream",
          "name": "stderr",
          "text": [
            "Setting `pad_token_id` to `eos_token_id`:50256 for open-end generation.\n",
            "Input length of input_ids is 1024, but `max_length` is set to 64. This can lead to unexpected behavior. You should consider increasing `max_new_tokens`.\n"
          ]
        },
        {
          "output_type": "stream",
          "name": "stdout",
          "text": [
            "520 "
          ]
        },
        {
          "output_type": "stream",
          "name": "stderr",
          "text": [
            "Setting `pad_token_id` to `eos_token_id`:50256 for open-end generation.\n",
            "Input length of input_ids is 1024, but `max_length` is set to 64. This can lead to unexpected behavior. You should consider increasing `max_new_tokens`.\n"
          ]
        },
        {
          "output_type": "stream",
          "name": "stdout",
          "text": [
            "528 "
          ]
        },
        {
          "output_type": "stream",
          "name": "stderr",
          "text": [
            "Setting `pad_token_id` to `eos_token_id`:50256 for open-end generation.\n",
            "Input length of input_ids is 1024, but `max_length` is set to 64. This can lead to unexpected behavior. You should consider increasing `max_new_tokens`.\n"
          ]
        },
        {
          "output_type": "stream",
          "name": "stdout",
          "text": [
            "536 "
          ]
        },
        {
          "output_type": "stream",
          "name": "stderr",
          "text": [
            "Setting `pad_token_id` to `eos_token_id`:50256 for open-end generation.\n",
            "Input length of input_ids is 1024, but `max_length` is set to 64. This can lead to unexpected behavior. You should consider increasing `max_new_tokens`.\n"
          ]
        },
        {
          "output_type": "stream",
          "name": "stdout",
          "text": [
            "544 "
          ]
        },
        {
          "output_type": "stream",
          "name": "stderr",
          "text": [
            "Setting `pad_token_id` to `eos_token_id`:50256 for open-end generation.\n",
            "Input length of input_ids is 1024, but `max_length` is set to 64. This can lead to unexpected behavior. You should consider increasing `max_new_tokens`.\n"
          ]
        },
        {
          "output_type": "stream",
          "name": "stdout",
          "text": [
            "552 "
          ]
        },
        {
          "output_type": "stream",
          "name": "stderr",
          "text": [
            "Setting `pad_token_id` to `eos_token_id`:50256 for open-end generation.\n",
            "Input length of input_ids is 1024, but `max_length` is set to 64. This can lead to unexpected behavior. You should consider increasing `max_new_tokens`.\n"
          ]
        },
        {
          "output_type": "stream",
          "name": "stdout",
          "text": [
            "560 "
          ]
        },
        {
          "output_type": "stream",
          "name": "stderr",
          "text": [
            "Setting `pad_token_id` to `eos_token_id`:50256 for open-end generation.\n",
            "Input length of input_ids is 880, but `max_length` is set to 64. This can lead to unexpected behavior. You should consider increasing `max_new_tokens`.\n"
          ]
        },
        {
          "output_type": "stream",
          "name": "stdout",
          "text": [
            "568 "
          ]
        },
        {
          "output_type": "stream",
          "name": "stderr",
          "text": [
            "Setting `pad_token_id` to `eos_token_id`:50256 for open-end generation.\n",
            "Input length of input_ids is 1024, but `max_length` is set to 64. This can lead to unexpected behavior. You should consider increasing `max_new_tokens`.\n"
          ]
        },
        {
          "output_type": "stream",
          "name": "stdout",
          "text": [
            "576 "
          ]
        },
        {
          "output_type": "stream",
          "name": "stderr",
          "text": [
            "Setting `pad_token_id` to `eos_token_id`:50256 for open-end generation.\n",
            "Input length of input_ids is 979, but `max_length` is set to 64. This can lead to unexpected behavior. You should consider increasing `max_new_tokens`.\n"
          ]
        },
        {
          "output_type": "stream",
          "name": "stdout",
          "text": [
            "584 "
          ]
        },
        {
          "output_type": "stream",
          "name": "stderr",
          "text": [
            "Setting `pad_token_id` to `eos_token_id`:50256 for open-end generation.\n",
            "Input length of input_ids is 1024, but `max_length` is set to 64. This can lead to unexpected behavior. You should consider increasing `max_new_tokens`.\n"
          ]
        },
        {
          "output_type": "stream",
          "name": "stdout",
          "text": [
            "592 "
          ]
        },
        {
          "output_type": "stream",
          "name": "stderr",
          "text": [
            "Setting `pad_token_id` to `eos_token_id`:50256 for open-end generation.\n",
            "Input length of input_ids is 1024, but `max_length` is set to 64. This can lead to unexpected behavior. You should consider increasing `max_new_tokens`.\n"
          ]
        },
        {
          "output_type": "stream",
          "name": "stdout",
          "text": [
            "600 "
          ]
        },
        {
          "output_type": "stream",
          "name": "stderr",
          "text": [
            "Setting `pad_token_id` to `eos_token_id`:50256 for open-end generation.\n",
            "Input length of input_ids is 1024, but `max_length` is set to 64. This can lead to unexpected behavior. You should consider increasing `max_new_tokens`.\n"
          ]
        },
        {
          "output_type": "stream",
          "name": "stdout",
          "text": [
            "608 "
          ]
        },
        {
          "output_type": "stream",
          "name": "stderr",
          "text": [
            "Setting `pad_token_id` to `eos_token_id`:50256 for open-end generation.\n",
            "Input length of input_ids is 1024, but `max_length` is set to 64. This can lead to unexpected behavior. You should consider increasing `max_new_tokens`.\n"
          ]
        },
        {
          "output_type": "stream",
          "name": "stdout",
          "text": [
            "616 "
          ]
        },
        {
          "output_type": "stream",
          "name": "stderr",
          "text": [
            "Setting `pad_token_id` to `eos_token_id`:50256 for open-end generation.\n",
            "Input length of input_ids is 1024, but `max_length` is set to 64. This can lead to unexpected behavior. You should consider increasing `max_new_tokens`.\n"
          ]
        },
        {
          "output_type": "stream",
          "name": "stdout",
          "text": [
            "624 "
          ]
        },
        {
          "output_type": "stream",
          "name": "stderr",
          "text": [
            "Setting `pad_token_id` to `eos_token_id`:50256 for open-end generation.\n",
            "Input length of input_ids is 988, but `max_length` is set to 64. This can lead to unexpected behavior. You should consider increasing `max_new_tokens`.\n"
          ]
        },
        {
          "output_type": "stream",
          "name": "stdout",
          "text": [
            "632 "
          ]
        },
        {
          "output_type": "stream",
          "name": "stderr",
          "text": [
            "Setting `pad_token_id` to `eos_token_id`:50256 for open-end generation.\n",
            "Input length of input_ids is 1024, but `max_length` is set to 64. This can lead to unexpected behavior. You should consider increasing `max_new_tokens`.\n"
          ]
        },
        {
          "output_type": "stream",
          "name": "stdout",
          "text": [
            "640 "
          ]
        },
        {
          "output_type": "stream",
          "name": "stderr",
          "text": [
            "Setting `pad_token_id` to `eos_token_id`:50256 for open-end generation.\n",
            "Input length of input_ids is 1024, but `max_length` is set to 64. This can lead to unexpected behavior. You should consider increasing `max_new_tokens`.\n"
          ]
        },
        {
          "output_type": "stream",
          "name": "stdout",
          "text": [
            "648 "
          ]
        },
        {
          "output_type": "stream",
          "name": "stderr",
          "text": [
            "Setting `pad_token_id` to `eos_token_id`:50256 for open-end generation.\n",
            "Input length of input_ids is 1024, but `max_length` is set to 64. This can lead to unexpected behavior. You should consider increasing `max_new_tokens`.\n"
          ]
        },
        {
          "output_type": "stream",
          "name": "stdout",
          "text": [
            "656 "
          ]
        },
        {
          "output_type": "stream",
          "name": "stderr",
          "text": [
            "Setting `pad_token_id` to `eos_token_id`:50256 for open-end generation.\n",
            "Input length of input_ids is 1024, but `max_length` is set to 64. This can lead to unexpected behavior. You should consider increasing `max_new_tokens`.\n"
          ]
        },
        {
          "output_type": "stream",
          "name": "stdout",
          "text": [
            "664 "
          ]
        },
        {
          "output_type": "stream",
          "name": "stderr",
          "text": [
            "Setting `pad_token_id` to `eos_token_id`:50256 for open-end generation.\n",
            "Input length of input_ids is 1024, but `max_length` is set to 64. This can lead to unexpected behavior. You should consider increasing `max_new_tokens`.\n"
          ]
        },
        {
          "output_type": "stream",
          "name": "stdout",
          "text": [
            "672 "
          ]
        },
        {
          "output_type": "stream",
          "name": "stderr",
          "text": [
            "Setting `pad_token_id` to `eos_token_id`:50256 for open-end generation.\n",
            "Input length of input_ids is 1024, but `max_length` is set to 64. This can lead to unexpected behavior. You should consider increasing `max_new_tokens`.\n"
          ]
        },
        {
          "output_type": "stream",
          "name": "stdout",
          "text": [
            "680 "
          ]
        },
        {
          "output_type": "stream",
          "name": "stderr",
          "text": [
            "Setting `pad_token_id` to `eos_token_id`:50256 for open-end generation.\n",
            "Input length of input_ids is 1016, but `max_length` is set to 64. This can lead to unexpected behavior. You should consider increasing `max_new_tokens`.\n"
          ]
        },
        {
          "output_type": "stream",
          "name": "stdout",
          "text": [
            "688 "
          ]
        },
        {
          "output_type": "stream",
          "name": "stderr",
          "text": [
            "Setting `pad_token_id` to `eos_token_id`:50256 for open-end generation.\n",
            "Input length of input_ids is 1024, but `max_length` is set to 64. This can lead to unexpected behavior. You should consider increasing `max_new_tokens`.\n"
          ]
        },
        {
          "output_type": "stream",
          "name": "stdout",
          "text": [
            "696 "
          ]
        },
        {
          "output_type": "stream",
          "name": "stderr",
          "text": [
            "Setting `pad_token_id` to `eos_token_id`:50256 for open-end generation.\n",
            "Input length of input_ids is 1024, but `max_length` is set to 64. This can lead to unexpected behavior. You should consider increasing `max_new_tokens`.\n"
          ]
        },
        {
          "output_type": "stream",
          "name": "stdout",
          "text": [
            "704 "
          ]
        },
        {
          "output_type": "stream",
          "name": "stderr",
          "text": [
            "Setting `pad_token_id` to `eos_token_id`:50256 for open-end generation.\n",
            "Input length of input_ids is 1024, but `max_length` is set to 64. This can lead to unexpected behavior. You should consider increasing `max_new_tokens`.\n"
          ]
        },
        {
          "output_type": "stream",
          "name": "stdout",
          "text": [
            "712 "
          ]
        },
        {
          "output_type": "stream",
          "name": "stderr",
          "text": [
            "Setting `pad_token_id` to `eos_token_id`:50256 for open-end generation.\n",
            "Input length of input_ids is 1024, but `max_length` is set to 64. This can lead to unexpected behavior. You should consider increasing `max_new_tokens`.\n"
          ]
        },
        {
          "output_type": "stream",
          "name": "stdout",
          "text": [
            "720 "
          ]
        },
        {
          "output_type": "stream",
          "name": "stderr",
          "text": [
            "Setting `pad_token_id` to `eos_token_id`:50256 for open-end generation.\n",
            "Input length of input_ids is 1024, but `max_length` is set to 64. This can lead to unexpected behavior. You should consider increasing `max_new_tokens`.\n"
          ]
        },
        {
          "output_type": "stream",
          "name": "stdout",
          "text": [
            "728 "
          ]
        },
        {
          "output_type": "stream",
          "name": "stderr",
          "text": [
            "Setting `pad_token_id` to `eos_token_id`:50256 for open-end generation.\n",
            "Input length of input_ids is 1024, but `max_length` is set to 64. This can lead to unexpected behavior. You should consider increasing `max_new_tokens`.\n"
          ]
        },
        {
          "output_type": "stream",
          "name": "stdout",
          "text": [
            "736 "
          ]
        },
        {
          "output_type": "stream",
          "name": "stderr",
          "text": [
            "Setting `pad_token_id` to `eos_token_id`:50256 for open-end generation.\n",
            "Input length of input_ids is 1024, but `max_length` is set to 64. This can lead to unexpected behavior. You should consider increasing `max_new_tokens`.\n"
          ]
        },
        {
          "output_type": "stream",
          "name": "stdout",
          "text": [
            "744 "
          ]
        },
        {
          "output_type": "stream",
          "name": "stderr",
          "text": [
            "Setting `pad_token_id` to `eos_token_id`:50256 for open-end generation.\n",
            "Input length of input_ids is 1024, but `max_length` is set to 64. This can lead to unexpected behavior. You should consider increasing `max_new_tokens`.\n"
          ]
        },
        {
          "output_type": "stream",
          "name": "stdout",
          "text": [
            "752 "
          ]
        },
        {
          "output_type": "stream",
          "name": "stderr",
          "text": [
            "Setting `pad_token_id` to `eos_token_id`:50256 for open-end generation.\n",
            "Input length of input_ids is 1024, but `max_length` is set to 64. This can lead to unexpected behavior. You should consider increasing `max_new_tokens`.\n"
          ]
        },
        {
          "output_type": "stream",
          "name": "stdout",
          "text": [
            "760 "
          ]
        },
        {
          "output_type": "stream",
          "name": "stderr",
          "text": [
            "Setting `pad_token_id` to `eos_token_id`:50256 for open-end generation.\n",
            "Input length of input_ids is 1024, but `max_length` is set to 64. This can lead to unexpected behavior. You should consider increasing `max_new_tokens`.\n"
          ]
        },
        {
          "output_type": "stream",
          "name": "stdout",
          "text": [
            "768 "
          ]
        },
        {
          "output_type": "stream",
          "name": "stderr",
          "text": [
            "Setting `pad_token_id` to `eos_token_id`:50256 for open-end generation.\n",
            "Input length of input_ids is 1024, but `max_length` is set to 64. This can lead to unexpected behavior. You should consider increasing `max_new_tokens`.\n"
          ]
        },
        {
          "output_type": "stream",
          "name": "stdout",
          "text": [
            "776 "
          ]
        },
        {
          "output_type": "stream",
          "name": "stderr",
          "text": [
            "Setting `pad_token_id` to `eos_token_id`:50256 for open-end generation.\n",
            "Input length of input_ids is 1024, but `max_length` is set to 64. This can lead to unexpected behavior. You should consider increasing `max_new_tokens`.\n"
          ]
        },
        {
          "output_type": "stream",
          "name": "stdout",
          "text": [
            "784 "
          ]
        },
        {
          "output_type": "stream",
          "name": "stderr",
          "text": [
            "Setting `pad_token_id` to `eos_token_id`:50256 for open-end generation.\n",
            "Input length of input_ids is 1024, but `max_length` is set to 64. This can lead to unexpected behavior. You should consider increasing `max_new_tokens`.\n"
          ]
        },
        {
          "output_type": "stream",
          "name": "stdout",
          "text": [
            "792 "
          ]
        },
        {
          "output_type": "stream",
          "name": "stderr",
          "text": [
            "Setting `pad_token_id` to `eos_token_id`:50256 for open-end generation.\n",
            "Input length of input_ids is 1024, but `max_length` is set to 64. This can lead to unexpected behavior. You should consider increasing `max_new_tokens`.\n"
          ]
        },
        {
          "output_type": "stream",
          "name": "stdout",
          "text": [
            "800 "
          ]
        },
        {
          "output_type": "stream",
          "name": "stderr",
          "text": [
            "Setting `pad_token_id` to `eos_token_id`:50256 for open-end generation.\n",
            "Input length of input_ids is 1024, but `max_length` is set to 64. This can lead to unexpected behavior. You should consider increasing `max_new_tokens`.\n"
          ]
        },
        {
          "output_type": "stream",
          "name": "stdout",
          "text": [
            "808 "
          ]
        },
        {
          "output_type": "stream",
          "name": "stderr",
          "text": [
            "Setting `pad_token_id` to `eos_token_id`:50256 for open-end generation.\n",
            "Input length of input_ids is 1024, but `max_length` is set to 64. This can lead to unexpected behavior. You should consider increasing `max_new_tokens`.\n"
          ]
        },
        {
          "output_type": "stream",
          "name": "stdout",
          "text": [
            "816 "
          ]
        },
        {
          "output_type": "stream",
          "name": "stderr",
          "text": [
            "Setting `pad_token_id` to `eos_token_id`:50256 for open-end generation.\n",
            "Input length of input_ids is 1024, but `max_length` is set to 64. This can lead to unexpected behavior. You should consider increasing `max_new_tokens`.\n"
          ]
        },
        {
          "output_type": "stream",
          "name": "stdout",
          "text": [
            "824 "
          ]
        },
        {
          "output_type": "stream",
          "name": "stderr",
          "text": [
            "Setting `pad_token_id` to `eos_token_id`:50256 for open-end generation.\n",
            "Input length of input_ids is 1024, but `max_length` is set to 64. This can lead to unexpected behavior. You should consider increasing `max_new_tokens`.\n"
          ]
        },
        {
          "output_type": "stream",
          "name": "stdout",
          "text": [
            "832 "
          ]
        },
        {
          "output_type": "stream",
          "name": "stderr",
          "text": [
            "Setting `pad_token_id` to `eos_token_id`:50256 for open-end generation.\n",
            "Input length of input_ids is 1024, but `max_length` is set to 64. This can lead to unexpected behavior. You should consider increasing `max_new_tokens`.\n"
          ]
        },
        {
          "output_type": "stream",
          "name": "stdout",
          "text": [
            "840 "
          ]
        },
        {
          "output_type": "stream",
          "name": "stderr",
          "text": [
            "Setting `pad_token_id` to `eos_token_id`:50256 for open-end generation.\n",
            "Input length of input_ids is 1024, but `max_length` is set to 64. This can lead to unexpected behavior. You should consider increasing `max_new_tokens`.\n"
          ]
        },
        {
          "output_type": "stream",
          "name": "stdout",
          "text": [
            "848 "
          ]
        },
        {
          "output_type": "stream",
          "name": "stderr",
          "text": [
            "Setting `pad_token_id` to `eos_token_id`:50256 for open-end generation.\n",
            "Input length of input_ids is 1024, but `max_length` is set to 64. This can lead to unexpected behavior. You should consider increasing `max_new_tokens`.\n"
          ]
        },
        {
          "output_type": "stream",
          "name": "stdout",
          "text": [
            "856 "
          ]
        },
        {
          "output_type": "stream",
          "name": "stderr",
          "text": [
            "Setting `pad_token_id` to `eos_token_id`:50256 for open-end generation.\n",
            "Input length of input_ids is 1024, but `max_length` is set to 64. This can lead to unexpected behavior. You should consider increasing `max_new_tokens`.\n"
          ]
        },
        {
          "output_type": "stream",
          "name": "stdout",
          "text": [
            "864 "
          ]
        },
        {
          "output_type": "stream",
          "name": "stderr",
          "text": [
            "Setting `pad_token_id` to `eos_token_id`:50256 for open-end generation.\n",
            "Input length of input_ids is 1024, but `max_length` is set to 64. This can lead to unexpected behavior. You should consider increasing `max_new_tokens`.\n"
          ]
        },
        {
          "output_type": "stream",
          "name": "stdout",
          "text": [
            "872 "
          ]
        },
        {
          "output_type": "stream",
          "name": "stderr",
          "text": [
            "Setting `pad_token_id` to `eos_token_id`:50256 for open-end generation.\n",
            "Input length of input_ids is 1024, but `max_length` is set to 64. This can lead to unexpected behavior. You should consider increasing `max_new_tokens`.\n"
          ]
        },
        {
          "output_type": "stream",
          "name": "stdout",
          "text": [
            "880 "
          ]
        },
        {
          "output_type": "stream",
          "name": "stderr",
          "text": [
            "Setting `pad_token_id` to `eos_token_id`:50256 for open-end generation.\n",
            "Input length of input_ids is 1024, but `max_length` is set to 64. This can lead to unexpected behavior. You should consider increasing `max_new_tokens`.\n"
          ]
        },
        {
          "output_type": "stream",
          "name": "stdout",
          "text": [
            "888 "
          ]
        },
        {
          "output_type": "stream",
          "name": "stderr",
          "text": [
            "Setting `pad_token_id` to `eos_token_id`:50256 for open-end generation.\n",
            "Input length of input_ids is 1024, but `max_length` is set to 64. This can lead to unexpected behavior. You should consider increasing `max_new_tokens`.\n"
          ]
        },
        {
          "output_type": "stream",
          "name": "stdout",
          "text": [
            "896 "
          ]
        },
        {
          "output_type": "stream",
          "name": "stderr",
          "text": [
            "Setting `pad_token_id` to `eos_token_id`:50256 for open-end generation.\n",
            "Input length of input_ids is 1024, but `max_length` is set to 64. This can lead to unexpected behavior. You should consider increasing `max_new_tokens`.\n"
          ]
        },
        {
          "output_type": "stream",
          "name": "stdout",
          "text": [
            "904 "
          ]
        },
        {
          "output_type": "stream",
          "name": "stderr",
          "text": [
            "Setting `pad_token_id` to `eos_token_id`:50256 for open-end generation.\n",
            "Input length of input_ids is 1024, but `max_length` is set to 64. This can lead to unexpected behavior. You should consider increasing `max_new_tokens`.\n"
          ]
        },
        {
          "output_type": "stream",
          "name": "stdout",
          "text": [
            "912 "
          ]
        },
        {
          "output_type": "stream",
          "name": "stderr",
          "text": [
            "Setting `pad_token_id` to `eos_token_id`:50256 for open-end generation.\n",
            "Input length of input_ids is 965, but `max_length` is set to 64. This can lead to unexpected behavior. You should consider increasing `max_new_tokens`.\n"
          ]
        },
        {
          "output_type": "stream",
          "name": "stdout",
          "text": [
            "920 "
          ]
        },
        {
          "output_type": "stream",
          "name": "stderr",
          "text": [
            "Setting `pad_token_id` to `eos_token_id`:50256 for open-end generation.\n",
            "Input length of input_ids is 1024, but `max_length` is set to 64. This can lead to unexpected behavior. You should consider increasing `max_new_tokens`.\n"
          ]
        },
        {
          "output_type": "stream",
          "name": "stdout",
          "text": [
            "928 "
          ]
        },
        {
          "output_type": "stream",
          "name": "stderr",
          "text": [
            "Setting `pad_token_id` to `eos_token_id`:50256 for open-end generation.\n",
            "Input length of input_ids is 1024, but `max_length` is set to 64. This can lead to unexpected behavior. You should consider increasing `max_new_tokens`.\n"
          ]
        },
        {
          "output_type": "stream",
          "name": "stdout",
          "text": [
            "936 "
          ]
        },
        {
          "output_type": "stream",
          "name": "stderr",
          "text": [
            "Setting `pad_token_id` to `eos_token_id`:50256 for open-end generation.\n",
            "Input length of input_ids is 1024, but `max_length` is set to 64. This can lead to unexpected behavior. You should consider increasing `max_new_tokens`.\n"
          ]
        },
        {
          "output_type": "stream",
          "name": "stdout",
          "text": [
            "944 "
          ]
        },
        {
          "output_type": "stream",
          "name": "stderr",
          "text": [
            "Setting `pad_token_id` to `eos_token_id`:50256 for open-end generation.\n",
            "Input length of input_ids is 1024, but `max_length` is set to 64. This can lead to unexpected behavior. You should consider increasing `max_new_tokens`.\n"
          ]
        },
        {
          "output_type": "stream",
          "name": "stdout",
          "text": [
            "952 "
          ]
        },
        {
          "output_type": "stream",
          "name": "stderr",
          "text": [
            "Setting `pad_token_id` to `eos_token_id`:50256 for open-end generation.\n",
            "Input length of input_ids is 1024, but `max_length` is set to 64. This can lead to unexpected behavior. You should consider increasing `max_new_tokens`.\n"
          ]
        },
        {
          "output_type": "stream",
          "name": "stdout",
          "text": [
            "960 "
          ]
        },
        {
          "output_type": "stream",
          "name": "stderr",
          "text": [
            "Setting `pad_token_id` to `eos_token_id`:50256 for open-end generation.\n",
            "Input length of input_ids is 1024, but `max_length` is set to 64. This can lead to unexpected behavior. You should consider increasing `max_new_tokens`.\n"
          ]
        },
        {
          "output_type": "stream",
          "name": "stdout",
          "text": [
            "968 "
          ]
        },
        {
          "output_type": "stream",
          "name": "stderr",
          "text": [
            "Setting `pad_token_id` to `eos_token_id`:50256 for open-end generation.\n",
            "Input length of input_ids is 1024, but `max_length` is set to 64. This can lead to unexpected behavior. You should consider increasing `max_new_tokens`.\n"
          ]
        },
        {
          "output_type": "stream",
          "name": "stdout",
          "text": [
            "976 "
          ]
        },
        {
          "output_type": "stream",
          "name": "stderr",
          "text": [
            "Setting `pad_token_id` to `eos_token_id`:50256 for open-end generation.\n",
            "Input length of input_ids is 1024, but `max_length` is set to 64. This can lead to unexpected behavior. You should consider increasing `max_new_tokens`.\n"
          ]
        },
        {
          "output_type": "stream",
          "name": "stdout",
          "text": [
            "984 "
          ]
        },
        {
          "output_type": "stream",
          "name": "stderr",
          "text": [
            "Setting `pad_token_id` to `eos_token_id`:50256 for open-end generation.\n",
            "Input length of input_ids is 1024, but `max_length` is set to 64. This can lead to unexpected behavior. You should consider increasing `max_new_tokens`.\n"
          ]
        },
        {
          "output_type": "stream",
          "name": "stdout",
          "text": [
            "992 "
          ]
        },
        {
          "output_type": "stream",
          "name": "stderr",
          "text": [
            "Setting `pad_token_id` to `eos_token_id`:50256 for open-end generation.\n",
            "Input length of input_ids is 1024, but `max_length` is set to 64. This can lead to unexpected behavior. You should consider increasing `max_new_tokens`.\n"
          ]
        },
        {
          "output_type": "stream",
          "name": "stdout",
          "text": [
            "1000 "
          ]
        },
        {
          "output_type": "stream",
          "name": "stderr",
          "text": [
            "Setting `pad_token_id` to `eos_token_id`:50256 for open-end generation.\n",
            "Input length of input_ids is 1024, but `max_length` is set to 64. This can lead to unexpected behavior. You should consider increasing `max_new_tokens`.\n"
          ]
        },
        {
          "output_type": "stream",
          "name": "stdout",
          "text": [
            "1008 "
          ]
        },
        {
          "output_type": "stream",
          "name": "stderr",
          "text": [
            "Setting `pad_token_id` to `eos_token_id`:50256 for open-end generation.\n",
            "Input length of input_ids is 1024, but `max_length` is set to 64. This can lead to unexpected behavior. You should consider increasing `max_new_tokens`.\n"
          ]
        },
        {
          "output_type": "stream",
          "name": "stdout",
          "text": [
            "1016 "
          ]
        },
        {
          "output_type": "stream",
          "name": "stderr",
          "text": [
            "Setting `pad_token_id` to `eos_token_id`:50256 for open-end generation.\n",
            "Input length of input_ids is 1024, but `max_length` is set to 64. This can lead to unexpected behavior. You should consider increasing `max_new_tokens`.\n"
          ]
        },
        {
          "output_type": "stream",
          "name": "stdout",
          "text": [
            "1024 "
          ]
        },
        {
          "output_type": "stream",
          "name": "stderr",
          "text": [
            "Setting `pad_token_id` to `eos_token_id`:50256 for open-end generation.\n",
            "Input length of input_ids is 1024, but `max_length` is set to 64. This can lead to unexpected behavior. You should consider increasing `max_new_tokens`.\n"
          ]
        },
        {
          "output_type": "stream",
          "name": "stdout",
          "text": [
            "1032 "
          ]
        },
        {
          "output_type": "stream",
          "name": "stderr",
          "text": [
            "Setting `pad_token_id` to `eos_token_id`:50256 for open-end generation.\n",
            "Input length of input_ids is 1024, but `max_length` is set to 64. This can lead to unexpected behavior. You should consider increasing `max_new_tokens`.\n"
          ]
        },
        {
          "output_type": "stream",
          "name": "stdout",
          "text": [
            "1040 "
          ]
        },
        {
          "output_type": "stream",
          "name": "stderr",
          "text": [
            "Setting `pad_token_id` to `eos_token_id`:50256 for open-end generation.\n",
            "Input length of input_ids is 1024, but `max_length` is set to 64. This can lead to unexpected behavior. You should consider increasing `max_new_tokens`.\n"
          ]
        },
        {
          "output_type": "stream",
          "name": "stdout",
          "text": [
            "1048 "
          ]
        },
        {
          "output_type": "stream",
          "name": "stderr",
          "text": [
            "Setting `pad_token_id` to `eos_token_id`:50256 for open-end generation.\n",
            "Input length of input_ids is 1024, but `max_length` is set to 64. This can lead to unexpected behavior. You should consider increasing `max_new_tokens`.\n"
          ]
        },
        {
          "output_type": "stream",
          "name": "stdout",
          "text": [
            "1056 "
          ]
        },
        {
          "output_type": "stream",
          "name": "stderr",
          "text": [
            "Setting `pad_token_id` to `eos_token_id`:50256 for open-end generation.\n",
            "Input length of input_ids is 1024, but `max_length` is set to 64. This can lead to unexpected behavior. You should consider increasing `max_new_tokens`.\n"
          ]
        },
        {
          "output_type": "stream",
          "name": "stdout",
          "text": [
            "1064 "
          ]
        },
        {
          "output_type": "stream",
          "name": "stderr",
          "text": [
            "Setting `pad_token_id` to `eos_token_id`:50256 for open-end generation.\n",
            "Input length of input_ids is 1024, but `max_length` is set to 64. This can lead to unexpected behavior. You should consider increasing `max_new_tokens`.\n"
          ]
        },
        {
          "output_type": "stream",
          "name": "stdout",
          "text": [
            "1072 "
          ]
        },
        {
          "output_type": "stream",
          "name": "stderr",
          "text": [
            "Setting `pad_token_id` to `eos_token_id`:50256 for open-end generation.\n",
            "Input length of input_ids is 1024, but `max_length` is set to 64. This can lead to unexpected behavior. You should consider increasing `max_new_tokens`.\n"
          ]
        },
        {
          "output_type": "stream",
          "name": "stdout",
          "text": [
            "1080 "
          ]
        },
        {
          "output_type": "stream",
          "name": "stderr",
          "text": [
            "Setting `pad_token_id` to `eos_token_id`:50256 for open-end generation.\n",
            "Input length of input_ids is 1024, but `max_length` is set to 64. This can lead to unexpected behavior. You should consider increasing `max_new_tokens`.\n"
          ]
        },
        {
          "output_type": "stream",
          "name": "stdout",
          "text": [
            "1088 "
          ]
        },
        {
          "output_type": "stream",
          "name": "stderr",
          "text": [
            "Setting `pad_token_id` to `eos_token_id`:50256 for open-end generation.\n",
            "Input length of input_ids is 1024, but `max_length` is set to 64. This can lead to unexpected behavior. You should consider increasing `max_new_tokens`.\n"
          ]
        },
        {
          "output_type": "stream",
          "name": "stdout",
          "text": [
            "1096 "
          ]
        },
        {
          "output_type": "stream",
          "name": "stderr",
          "text": [
            "Setting `pad_token_id` to `eos_token_id`:50256 for open-end generation.\n",
            "Input length of input_ids is 1024, but `max_length` is set to 64. This can lead to unexpected behavior. You should consider increasing `max_new_tokens`.\n"
          ]
        },
        {
          "output_type": "stream",
          "name": "stdout",
          "text": [
            "1104 "
          ]
        },
        {
          "output_type": "stream",
          "name": "stderr",
          "text": [
            "Setting `pad_token_id` to `eos_token_id`:50256 for open-end generation.\n",
            "Input length of input_ids is 1024, but `max_length` is set to 64. This can lead to unexpected behavior. You should consider increasing `max_new_tokens`.\n"
          ]
        },
        {
          "output_type": "stream",
          "name": "stdout",
          "text": [
            "1112 "
          ]
        },
        {
          "output_type": "stream",
          "name": "stderr",
          "text": [
            "Setting `pad_token_id` to `eos_token_id`:50256 for open-end generation.\n",
            "Input length of input_ids is 1024, but `max_length` is set to 64. This can lead to unexpected behavior. You should consider increasing `max_new_tokens`.\n"
          ]
        },
        {
          "output_type": "stream",
          "name": "stdout",
          "text": [
            "1120 "
          ]
        },
        {
          "output_type": "stream",
          "name": "stderr",
          "text": [
            "Setting `pad_token_id` to `eos_token_id`:50256 for open-end generation.\n",
            "Input length of input_ids is 893, but `max_length` is set to 64. This can lead to unexpected behavior. You should consider increasing `max_new_tokens`.\n"
          ]
        },
        {
          "output_type": "stream",
          "name": "stdout",
          "text": [
            "1128 "
          ]
        },
        {
          "output_type": "stream",
          "name": "stderr",
          "text": [
            "Setting `pad_token_id` to `eos_token_id`:50256 for open-end generation.\n",
            "Input length of input_ids is 1024, but `max_length` is set to 64. This can lead to unexpected behavior. You should consider increasing `max_new_tokens`.\n"
          ]
        },
        {
          "output_type": "stream",
          "name": "stdout",
          "text": [
            "1136 "
          ]
        },
        {
          "output_type": "stream",
          "name": "stderr",
          "text": [
            "Setting `pad_token_id` to `eos_token_id`:50256 for open-end generation.\n",
            "Input length of input_ids is 1024, but `max_length` is set to 64. This can lead to unexpected behavior. You should consider increasing `max_new_tokens`.\n"
          ]
        },
        {
          "output_type": "stream",
          "name": "stdout",
          "text": [
            "1144 "
          ]
        },
        {
          "output_type": "stream",
          "name": "stderr",
          "text": [
            "Setting `pad_token_id` to `eos_token_id`:50256 for open-end generation.\n",
            "Input length of input_ids is 1024, but `max_length` is set to 64. This can lead to unexpected behavior. You should consider increasing `max_new_tokens`.\n"
          ]
        },
        {
          "output_type": "stream",
          "name": "stdout",
          "text": [
            "1152 "
          ]
        },
        {
          "output_type": "stream",
          "name": "stderr",
          "text": [
            "Setting `pad_token_id` to `eos_token_id`:50256 for open-end generation.\n",
            "Input length of input_ids is 1024, but `max_length` is set to 64. This can lead to unexpected behavior. You should consider increasing `max_new_tokens`.\n"
          ]
        },
        {
          "output_type": "stream",
          "name": "stdout",
          "text": [
            "1160 "
          ]
        },
        {
          "output_type": "stream",
          "name": "stderr",
          "text": [
            "Setting `pad_token_id` to `eos_token_id`:50256 for open-end generation.\n",
            "Input length of input_ids is 1024, but `max_length` is set to 64. This can lead to unexpected behavior. You should consider increasing `max_new_tokens`.\n"
          ]
        },
        {
          "output_type": "stream",
          "name": "stdout",
          "text": [
            "1168 "
          ]
        },
        {
          "output_type": "stream",
          "name": "stderr",
          "text": [
            "Setting `pad_token_id` to `eos_token_id`:50256 for open-end generation.\n",
            "Input length of input_ids is 1024, but `max_length` is set to 64. This can lead to unexpected behavior. You should consider increasing `max_new_tokens`.\n"
          ]
        },
        {
          "output_type": "stream",
          "name": "stdout",
          "text": [
            "1176 "
          ]
        },
        {
          "output_type": "stream",
          "name": "stderr",
          "text": [
            "Setting `pad_token_id` to `eos_token_id`:50256 for open-end generation.\n",
            "Input length of input_ids is 1024, but `max_length` is set to 64. This can lead to unexpected behavior. You should consider increasing `max_new_tokens`.\n"
          ]
        },
        {
          "output_type": "stream",
          "name": "stdout",
          "text": [
            "1184 "
          ]
        },
        {
          "output_type": "stream",
          "name": "stderr",
          "text": [
            "Setting `pad_token_id` to `eos_token_id`:50256 for open-end generation.\n",
            "Input length of input_ids is 1024, but `max_length` is set to 64. This can lead to unexpected behavior. You should consider increasing `max_new_tokens`.\n"
          ]
        },
        {
          "output_type": "stream",
          "name": "stdout",
          "text": [
            "1192 "
          ]
        },
        {
          "output_type": "stream",
          "name": "stderr",
          "text": [
            "Setting `pad_token_id` to `eos_token_id`:50256 for open-end generation.\n",
            "Input length of input_ids is 1024, but `max_length` is set to 64. This can lead to unexpected behavior. You should consider increasing `max_new_tokens`.\n"
          ]
        },
        {
          "output_type": "stream",
          "name": "stdout",
          "text": [
            "1200 "
          ]
        },
        {
          "output_type": "stream",
          "name": "stderr",
          "text": [
            "Setting `pad_token_id` to `eos_token_id`:50256 for open-end generation.\n",
            "Input length of input_ids is 1024, but `max_length` is set to 64. This can lead to unexpected behavior. You should consider increasing `max_new_tokens`.\n"
          ]
        },
        {
          "output_type": "stream",
          "name": "stdout",
          "text": [
            "1208 "
          ]
        },
        {
          "output_type": "stream",
          "name": "stderr",
          "text": [
            "Setting `pad_token_id` to `eos_token_id`:50256 for open-end generation.\n",
            "Input length of input_ids is 1024, but `max_length` is set to 64. This can lead to unexpected behavior. You should consider increasing `max_new_tokens`.\n"
          ]
        },
        {
          "output_type": "stream",
          "name": "stdout",
          "text": [
            "1216 "
          ]
        },
        {
          "output_type": "stream",
          "name": "stderr",
          "text": [
            "Setting `pad_token_id` to `eos_token_id`:50256 for open-end generation.\n",
            "Input length of input_ids is 1024, but `max_length` is set to 64. This can lead to unexpected behavior. You should consider increasing `max_new_tokens`.\n"
          ]
        },
        {
          "output_type": "stream",
          "name": "stdout",
          "text": [
            "1224 "
          ]
        },
        {
          "output_type": "stream",
          "name": "stderr",
          "text": [
            "Setting `pad_token_id` to `eos_token_id`:50256 for open-end generation.\n",
            "Input length of input_ids is 1024, but `max_length` is set to 64. This can lead to unexpected behavior. You should consider increasing `max_new_tokens`.\n"
          ]
        },
        {
          "output_type": "stream",
          "name": "stdout",
          "text": [
            "1232 "
          ]
        },
        {
          "output_type": "stream",
          "name": "stderr",
          "text": [
            "Setting `pad_token_id` to `eos_token_id`:50256 for open-end generation.\n",
            "Input length of input_ids is 1024, but `max_length` is set to 64. This can lead to unexpected behavior. You should consider increasing `max_new_tokens`.\n"
          ]
        },
        {
          "output_type": "stream",
          "name": "stdout",
          "text": [
            "1240 "
          ]
        },
        {
          "output_type": "stream",
          "name": "stderr",
          "text": [
            "Setting `pad_token_id` to `eos_token_id`:50256 for open-end generation.\n",
            "Input length of input_ids is 1024, but `max_length` is set to 64. This can lead to unexpected behavior. You should consider increasing `max_new_tokens`.\n"
          ]
        },
        {
          "output_type": "stream",
          "name": "stdout",
          "text": [
            "1248 "
          ]
        },
        {
          "output_type": "stream",
          "name": "stderr",
          "text": [
            "Setting `pad_token_id` to `eos_token_id`:50256 for open-end generation.\n",
            "Input length of input_ids is 1024, but `max_length` is set to 64. This can lead to unexpected behavior. You should consider increasing `max_new_tokens`.\n"
          ]
        },
        {
          "output_type": "stream",
          "name": "stdout",
          "text": [
            "1256 "
          ]
        },
        {
          "output_type": "stream",
          "name": "stderr",
          "text": [
            "Setting `pad_token_id` to `eos_token_id`:50256 for open-end generation.\n",
            "Input length of input_ids is 830, but `max_length` is set to 64. This can lead to unexpected behavior. You should consider increasing `max_new_tokens`.\n"
          ]
        },
        {
          "output_type": "stream",
          "name": "stdout",
          "text": [
            "1264 "
          ]
        },
        {
          "output_type": "stream",
          "name": "stderr",
          "text": [
            "Setting `pad_token_id` to `eos_token_id`:50256 for open-end generation.\n",
            "Input length of input_ids is 1024, but `max_length` is set to 64. This can lead to unexpected behavior. You should consider increasing `max_new_tokens`.\n"
          ]
        },
        {
          "output_type": "stream",
          "name": "stdout",
          "text": [
            "1272 "
          ]
        },
        {
          "output_type": "stream",
          "name": "stderr",
          "text": [
            "Setting `pad_token_id` to `eos_token_id`:50256 for open-end generation.\n",
            "Input length of input_ids is 1024, but `max_length` is set to 64. This can lead to unexpected behavior. You should consider increasing `max_new_tokens`.\n"
          ]
        },
        {
          "output_type": "stream",
          "name": "stdout",
          "text": [
            "1280 "
          ]
        },
        {
          "output_type": "stream",
          "name": "stderr",
          "text": [
            "Setting `pad_token_id` to `eos_token_id`:50256 for open-end generation.\n",
            "Input length of input_ids is 1024, but `max_length` is set to 64. This can lead to unexpected behavior. You should consider increasing `max_new_tokens`.\n"
          ]
        },
        {
          "output_type": "stream",
          "name": "stdout",
          "text": [
            "1288 "
          ]
        },
        {
          "output_type": "stream",
          "name": "stderr",
          "text": [
            "Setting `pad_token_id` to `eos_token_id`:50256 for open-end generation.\n",
            "Input length of input_ids is 1024, but `max_length` is set to 64. This can lead to unexpected behavior. You should consider increasing `max_new_tokens`.\n"
          ]
        },
        {
          "output_type": "stream",
          "name": "stdout",
          "text": [
            "1296 "
          ]
        },
        {
          "output_type": "stream",
          "name": "stderr",
          "text": [
            "Setting `pad_token_id` to `eos_token_id`:50256 for open-end generation.\n",
            "Input length of input_ids is 1024, but `max_length` is set to 64. This can lead to unexpected behavior. You should consider increasing `max_new_tokens`.\n"
          ]
        },
        {
          "output_type": "stream",
          "name": "stdout",
          "text": [
            "1304 "
          ]
        },
        {
          "output_type": "stream",
          "name": "stderr",
          "text": [
            "Setting `pad_token_id` to `eos_token_id`:50256 for open-end generation.\n",
            "Input length of input_ids is 1024, but `max_length` is set to 64. This can lead to unexpected behavior. You should consider increasing `max_new_tokens`.\n"
          ]
        },
        {
          "output_type": "stream",
          "name": "stdout",
          "text": [
            "1312 "
          ]
        },
        {
          "output_type": "stream",
          "name": "stderr",
          "text": [
            "Setting `pad_token_id` to `eos_token_id`:50256 for open-end generation.\n",
            "Input length of input_ids is 1024, but `max_length` is set to 64. This can lead to unexpected behavior. You should consider increasing `max_new_tokens`.\n"
          ]
        },
        {
          "output_type": "stream",
          "name": "stdout",
          "text": [
            "1320 "
          ]
        },
        {
          "output_type": "stream",
          "name": "stderr",
          "text": [
            "Setting `pad_token_id` to `eos_token_id`:50256 for open-end generation.\n",
            "Input length of input_ids is 1024, but `max_length` is set to 64. This can lead to unexpected behavior. You should consider increasing `max_new_tokens`.\n"
          ]
        },
        {
          "output_type": "stream",
          "name": "stdout",
          "text": [
            "1328 "
          ]
        },
        {
          "output_type": "stream",
          "name": "stderr",
          "text": [
            "Setting `pad_token_id` to `eos_token_id`:50256 for open-end generation.\n",
            "Input length of input_ids is 1024, but `max_length` is set to 64. This can lead to unexpected behavior. You should consider increasing `max_new_tokens`.\n"
          ]
        },
        {
          "output_type": "stream",
          "name": "stdout",
          "text": [
            "1336 "
          ]
        },
        {
          "output_type": "stream",
          "name": "stderr",
          "text": [
            "Setting `pad_token_id` to `eos_token_id`:50256 for open-end generation.\n",
            "Input length of input_ids is 1024, but `max_length` is set to 64. This can lead to unexpected behavior. You should consider increasing `max_new_tokens`.\n"
          ]
        },
        {
          "output_type": "stream",
          "name": "stdout",
          "text": [
            "1344 "
          ]
        },
        {
          "output_type": "stream",
          "name": "stderr",
          "text": [
            "Setting `pad_token_id` to `eos_token_id`:50256 for open-end generation.\n",
            "Input length of input_ids is 1024, but `max_length` is set to 64. This can lead to unexpected behavior. You should consider increasing `max_new_tokens`.\n"
          ]
        },
        {
          "output_type": "stream",
          "name": "stdout",
          "text": [
            "1352 "
          ]
        },
        {
          "output_type": "stream",
          "name": "stderr",
          "text": [
            "Setting `pad_token_id` to `eos_token_id`:50256 for open-end generation.\n",
            "Input length of input_ids is 1024, but `max_length` is set to 64. This can lead to unexpected behavior. You should consider increasing `max_new_tokens`.\n"
          ]
        },
        {
          "output_type": "stream",
          "name": "stdout",
          "text": [
            "1360 "
          ]
        },
        {
          "output_type": "stream",
          "name": "stderr",
          "text": [
            "Setting `pad_token_id` to `eos_token_id`:50256 for open-end generation.\n",
            "Input length of input_ids is 1024, but `max_length` is set to 64. This can lead to unexpected behavior. You should consider increasing `max_new_tokens`.\n"
          ]
        },
        {
          "output_type": "stream",
          "name": "stdout",
          "text": [
            "1368 "
          ]
        },
        {
          "output_type": "stream",
          "name": "stderr",
          "text": [
            "Setting `pad_token_id` to `eos_token_id`:50256 for open-end generation.\n",
            "Input length of input_ids is 887, but `max_length` is set to 64. This can lead to unexpected behavior. You should consider increasing `max_new_tokens`.\n"
          ]
        },
        {
          "output_type": "stream",
          "name": "stdout",
          "text": [
            "1376 "
          ]
        },
        {
          "output_type": "stream",
          "name": "stderr",
          "text": [
            "Setting `pad_token_id` to `eos_token_id`:50256 for open-end generation.\n",
            "Input length of input_ids is 1024, but `max_length` is set to 64. This can lead to unexpected behavior. You should consider increasing `max_new_tokens`.\n"
          ]
        },
        {
          "output_type": "stream",
          "name": "stdout",
          "text": [
            "1384 "
          ]
        },
        {
          "output_type": "stream",
          "name": "stderr",
          "text": [
            "Setting `pad_token_id` to `eos_token_id`:50256 for open-end generation.\n",
            "Input length of input_ids is 1024, but `max_length` is set to 64. This can lead to unexpected behavior. You should consider increasing `max_new_tokens`.\n"
          ]
        },
        {
          "output_type": "stream",
          "name": "stdout",
          "text": [
            "1392 "
          ]
        },
        {
          "output_type": "stream",
          "name": "stderr",
          "text": [
            "Setting `pad_token_id` to `eos_token_id`:50256 for open-end generation.\n",
            "Input length of input_ids is 1024, but `max_length` is set to 64. This can lead to unexpected behavior. You should consider increasing `max_new_tokens`.\n"
          ]
        },
        {
          "output_type": "stream",
          "name": "stdout",
          "text": [
            "1400 "
          ]
        },
        {
          "output_type": "stream",
          "name": "stderr",
          "text": [
            "Setting `pad_token_id` to `eos_token_id`:50256 for open-end generation.\n",
            "Input length of input_ids is 1024, but `max_length` is set to 64. This can lead to unexpected behavior. You should consider increasing `max_new_tokens`.\n"
          ]
        },
        {
          "output_type": "stream",
          "name": "stdout",
          "text": [
            "1408 "
          ]
        },
        {
          "output_type": "stream",
          "name": "stderr",
          "text": [
            "Setting `pad_token_id` to `eos_token_id`:50256 for open-end generation.\n",
            "Input length of input_ids is 1024, but `max_length` is set to 64. This can lead to unexpected behavior. You should consider increasing `max_new_tokens`.\n"
          ]
        },
        {
          "output_type": "stream",
          "name": "stdout",
          "text": [
            "1416 "
          ]
        },
        {
          "output_type": "stream",
          "name": "stderr",
          "text": [
            "Setting `pad_token_id` to `eos_token_id`:50256 for open-end generation.\n",
            "Input length of input_ids is 1024, but `max_length` is set to 64. This can lead to unexpected behavior. You should consider increasing `max_new_tokens`.\n"
          ]
        },
        {
          "output_type": "stream",
          "name": "stdout",
          "text": [
            "1424 "
          ]
        },
        {
          "output_type": "stream",
          "name": "stderr",
          "text": [
            "Setting `pad_token_id` to `eos_token_id`:50256 for open-end generation.\n",
            "Input length of input_ids is 1024, but `max_length` is set to 64. This can lead to unexpected behavior. You should consider increasing `max_new_tokens`.\n"
          ]
        },
        {
          "output_type": "stream",
          "name": "stdout",
          "text": [
            "1432 "
          ]
        },
        {
          "output_type": "stream",
          "name": "stderr",
          "text": [
            "Setting `pad_token_id` to `eos_token_id`:50256 for open-end generation.\n",
            "Input length of input_ids is 1024, but `max_length` is set to 64. This can lead to unexpected behavior. You should consider increasing `max_new_tokens`.\n"
          ]
        },
        {
          "output_type": "stream",
          "name": "stdout",
          "text": [
            "1440 "
          ]
        },
        {
          "output_type": "stream",
          "name": "stderr",
          "text": [
            "Setting `pad_token_id` to `eos_token_id`:50256 for open-end generation.\n",
            "Input length of input_ids is 1024, but `max_length` is set to 64. This can lead to unexpected behavior. You should consider increasing `max_new_tokens`.\n"
          ]
        },
        {
          "output_type": "stream",
          "name": "stdout",
          "text": [
            "1448 "
          ]
        },
        {
          "output_type": "stream",
          "name": "stderr",
          "text": [
            "Setting `pad_token_id` to `eos_token_id`:50256 for open-end generation.\n",
            "Input length of input_ids is 944, but `max_length` is set to 64. This can lead to unexpected behavior. You should consider increasing `max_new_tokens`.\n"
          ]
        },
        {
          "output_type": "stream",
          "name": "stdout",
          "text": [
            "1456 "
          ]
        },
        {
          "output_type": "stream",
          "name": "stderr",
          "text": [
            "Setting `pad_token_id` to `eos_token_id`:50256 for open-end generation.\n",
            "Input length of input_ids is 1024, but `max_length` is set to 64. This can lead to unexpected behavior. You should consider increasing `max_new_tokens`.\n"
          ]
        },
        {
          "output_type": "stream",
          "name": "stdout",
          "text": [
            "1464 "
          ]
        },
        {
          "output_type": "stream",
          "name": "stderr",
          "text": [
            "Setting `pad_token_id` to `eos_token_id`:50256 for open-end generation.\n",
            "Input length of input_ids is 1024, but `max_length` is set to 64. This can lead to unexpected behavior. You should consider increasing `max_new_tokens`.\n"
          ]
        },
        {
          "output_type": "stream",
          "name": "stdout",
          "text": [
            "1472 "
          ]
        },
        {
          "output_type": "stream",
          "name": "stderr",
          "text": [
            "Setting `pad_token_id` to `eos_token_id`:50256 for open-end generation.\n",
            "Input length of input_ids is 1024, but `max_length` is set to 64. This can lead to unexpected behavior. You should consider increasing `max_new_tokens`.\n"
          ]
        },
        {
          "output_type": "stream",
          "name": "stdout",
          "text": [
            "1480 "
          ]
        },
        {
          "output_type": "stream",
          "name": "stderr",
          "text": [
            "Setting `pad_token_id` to `eos_token_id`:50256 for open-end generation.\n",
            "Input length of input_ids is 1024, but `max_length` is set to 64. This can lead to unexpected behavior. You should consider increasing `max_new_tokens`.\n"
          ]
        },
        {
          "output_type": "stream",
          "name": "stdout",
          "text": [
            "1488 "
          ]
        },
        {
          "output_type": "stream",
          "name": "stderr",
          "text": [
            "Setting `pad_token_id` to `eos_token_id`:50256 for open-end generation.\n",
            "Input length of input_ids is 1024, but `max_length` is set to 64. This can lead to unexpected behavior. You should consider increasing `max_new_tokens`.\n"
          ]
        },
        {
          "output_type": "stream",
          "name": "stdout",
          "text": [
            "1496 "
          ]
        },
        {
          "output_type": "stream",
          "name": "stderr",
          "text": [
            "Setting `pad_token_id` to `eos_token_id`:50256 for open-end generation.\n",
            "Input length of input_ids is 1024, but `max_length` is set to 64. This can lead to unexpected behavior. You should consider increasing `max_new_tokens`.\n"
          ]
        },
        {
          "output_type": "stream",
          "name": "stdout",
          "text": [
            "1504 "
          ]
        },
        {
          "output_type": "stream",
          "name": "stderr",
          "text": [
            "Setting `pad_token_id` to `eos_token_id`:50256 for open-end generation.\n",
            "Input length of input_ids is 1024, but `max_length` is set to 64. This can lead to unexpected behavior. You should consider increasing `max_new_tokens`.\n"
          ]
        },
        {
          "output_type": "stream",
          "name": "stdout",
          "text": [
            "1512 "
          ]
        },
        {
          "output_type": "stream",
          "name": "stderr",
          "text": [
            "Setting `pad_token_id` to `eos_token_id`:50256 for open-end generation.\n",
            "Input length of input_ids is 1024, but `max_length` is set to 64. This can lead to unexpected behavior. You should consider increasing `max_new_tokens`.\n"
          ]
        },
        {
          "output_type": "stream",
          "name": "stdout",
          "text": [
            "1520 "
          ]
        },
        {
          "output_type": "stream",
          "name": "stderr",
          "text": [
            "Setting `pad_token_id` to `eos_token_id`:50256 for open-end generation.\n",
            "Input length of input_ids is 1024, but `max_length` is set to 64. This can lead to unexpected behavior. You should consider increasing `max_new_tokens`.\n"
          ]
        },
        {
          "output_type": "stream",
          "name": "stdout",
          "text": [
            "1528 "
          ]
        },
        {
          "output_type": "stream",
          "name": "stderr",
          "text": [
            "Setting `pad_token_id` to `eos_token_id`:50256 for open-end generation.\n",
            "Input length of input_ids is 1024, but `max_length` is set to 64. This can lead to unexpected behavior. You should consider increasing `max_new_tokens`.\n"
          ]
        },
        {
          "output_type": "stream",
          "name": "stdout",
          "text": [
            "1536 "
          ]
        },
        {
          "output_type": "stream",
          "name": "stderr",
          "text": [
            "Setting `pad_token_id` to `eos_token_id`:50256 for open-end generation.\n",
            "Input length of input_ids is 1024, but `max_length` is set to 64. This can lead to unexpected behavior. You should consider increasing `max_new_tokens`.\n"
          ]
        },
        {
          "output_type": "stream",
          "name": "stdout",
          "text": [
            "1544 "
          ]
        },
        {
          "output_type": "stream",
          "name": "stderr",
          "text": [
            "Setting `pad_token_id` to `eos_token_id`:50256 for open-end generation.\n",
            "Input length of input_ids is 1024, but `max_length` is set to 64. This can lead to unexpected behavior. You should consider increasing `max_new_tokens`.\n"
          ]
        },
        {
          "output_type": "stream",
          "name": "stdout",
          "text": [
            "1552 "
          ]
        },
        {
          "output_type": "stream",
          "name": "stderr",
          "text": [
            "Setting `pad_token_id` to `eos_token_id`:50256 for open-end generation.\n",
            "Input length of input_ids is 1024, but `max_length` is set to 64. This can lead to unexpected behavior. You should consider increasing `max_new_tokens`.\n"
          ]
        },
        {
          "output_type": "stream",
          "name": "stdout",
          "text": [
            "1560 "
          ]
        },
        {
          "output_type": "stream",
          "name": "stderr",
          "text": [
            "Setting `pad_token_id` to `eos_token_id`:50256 for open-end generation.\n",
            "Input length of input_ids is 1024, but `max_length` is set to 64. This can lead to unexpected behavior. You should consider increasing `max_new_tokens`.\n"
          ]
        },
        {
          "output_type": "stream",
          "name": "stdout",
          "text": [
            "1568 "
          ]
        },
        {
          "output_type": "stream",
          "name": "stderr",
          "text": [
            "Setting `pad_token_id` to `eos_token_id`:50256 for open-end generation.\n",
            "Input length of input_ids is 1024, but `max_length` is set to 64. This can lead to unexpected behavior. You should consider increasing `max_new_tokens`.\n"
          ]
        },
        {
          "output_type": "stream",
          "name": "stdout",
          "text": [
            "1576 "
          ]
        },
        {
          "output_type": "stream",
          "name": "stderr",
          "text": [
            "Setting `pad_token_id` to `eos_token_id`:50256 for open-end generation.\n",
            "Input length of input_ids is 1024, but `max_length` is set to 64. This can lead to unexpected behavior. You should consider increasing `max_new_tokens`.\n"
          ]
        },
        {
          "output_type": "stream",
          "name": "stdout",
          "text": [
            "1584 "
          ]
        },
        {
          "output_type": "stream",
          "name": "stderr",
          "text": [
            "Setting `pad_token_id` to `eos_token_id`:50256 for open-end generation.\n",
            "Input length of input_ids is 1024, but `max_length` is set to 64. This can lead to unexpected behavior. You should consider increasing `max_new_tokens`.\n"
          ]
        },
        {
          "output_type": "stream",
          "name": "stdout",
          "text": [
            "1592 "
          ]
        },
        {
          "output_type": "stream",
          "name": "stderr",
          "text": [
            "Setting `pad_token_id` to `eos_token_id`:50256 for open-end generation.\n",
            "Input length of input_ids is 1024, but `max_length` is set to 64. This can lead to unexpected behavior. You should consider increasing `max_new_tokens`.\n"
          ]
        },
        {
          "output_type": "stream",
          "name": "stdout",
          "text": [
            "1600 "
          ]
        },
        {
          "output_type": "stream",
          "name": "stderr",
          "text": [
            "Setting `pad_token_id` to `eos_token_id`:50256 for open-end generation.\n",
            "Input length of input_ids is 880, but `max_length` is set to 64. This can lead to unexpected behavior. You should consider increasing `max_new_tokens`.\n"
          ]
        },
        {
          "output_type": "stream",
          "name": "stdout",
          "text": [
            "1608 "
          ]
        },
        {
          "output_type": "stream",
          "name": "stderr",
          "text": [
            "Setting `pad_token_id` to `eos_token_id`:50256 for open-end generation.\n",
            "Input length of input_ids is 1024, but `max_length` is set to 64. This can lead to unexpected behavior. You should consider increasing `max_new_tokens`.\n"
          ]
        },
        {
          "output_type": "stream",
          "name": "stdout",
          "text": [
            "1616 "
          ]
        },
        {
          "output_type": "stream",
          "name": "stderr",
          "text": [
            "Setting `pad_token_id` to `eos_token_id`:50256 for open-end generation.\n",
            "Input length of input_ids is 1024, but `max_length` is set to 64. This can lead to unexpected behavior. You should consider increasing `max_new_tokens`.\n"
          ]
        },
        {
          "output_type": "stream",
          "name": "stdout",
          "text": [
            "1624 "
          ]
        },
        {
          "output_type": "stream",
          "name": "stderr",
          "text": [
            "Setting `pad_token_id` to `eos_token_id`:50256 for open-end generation.\n",
            "Input length of input_ids is 1024, but `max_length` is set to 64. This can lead to unexpected behavior. You should consider increasing `max_new_tokens`.\n"
          ]
        },
        {
          "output_type": "stream",
          "name": "stdout",
          "text": [
            "1632 "
          ]
        },
        {
          "output_type": "stream",
          "name": "stderr",
          "text": [
            "Setting `pad_token_id` to `eos_token_id`:50256 for open-end generation.\n",
            "Input length of input_ids is 1024, but `max_length` is set to 64. This can lead to unexpected behavior. You should consider increasing `max_new_tokens`.\n"
          ]
        },
        {
          "output_type": "stream",
          "name": "stdout",
          "text": [
            "1640 "
          ]
        },
        {
          "output_type": "stream",
          "name": "stderr",
          "text": [
            "Setting `pad_token_id` to `eos_token_id`:50256 for open-end generation.\n",
            "Input length of input_ids is 1024, but `max_length` is set to 64. This can lead to unexpected behavior. You should consider increasing `max_new_tokens`.\n"
          ]
        },
        {
          "output_type": "stream",
          "name": "stdout",
          "text": [
            "1648 "
          ]
        },
        {
          "output_type": "stream",
          "name": "stderr",
          "text": [
            "Setting `pad_token_id` to `eos_token_id`:50256 for open-end generation.\n",
            "Input length of input_ids is 1024, but `max_length` is set to 64. This can lead to unexpected behavior. You should consider increasing `max_new_tokens`.\n"
          ]
        },
        {
          "output_type": "stream",
          "name": "stdout",
          "text": [
            "1656 "
          ]
        },
        {
          "output_type": "stream",
          "name": "stderr",
          "text": [
            "Setting `pad_token_id` to `eos_token_id`:50256 for open-end generation.\n",
            "Input length of input_ids is 1024, but `max_length` is set to 64. This can lead to unexpected behavior. You should consider increasing `max_new_tokens`.\n"
          ]
        },
        {
          "output_type": "stream",
          "name": "stdout",
          "text": [
            "1664 "
          ]
        },
        {
          "output_type": "stream",
          "name": "stderr",
          "text": [
            "Setting `pad_token_id` to `eos_token_id`:50256 for open-end generation.\n",
            "Input length of input_ids is 1024, but `max_length` is set to 64. This can lead to unexpected behavior. You should consider increasing `max_new_tokens`.\n"
          ]
        },
        {
          "output_type": "stream",
          "name": "stdout",
          "text": [
            "1672 "
          ]
        },
        {
          "output_type": "stream",
          "name": "stderr",
          "text": [
            "Setting `pad_token_id` to `eos_token_id`:50256 for open-end generation.\n",
            "Input length of input_ids is 1024, but `max_length` is set to 64. This can lead to unexpected behavior. You should consider increasing `max_new_tokens`.\n"
          ]
        },
        {
          "output_type": "stream",
          "name": "stdout",
          "text": [
            "1680 "
          ]
        },
        {
          "output_type": "stream",
          "name": "stderr",
          "text": [
            "Setting `pad_token_id` to `eos_token_id`:50256 for open-end generation.\n",
            "Input length of input_ids is 1024, but `max_length` is set to 64. This can lead to unexpected behavior. You should consider increasing `max_new_tokens`.\n"
          ]
        },
        {
          "output_type": "stream",
          "name": "stdout",
          "text": [
            "1688 "
          ]
        },
        {
          "output_type": "stream",
          "name": "stderr",
          "text": [
            "Setting `pad_token_id` to `eos_token_id`:50256 for open-end generation.\n",
            "Input length of input_ids is 1024, but `max_length` is set to 64. This can lead to unexpected behavior. You should consider increasing `max_new_tokens`.\n"
          ]
        },
        {
          "output_type": "stream",
          "name": "stdout",
          "text": [
            "1696 "
          ]
        },
        {
          "output_type": "stream",
          "name": "stderr",
          "text": [
            "Setting `pad_token_id` to `eos_token_id`:50256 for open-end generation.\n",
            "Input length of input_ids is 1024, but `max_length` is set to 64. This can lead to unexpected behavior. You should consider increasing `max_new_tokens`.\n"
          ]
        },
        {
          "output_type": "stream",
          "name": "stdout",
          "text": [
            "1704 "
          ]
        },
        {
          "output_type": "stream",
          "name": "stderr",
          "text": [
            "Setting `pad_token_id` to `eos_token_id`:50256 for open-end generation.\n",
            "Input length of input_ids is 1024, but `max_length` is set to 64. This can lead to unexpected behavior. You should consider increasing `max_new_tokens`.\n"
          ]
        },
        {
          "output_type": "stream",
          "name": "stdout",
          "text": [
            "1712 "
          ]
        },
        {
          "output_type": "stream",
          "name": "stderr",
          "text": [
            "Setting `pad_token_id` to `eos_token_id`:50256 for open-end generation.\n",
            "Input length of input_ids is 1024, but `max_length` is set to 64. This can lead to unexpected behavior. You should consider increasing `max_new_tokens`.\n"
          ]
        },
        {
          "output_type": "stream",
          "name": "stdout",
          "text": [
            "1720 "
          ]
        },
        {
          "output_type": "stream",
          "name": "stderr",
          "text": [
            "Setting `pad_token_id` to `eos_token_id`:50256 for open-end generation.\n",
            "Input length of input_ids is 1024, but `max_length` is set to 64. This can lead to unexpected behavior. You should consider increasing `max_new_tokens`.\n"
          ]
        },
        {
          "output_type": "stream",
          "name": "stdout",
          "text": [
            "1728 "
          ]
        },
        {
          "output_type": "stream",
          "name": "stderr",
          "text": [
            "Setting `pad_token_id` to `eos_token_id`:50256 for open-end generation.\n",
            "Input length of input_ids is 1024, but `max_length` is set to 64. This can lead to unexpected behavior. You should consider increasing `max_new_tokens`.\n"
          ]
        },
        {
          "output_type": "stream",
          "name": "stdout",
          "text": [
            "1736 "
          ]
        },
        {
          "output_type": "stream",
          "name": "stderr",
          "text": [
            "Setting `pad_token_id` to `eos_token_id`:50256 for open-end generation.\n",
            "Input length of input_ids is 991, but `max_length` is set to 64. This can lead to unexpected behavior. You should consider increasing `max_new_tokens`.\n"
          ]
        },
        {
          "output_type": "stream",
          "name": "stdout",
          "text": [
            "1744 "
          ]
        },
        {
          "output_type": "stream",
          "name": "stderr",
          "text": [
            "Setting `pad_token_id` to `eos_token_id`:50256 for open-end generation.\n",
            "Input length of input_ids is 1024, but `max_length` is set to 64. This can lead to unexpected behavior. You should consider increasing `max_new_tokens`.\n"
          ]
        },
        {
          "output_type": "stream",
          "name": "stdout",
          "text": [
            "1752 "
          ]
        },
        {
          "output_type": "stream",
          "name": "stderr",
          "text": [
            "Setting `pad_token_id` to `eos_token_id`:50256 for open-end generation.\n",
            "Input length of input_ids is 1024, but `max_length` is set to 64. This can lead to unexpected behavior. You should consider increasing `max_new_tokens`.\n"
          ]
        },
        {
          "output_type": "stream",
          "name": "stdout",
          "text": [
            "1760 "
          ]
        },
        {
          "output_type": "stream",
          "name": "stderr",
          "text": [
            "Setting `pad_token_id` to `eos_token_id`:50256 for open-end generation.\n",
            "Input length of input_ids is 1024, but `max_length` is set to 64. This can lead to unexpected behavior. You should consider increasing `max_new_tokens`.\n"
          ]
        },
        {
          "output_type": "stream",
          "name": "stdout",
          "text": [
            "1768 "
          ]
        },
        {
          "output_type": "stream",
          "name": "stderr",
          "text": [
            "Setting `pad_token_id` to `eos_token_id`:50256 for open-end generation.\n",
            "Input length of input_ids is 1024, but `max_length` is set to 64. This can lead to unexpected behavior. You should consider increasing `max_new_tokens`.\n"
          ]
        },
        {
          "output_type": "stream",
          "name": "stdout",
          "text": [
            "1776 "
          ]
        },
        {
          "output_type": "stream",
          "name": "stderr",
          "text": [
            "Setting `pad_token_id` to `eos_token_id`:50256 for open-end generation.\n",
            "Input length of input_ids is 1024, but `max_length` is set to 64. This can lead to unexpected behavior. You should consider increasing `max_new_tokens`.\n"
          ]
        },
        {
          "output_type": "stream",
          "name": "stdout",
          "text": [
            "1784 "
          ]
        },
        {
          "output_type": "stream",
          "name": "stderr",
          "text": [
            "Setting `pad_token_id` to `eos_token_id`:50256 for open-end generation.\n",
            "Input length of input_ids is 1024, but `max_length` is set to 64. This can lead to unexpected behavior. You should consider increasing `max_new_tokens`.\n"
          ]
        },
        {
          "output_type": "stream",
          "name": "stdout",
          "text": [
            "1792 "
          ]
        },
        {
          "output_type": "stream",
          "name": "stderr",
          "text": [
            "Setting `pad_token_id` to `eos_token_id`:50256 for open-end generation.\n",
            "Input length of input_ids is 1024, but `max_length` is set to 64. This can lead to unexpected behavior. You should consider increasing `max_new_tokens`.\n"
          ]
        },
        {
          "output_type": "stream",
          "name": "stdout",
          "text": [
            "1800 "
          ]
        },
        {
          "output_type": "stream",
          "name": "stderr",
          "text": [
            "Setting `pad_token_id` to `eos_token_id`:50256 for open-end generation.\n",
            "Input length of input_ids is 1024, but `max_length` is set to 64. This can lead to unexpected behavior. You should consider increasing `max_new_tokens`.\n"
          ]
        },
        {
          "output_type": "stream",
          "name": "stdout",
          "text": [
            "1808 "
          ]
        },
        {
          "output_type": "stream",
          "name": "stderr",
          "text": [
            "Setting `pad_token_id` to `eos_token_id`:50256 for open-end generation.\n",
            "Input length of input_ids is 1024, but `max_length` is set to 64. This can lead to unexpected behavior. You should consider increasing `max_new_tokens`.\n"
          ]
        },
        {
          "output_type": "stream",
          "name": "stdout",
          "text": [
            "1816 "
          ]
        },
        {
          "output_type": "stream",
          "name": "stderr",
          "text": [
            "Setting `pad_token_id` to `eos_token_id`:50256 for open-end generation.\n",
            "Input length of input_ids is 1024, but `max_length` is set to 64. This can lead to unexpected behavior. You should consider increasing `max_new_tokens`.\n"
          ]
        },
        {
          "output_type": "stream",
          "name": "stdout",
          "text": [
            "1824 "
          ]
        },
        {
          "output_type": "stream",
          "name": "stderr",
          "text": [
            "Setting `pad_token_id` to `eos_token_id`:50256 for open-end generation.\n",
            "Input length of input_ids is 1024, but `max_length` is set to 64. This can lead to unexpected behavior. You should consider increasing `max_new_tokens`.\n"
          ]
        },
        {
          "output_type": "stream",
          "name": "stdout",
          "text": [
            "1832 "
          ]
        },
        {
          "output_type": "stream",
          "name": "stderr",
          "text": [
            "Setting `pad_token_id` to `eos_token_id`:50256 for open-end generation.\n",
            "Input length of input_ids is 1024, but `max_length` is set to 64. This can lead to unexpected behavior. You should consider increasing `max_new_tokens`.\n"
          ]
        },
        {
          "output_type": "stream",
          "name": "stdout",
          "text": [
            "1840 "
          ]
        },
        {
          "output_type": "stream",
          "name": "stderr",
          "text": [
            "Setting `pad_token_id` to `eos_token_id`:50256 for open-end generation.\n",
            "Input length of input_ids is 1024, but `max_length` is set to 64. This can lead to unexpected behavior. You should consider increasing `max_new_tokens`.\n"
          ]
        },
        {
          "output_type": "stream",
          "name": "stdout",
          "text": [
            "1848 "
          ]
        },
        {
          "output_type": "stream",
          "name": "stderr",
          "text": [
            "Setting `pad_token_id` to `eos_token_id`:50256 for open-end generation.\n",
            "Input length of input_ids is 727, but `max_length` is set to 64. This can lead to unexpected behavior. You should consider increasing `max_new_tokens`.\n"
          ]
        },
        {
          "output_type": "stream",
          "name": "stdout",
          "text": [
            "1856 "
          ]
        },
        {
          "output_type": "stream",
          "name": "stderr",
          "text": [
            "Setting `pad_token_id` to `eos_token_id`:50256 for open-end generation.\n",
            "Input length of input_ids is 1024, but `max_length` is set to 64. This can lead to unexpected behavior. You should consider increasing `max_new_tokens`.\n"
          ]
        },
        {
          "output_type": "stream",
          "name": "stdout",
          "text": [
            "1864 "
          ]
        },
        {
          "output_type": "stream",
          "name": "stderr",
          "text": [
            "Setting `pad_token_id` to `eos_token_id`:50256 for open-end generation.\n",
            "Input length of input_ids is 1024, but `max_length` is set to 64. This can lead to unexpected behavior. You should consider increasing `max_new_tokens`.\n"
          ]
        },
        {
          "output_type": "stream",
          "name": "stdout",
          "text": [
            "1872 "
          ]
        },
        {
          "output_type": "stream",
          "name": "stderr",
          "text": [
            "Setting `pad_token_id` to `eos_token_id`:50256 for open-end generation.\n",
            "Input length of input_ids is 1024, but `max_length` is set to 64. This can lead to unexpected behavior. You should consider increasing `max_new_tokens`.\n"
          ]
        },
        {
          "output_type": "stream",
          "name": "stdout",
          "text": [
            "1880 "
          ]
        },
        {
          "output_type": "stream",
          "name": "stderr",
          "text": [
            "Setting `pad_token_id` to `eos_token_id`:50256 for open-end generation.\n",
            "Input length of input_ids is 1024, but `max_length` is set to 64. This can lead to unexpected behavior. You should consider increasing `max_new_tokens`.\n"
          ]
        },
        {
          "output_type": "stream",
          "name": "stdout",
          "text": [
            "1888 "
          ]
        },
        {
          "output_type": "stream",
          "name": "stderr",
          "text": [
            "Setting `pad_token_id` to `eos_token_id`:50256 for open-end generation.\n",
            "Input length of input_ids is 1024, but `max_length` is set to 64. This can lead to unexpected behavior. You should consider increasing `max_new_tokens`.\n"
          ]
        },
        {
          "output_type": "stream",
          "name": "stdout",
          "text": [
            "1896 "
          ]
        },
        {
          "output_type": "stream",
          "name": "stderr",
          "text": [
            "Setting `pad_token_id` to `eos_token_id`:50256 for open-end generation.\n",
            "Input length of input_ids is 1024, but `max_length` is set to 64. This can lead to unexpected behavior. You should consider increasing `max_new_tokens`.\n"
          ]
        },
        {
          "output_type": "stream",
          "name": "stdout",
          "text": [
            "1904 "
          ]
        },
        {
          "output_type": "stream",
          "name": "stderr",
          "text": [
            "Setting `pad_token_id` to `eos_token_id`:50256 for open-end generation.\n",
            "Input length of input_ids is 1024, but `max_length` is set to 64. This can lead to unexpected behavior. You should consider increasing `max_new_tokens`.\n"
          ]
        },
        {
          "output_type": "stream",
          "name": "stdout",
          "text": [
            "1912 "
          ]
        },
        {
          "output_type": "stream",
          "name": "stderr",
          "text": [
            "Setting `pad_token_id` to `eos_token_id`:50256 for open-end generation.\n",
            "Input length of input_ids is 1024, but `max_length` is set to 64. This can lead to unexpected behavior. You should consider increasing `max_new_tokens`.\n"
          ]
        },
        {
          "output_type": "stream",
          "name": "stdout",
          "text": [
            "1920 "
          ]
        },
        {
          "output_type": "stream",
          "name": "stderr",
          "text": [
            "Setting `pad_token_id` to `eos_token_id`:50256 for open-end generation.\n",
            "Input length of input_ids is 1024, but `max_length` is set to 64. This can lead to unexpected behavior. You should consider increasing `max_new_tokens`.\n"
          ]
        },
        {
          "output_type": "stream",
          "name": "stdout",
          "text": [
            "1928 "
          ]
        },
        {
          "output_type": "stream",
          "name": "stderr",
          "text": [
            "Setting `pad_token_id` to `eos_token_id`:50256 for open-end generation.\n",
            "Input length of input_ids is 1024, but `max_length` is set to 64. This can lead to unexpected behavior. You should consider increasing `max_new_tokens`.\n"
          ]
        },
        {
          "output_type": "stream",
          "name": "stdout",
          "text": [
            "1936 "
          ]
        },
        {
          "output_type": "stream",
          "name": "stderr",
          "text": [
            "Setting `pad_token_id` to `eos_token_id`:50256 for open-end generation.\n",
            "Input length of input_ids is 1024, but `max_length` is set to 64. This can lead to unexpected behavior. You should consider increasing `max_new_tokens`.\n"
          ]
        },
        {
          "output_type": "stream",
          "name": "stdout",
          "text": [
            "1944 "
          ]
        },
        {
          "output_type": "stream",
          "name": "stderr",
          "text": [
            "Setting `pad_token_id` to `eos_token_id`:50256 for open-end generation.\n",
            "Input length of input_ids is 1024, but `max_length` is set to 64. This can lead to unexpected behavior. You should consider increasing `max_new_tokens`.\n"
          ]
        },
        {
          "output_type": "stream",
          "name": "stdout",
          "text": [
            "1952 "
          ]
        },
        {
          "output_type": "stream",
          "name": "stderr",
          "text": [
            "Setting `pad_token_id` to `eos_token_id`:50256 for open-end generation.\n",
            "Input length of input_ids is 1024, but `max_length` is set to 64. This can lead to unexpected behavior. You should consider increasing `max_new_tokens`.\n"
          ]
        },
        {
          "output_type": "stream",
          "name": "stdout",
          "text": [
            "1960 "
          ]
        },
        {
          "output_type": "stream",
          "name": "stderr",
          "text": [
            "Setting `pad_token_id` to `eos_token_id`:50256 for open-end generation.\n",
            "Input length of input_ids is 1024, but `max_length` is set to 64. This can lead to unexpected behavior. You should consider increasing `max_new_tokens`.\n"
          ]
        },
        {
          "output_type": "stream",
          "name": "stdout",
          "text": [
            "1968 "
          ]
        },
        {
          "output_type": "stream",
          "name": "stderr",
          "text": [
            "Setting `pad_token_id` to `eos_token_id`:50256 for open-end generation.\n",
            "Input length of input_ids is 1024, but `max_length` is set to 64. This can lead to unexpected behavior. You should consider increasing `max_new_tokens`.\n"
          ]
        },
        {
          "output_type": "stream",
          "name": "stdout",
          "text": [
            "1976 "
          ]
        },
        {
          "output_type": "stream",
          "name": "stderr",
          "text": [
            "Setting `pad_token_id` to `eos_token_id`:50256 for open-end generation.\n",
            "Input length of input_ids is 1024, but `max_length` is set to 64. This can lead to unexpected behavior. You should consider increasing `max_new_tokens`.\n"
          ]
        },
        {
          "output_type": "stream",
          "name": "stdout",
          "text": [
            "1984 "
          ]
        },
        {
          "output_type": "stream",
          "name": "stderr",
          "text": [
            "Setting `pad_token_id` to `eos_token_id`:50256 for open-end generation.\n",
            "Input length of input_ids is 1024, but `max_length` is set to 64. This can lead to unexpected behavior. You should consider increasing `max_new_tokens`.\n"
          ]
        },
        {
          "output_type": "stream",
          "name": "stdout",
          "text": [
            "1992 "
          ]
        }
      ]
    },
    {
      "cell_type": "code",
      "source": [
        "small_art_indices = []\n",
        "for i in range(2000):\n",
        "  if(len(cnn_dailymail_dataset_taken[i][\"article\"][:-6]) > 0 and len(cnn_dailymail_dataset_taken[i][\"article\"][:-6]) < 2500):\n",
        "    small_art_indices.append(i)\n",
        "\n",
        "small_art_indices = np.random.permutation(small_art_indices)[:500]\n",
        "\n",
        "dataset_taken = cnn_dailymail_dataset_taken[small_art_indices]\n",
        "cnn_dailymail_dataset_taken = Dataset.from_dict(dataset_taken)\n",
        "\n",
        "with torch.no_grad():\n",
        "  for i in range(0, len(cnn_dailymail_dataset_taken), batch_size):\n",
        "    print(i, end=' ')\n",
        "    batch = tokenizer(cnn_dailymail_dataset_taken[i:min(i+batch_size,len(cnn_dailymail_dataset_taken))][\"article\"], truncation=True, padding=\"longest\", return_tensors=\"pt\").to(device)\n",
        "    outputs = model.generate(**batch, max_new_tokens = 64)                      # max number of tokens generated is max_new_tokens\n",
        "    summaries += (tokenizer.batch_decode(outputs, skip_special_tokens=True))\n",
        "    del outputs\n",
        "    del batch\n",
        "    gc.collect()\n",
        "    torch.cuda.empty_cache()"
      ],
      "metadata": {
        "colab": {
          "base_uri": "https://localhost:8080/"
        },
        "id": "hc5MSlEodY7q",
        "outputId": "63e930bb-09d9-4e62-8599-c1e208eaf073"
      },
      "execution_count": 29,
      "outputs": [
        {
          "output_type": "stream",
          "name": "stderr",
          "text": [
            "Setting `pad_token_id` to `eos_token_id`:50256 for open-end generation.\n"
          ]
        },
        {
          "output_type": "stream",
          "name": "stdout",
          "text": [
            "0 "
          ]
        },
        {
          "output_type": "stream",
          "name": "stderr",
          "text": [
            "Setting `pad_token_id` to `eos_token_id`:50256 for open-end generation.\n"
          ]
        },
        {
          "output_type": "stream",
          "name": "stdout",
          "text": [
            "8 "
          ]
        },
        {
          "output_type": "stream",
          "name": "stderr",
          "text": [
            "Setting `pad_token_id` to `eos_token_id`:50256 for open-end generation.\n"
          ]
        },
        {
          "output_type": "stream",
          "name": "stdout",
          "text": [
            "16 "
          ]
        },
        {
          "output_type": "stream",
          "name": "stderr",
          "text": [
            "Setting `pad_token_id` to `eos_token_id`:50256 for open-end generation.\n"
          ]
        },
        {
          "output_type": "stream",
          "name": "stdout",
          "text": [
            "24 "
          ]
        },
        {
          "output_type": "stream",
          "name": "stderr",
          "text": [
            "Setting `pad_token_id` to `eos_token_id`:50256 for open-end generation.\n"
          ]
        },
        {
          "output_type": "stream",
          "name": "stdout",
          "text": [
            "32 "
          ]
        },
        {
          "output_type": "stream",
          "name": "stderr",
          "text": [
            "Setting `pad_token_id` to `eos_token_id`:50256 for open-end generation.\n"
          ]
        },
        {
          "output_type": "stream",
          "name": "stdout",
          "text": [
            "40 "
          ]
        },
        {
          "output_type": "stream",
          "name": "stderr",
          "text": [
            "Setting `pad_token_id` to `eos_token_id`:50256 for open-end generation.\n"
          ]
        },
        {
          "output_type": "stream",
          "name": "stdout",
          "text": [
            "48 "
          ]
        },
        {
          "output_type": "stream",
          "name": "stderr",
          "text": [
            "Setting `pad_token_id` to `eos_token_id`:50256 for open-end generation.\n"
          ]
        },
        {
          "output_type": "stream",
          "name": "stdout",
          "text": [
            "56 "
          ]
        },
        {
          "output_type": "stream",
          "name": "stderr",
          "text": [
            "Setting `pad_token_id` to `eos_token_id`:50256 for open-end generation.\n"
          ]
        },
        {
          "output_type": "stream",
          "name": "stdout",
          "text": [
            "64 "
          ]
        },
        {
          "output_type": "stream",
          "name": "stderr",
          "text": [
            "Setting `pad_token_id` to `eos_token_id`:50256 for open-end generation.\n"
          ]
        },
        {
          "output_type": "stream",
          "name": "stdout",
          "text": [
            "72 "
          ]
        },
        {
          "output_type": "stream",
          "name": "stderr",
          "text": [
            "Setting `pad_token_id` to `eos_token_id`:50256 for open-end generation.\n"
          ]
        },
        {
          "output_type": "stream",
          "name": "stdout",
          "text": [
            "80 "
          ]
        },
        {
          "output_type": "stream",
          "name": "stderr",
          "text": [
            "Setting `pad_token_id` to `eos_token_id`:50256 for open-end generation.\n"
          ]
        },
        {
          "output_type": "stream",
          "name": "stdout",
          "text": [
            "88 "
          ]
        },
        {
          "output_type": "stream",
          "name": "stderr",
          "text": [
            "Setting `pad_token_id` to `eos_token_id`:50256 for open-end generation.\n"
          ]
        },
        {
          "output_type": "stream",
          "name": "stdout",
          "text": [
            "96 "
          ]
        },
        {
          "output_type": "stream",
          "name": "stderr",
          "text": [
            "Setting `pad_token_id` to `eos_token_id`:50256 for open-end generation.\n"
          ]
        },
        {
          "output_type": "stream",
          "name": "stdout",
          "text": [
            "104 "
          ]
        },
        {
          "output_type": "stream",
          "name": "stderr",
          "text": [
            "Setting `pad_token_id` to `eos_token_id`:50256 for open-end generation.\n"
          ]
        },
        {
          "output_type": "stream",
          "name": "stdout",
          "text": [
            "112 "
          ]
        },
        {
          "output_type": "stream",
          "name": "stderr",
          "text": [
            "Setting `pad_token_id` to `eos_token_id`:50256 for open-end generation.\n"
          ]
        },
        {
          "output_type": "stream",
          "name": "stdout",
          "text": [
            "120 "
          ]
        },
        {
          "output_type": "stream",
          "name": "stderr",
          "text": [
            "Setting `pad_token_id` to `eos_token_id`:50256 for open-end generation.\n"
          ]
        },
        {
          "output_type": "stream",
          "name": "stdout",
          "text": [
            "128 "
          ]
        },
        {
          "output_type": "stream",
          "name": "stderr",
          "text": [
            "Setting `pad_token_id` to `eos_token_id`:50256 for open-end generation.\n"
          ]
        },
        {
          "output_type": "stream",
          "name": "stdout",
          "text": [
            "136 "
          ]
        },
        {
          "output_type": "stream",
          "name": "stderr",
          "text": [
            "Setting `pad_token_id` to `eos_token_id`:50256 for open-end generation.\n"
          ]
        },
        {
          "output_type": "stream",
          "name": "stdout",
          "text": [
            "144 "
          ]
        },
        {
          "output_type": "stream",
          "name": "stderr",
          "text": [
            "Setting `pad_token_id` to `eos_token_id`:50256 for open-end generation.\n"
          ]
        },
        {
          "output_type": "stream",
          "name": "stdout",
          "text": [
            "152 "
          ]
        },
        {
          "output_type": "stream",
          "name": "stderr",
          "text": [
            "Setting `pad_token_id` to `eos_token_id`:50256 for open-end generation.\n"
          ]
        },
        {
          "output_type": "stream",
          "name": "stdout",
          "text": [
            "160 "
          ]
        },
        {
          "output_type": "stream",
          "name": "stderr",
          "text": [
            "Setting `pad_token_id` to `eos_token_id`:50256 for open-end generation.\n"
          ]
        },
        {
          "output_type": "stream",
          "name": "stdout",
          "text": [
            "168 "
          ]
        },
        {
          "output_type": "stream",
          "name": "stderr",
          "text": [
            "Setting `pad_token_id` to `eos_token_id`:50256 for open-end generation.\n"
          ]
        },
        {
          "output_type": "stream",
          "name": "stdout",
          "text": [
            "176 "
          ]
        },
        {
          "output_type": "stream",
          "name": "stderr",
          "text": [
            "Setting `pad_token_id` to `eos_token_id`:50256 for open-end generation.\n"
          ]
        },
        {
          "output_type": "stream",
          "name": "stdout",
          "text": [
            "184 "
          ]
        },
        {
          "output_type": "stream",
          "name": "stderr",
          "text": [
            "Setting `pad_token_id` to `eos_token_id`:50256 for open-end generation.\n"
          ]
        },
        {
          "output_type": "stream",
          "name": "stdout",
          "text": [
            "192 "
          ]
        },
        {
          "output_type": "stream",
          "name": "stderr",
          "text": [
            "Setting `pad_token_id` to `eos_token_id`:50256 for open-end generation.\n"
          ]
        },
        {
          "output_type": "stream",
          "name": "stdout",
          "text": [
            "200 "
          ]
        },
        {
          "output_type": "stream",
          "name": "stderr",
          "text": [
            "Setting `pad_token_id` to `eos_token_id`:50256 for open-end generation.\n"
          ]
        },
        {
          "output_type": "stream",
          "name": "stdout",
          "text": [
            "208 "
          ]
        },
        {
          "output_type": "stream",
          "name": "stderr",
          "text": [
            "Setting `pad_token_id` to `eos_token_id`:50256 for open-end generation.\n"
          ]
        },
        {
          "output_type": "stream",
          "name": "stdout",
          "text": [
            "216 "
          ]
        },
        {
          "output_type": "stream",
          "name": "stderr",
          "text": [
            "Setting `pad_token_id` to `eos_token_id`:50256 for open-end generation.\n"
          ]
        },
        {
          "output_type": "stream",
          "name": "stdout",
          "text": [
            "224 "
          ]
        },
        {
          "output_type": "stream",
          "name": "stderr",
          "text": [
            "Setting `pad_token_id` to `eos_token_id`:50256 for open-end generation.\n"
          ]
        },
        {
          "output_type": "stream",
          "name": "stdout",
          "text": [
            "232 "
          ]
        },
        {
          "output_type": "stream",
          "name": "stderr",
          "text": [
            "Setting `pad_token_id` to `eos_token_id`:50256 for open-end generation.\n"
          ]
        },
        {
          "output_type": "stream",
          "name": "stdout",
          "text": [
            "240 "
          ]
        },
        {
          "output_type": "stream",
          "name": "stderr",
          "text": [
            "Setting `pad_token_id` to `eos_token_id`:50256 for open-end generation.\n"
          ]
        },
        {
          "output_type": "stream",
          "name": "stdout",
          "text": [
            "248 "
          ]
        },
        {
          "output_type": "stream",
          "name": "stderr",
          "text": [
            "Setting `pad_token_id` to `eos_token_id`:50256 for open-end generation.\n"
          ]
        },
        {
          "output_type": "stream",
          "name": "stdout",
          "text": [
            "256 "
          ]
        },
        {
          "output_type": "stream",
          "name": "stderr",
          "text": [
            "Setting `pad_token_id` to `eos_token_id`:50256 for open-end generation.\n"
          ]
        },
        {
          "output_type": "stream",
          "name": "stdout",
          "text": [
            "264 "
          ]
        },
        {
          "output_type": "stream",
          "name": "stderr",
          "text": [
            "Setting `pad_token_id` to `eos_token_id`:50256 for open-end generation.\n"
          ]
        },
        {
          "output_type": "stream",
          "name": "stdout",
          "text": [
            "272 "
          ]
        },
        {
          "output_type": "stream",
          "name": "stderr",
          "text": [
            "Setting `pad_token_id` to `eos_token_id`:50256 for open-end generation.\n"
          ]
        },
        {
          "output_type": "stream",
          "name": "stdout",
          "text": [
            "280 "
          ]
        },
        {
          "output_type": "stream",
          "name": "stderr",
          "text": [
            "Setting `pad_token_id` to `eos_token_id`:50256 for open-end generation.\n"
          ]
        },
        {
          "output_type": "stream",
          "name": "stdout",
          "text": [
            "288 "
          ]
        },
        {
          "output_type": "stream",
          "name": "stderr",
          "text": [
            "Setting `pad_token_id` to `eos_token_id`:50256 for open-end generation.\n"
          ]
        },
        {
          "output_type": "stream",
          "name": "stdout",
          "text": [
            "296 "
          ]
        },
        {
          "output_type": "stream",
          "name": "stderr",
          "text": [
            "Setting `pad_token_id` to `eos_token_id`:50256 for open-end generation.\n"
          ]
        },
        {
          "output_type": "stream",
          "name": "stdout",
          "text": [
            "304 "
          ]
        },
        {
          "output_type": "stream",
          "name": "stderr",
          "text": [
            "Setting `pad_token_id` to `eos_token_id`:50256 for open-end generation.\n"
          ]
        },
        {
          "output_type": "stream",
          "name": "stdout",
          "text": [
            "312 "
          ]
        },
        {
          "output_type": "stream",
          "name": "stderr",
          "text": [
            "Setting `pad_token_id` to `eos_token_id`:50256 for open-end generation.\n"
          ]
        },
        {
          "output_type": "stream",
          "name": "stdout",
          "text": [
            "320 "
          ]
        },
        {
          "output_type": "stream",
          "name": "stderr",
          "text": [
            "Setting `pad_token_id` to `eos_token_id`:50256 for open-end generation.\n"
          ]
        },
        {
          "output_type": "stream",
          "name": "stdout",
          "text": [
            "328 "
          ]
        },
        {
          "output_type": "stream",
          "name": "stderr",
          "text": [
            "Setting `pad_token_id` to `eos_token_id`:50256 for open-end generation.\n"
          ]
        },
        {
          "output_type": "stream",
          "name": "stdout",
          "text": [
            "336 "
          ]
        },
        {
          "output_type": "stream",
          "name": "stderr",
          "text": [
            "Setting `pad_token_id` to `eos_token_id`:50256 for open-end generation.\n"
          ]
        },
        {
          "output_type": "stream",
          "name": "stdout",
          "text": [
            "344 "
          ]
        },
        {
          "output_type": "stream",
          "name": "stderr",
          "text": [
            "Setting `pad_token_id` to `eos_token_id`:50256 for open-end generation.\n"
          ]
        },
        {
          "output_type": "stream",
          "name": "stdout",
          "text": [
            "352 "
          ]
        },
        {
          "output_type": "stream",
          "name": "stderr",
          "text": [
            "Setting `pad_token_id` to `eos_token_id`:50256 for open-end generation.\n"
          ]
        },
        {
          "output_type": "stream",
          "name": "stdout",
          "text": [
            "360 "
          ]
        },
        {
          "output_type": "stream",
          "name": "stderr",
          "text": [
            "Setting `pad_token_id` to `eos_token_id`:50256 for open-end generation.\n"
          ]
        },
        {
          "output_type": "stream",
          "name": "stdout",
          "text": [
            "368 "
          ]
        },
        {
          "output_type": "stream",
          "name": "stderr",
          "text": [
            "Setting `pad_token_id` to `eos_token_id`:50256 for open-end generation.\n"
          ]
        },
        {
          "output_type": "stream",
          "name": "stdout",
          "text": [
            "376 "
          ]
        },
        {
          "output_type": "stream",
          "name": "stderr",
          "text": [
            "Setting `pad_token_id` to `eos_token_id`:50256 for open-end generation.\n"
          ]
        },
        {
          "output_type": "stream",
          "name": "stdout",
          "text": [
            "384 "
          ]
        },
        {
          "output_type": "stream",
          "name": "stderr",
          "text": [
            "Setting `pad_token_id` to `eos_token_id`:50256 for open-end generation.\n"
          ]
        },
        {
          "output_type": "stream",
          "name": "stdout",
          "text": [
            "392 "
          ]
        },
        {
          "output_type": "stream",
          "name": "stderr",
          "text": [
            "Setting `pad_token_id` to `eos_token_id`:50256 for open-end generation.\n"
          ]
        },
        {
          "output_type": "stream",
          "name": "stdout",
          "text": [
            "400 "
          ]
        },
        {
          "output_type": "stream",
          "name": "stderr",
          "text": [
            "Setting `pad_token_id` to `eos_token_id`:50256 for open-end generation.\n"
          ]
        },
        {
          "output_type": "stream",
          "name": "stdout",
          "text": [
            "408 "
          ]
        },
        {
          "output_type": "stream",
          "name": "stderr",
          "text": [
            "Setting `pad_token_id` to `eos_token_id`:50256 for open-end generation.\n"
          ]
        },
        {
          "output_type": "stream",
          "name": "stdout",
          "text": [
            "416 "
          ]
        },
        {
          "output_type": "stream",
          "name": "stderr",
          "text": [
            "Setting `pad_token_id` to `eos_token_id`:50256 for open-end generation.\n"
          ]
        },
        {
          "output_type": "stream",
          "name": "stdout",
          "text": [
            "424 "
          ]
        },
        {
          "output_type": "stream",
          "name": "stderr",
          "text": [
            "Setting `pad_token_id` to `eos_token_id`:50256 for open-end generation.\n"
          ]
        },
        {
          "output_type": "stream",
          "name": "stdout",
          "text": [
            "432 "
          ]
        },
        {
          "output_type": "stream",
          "name": "stderr",
          "text": [
            "Setting `pad_token_id` to `eos_token_id`:50256 for open-end generation.\n"
          ]
        },
        {
          "output_type": "stream",
          "name": "stdout",
          "text": [
            "440 "
          ]
        },
        {
          "output_type": "stream",
          "name": "stderr",
          "text": [
            "Setting `pad_token_id` to `eos_token_id`:50256 for open-end generation.\n"
          ]
        },
        {
          "output_type": "stream",
          "name": "stdout",
          "text": [
            "448 "
          ]
        },
        {
          "output_type": "stream",
          "name": "stderr",
          "text": [
            "Setting `pad_token_id` to `eos_token_id`:50256 for open-end generation.\n"
          ]
        },
        {
          "output_type": "stream",
          "name": "stdout",
          "text": [
            "456 "
          ]
        },
        {
          "output_type": "stream",
          "name": "stderr",
          "text": [
            "Setting `pad_token_id` to `eos_token_id`:50256 for open-end generation.\n"
          ]
        },
        {
          "output_type": "stream",
          "name": "stdout",
          "text": [
            "464 "
          ]
        },
        {
          "output_type": "stream",
          "name": "stderr",
          "text": [
            "Setting `pad_token_id` to `eos_token_id`:50256 for open-end generation.\n"
          ]
        },
        {
          "output_type": "stream",
          "name": "stdout",
          "text": [
            "472 "
          ]
        },
        {
          "output_type": "stream",
          "name": "stderr",
          "text": [
            "Setting `pad_token_id` to `eos_token_id`:50256 for open-end generation.\n"
          ]
        },
        {
          "output_type": "stream",
          "name": "stdout",
          "text": [
            "480 "
          ]
        },
        {
          "output_type": "stream",
          "name": "stderr",
          "text": [
            "Setting `pad_token_id` to `eos_token_id`:50256 for open-end generation.\n"
          ]
        },
        {
          "output_type": "stream",
          "name": "stdout",
          "text": [
            "488 "
          ]
        },
        {
          "output_type": "stream",
          "name": "stderr",
          "text": [
            "Setting `pad_token_id` to `eos_token_id`:50256 for open-end generation.\n"
          ]
        },
        {
          "output_type": "stream",
          "name": "stdout",
          "text": [
            "496 "
          ]
        }
      ]
    },
    {
      "cell_type": "code",
      "source": [
        "cnn_dailymail_dataset_taken = cnn_dailymail_dataset[indices_taken]              # run again to save the dataset summaries in next cell\n",
        "cnn_dailymail_dataset_taken = Dataset.from_dict(cnn_dailymail_dataset_taken)    "
      ],
      "metadata": {
        "id": "UcLdL3s8hAcG"
      },
      "execution_count": 34,
      "outputs": []
    },
    {
      "cell_type": "code",
      "source": [
        "torch.save({\n",
        "  \"predictions\": summaries,\n",
        "  \"indices\": small_art_indices,\n",
        "  \"dataset_summaries\": cnn_dailymail_dataset_taken[small_art_indices][\"highlights\"]\n",
        "}, \"cnn_dailymail_test_summaries_gpt2.pt\")"
      ],
      "metadata": {
        "id": "13e55NiT7WuU"
      },
      "execution_count": 36,
      "outputs": []
    },
    {
      "cell_type": "markdown",
      "source": [
        "# Fit In-domain and Background Gaussians"
      ],
      "metadata": {
        "id": "TXukQDHR-LCB"
      }
    },
    {
      "cell_type": "code",
      "source": [
        "dataset_names = {\n",
        "  \"indomain\": \"xsum\",\n",
        "  \"background\": \"c4\",\n",
        "  \"ood\": \"cnn_dailymail\"\n",
        "}\n",
        "\n",
        "means = {\n",
        "  \"decoder\": {}\n",
        "}\n",
        "covs = {\n",
        "  \"decoder\": {}\n",
        "}\n",
        "test_states = {\n",
        "  \"decoder\": {}\n",
        "}"
      ],
      "metadata": {
        "id": "BpTm3fP2-W_l"
      },
      "execution_count": null,
      "outputs": []
    },
    {
      "cell_type": "code",
      "source": [
        "for k, v in dataset_names.items():\n",
        "  saved_embed = torch.load(f\"result_{v}_gpt2.pt\")\n",
        "  all_last_hidden_states = saved_embed[\"hidden\"]\n",
        "\n",
        "  # gaussians fit using 8000 samples\n",
        "  # test: 2000 of xsum, and 2000 of cnn_dailymail\n",
        "\n",
        "  # num_total = all_last_hidden_states.shape[0]\n",
        "  num_total = 10000\n",
        "  train_fraction = 0.8\n",
        "  num_train = int(train_fraction*num_total)\n",
        "\n",
        "  if k != \"ood\":\n",
        "    print(k, v, num_total, num_train)\n",
        "    \n",
        "    train_decoder = all_last_hidden_states[:num_train]\n",
        "    if k == \"indomain\":\n",
        "      test_states[\"decoder\"][k] = all_last_hidden_states[num_train:num_total]\n",
        "\n",
        "    means[\"decoder\"][k] = torch.mean(train_decoder, 0)\n",
        "    covs[\"decoder\"][k] = torch.cov(train_decoder.T)\n",
        "  else:\n",
        "    print(k, v, all_last_hidden_states.shape[0])\n",
        "    assert all_last_hidden_states.shape[0] == num_total-num_train\n",
        "\n",
        "    test_states[\"decoder\"][k] = all_last_hidden_states"
      ],
      "metadata": {
        "colab": {
          "base_uri": "https://localhost:8080/"
        },
        "id": "i7i-JJk4-ynV",
        "outputId": "673c3b16-8e9f-40f5-8570-559ca0799975"
      },
      "execution_count": null,
      "outputs": [
        {
          "output_type": "stream",
          "name": "stdout",
          "text": [
            "indomain xsum 10000 8000\n",
            "background c4 10000 8000\n",
            "ood cnn_dailymail 2000\n"
          ]
        }
      ]
    },
    {
      "cell_type": "code",
      "source": [
        "torch.save({\n",
        "  \"means\": means,\n",
        "  \"covs\": covs,\n",
        "  \"test_states\": test_states\n",
        "}, \"means_covs_tests.pt\")"
      ],
      "metadata": {
        "id": "a61VVAZyD8Xi"
      },
      "execution_count": null,
      "outputs": []
    },
    {
      "cell_type": "markdown",
      "source": [
        "# RMD and AUROC"
      ],
      "metadata": {
        "id": "ifnJLK1eEAZH"
      }
    },
    {
      "cell_type": "code",
      "source": [
        "def mahalanobis_distance(vectors, mean, cov, epsilon=1e-20):\n",
        "  \"\"\"\n",
        "  vectors: (num_samples, dim)\n",
        "  mean: dim\n",
        "  cov: (dim, dim)\n",
        "  \"\"\"\n",
        "\n",
        "  assert vectors.shape[1] == mean.shape[0]\n",
        "  assert cov.shape[0] == cov.shape[1] and cov.shape[0] == mean.shape[0]\n",
        "\n",
        "  # add eps*I (prevents singular matrix)\n",
        "  cov_eps = cov + torch.eye(cov.shape[0])*epsilon\n",
        "  cov_eps_inv = torch.inverse(cov_eps)\n",
        "\n",
        "  num_samples = vectors.shape[0]\n",
        "  out = torch.zeros(num_samples)\n",
        "  for i in range(num_samples):\n",
        "    out[i] = ((vectors[i]-mean) @ cov_eps_inv @ (vectors[i]-mean).reshape(-1,1)).item()\n",
        "  return out"
      ],
      "metadata": {
        "id": "KZJnSMDQEE7Y"
      },
      "execution_count": null,
      "outputs": []
    },
    {
      "cell_type": "code",
      "source": [
        "means_covs_tests = torch.load(\"means_covs_tests.pt\")\n",
        "means = means_covs_tests[\"means\"]\n",
        "covs = means_covs_tests[\"covs\"]\n",
        "test_states = means_covs_tests[\"test_states\"]"
      ],
      "metadata": {
        "id": "DIpJTDuAEint"
      },
      "execution_count": null,
      "outputs": []
    },
    {
      "cell_type": "code",
      "source": [
        "maha_dists = {\n",
        "  \"decoder\": {\n",
        "    \"indomain\": {},\n",
        "    \"ood\": {}\n",
        "  }\n",
        "}\n",
        "\n",
        "for part in [\"decoder\"]:\n",
        "  for test in [\"indomain\", \"ood\"]:\n",
        "    for fit_gaussian in [\"indomain\", \"background\"]:\n",
        "      # compute MD of test samples with fitted Gaussians\n",
        "      maha_dists[part][test][fit_gaussian] = mahalanobis_distance(\n",
        "                                                  test_states[part][test],\n",
        "                                                  means[part][fit_gaussian],\n",
        "                                                  covs[part][fit_gaussian]\n",
        "                                              )\n",
        "torch.save(maha_dists, \"maha_dists.pt\")"
      ],
      "metadata": {
        "id": "ilm8RXgZEnkw"
      },
      "execution_count": null,
      "outputs": []
    },
    {
      "cell_type": "code",
      "source": [
        "def get_auroc(preds, labels, display=False, title=None):\n",
        "  fpr, tpr, thresholds = metrics.roc_curve(labels, preds)\n",
        "  roc_auc = metrics.auc(fpr, tpr)\n",
        "  if display:\n",
        "    display = metrics.RocCurveDisplay(fpr=fpr, tpr=tpr, roc_auc=roc_auc)\n",
        "    display.plot()\n",
        "    if title is not None:\n",
        "      plt.title(title)\n",
        "      plt.savefig(f\"{title}.png\", bbox_inches=\"tight\")\n",
        "    plt.show()\n",
        "  return roc_auc"
      ],
      "metadata": {
        "id": "DY9A4e4qFJ4N"
      },
      "execution_count": null,
      "outputs": []
    },
    {
      "cell_type": "code",
      "source": [
        "maha_dists = torch.load(\"maha_dists.pt\")\n",
        "\n",
        "aurocs = {\n",
        "  \"decoder\": {}\n",
        "}\n",
        "\n",
        "scores = {\n",
        "  \"indomain\": {\n",
        "    \"decoder\": {}\n",
        "  },\n",
        "  \"ood\": {\n",
        "    \"decoder\": {}\n",
        "  }\n",
        "}\n",
        "\n",
        "for part in [\"decoder\"]:\n",
        "  for method in [\"md\", \"rmd\"]:\n",
        "    # scores computed as specified in section 2.2\n",
        "    if method == \"md\":\n",
        "      scores_indomain = maha_dists[part][\"indomain\"][\"indomain\"]\n",
        "      scores_ood = maha_dists[part][\"ood\"][\"indomain\"]\n",
        "    elif method == \"rmd\":\n",
        "      scores_indomain = maha_dists[part][\"indomain\"][\"indomain\"] - maha_dists[part][\"indomain\"][\"background\"]\n",
        "      scores_ood = maha_dists[part][\"ood\"][\"indomain\"] - maha_dists[part][\"ood\"][\"background\"]\n",
        "    print(scores_indomain.min(), scores_indomain.max(), scores_ood.min(), scores_ood.max())     # use scaling? sigmoid?\n",
        "                                                                                                # sigmoid worsens auroc\n",
        "\n",
        "    scores[\"indomain\"][part][method] = scores_indomain\n",
        "    scores[\"ood\"][part][method] = scores_ood\n",
        "\n",
        "    # use 0,1 or -1,1? (doesn't appear to change results much currently)\n",
        "    labels_indomain = torch.zeros_like(scores_indomain)\n",
        "    labels_ood = torch.ones_like(scores_ood)\n",
        "    \n",
        "    preds = torch.cat((scores_indomain, scores_ood))\n",
        "    # preds = torch.sigmoid(preds)\n",
        "    print(f\"{preds.min()=}, {preds.max()=}\")\n",
        "    labels = torch.cat((labels_indomain, labels_ood))\n",
        "    aurocs[part][method] = get_auroc(preds.cpu().numpy(), labels.cpu().numpy(), display=True, title=f\"{part}_{method}\")\n",
        "\n",
        "print(aurocs)"
      ],
      "metadata": {
        "colab": {
          "base_uri": "https://localhost:8080/",
          "height": 1000
        },
        "id": "w391zzxWHj6a",
        "outputId": "635b7f8a-5a12-4c98-dd89-c0c4fc987260"
      },
      "execution_count": null,
      "outputs": [
        {
          "output_type": "stream",
          "name": "stdout",
          "text": [
            "tensor(-2314.7881) tensor(5938.6592) tensor(-450.0595) tensor(12351.2178)\n",
            "preds.min()=tensor(-2314.7881), preds.max()=tensor(12351.2178)\n"
          ]
        },
        {
          "output_type": "display_data",
          "data": {
            "text/plain": [
              "<Figure size 640x480 with 1 Axes>"
            ],
            "image/png": "[encoded data removed]"
          },
          "metadata": {}
        },
        {
          "output_type": "stream",
          "name": "stdout",
          "text": [
            "tensor(-5342.4731) tensor(2962.0735) tensor(-2931.1375) tensor(8339.1777)\n",
            "preds.min()=tensor(-5342.4731), preds.max()=tensor(8339.1777)\n"
          ]
        },
        {
          "output_type": "display_data",
          "data": {
            "text/plain": [
              "<Figure size 640x480 with 1 Axes>"
            ],
            "image/png": "[encoded data removed]"
          },
          "metadata": {}
        },
        {
          "output_type": "stream",
          "name": "stdout",
          "text": [
            "{'decoder': {'md': 0.6692765, 'rmd': 0.652352}}\n"
          ]
        }
      ]
    },
    {
      "cell_type": "code",
      "source": [
        "torch.save({\n",
        "  \"scores\": scores,\n",
        "  \"aurocs\": aurocs\n",
        "}, \"scores_aurocs.pt\")"
      ],
      "metadata": {
        "id": "SyNWcUpXJCJl"
      },
      "execution_count": null,
      "outputs": []
    },
    {
      "cell_type": "markdown",
      "source": [
        "# Perplexity"
      ],
      "metadata": {
        "id": "2Ua9IkXEObZd"
      }
    },
    {
      "cell_type": "code",
      "source": [
        "model.config.n_positions"
      ],
      "metadata": {
        "colab": {
          "base_uri": "https://localhost:8080/"
        },
        "id": "TvqpI-AUfp98",
        "outputId": "00622b1c-8ffe-4ddc-b115-c82f6a71d8bb"
      },
      "execution_count": 37,
      "outputs": [
        {
          "output_type": "execute_result",
          "data": {
            "text/plain": [
              "1024"
            ]
          },
          "metadata": {},
          "execution_count": 37
        }
      ]
    },
    {
      "cell_type": "code",
      "source": [
        "perplexity = evaluate.load(\"perplexity\", module_type=\"metric\")"
      ],
      "metadata": {
        "id": "-kuqbfeOZ7ZZ",
        "colab": {
          "base_uri": "https://localhost:8080/",
          "height": 49,
          "referenced_widgets": [
            "205bf08208654b0d8270d67b2c4d4216",
            "d8355f01691b43f29d6338658677429e",
            "0b02dd0772ae46c39e1b0d030be97e44",
            "a8a9601352fc49e1b92d588364834fb8",
            "a7438834aaee44fb80b4d18807486ad4",
            "c04d4e57af644e6583c1620a16256e79",
            "3c92afb5fc7d48dfb964aa48edf816cf",
            "7628283038314dc3b2d0beb6dc031edb",
            "c3f63dd33c8442c1a5c511f68cc51d36",
            "c0db656ff86f440988280febd3cbce44",
            "363a99ef74364fd998cc9f8685344e92"
          ]
        },
        "outputId": "2c0994c2-7fba-4c0b-deb3-81617957934f"
      },
      "execution_count": 38,
      "outputs": [
        {
          "output_type": "display_data",
          "data": {
            "text/plain": [
              "Downloading builder script:   0%|          | 0.00/8.46k [00:00<?, ?B/s]"
            ],
            "application/vnd.jupyter.widget-view+json": {
              "version_major": 2,
              "version_minor": 0,
              "model_id": "205bf08208654b0d8270d67b2c4d4216"
            }
          },
          "metadata": {}
        }
      ]
    },
    {
      "cell_type": "code",
      "source": [
        "predicted_summaries = torch.load(\"xsum_test_summaries_gpt2.pt\")[\"predictions\"] + torch.load(\"cnn_dailymail_test_summaries_gpt2.pt\")[\"predictions\"]\n",
        "assert len(predicted_summaries) == 1000"
      ],
      "metadata": {
        "id": "se0ksObvaCyK"
      },
      "execution_count": 39,
      "outputs": []
    },
    {
      "cell_type": "code",
      "source": [
        "print(predicted_summaries[500])         # contains the document/article first and then the summary after \"TL;DR: \""
      ],
      "metadata": {
        "colab": {
          "base_uri": "https://localhost:8080/"
        },
        "id": "Xb5LrIapnKAE",
        "outputId": "13736824-78e4-40d9-e497-940b2ca57b67"
      },
      "execution_count": 62,
      "outputs": [
        {
          "output_type": "execute_result",
          "data": {
            "text/plain": [
              "2242"
            ]
          },
          "metadata": {},
          "execution_count": 62
        }
      ]
    },
    {
      "cell_type": "code",
      "source": [
        "print(predicted_summaries[0][len(xsum_dataset_taken[0][\"document\"])+2:])        # separates the summary from rest of the text"
      ],
      "metadata": {
        "colab": {
          "base_uri": "https://localhost:8080/"
        },
        "id": "Nab4e2X5iPVT",
        "outputId": "8572ee0b-c07f-4889-8609-637308e6f171"
      },
      "execution_count": 49,
      "outputs": [
        {
          "output_type": "stream",
          "name": "stdout",
          "text": [
            "A car was involved in a collision with a car on the A9 north of Berriedale.\n",
            "The driver of the car was taken to hospital with minor injuries.\n",
            "The driver of the car was taken to hospital with minor injuries.\n",
            "The driver of the car was taken to hospital with minor injuries.\n",
            "\n"
          ]
        }
      ]
    },
    {
      "cell_type": "code",
      "source": [
        "print(xsum_dataset[8000][\"document\"][:-6])"
      ],
      "metadata": {
        "colab": {
          "base_uri": "https://localhost:8080/"
        },
        "id": "tt-t1p1bqMlq",
        "outputId": "78c5eb2e-4d9d-4ae0-cc37-1086cbbbcf28"
      },
      "execution_count": null,
      "outputs": [
        {
          "output_type": "stream",
          "name": "stdout",
          "text": [
            "A review of research for the Reading Agency says reading for pleasure does much more than boost educational outcomes among adults and children.\n",
            "One recent study quoted - of 4,000 UK adults - says reading for pleasure can help them enjoy social occasions more.\n",
            "It can also boost children's emotional understanding, the research adds.\n",
            "In general, the study found reading was associated with enjoyment, relaxation and escapism.\n",
            "The research involving a poll of 4,000 people that is cited by the report looked at how mental and physical health can be boosted by the enjoyment of reading.\n",
            "It said those who read regularly for pleasure:\n",
            "It also cited research carried out in Germany, with children aged seven to nine, that looked at possible links between literacy and emotional understanding.\n",
            "The report focused on the impact of after-school literacy sessions in which children's books with emotional content were read and discussed by the group.\n",
            "It found the scheme enhanced the children's emotional vocabulary, knowledge and understanding of emotions.\n",
            "It also found boys were more \"positively influenced in their capability to recognise masked feelings than girls\".\n",
            "The report concluded that: \"Reading is closely linked to increasing understanding of our own identities and can also play a large part in relating to others, understanding their world views and so forth.\"\n",
            "Sue Wilkinson, chief executive of The Reading Agency, said the findings of the report showed that \"everything changes when we read\".\n"
          ]
        }
      ]
    },
    {
      "cell_type": "code",
      "source": [
        "# next cell requires the cnn_dailymail_dataset_taken with small_art_indices\n",
        "small_art_indices = torch.load(\"cnn_dailymail_test_summaries_gpt2.pt\")[\"indices\"]\n",
        "dataset_taken = cnn_dailymail_dataset_taken[small_art_indices]\n",
        "cnn_dailymail_dataset_taken = Dataset.from_dict(dataset_taken)"
      ],
      "metadata": {
        "id": "1Nd_YQu8lKkc"
      },
      "execution_count": 53,
      "outputs": []
    },
    {
      "cell_type": "code",
      "source": [
        "generated_summaries = []\n",
        "\n",
        "for i in range(len(predicted_summaries)//2):\n",
        "  j = predicted_summaries[i].find(\"TL;DR\")\n",
        "  generated_summaries.append(predicted_summaries[i][j+7:])\n",
        "\n",
        "for i in range(len(predicted_summaries)//2, len(predicted_summaries)):\n",
        "  j = predicted_summaries[i].find(\"TL;DR\")\n",
        "  generated_summaries.append(predicted_summaries[i][j+7:])"
      ],
      "metadata": {
        "id": "2Q7ecaHxjmQs"
      },
      "execution_count": 83,
      "outputs": []
    },
    {
      "cell_type": "code",
      "source": [
        "print(generated_summaries[340])"
      ],
      "metadata": {
        "colab": {
          "base_uri": "https://localhost:8080/"
        },
        "id": "mpdXOF9amchy",
        "outputId": "30d16e76-8712-4bb5-b343-11a26a7a6a49"
      },
      "execution_count": 89,
      "outputs": [
        {
          "output_type": "stream",
          "name": "stdout",
          "text": [
            "Police are searching for a 26-year-old man who has been arrested on suspicion of child abduction, following the girl's disappearance on Thursday.\n",
            "The girl from Teesside was found earlier, after being reported missing at 22:00 BST.\n",
            "The search for her involved 30 officers.\n",
            "The search for\n"
          ]
        }
      ]
    },
    {
      "cell_type": "code",
      "source": [
        "print(generated_summaries[680])"
      ],
      "metadata": {
        "colab": {
          "base_uri": "https://localhost:8080/"
        },
        "id": "hccovq-PoJLT",
        "outputId": "ffc76150-6e38-4acf-b1b8-2a0b80a05731"
      },
      "execution_count": 92,
      "outputs": [
        {
          "output_type": "stream",
          "name": "stdout",
          "text": [
            "Valencia are willing to pay £13 million for the right-back, but AS reports that both Chelsea and City are willing to pay the £13 million buyout clause for highly-rated Valencia left-back Jose Luis Gaya. The 19-year-old Spaniard is Real Madrid's first choice to fill the\n"
          ]
        }
      ]
    },
    {
      "cell_type": "code",
      "source": [
        "perplexity_results = perplexity.compute(predictions=generated_summaries, model_id=\"gpt2\")"
      ],
      "metadata": {
        "colab": {
          "base_uri": "https://localhost:8080/",
          "height": 66,
          "referenced_widgets": [
            "3cc7236c61dc4aba95c7ced8f5ed6167",
            "7e4f2146fa2445129db6100c9588e2e1",
            "4f23853c642946cfa07bc5e81c1ba4b4",
            "b82df727a9164797a2af1c4653726bb8",
            "aabce05575d444c895a85fb5d0875b79",
            "e5fa5de89762401fad0e47decebc321a",
            "4f44b351fc74484fb2b88d60e99a3a74",
            "ace12294ef8a4478a8226f881c387596",
            "7e3725470bd24fc18d9de65b989c4980",
            "faeae1e0872e4687a367e282111cfbec",
            "8520a994d7e143d29cb022ed1b38a4ee"
          ]
        },
        "id": "-HdPLTMkeMi8",
        "outputId": "7141ac36-8a5b-47ed-914f-1d87c5099e4e"
      },
      "execution_count": 94,
      "outputs": [
        {
          "output_type": "stream",
          "name": "stderr",
          "text": [
            "Using pad_token, but it is not set yet.\n"
          ]
        },
        {
          "output_type": "display_data",
          "data": {
            "text/plain": [
              "  0%|          | 0/63 [00:00<?, ?it/s]"
            ],
            "application/vnd.jupyter.widget-view+json": {
              "version_major": 2,
              "version_minor": 0,
              "model_id": "3cc7236c61dc4aba95c7ced8f5ed6167"
            }
          },
          "metadata": {}
        }
      ]
    },
    {
      "cell_type": "code",
      "source": [
        "torch.save(perplexity_results, \"perplexity_results.pt\")"
      ],
      "metadata": {
        "id": "ID7bTlLDrbZu"
      },
      "execution_count": 95,
      "outputs": []
    },
    {
      "cell_type": "markdown",
      "source": [
        "# Combined Perplexity and RMD Scores"
      ],
      "metadata": {
        "id": "yUhvo4VOrfMx"
      }
    },
    {
      "cell_type": "code",
      "source": [
        "scores = torch.load(\"scores_aurocs.pt\")[\"scores\"]\n",
        "perplexities = torch.load(\"perplexity_results.pt\")[\"perplexities\"]"
      ],
      "metadata": {
        "id": "JmPS4MTkrlYS"
      },
      "execution_count": 96,
      "outputs": []
    },
    {
      "cell_type": "code",
      "source": [
        "# pr_sums = {}\n",
        "\n",
        "# for part in [\"decoder\"]:\n",
        "#   num_samples = 1000\n",
        "  \n",
        "#   indomain_indices = torch.load(\"xsum_test_summaries_gpt2.pt\")[\"indices\"]\n",
        "#   ood_indices = torch.load(\"\")\n",
        "#   indomain_rmd_scores = \n",
        "#   # rmd_scores = [e.item() for e in torch.cat((scores[\"indomain\"][part][\"rmd\"], scores[\"ood\"][part][\"rmd\"]))]\n",
        "#   assert len(rmd_scores) == num_samples\n",
        "\n",
        "#   rmd_sorted = sorted(rmd_scores)\n",
        "#   pr_rmd = [(rmd_sorted.index(e)*100.0)/num_samples for e in rmd_scores]\n",
        "\n",
        "#   perp_sorted = sorted(perplexities)\n",
        "#   pr_perp = [(perp_sorted.index(e)*100.0)/num_samples for e in perplexities]\n",
        "\n",
        "#   pr_sum = [pr_rmd[i]+pr_perp[i] for i in range(num_samples)]\n",
        "#   pr_sums[part] = pr_sum\n",
        "\n",
        "#   assert len(pr_sums[part]) == len(perplexities)\n",
        "#   print(np.min(pr_sums[part]), np.max(pr_sums[part]))"
      ],
      "metadata": {
        "colab": {
          "base_uri": "https://localhost:8080/",
          "height": 232
        },
        "id": "yA4ASNGCsCls",
        "outputId": "8d2ed323-1435-4517-d698-2c05331530a5"
      },
      "execution_count": 97,
      "outputs": [
        {
          "output_type": "error",
          "ename": "AssertionError",
          "evalue": "ignored",
          "traceback": [
            "\u001b[0;31m---------------------------------------------------------------------------\u001b[0m",
            "\u001b[0;31mAssertionError\u001b[0m                            Traceback (most recent call last)",
            "\u001b[0;32m<ipython-input-97-9914fd83eb8c>\u001b[0m in \u001b[0;36m<cell line: 3>\u001b[0;34m()\u001b[0m\n\u001b[1;32m      5\u001b[0m \u001b[0;34m\u001b[0m\u001b[0m\n\u001b[1;32m      6\u001b[0m     \u001b[0mrmd_scores\u001b[0m \u001b[0;34m=\u001b[0m \u001b[0;34m[\u001b[0m\u001b[0me\u001b[0m\u001b[0;34m.\u001b[0m\u001b[0mitem\u001b[0m\u001b[0;34m(\u001b[0m\u001b[0;34m)\u001b[0m \u001b[0;32mfor\u001b[0m \u001b[0me\u001b[0m \u001b[0;32min\u001b[0m \u001b[0mtorch\u001b[0m\u001b[0;34m.\u001b[0m\u001b[0mcat\u001b[0m\u001b[0;34m(\u001b[0m\u001b[0;34m(\u001b[0m\u001b[0mscores\u001b[0m\u001b[0;34m[\u001b[0m\u001b[0;34m\"indomain\"\u001b[0m\u001b[0;34m]\u001b[0m\u001b[0;34m[\u001b[0m\u001b[0mpart\u001b[0m\u001b[0;34m]\u001b[0m\u001b[0;34m[\u001b[0m\u001b[0;34m\"rmd\"\u001b[0m\u001b[0;34m]\u001b[0m\u001b[0;34m,\u001b[0m \u001b[0mscores\u001b[0m\u001b[0;34m[\u001b[0m\u001b[0;34m\"ood\"\u001b[0m\u001b[0;34m]\u001b[0m\u001b[0;34m[\u001b[0m\u001b[0mpart\u001b[0m\u001b[0;34m]\u001b[0m\u001b[0;34m[\u001b[0m\u001b[0;34m\"rmd\"\u001b[0m\u001b[0;34m]\u001b[0m\u001b[0;34m)\u001b[0m\u001b[0;34m)\u001b[0m\u001b[0;34m]\u001b[0m\u001b[0;34m\u001b[0m\u001b[0;34m\u001b[0m\u001b[0m\n\u001b[0;32m----> 7\u001b[0;31m     \u001b[0;32massert\u001b[0m \u001b[0mlen\u001b[0m\u001b[0;34m(\u001b[0m\u001b[0mrmd_scores\u001b[0m\u001b[0;34m)\u001b[0m \u001b[0;34m==\u001b[0m \u001b[0mnum_samples\u001b[0m\u001b[0;34m\u001b[0m\u001b[0;34m\u001b[0m\u001b[0m\n\u001b[0m\u001b[1;32m      8\u001b[0m \u001b[0;34m\u001b[0m\u001b[0m\n\u001b[1;32m      9\u001b[0m     \u001b[0mrmd_sorted\u001b[0m \u001b[0;34m=\u001b[0m \u001b[0msorted\u001b[0m\u001b[0;34m(\u001b[0m\u001b[0mrmd_scores\u001b[0m\u001b[0;34m)\u001b[0m\u001b[0;34m\u001b[0m\u001b[0;34m\u001b[0m\u001b[0m\n",
            "\u001b[0;31mAssertionError\u001b[0m: "
          ]
        }
      ]
    },
    {
      "cell_type": "code",
      "source": [
        "# torch.save(pr_sums, \"pr_sums.pt\")"
      ],
      "metadata": {
        "id": "QSpd9JSSsKjN"
      },
      "execution_count": null,
      "outputs": []
    },
    {
      "cell_type": "markdown",
      "source": [
        "# ROUGE-1"
      ],
      "metadata": {
        "id": "V2SjeYjDmUh2"
      }
    },
    {
      "cell_type": "code",
      "source": [
        "# ind_summaries = torch.load(\"xsum_test_summaries_gpt2.pt\")\n",
        "# ood_summaries = torch.load(\"cnn_dailymail_test_summaries_gpt2.pt\")"
      ],
      "metadata": {
        "id": "p77SEJ4dmjH7"
      },
      "execution_count": 98,
      "outputs": []
    },
    {
      "cell_type": "code",
      "source": [
        "# t = 400\n",
        "# print(f\"{ind_summaries['predictions'][t]=}\")\n",
        "# print(f\"{ind_summaries['dataset_summaries'][t]=}\")\n",
        "# print(f\"{ood_summaries['predictions'][t]=}\")\n",
        "# print(f\"{ood_summaries['dataset_summaries'][t]=}\")"
      ],
      "metadata": {
        "id": "H9XQ86gXmkGK",
        "colab": {
          "base_uri": "https://localhost:8080/"
        },
        "outputId": "3c0c7536-7958-43e0-ee5c-3b1c7e547944"
      },
      "execution_count": 101,
      "outputs": [
        {
          "output_type": "stream",
          "name": "stdout",
          "text": [
            "ind_summaries['predictions'][t]='Holders Glasgow City joined Hibs in the fourth round with a 3-1 success over Rangers Ladies.\\nCeltic also safely made their progression into the last 16 with a 3-1 win at home to Forfar Farmington.\\nElsewhere in the third round there were wins for Glasgow Girls, Stirling University, Hearts, Hutchison Vale and Jeanfield Swifts.\\nHibs are targeting a cup double after landing the SWPL Cup earlier in the season with victory over champions Glasgow City.\\nThe two sides meet next weekend on league business, with Hibs trailing leaders City by two points.\\nTL;DR: Hibs win the league and Hibs lose the cup.\\nHibs are now in the top four of the league table, with a win over Hearts and a draw against Stirling University.\\nHibs are also in the top four of the league table, with a win over Hearts and a draw'\n",
            "ind_summaries['dataset_summaries'][t]='League Cup winners Hibernian Ladies beat Renfrew Ladies 19-0 in the third round of the Scottish Cup.'\n",
            "ood_summaries['predictions'][t]='(CNN)Three British citizens arrested in the United Arab Emirates after they were found plane spotting near Fujairah airport are to be released Monday, their lawyer, Nasser al-Hashem, tells CNN. The three have been in jail since February 22. \"We made our defense, and the judge made the decision to drop the case,\" al-Hashem said. No charges were filed, there will be no travel ban, and the men will not face deportation, he said. Conrad Clitheroes, 54, and Gary Cooper, 45, were on a five-day visit to the UAE from Manchester when they were arrested. The third man, Neil Munro, is a British national who lives in the UAE. As a hobby, plane spotters view and photograph aircraft around the world.\\nTL;DR: The British men were arrested in the UAE for allegedly flying a plane over the country.\\nThe British men were arrested in the UAE for allegedly flying a plane over the country. The British men were arrested in the UAE for allegedly flying a plane over the country. The British men were arrested in the UAE for allegedly flying'\n",
            "ood_summaries['dataset_summaries'][t]=\"Three British men won't be charged or deported, their lawyer says .\\nThey were arrested after plane spotting near Fujairah airport and have been in jail since February 22 .\"\n"
          ]
        }
      ]
    },
    {
      "cell_type": "code",
      "source": [
        "# rouge = evaluate.load(\"rouge\")"
      ],
      "metadata": {
        "id": "rtHe0EFfH_Lf"
      },
      "execution_count": 104,
      "outputs": []
    },
    {
      "cell_type": "code",
      "source": [
        "# scores = torch.load(\"scores_aurocs.pt\")[\"scores\"]\n",
        "# # pr_sums = torch.load(\"pr_sums.pt\")"
      ],
      "metadata": {
        "id": "B7jwt0fgIE7V"
      },
      "execution_count": 105,
      "outputs": []
    },
    {
      "cell_type": "code",
      "source": [
        "# scores[\"indomain\"][\"decoder\"][\"md\"]"
      ],
      "metadata": {
        "colab": {
          "base_uri": "https://localhost:8080/"
        },
        "id": "oYX3KIo6uDPG",
        "outputId": "5c1fe474-76f4-4512-d7be-bd033d6384c6"
      },
      "execution_count": 111,
      "outputs": [
        {
          "output_type": "execute_result",
          "data": {
            "text/plain": [
              "tensor([ 684.4258, 1220.0569,  424.5029,  ...,  669.4215,  359.6492,\n",
              "          65.6516])"
            ]
          },
          "metadata": {},
          "execution_count": 111
        }
      ]
    },
    {
      "cell_type": "code",
      "source": [
        "# rouge_scores = {\n",
        "#   \"decoder\": {\n",
        "#     \"md\": {},\n",
        "#     \"rmd\": {},\n",
        "#     # \"pr_sum\": {}\n",
        "#   }\n",
        "# }\n",
        "\n",
        "# num_samples = 1000\n",
        "\n",
        "# for part in [\"decoder\"]:\n",
        "#   # for method in [\"md\", \"rmd\", \"pr_sum\"]:\n",
        "#   for method in [\"md\", \"rmd\", \"pr_sum\"]:\n",
        "      \n",
        "#     if method in [\"md\", \"rmd\"]:\n",
        "#       all_scores = torch.cat((scores[\"indomain\"][part][method], scores[\"ood\"][part][method]))\n",
        "#     # elif method == \"pr_sum\":\n",
        "#     #   all_scores = torch.Tensor(pr_sums[part])\n",
        "    \n",
        "#     assert all_scores.shape == torch.Size([num_samples])\n",
        "\n",
        "#     prediction_summaries = ind_summaries[\"predictions\"] + ood_summaries[\"predictions\"]\n",
        "#     reference_summaries = ind_summaries[\"dataset_summaries\"] + ood_summaries[\"dataset_summaries\"]\n",
        "\n",
        "#     # sorting by scores (higher score: more ood)\n",
        "#     sorting_indices = torch.argsort(all_scores)\n",
        "#     predictions_sorted = []\n",
        "#     references_sorted = []\n",
        "\n",
        "#     for i in sorting_indices:\n",
        "#       print(all_scores[int(i)], end=' ')\n",
        "#       predictions_sorted.append(prediction_summaries[int(i)])\n",
        "#       references_sorted.append(reference_summaries[int(i)])\n",
        "\n",
        "#     print(len(predictions_sorted))\n",
        "\n",
        "#     alpha = 0.0\n",
        "#     num_total = len(sorting_indices)\n",
        "#     while alpha < 0.9:\n",
        "#       num_removed = int(num_total*alpha)\n",
        "#       rouge_scores[part][method][alpha] = {}\n",
        "#       rouge_scores[part][method][alpha] = rouge.compute(\n",
        "#           predictions = predictions_sorted[:num_total-num_removed],\n",
        "#           references = references_sorted[:num_total-num_removed]\n",
        "#       )[\"rouge1\"]\n",
        "#       print(part, method, alpha, num_removed, rouge_scores[part][method][alpha])\n",
        "#       alpha += 0.1\n",
        "#       alpha = round(alpha, 1)"
      ],
      "metadata": {
        "id": "UUf5FBeEIR1s"
      },
      "execution_count": null,
      "outputs": []
    },
    {
      "cell_type": "code",
      "source": [
        "# torch.save(rouge_scores, \"rouge_scores.pt\")"
      ],
      "metadata": {
        "id": "ZOWU4NVdJTVg"
      },
      "execution_count": null,
      "outputs": []
    },
    {
      "cell_type": "code",
      "source": [
        "# rouge_scores = torch.load(\"rouge_scores.pt\")\n",
        "\n",
        "# for part in rouge_scores.keys():\n",
        "#   for method in rouge_scores[part].keys():\n",
        "#     alphas = list(rouge_scores[part][method].keys())\n",
        "#     r_scores = list(rouge_scores[part][method].values())\n",
        "#     print(alphas, r_scores)\n",
        "#     plt.plot(alphas, r_scores, label=method)\n",
        "#   plt.title(f\"{part}\")\n",
        "#   plt.xlabel(\"Abstention Rate\")\n",
        "#   plt.ylabel(\"rouge1\")\n",
        "#   plt.legend()\n",
        "#   fig = plt.gcf()\n",
        "#   plt.show()\n",
        "#   fig.savefig(f\"rouge_{part}.png\", bbox_inches=\"tight\")\n",
        "#   plt.clf()"
      ],
      "metadata": {
        "id": "ZpA-RXsZJUJv"
      },
      "execution_count": null,
      "outputs": []
    }
  ]
}